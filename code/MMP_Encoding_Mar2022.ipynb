{
 "cells": [
  {
   "cell_type": "markdown",
   "id": "8f047212-ea7e-48b5-aef1-7b580fcd5b8e",
   "metadata": {},
   "source": [
    "## 2022 03 28 MMP Encoding Models"
   ]
  },
  {
   "cell_type": "code",
   "execution_count": 1,
   "id": "9fb806c0-0fdb-4261-bac5-8894183175bd",
   "metadata": {},
   "outputs": [
    {
     "name": "stderr",
     "output_type": "stream",
     "text": [
      "/opt/miniconda-latest/lib/python3.8/site-packages/nilearn/datasets/__init__.py:87: FutureWarning: Fetchers from the nilearn.datasets module will be updated in version 0.9 to return python strings instead of bytes and Pandas dataframes instead of Numpy arrays.\n",
      "  warn(\"Fetchers from the nilearn.datasets module will be \"\n",
      "pixdim[1,2,3] should be non-zero; setting 0 dims to 1\n"
     ]
    }
   ],
   "source": [
    "import os\n",
    "import analysis\n",
    "import hrf_tools\n",
    "import numpy as np"
   ]
  },
  {
   "cell_type": "code",
   "execution_count": 2,
   "id": "a10696e4-f6e8-48bd-935f-85e74f6a6a44",
   "metadata": {},
   "outputs": [],
   "source": [
    "subject=100610\n",
    "feature='as_scores'\n",
    "dataset='HCP_7T'\n",
    "\n",
    "#temp_dir = '../../tmp'\n",
    "#if not os.path.exists(temp_dir):\n",
    "#    os.mkdir(temp_dir)\n",
    "\n",
    "#n_movies=[1,2,3,4]\n",
    "\n",
    "n_movies=[1]\n",
    "X,Y = analysis.load_data_HCP_MMP(subject,feature,n_movies)\n"
   ]
  },
  {
   "cell_type": "code",
   "execution_count": null,
   "id": "69276435-23c9-43a2-a1ed-cf68895ce2dd",
   "metadata": {},
   "outputs": [],
   "source": [
    "X = hrf_tools.apply_optimal_hrf_10hz(X,1)\n",
    "scores_mean,corr_mean,weights_mean = analysis.simple_ridgeCV(X,Y)\n",
    "#np.save(f'{temp_dir}/r2_{subject}_{feature}.npy',scores_mean)\n",
    "#np.save(f'{temp_dir}/r_{subject}_{feature}.npy',corr_mean)\n",
    "#np.save(f'{temp_dir}/w_{subject}_{feature}.npy',weights_mean)\n",
    "analysis.plot_results(scores_mean,'r2','59k',vertex_info,subject,feature,dataset,'ridgeCV_qual')"
   ]
  }
 ],
 "metadata": {
  "kernelspec": {
   "display_name": "Python 3",
   "language": "python",
   "name": "python3"
  },
  "language_info": {
   "codemirror_mode": {
    "name": "ipython",
    "version": 3
   },
   "file_extension": ".py",
   "mimetype": "text/x-python",
   "name": "python",
   "nbconvert_exporter": "python",
   "pygments_lexer": "ipython3",
   "version": "3.8.5"
  }
 },
 "nbformat": 4,
 "nbformat_minor": 5
}
