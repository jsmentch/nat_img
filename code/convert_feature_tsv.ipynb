{
 "cells": [
  {
   "cell_type": "code",
   "execution_count": 2,
   "id": "stone-mobile",
   "metadata": {},
   "outputs": [],
   "source": [
    "import numpy as np\n",
    "import pandas as pd"
   ]
  },
  {
   "cell_type": "code",
   "execution_count": 42,
   "id": "tired-alignment",
   "metadata": {},
   "outputs": [],
   "source": [
    "feature_file = '../sourcedata/data/HCP_7T_movie_FIX/features/7T_MOVIE4_HO2_v2_rms.npy'\n",
    "feature=np.load(feature_file)"
   ]
  },
  {
   "cell_type": "code",
   "execution_count": 43,
   "id": "junior-liechtenstein",
   "metadata": {},
   "outputs": [
    {
     "data": {
      "text/plain": [
       "array([0., 0., 0., ..., 0., 0., 0.], dtype=float32)"
      ]
     },
     "execution_count": 43,
     "metadata": {},
     "output_type": "execute_result"
    }
   ],
   "source": [
    "feature.flatten()"
   ]
  },
  {
   "cell_type": "code",
   "execution_count": 44,
   "id": "optimum-moldova",
   "metadata": {},
   "outputs": [],
   "source": [
    "onset=np.arange(0,feature.shape[0]/10,0.1)\n",
    "duration = np.ones(feature.shape[0])*0.1"
   ]
  },
  {
   "cell_type": "code",
   "execution_count": 45,
   "id": "alive-dublin",
   "metadata": {},
   "outputs": [],
   "source": [
    "d = {'onset': onset, 'duration': duration, 'rms': feature.flatten()}"
   ]
  },
  {
   "cell_type": "code",
   "execution_count": 46,
   "id": "favorite-studio",
   "metadata": {},
   "outputs": [],
   "source": [
    "df = pd.DataFrame(data=d)"
   ]
  },
  {
   "cell_type": "code",
   "execution_count": 47,
   "id": "narrative-rendering",
   "metadata": {},
   "outputs": [],
   "source": [
    "df.to_csv('rms4.tsv', sep = '\\t', index=False)"
   ]
  },
  {
   "cell_type": "markdown",
   "id": "oriental-rhythm",
   "metadata": {},
   "source": [
    "## convert an AS feature"
   ]
  },
  {
   "cell_type": "code",
   "execution_count": 19,
   "id": "heavy-chart",
   "metadata": {},
   "outputs": [],
   "source": [
    "import hrf_tools\n",
    "n_movies=4\n",
    "stim = ['tfMRI_MOVIE1_7T_AP','tfMRI_MOVIE2_7T_PA','tfMRI_MOVIE3_7T_PA','tfMRI_MOVIE4_7T_AP']\n",
    "stim_feat = ['7T_MOVIE1_CC1_v2', '7T_MOVIE2_HO1_v2', '7T_MOVIE3_CC2_v2', '7T_MOVIE4_HO2_v2']\n",
    "    \n",
    "#X = np.load(f'../sourcedata/data/HCP_7T_movie_FIX/features/{stim_feat[i]}_rms.npy')\n",
    "#plt.plot(X[7910:8940])\n",
    "\n",
    "from scipy.signal import resample\n",
    "for i in np.arange(n_movies):\n",
    "    feature_shape = np.load(f'../sourcedata/data/HCP_7T_movie_FIX/features/{stim_feat[i]}_rms.npy').shape[0]\n",
    "    feature = np.load(f'../sourcedata/data/HCP_7T_movie_FIX/features/{stim_feat[i]}_as_scores.npy')[:,0:1]\n",
    "    feature.flatten()\n",
    "    feature=resample(feature, feature_shape)\n",
    "    onset=np.arange(0,feature.shape[0]/10,0.1)\n",
    "    duration = np.ones(feature.shape[0])*0.1\n",
    "    #axs[i].plot(X, label=f'raw rms', color = 'k')\n",
    "#     X_hrf=hrf_tools.apply_optimal_hrf_10hz(X,2.082)\n",
    "#     X_hrf=resample(X_hrf, 901)\n",
    "    d = {'onset': onset, 'duration': duration, 'rms': feature.flatten()}\n",
    "    df = pd.DataFrame(data=d)\n",
    "    df.to_csv(f'as-speech{i+1}.tsv', sep = '\\t', index=False)"
   ]
  },
  {
   "cell_type": "code",
   "execution_count": null,
   "id": "beneficial-festival",
   "metadata": {},
   "outputs": [],
   "source": []
  }
 ],
 "metadata": {
  "kernelspec": {
   "display_name": "Python 3",
   "language": "python",
   "name": "python3"
  },
  "language_info": {
   "codemirror_mode": {
    "name": "ipython",
    "version": 3
   },
   "file_extension": ".py",
   "mimetype": "text/x-python",
   "name": "python",
   "nbconvert_exporter": "python",
   "pygments_lexer": "ipython3",
   "version": "3.6.13"
  }
 },
 "nbformat": 4,
 "nbformat_minor": 5
}
