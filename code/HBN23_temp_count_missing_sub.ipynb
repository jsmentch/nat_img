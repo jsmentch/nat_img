{
 "cells": [
  {
   "cell_type": "code",
   "execution_count": 1,
   "id": "109bfaec-ae46-42c6-9533-cb908eb7992d",
   "metadata": {},
   "outputs": [],
   "source": [
    "import os\n",
    "import glob"
   ]
  },
  {
   "cell_type": "code",
   "execution_count": 2,
   "id": "c194262f-1388-4e29-8571-64f57eca709d",
   "metadata": {},
   "outputs": [
    {
     "data": {
      "text/plain": [
       "1087"
      ]
     },
     "execution_count": 2,
     "metadata": {},
     "output_type": "execute_result"
    }
   ],
   "source": [
    "stim='movieTP'\n",
    "\n",
    "dir_path = \"/nese/mit/group/sig/projects/hbn/hbn_bids/\"\n",
    "sub_list = [f.name for f in os.scandir(dir_path) if f.is_dir() and f.name.startswith(\"sub-\")]\n",
    "\n",
    "\n",
    "raw_subjects = []\n",
    "for subject in sub_list:\n",
    "    if glob.glob(f\"{dir_path}{subject}/ses-*/func/*{stim}_bold.nii.gz\"):\n",
    "        raw_subjects.append(subject)\n",
    "\n",
    "len(raw_subjects)\n",
    "\n",
    "proc_subjects = []\n",
    "for subject in sub_list:\n",
    "    if glob.glob(f\"{dir_path}derivatives/fmriprep_23.0.0/{subject}/ses-*/func/*{stim}*\"):\n",
    "        proc_subjects.append(subject)\n",
    "\n",
    "len(proc_subjects)\n",
    "\n"
   ]
  },
  {
   "cell_type": "code",
   "execution_count": 9,
   "id": "28d32eec-5bb4-46be-8b51-2c97f7443015",
   "metadata": {},
   "outputs": [
    {
     "name": "stdout",
     "output_type": "stream",
     "text": [
      "1732 1087\n"
     ]
    }
   ],
   "source": [
    "print(len(raw_subjects),len(proc_subjects))"
   ]
  },
  {
   "cell_type": "code",
   "execution_count": 3,
   "id": "49f0e0e7-5ec2-4909-af69-c0ce292c3fb1",
   "metadata": {},
   "outputs": [
    {
     "name": "stdout",
     "output_type": "stream",
     "text": [
      "['sub-NDARXX426ELJ', 'sub-NDARMH364EMW', 'sub-NDARXK076XU8', 'sub-NDARYC466ER1', 'sub-NDARXF294ME0', 'sub-NDARWV794VM2', 'sub-NDARPH176EWC', 'sub-NDARRA767WB7', 'sub-NDARMY456WML', 'sub-NDARYA955CY1', 'sub-NDARUP067TM8', 'sub-NDARCH881EFG', 'sub-NDARMT661WCR', 'sub-NDARRB561VCP', 'sub-NDARPJ691NEU', 'sub-NDARRX552PP2', 'sub-NDARXB023AMW', 'sub-NDARWT538DBC', 'sub-NDARRW951BYF', 'sub-NDARUF170ABA', 'sub-NDARNL926VB7', 'sub-NDARXX895FNJ', 'sub-NDARUX885LMW', 'sub-NDARLE417FRX', 'sub-NDARXG767MTB', 'sub-NDARNF341BNN', 'sub-NDARRJ130PV7', 'sub-NDARXJ973GFA', 'sub-NDARXU376FDN', 'sub-NDARGH425GB9', 'sub-NDARZT940RZG', 'sub-NDARAP457WB5', 'sub-NDARRK213WCF', 'sub-NDARVL964HH1', 'sub-NDARPU329MDJ', 'sub-NDARNR459MUJ', 'sub-NDARBG188RA5', 'sub-NDARTY815JXG', 'sub-NDARRV837BZQ', 'sub-NDARRA717GYV', 'sub-NDARWT449PUN', 'sub-NDARPX155RF3', 'sub-NDARXZ850KHQ', 'sub-NDARWT715BMK', 'sub-NDARND805ZTP', 'sub-NDARUX886JLM', 'sub-NDARRB359CRR', 'sub-NDARUK329RUU', 'sub-NDARYM586MYN', 'sub-NDARYN474PEK', 'sub-NDARPN886HH9', 'sub-NDARVB842ZM8', 'sub-NDARUL675RXW', 'sub-NDARVU320XJZ', 'sub-NDARBH512BHA', 'sub-NDARZM903TNL', 'sub-NDARUW000ALJ', 'sub-NDARBH133TK6', 'sub-NDARNN042YCH', 'sub-NDARMV605LGH', 'sub-NDARYA030ZG7', 'sub-NDARAY665GWN', 'sub-NDARRU290EZV', 'sub-NDARMX277VHC', 'sub-NDARUL694GYN', 'sub-NDARRW141HUT', 'sub-NDARUR153ZWB', 'sub-NDARUG091CY1', 'sub-NDARNZ615UEU', 'sub-NDARPM105MKA', 'sub-NDARAN934AZL', 'sub-NDARNT113YX7', 'sub-NDARWP675DHU', 'sub-NDARMV718DYL', 'sub-NDARZW873DN3', 'sub-NDARWV568MEU', 'sub-NDARXR566CDR', 'sub-NDARBC734UVY', 'sub-NDARXG995EV6', 'sub-NDARMF508PA2', 'sub-NDARBF805EHN', 'sub-NDARTB294NF0', 'sub-NDARTM501BT2', 'sub-NDARRF525ME3', 'sub-NDARPY478YM0', 'sub-NDARCU621EBN', 'sub-NDARRL685WB7', 'sub-NDARUD776KFT', 'sub-NDARXK303DDB', 'sub-NDARYK042VMG', 'sub-NDARRC295CHW', 'sub-NDARZM865KE8', 'sub-NDARXV702MYC', 'sub-NDARVG808PKQ', 'sub-NDARVC673HFA', 'sub-NDARRU979UBW', 'sub-NDARYW984FLT', 'sub-NDARAT982JTU', 'sub-NDARTZ018PD5', 'sub-NDARLY125HMB', 'sub-NDARJZ089HVP', 'sub-NDARMM951YEH', 'sub-NDARWK104FLX', 'sub-NDARUY730ANT', 'sub-NDARXG108HK2', 'sub-NDARWT389BYY', 'sub-NDARZR968TLL', 'sub-NDARUT018UYN', 'sub-NDARAY475AKD', 'sub-NDARPH152GU1', 'sub-NDARUG323DM3', 'sub-NDARYD585PXP', 'sub-NDARPK300HMV', 'sub-NDARPA827UBJ', 'sub-NDARMP745EAC', 'sub-NDARMX215YPN', 'sub-NDARNP836NUY', 'sub-NDARPC817XZ5', 'sub-NDARVT488RXJ', 'sub-NDARXR123PFR', 'sub-NDARTN158LRF', 'sub-NDARVA930UA3', 'sub-NDARXT822TAA', 'sub-NDARWW003WWW', 'sub-NDARUP249AMD', 'sub-NDARRU729XRU', 'sub-NDARTT667RKQ', 'sub-NDARWZ024UYK', 'sub-NDARBV167RMU', 'sub-NDARMY873XG5', 'sub-NDARUG278FNY', 'sub-NDARWF259RB2', 'sub-NDARPH105ZFF', 'sub-NDARRN444MJG', 'sub-NDARUK101YT3', 'sub-NDARBE641DGZ', 'sub-NDARAP176AD1', 'sub-NDARPL240HZT', 'sub-NDARPA570LBF', 'sub-NDARPV009TYX', 'sub-NDARKB547TCK', 'sub-NDARRP384BVX', 'sub-NDARPD855ARC', 'sub-NDARRY268AF2', 'sub-NDARPW635LN4', 'sub-NDARXD710RLN', 'sub-NDARVM287DJK', 'sub-NDARYZ986HEW', 'sub-NDARTT272WT5', 'sub-NDARAU708TL8', 'sub-NDARAH948UF0', 'sub-NDARTL084LYM', 'sub-NDARMM137PT6', 'sub-NDARBK082PDD', 'sub-NDARBM433VER', 'sub-NDARUT470BM4', 'sub-NDARGB040MGR', 'sub-NDARRX138MLG', 'sub-NDARLY867ZD4', 'sub-NDARVG958MHH', 'sub-NDARWP595TE6', 'sub-NDARWP954GPJ', 'sub-NDARRY006EMB', 'sub-NDARUJ894ZXG', 'sub-NDARZF170TZ0', 'sub-NDARVJ687ENB', 'sub-NDARMT064WBB', 'sub-NDARAZ681CYF', 'sub-NDARUF828TV2', 'sub-NDARUX086TVT', 'sub-NDARRK545WNM', 'sub-NDARXF203DCD', 'sub-NDARPH844KP2', 'sub-NDARXC828NXQ', 'sub-NDARZW262ZLV', 'sub-NDARXE193CZ1', 'sub-NDARPG134TF1', 'sub-NDARRD326KB9', 'sub-NDARJM296MDW', 'sub-NDARWW480TU2', 'sub-NDARXV209WYA', 'sub-NDARVE980WU5', 'sub-NDARXE638NCB', 'sub-NDARYD195BDH', 'sub-NDARRU720LG4', 'sub-NDARXH393TMM', 'sub-NDARUM791WPF', 'sub-NDARPK597XH0', 'sub-NDARZB128KCF', 'sub-NDARVJ468UZC', 'sub-NDARUC591FWN', 'sub-NDARRR633WLE', 'sub-NDARUE603CHQ', 'sub-NDARLY872ZXA', 'sub-NDARNX218UY5', 'sub-NDARJW373UE3', 'sub-NDARAT581NDH', 'sub-NDARBJ478HW5', 'sub-NDARNN218UGY', 'sub-NDARJE070PLA', 'sub-NDARVC195NLH', 'sub-NDARYB392JWP', 'sub-NDARED628HMQ', 'sub-NDARPF459CME', 'sub-NDARRV097NU1', 'sub-NDARNH285EWA', 'sub-NDARXT792GY8', 'sub-NDARNA354MGW', 'sub-NDARNT541VT2', 'sub-NDARMY291ZPH', 'sub-NDARXR346UT5', 'sub-NDARUH536DUK', 'sub-NDARUR987CDM', 'sub-NDARYH697TPA', 'sub-NDARMU791UN7', 'sub-NDARAU939WUK', 'sub-NDARMK416UUQ', 'sub-NDARMW178UDD', 'sub-NDARPE056ACA', 'sub-NDARNB905CFU', 'sub-NDARDP725ZVY', 'sub-NDARRB338YZ0', 'sub-NDARMG405RZK', 'sub-NDARRX819BZ0', 'sub-NDARUR126CFH', 'sub-NDARAM675UR8', 'sub-NDARMC694YF3', 'sub-NDARVC821LP9', 'sub-NDARVD552PRC', 'sub-NDARUX818MGE', 'sub-NDARPL440BX5', 'sub-NDARPE838DC5', 'sub-NDARPF395NV5', 'sub-NDARXL588FFJ', 'sub-NDARWP157RYM', 'sub-NDARYG546ZFF', 'sub-NDARET550NXC', 'sub-NDARXR965TFK', 'sub-NDARCV628UUW', 'sub-NDARPF319WV2', 'sub-NDARVG761NR2', 'sub-NDARWG820RKE', 'sub-NDARPL215MTH', 'sub-NDARAP522AFK', 'sub-NDARBF851NH6', 'sub-NDARPF937BDQ', 'sub-NDARPX661BF1', 'sub-NDARWR628EFJ', 'sub-NDARAE358VBE', 'sub-NDARHV260FPW', 'sub-NDARRU499DP2', 'sub-NDARRZ927VC3', 'sub-NDARAR238RZ8', 'sub-NDARMU053YEU', 'sub-NDARFN854EJB', 'sub-NDARMW473LL1', 'sub-NDARRG199RU4', 'sub-NDARRB942UWU', 'sub-NDARXG035ZVM', 'sub-NDARMG451PJA', 'sub-NDARRB901DWV', 'sub-NDARWN691CG7', 'sub-NDARWX711LBK', 'sub-NDARUC715YN4', 'sub-NDARRW536ZM2', 'sub-NDARTP022VL6', 'sub-NDARAV031PPJ', 'sub-NDARVC964LX0', 'sub-NDARWV405ZW0', 'sub-NDARXL023NG9', 'sub-NDARRM158VXD', 'sub-NDARUP908XUJ', 'sub-NDARRA537FWW', 'sub-NDARVC711ZK0', 'sub-NDARKM635UY0', 'sub-NDARMT882AWE', 'sub-NDARVL190JA8', 'sub-NDARRY792KY1', 'sub-NDARRN047XHC', 'sub-NDARMJ849UKD', 'sub-NDARUL456EER', 'sub-NDARVL878GRA', 'sub-NDARMZ366UY8', 'sub-NDARRM073JKA', 'sub-NDARUB495UD1', 'sub-NDARTR175UDC', 'sub-NDARXY240WJC', 'sub-NDARZP630WYL', 'sub-NDARNN761ZPA', 'sub-NDARYN174NPH', 'sub-NDARXT196WPG', 'sub-NDARXD345GBN', 'sub-NDARVD194JX2', 'sub-NDARYW946VTC', 'sub-NDARMX328VWC', 'sub-NDARUV578DU2', 'sub-NDARXV291ATY', 'sub-NDARAG191AE8', 'sub-NDARBJ375VP4', 'sub-NDARPT910NEE', 'sub-NDARMF444MAY', 'sub-NDARGZ116HTR', 'sub-NDARUX340FYC', 'sub-NDARKW383ZPF', 'sub-NDARBL242L4H', 'sub-NDARPH834YB1', 'sub-NDARNE406XC3', 'sub-NDARMV981GZ7', 'sub-NDARUY339ZLN', 'sub-NDARRP163YRC', 'sub-NDARXK986EK6', 'sub-NDARUC771VM5', 'sub-NDARUR872MP9', 'sub-NDARBE912PB0', 'sub-NDARNZ610KZY', 'sub-NDARXH597ML1', 'sub-NDARVB819ENX', 'sub-NDARWR247CE1', 'sub-NDARAW179AYF', 'sub-NDARMZ936WYB', 'sub-NDARRR735VMN', 'sub-NDARAC349YUC', 'sub-NDARUT891XYJ', 'sub-NDARMT732GKM', 'sub-NDARBE719PMB', 'sub-NDARVL697YGK', 'sub-NDARBJ482HJL', 'sub-NDARUA832MYV', 'sub-NDARVF159VP9', 'sub-NDARPG847LB8', 'sub-NDARTH473LF8', 'sub-NDARRW475MPT', 'sub-NDARAY969YUW', 'sub-NDARZJ539CD9', 'sub-NDARNZ084JVC', 'sub-NDARPU897CM5', 'sub-NDARXH529MTX', 'sub-NDARPW915RGD', 'sub-NDARBF183RFB', 'sub-NDARUU615WPR', 'sub-NDARHG294AFG', 'sub-NDARUK719URM', 'sub-NDARYC287UFV', 'sub-NDARVY859ENR', 'sub-NDARUW206XUG', 'sub-NDARRH344TL7', 'sub-NDARZK745JGG', 'sub-NDARTT194LTU', 'sub-NDARWU936JGG', 'sub-NDARXP557DLJ', 'sub-NDARUC308ZLR', 'sub-NDARNB427ARE', 'sub-NDARWP634RZL', 'sub-NDARRF059RMB', 'sub-NDARAW247CCF', 'sub-NDARPJ001BVE', 'sub-NDARNZ792HBN', 'sub-NDARPL194XDX', 'sub-NDARUL636NGK', 'sub-NDARPX901GZH', 'sub-NDARPF042DD2', 'sub-NDARPY302MV9', 'sub-NDARTW889JN9', 'sub-NDARRW940BL6', 'sub-NDARAN814UPR', 'sub-NDARUZ206DRV', 'sub-NDARXT256RNV', 'sub-NDARUT233WU9', 'sub-NDARCB142ZPB', 'sub-NDARAC853DTE', 'sub-NDARUC144FN6', 'sub-NDARZR180BM6', 'sub-NDARWX338NDL', 'sub-NDARVC310XV2', 'sub-NDARYE221LZB', 'sub-NDARGA499CKF', 'sub-NDARBF042LDM', 'sub-NDARKH168MC1', 'sub-NDARMB945WN7', 'sub-NDARBL214YLX', 'sub-NDARML024FF2', 'sub-NDARVV926KLM', 'sub-NDARUZ368BT4', 'sub-NDARXH270TJ8', 'sub-NDARKM476GFK', 'sub-NDARZJ587UZU', 'sub-NDARMR134HUY', 'sub-NDARFT881VT6', 'sub-NDARNY419GR2', 'sub-NDARBH228RDW', 'sub-NDARLE417RA4', 'sub-NDARWJ414WB8', 'sub-NDARPH513LP3', 'sub-NDARRJ989YPA', 'sub-NDARAW216PM7', 'sub-NDARRY714GEY', 'sub-NDARBD341NEM', 'sub-NDARVD543CMZ', 'sub-NDARMG196KV4', 'sub-NDARXU883NMY', 'sub-NDARLY585ZVN', 'sub-NDARXB250PAC', 'sub-NDARPZ720WKW', 'sub-NDARZN914GPB', 'sub-NDARTG681ZDV', 'sub-NDARNX125KJ1', 'sub-NDARBC240LNC', 'sub-NDARMZ119VPH', 'sub-NDARNZ043VH0', 'sub-NDARMF560MUH', 'sub-NDARGY959RN8', 'sub-NDARYX133FFQ', 'sub-NDARZN277NR6', 'sub-NDARAX272ZJL', 'sub-NDARXD502MC1', 'sub-NDARPV412JEN', 'sub-NDARBE123PWH', 'sub-NDARAN262WK6', 'sub-NDARTL336THT', 'sub-NDARUF850XKH', 'sub-NDARPV303LAX', 'sub-NDARWU018VDB', 'sub-NDARYA556KP8', 'sub-NDARBV680AA8', 'sub-NDARAN076TPG', 'sub-NDARHZ476MJP', 'sub-NDARUE483WZ4', 'sub-NDARPK237YHD', 'sub-NDARTZ901LDK', 'sub-NDARFZ548VEP', 'sub-NDARMD575AXD', 'sub-NDARTB300BN3', 'sub-NDARAU530GLJ', 'sub-NDARUJ779NM0', 'sub-NDARRE445RHR', 'sub-NDARRM320RHN', 'sub-NDARRR813CY6', 'sub-NDARZT957CWG', 'sub-NDARBW403EVZ', 'sub-NDARUB231LHN', 'sub-NDARYX008UCU', 'sub-NDARPK223WVZ', 'sub-NDARWA102TY7', 'sub-NDARUX284GGB', 'sub-NDARUD871XPD', 'sub-NDARRC348AFG', 'sub-NDARPL201YL4', 'sub-NDARXB889WUB', 'sub-NDARYL443NG6', 'sub-NDARTB203DU7', 'sub-NDARWG549LCF', 'sub-NDARYA952GA1', 'sub-NDARMJ333WJM', 'sub-NDARRW100AU0', 'sub-NDARMA449JDZ', 'sub-NDARRM725BRV', 'sub-NDARNC287MK5', 'sub-NDARPK522DVQ', 'sub-NDARBG574KF4', 'sub-NDARPP622WV4', 'sub-NDARKT811ATJ', 'sub-NDARFA815FXE', 'sub-NDARMY254BGN', 'sub-NDARUX408KJ1', 'sub-NDARYA898BRE', 'sub-NDARYA845EGP', 'sub-NDARPB619PHV', 'sub-NDARRM122UPB', 'sub-NDARUG492VF0', 'sub-NDARMZ477MNH', 'sub-NDARPF179GNV', 'sub-NDARPZ973RK0', 'sub-NDARZV749GAP', 'sub-NDARVG132NF6', 'sub-NDARMT784NED', 'sub-NDARXE542EMB', 'sub-NDARXF358XGE', 'sub-NDARXC055JGA', 'sub-NDARPF682GDC', 'sub-NDARVL729TT5', 'sub-NDARVK720WZ0', 'sub-NDARJG300HWH', 'sub-NDARRP801AX1', 'sub-NDARZV983XK9', 'sub-NDARPH474YF3', 'sub-NDARRZ145TFN', 'sub-NDARWP112TDL', 'sub-NDARUW904FMQ', 'sub-NDARGU729WUR', 'sub-NDARXV445NYZ', 'sub-NDARZY101JNB', 'sub-NDARTK357VHL', 'sub-NDARBF176LPM', 'sub-NDARBD328NUQ', 'sub-NDARYC243UW5', 'sub-NDARCJ170CT9', 'sub-NDARJH99CWH', 'sub-NDARPZ344ZGE', 'sub-NDARWU876CWH', 'sub-NDARBH019KPD', 'sub-NDARHP924ZHW', 'sub-NDARTA819MF0', 'sub-NDARZZ810LVF', 'sub-NDARNK241ZXA', 'sub-NDARUN994RMC', 'sub-NDARPD891BX3', 'sub-NDARVC518NWG', 'sub-NDARPD568LHV', 'sub-NDARRW481GFE', 'sub-NDARZL113CU0', 'sub-NDARAX358NB5', 'sub-NDARUL224GN6', 'sub-NDARUW816MP3', 'sub-NDARPX219TW0', 'sub-NDARYZ489EHH', 'sub-NDARXG646PM9', 'sub-NDARRV480PU1', 'sub-NDARLZ701LJ3', 'sub-NDARUN300FG1', 'sub-NDARMK100DJR', 'sub-NDARTK682LJE', 'sub-NDARPX838GCD', 'sub-NDARNT043XGH', 'sub-NDARMX835PGE', 'sub-NDARVH032PDR', 'sub-NDARYG988PUQ', 'sub-NDARUX187JTB', 'sub-NDARYA379LKT', 'sub-NDARTB003FDD', 'sub-NDARWM848AKP', 'sub-NDARYZ909VND', 'sub-NDARXR637JER', 'sub-NDARVR116KG5', 'sub-NDARPL596YTD', 'sub-NDAREC078VFT', 'sub-NDARVC305AC6', 'sub-NDARVB012UWL', 'sub-NDARRP818DWL', 'sub-NDARPV145KGL', 'sub-NDARMX482GWR', 'sub-NDARRF897HB5', 'sub-NDARMC759CX3', 'sub-NDARYZ693DE2', 'sub-NDARNM147CG2', 'sub-NDARUK054GTN', 'sub-NDARNH147WGN', 'sub-NDARMH559LKK', 'sub-NDARUE398GGV', 'sub-NDARVT072LX2', 'sub-NDARRC190NKB', 'sub-NDARKG460MWV', 'sub-NDARVB902GA5', 'sub-NDARAV554TP2', 'sub-NDARTP313AGH', 'sub-NDARVT454LAE', 'sub-NDARUY549PGQ', 'sub-NDARRC982ZE9', 'sub-NDARPT777FDA', 'sub-NDARVL555VVA', 'sub-NDARRX897XV1', 'sub-NDARMM005DLK', 'sub-NDARXG961UAB', 'sub-NDARWM656UWL', 'sub-NDARCW094JCG', 'sub-NDARAY298THW', 'sub-NDARMN690FGZ', 'sub-NDARRL379BET', 'sub-NDARDT181RP4', 'sub-NDARZW662UK6', 'sub-NDARVR601FUT', 'sub-NDARUG859NKB', 'sub-NDARWK983JFE', 'sub-NDARRV941EAC', 'sub-NDARUZ200NRJ', 'sub-NDARXL801JVG', 'sub-NDARVB587ECK', 'sub-NDARUM009GEZ', 'sub-NDARXL697DA6', 'sub-NDARVD635FX8', 'sub-NDARMN043YKC', 'sub-NDARPL479LHN', 'sub-NDARXT256FRP', 'sub-NDARZB517KTU', 'sub-NDARUX534HZQ', 'sub-NDARXY745NXJ', 'sub-NDARVG641YGK', 'sub-NDARTV525XC0', 'sub-NDARVG777EUZ', 'sub-NDARPW786GC4', 'sub-NDARAT680GJA', 'sub-NDARAP049KXJ', 'sub-NDARWV449GEM', 'sub-NDARBV059CGE', 'sub-NDARHU831NXU', 'sub-NDARVD685RRJ', 'sub-NDARTU280GKF', 'sub-NDARMZ790VHM', 'sub-NDARRY715CY4', 'sub-NDARRK882CLT', 'sub-NDARUV041YCY', 'sub-NDARNZ917TDK', 'sub-NDARUU991VRE', 'sub-NDARWL486MKR', 'sub-NDARJW685KBA', 'sub-NDARYA503XVQ', 'sub-NDARFT176NJP', 'sub-NDAREH074NG8', 'sub-NDAREV601CE7', 'sub-NDARXY532ZTT', 'sub-NDARPF362VH8', 'sub-NDARMY294VNE', 'sub-NDARMV822KWR', 'sub-NDARWW005GCU', 'sub-NDARVL498YX5', 'sub-NDARRY280KNW', 'sub-NDARXY938XY7', 'sub-NDARUJ292JXV', 'sub-NDARRW680PHD', 'sub-NDARUM797TFA', 'sub-NDARRL660CME', 'sub-NDARRV002MA8', 'sub-NDARPD029JVJ', 'sub-NDARBK106KRH', 'sub-NDARNY894TH7', 'sub-NDARRR622MYT', 'sub-NDARAT709MMX', 'sub-NDARPH923FN7', 'sub-NDARWJ498CZY', 'sub-NDARXG571WPL', 'sub-NDARRL315KV3', 'sub-NDARWP817CVB', 'sub-NDARMF230VEX', 'sub-NDARBW026UGE', 'sub-NDARUU801VFA', 'sub-NDARNV570NHA', 'sub-NDARHR099EWX', 'sub-NDARBA680RFY', 'sub-NDARFM645RH5', 'sub-NDARAR305LXG', 'sub-NDARAP739AUP', 'sub-NDARCM135DVC', 'sub-NDARXF890FLA', 'sub-NDARVC716GEE', 'sub-NDARRD943ZWU', 'sub-NDARBM839WR5', 'sub-NDARPT670LAY', 'sub-NDARWE908KF8', 'sub-NDARPR537HF5', 'sub-NDARAP964VDB', 'sub-NDARVB897AH1', 'sub-NDARMM326JCB', 'sub-NDARXB692PXC', 'sub-NDARVB151GXF', 'sub-NDARVD495YP9', 'sub-NDARMV319CAT', 'sub-NDARVK922KE5', 'sub-NDARMJ334ZK3', 'sub-NDARXG670HFE', 'sub-NDARBE287EFC', 'sub-NDARBV630BK6', 'sub-NDARBL042LWN', 'sub-NDARXT727MD7', 'sub-NDARMN302YAV', 'sub-NDARTK950DY5', 'sub-NDARBJ159HXB', 'sub-NDARUA745NA8', 'sub-NDARUY024RVP', 'sub-NDARMK825WAX', 'sub-NDARAT358XM9', 'sub-NDARPW313LAJ', 'sub-NDARUL290YKN', 'sub-NDARAV820UEP', 'sub-NDARWA433WYZ', 'sub-NDARMZ200GVD', 'sub-NDARLM877UZM', 'sub-NDARUJ744NEU', 'sub-NDARAP782TVC', 'sub-NDARUX315PE6', 'sub-NDARTT013GUN', 'sub-NDARYF699FW0', 'sub-NDARPE830YU0', 'sub-NDARLU529MP7', 'sub-NDARWR678HLF', 'sub-NDARMD666RYJ', 'sub-NDARWC399JLD', 'sub-NDARXK009VGV', 'sub-NDARAX287BLD', 'sub-NDARAP785CTE', 'sub-NDARBF389RLF', 'sub-NDARWM527PRT', 'sub-NDARXN764AC7', 'sub-NDARUK658FMU', 'sub-NDARXW276NXN', 'sub-NDARZJ460RWZ', 'sub-NDARPW577WJ7', 'sub-NDARRW974PEF', 'sub-NDARWC801CB5', 'sub-NDARMN695VFH', 'sub-NDARBG831VK4', 'sub-NDARXF497LYF', 'sub-NDARDR950CGG', 'sub-NDARUY379PT5', 'sub-NDARUF540ZJ1', 'sub-NDARBF293YRB', 'sub-NDARRT038VG1', 'sub-NDARAY283AU1', 'sub-NDARVG597HNL', 'sub-NDARRV217VTA', 'sub-NDARNK826AFY', 'sub-NDARUV263YB5', 'sub-NDARBK638HLZ', 'sub-NDARWN523GVF', 'sub-NDARHZ852XY0', 'sub-NDARWT086XMF']\n"
     ]
    }
   ],
   "source": [
    "result = list(set(raw_subjects) - set(proc_subjects))\n",
    "print(result)"
   ]
  },
  {
   "cell_type": "code",
   "execution_count": 5,
   "id": "1185f95b-b4e5-48ed-b9fd-3a70fe11aef2",
   "metadata": {},
   "outputs": [],
   "source": [
    "with open('movieTP_subjects.txt', 'w') as f:\n",
    "    for item in result:\n",
    "        f.write(\"%s\\n\" % item)"
   ]
  },
  {
   "cell_type": "code",
   "execution_count": null,
   "id": "2201971b-6ce6-4083-86b1-9ad19130b6d8",
   "metadata": {},
   "outputs": [],
   "source": []
  },
  {
   "cell_type": "code",
   "execution_count": 12,
   "id": "8cbda6a4-6f3d-4c0f-8986-faab0852a6c2",
   "metadata": {},
   "outputs": [
    {
     "data": {
      "text/plain": [
       "1051"
      ]
     },
     "execution_count": 12,
     "metadata": {},
     "output_type": "execute_result"
    }
   ],
   "source": [
    "stim='movieDM'\n",
    "\n",
    "dir_path = \"/nese/mit/group/sig/projects/hbn/hbn_bids/\"\n",
    "sub_list = [f.name for f in os.scandir(dir_path) if f.is_dir() and f.name.startswith(\"sub-\")]\n",
    "\n",
    "\n",
    "raw_subjects = []\n",
    "for subject in sub_list:\n",
    "    if glob.glob(f\"{dir_path}{subject}/ses-*/func/*{stim}_bold.nii.gz\"):\n",
    "        raw_subjects.append(subject)\n",
    "\n",
    "len(raw_subjects)\n",
    "\n",
    "proc_subjects = []\n",
    "for subject in sub_list:\n",
    "    if glob.glob(f\"{dir_path}derivatives/fmriprep_23.0.0/{subject}/ses-*/func/*{stim}*\"):\n",
    "        proc_subjects.append(subject)\n",
    "\n",
    "len(proc_subjects)"
   ]
  },
  {
   "cell_type": "code",
   "execution_count": 13,
   "id": "eecd203a-8978-4abd-bd0c-d9a427497995",
   "metadata": {},
   "outputs": [
    {
     "name": "stdout",
     "output_type": "stream",
     "text": [
      "1692 1051\n"
     ]
    }
   ],
   "source": [
    "print(len(raw_subjects),len(proc_subjects))"
   ]
  },
  {
   "cell_type": "code",
   "execution_count": 14,
   "id": "dbb7fb2e-ab81-4ef3-ae07-afc318455b02",
   "metadata": {},
   "outputs": [
    {
     "name": "stdout",
     "output_type": "stream",
     "text": [
      "['sub-NDARXX426ELJ', 'sub-NDARMH364EMW', 'sub-NDARXK076XU8', 'sub-NDARYC466ER1', 'sub-NDARXF294ME0', 'sub-NDARWV794VM2', 'sub-NDARZF602KU6', 'sub-NDARPH176EWC', 'sub-NDARRA767WB7', 'sub-NDARYA955CY1', 'sub-NDARCH881EFG', 'sub-NDARMT661WCR', 'sub-NDARRB561VCP', 'sub-NDARPJ691NEU', 'sub-NDARRX552PP2', 'sub-NDARXB023AMW', 'sub-NDARRW951BYF', 'sub-NDARUF170ABA', 'sub-NDARNL926VB7', 'sub-NDARXX895FNJ', 'sub-NDARUX885LMW', 'sub-NDARMU589LP6', 'sub-NDARRJ130PV7', 'sub-NDARXJ973GFA', 'sub-NDARXU376FDN', 'sub-NDARGH425GB9', 'sub-NDARZT940RZG', 'sub-NDARAP457WB5', 'sub-NDARRK213WCF', 'sub-NDARVL964HH1', 'sub-NDARPU329MDJ', 'sub-NDARBG188RA5', 'sub-NDARTY815JXG', 'sub-NDARRV837BZQ', 'sub-NDARRA717GYV', 'sub-NDARWT449PUN', 'sub-NDARPX155RF3', 'sub-NDARXZ850KHQ', 'sub-NDARWT715BMK', 'sub-NDARND805ZTP', 'sub-NDARUX886JLM', 'sub-NDARRB359CRR', 'sub-NDARUK329RUU', 'sub-NDARYM586MYN', 'sub-NDARYN474PEK', 'sub-NDARPN886HH9', 'sub-NDARVB842ZM8', 'sub-NDARUL675RXW', 'sub-NDARVU320XJZ', 'sub-NDARBH512BHA', 'sub-NDARZM903TNL', 'sub-NDARUW000ALJ', 'sub-NDARNN042YCH', 'sub-NDARMV605LGH', 'sub-NDARYA030ZG7', 'sub-NDARAY665GWN', 'sub-NDARRU290EZV', 'sub-NDARMX277VHC', 'sub-NDARUL694GYN', 'sub-NDARRW141HUT', 'sub-NDARUR153ZWB', 'sub-NDARUG091CY1', 'sub-NDARNZ615UEU', 'sub-NDARPM105MKA', 'sub-NDARAN934AZL', 'sub-NDARNT113YX7', 'sub-NDARWP675DHU', 'sub-NDARMV718DYL', 'sub-NDARZW873DN3', 'sub-NDARWV568MEU', 'sub-NDARXR566CDR', 'sub-NDARBC734UVY', 'sub-NDARXG995EV6', 'sub-NDARMF508PA2', 'sub-NDARBF805EHN', 'sub-NDARTB294NF0', 'sub-NDARTM501BT2', 'sub-NDARRF525ME3', 'sub-NDARPY478YM0', 'sub-NDARCU621EBN', 'sub-NDARRL685WB7', 'sub-NDARXK303DDB', 'sub-NDARYK042VMG', 'sub-NDARRA719CPH', 'sub-NDARRC295CHW', 'sub-NDARZM865KE8', 'sub-NDARXV702MYC', 'sub-NDARVG808PKQ', 'sub-NDARVC673HFA', 'sub-NDARRU979UBW', 'sub-NDARYW984FLT', 'sub-NDARAT982JTU', 'sub-NDARTZ018PD5', 'sub-NDARLY125HMB', 'sub-NDARJZ089HVP', 'sub-NDARMM951YEH', 'sub-NDARWK104FLX', 'sub-NDARUX216VHK', 'sub-NDARUY730ANT', 'sub-NDARBB901UD2', 'sub-NDARXG108HK2', 'sub-NDARWT389BYY', 'sub-NDARZR968TLL', 'sub-NDARWR732NZE', 'sub-NDARAY475AKD', 'sub-NDARUT018UYN', 'sub-NDARPH152GU1', 'sub-NDARUG323DM3', 'sub-NDARYD585PXP', 'sub-NDARPK300HMV', 'sub-NDARPA827UBJ', 'sub-NDARMP745EAC', 'sub-NDARMX215YPN', 'sub-NDARNP836NUY', 'sub-NDARPC817XZ5', 'sub-NDARVT488RXJ', 'sub-NDARCG698LHB', 'sub-NDARXR123PFR', 'sub-NDARTN158LRF', 'sub-NDARVA930UA3', 'sub-NDARXT822TAA', 'sub-NDARWW003WWW', 'sub-NDARUP249AMD', 'sub-NDARRU729XRU', 'sub-NDARTT667RKQ', 'sub-NDARWZ024UYK', 'sub-NDARBV167RMU', 'sub-NDARMY873XG5', 'sub-NDARUG278FNY', 'sub-NDARWF259RB2', 'sub-NDARPH105ZFF', 'sub-NDARRN444MJG', 'sub-NDARUK101YT3', 'sub-NDARAP176AD1', 'sub-NDARPL240HZT', 'sub-NDARPA570LBF', 'sub-NDARPV009TYX', 'sub-NDARKB547TCK', 'sub-NDARPD855ARC', 'sub-NDARRY268AF2', 'sub-NDARPW635LN4', 'sub-NDARXD710RLN', 'sub-NDARVM287DJK', 'sub-NDARYZ986HEW', 'sub-NDARTT272WT5', 'sub-NDARAU708TL8', 'sub-NDARAH948UF0', 'sub-NDARTL084LYM', 'sub-NDARMM137PT6', 'sub-NDARBK082PDD', 'sub-NDARBM433VER', 'sub-NDARYR150UDP', 'sub-NDARUT470BM4', 'sub-NDARGB040MGR', 'sub-NDARRX138MLG', 'sub-NDARLY867ZD4', 'sub-NDARVG958MHH', 'sub-NDARWP595TE6', 'sub-NDARWP954GPJ', 'sub-NDARRY006EMB', 'sub-NDARUJ894ZXG', 'sub-NDARZF170TZ0', 'sub-NDARVJ687ENB', 'sub-NDARMT064WBB', 'sub-NDARAZ681CYF', 'sub-NDARUF828TV2', 'sub-NDARLJ356HAQ', 'sub-NDARXP021FZ5', 'sub-NDARTP795WU2', 'sub-NDARUX086TVT', 'sub-NDARRK545WNM', 'sub-NDARXF203DCD', 'sub-NDARPH844KP2', 'sub-NDARXC828NXQ', 'sub-NDARZW262ZLV', 'sub-NDARXE193CZ1', 'sub-NDARPG134TF1', 'sub-NDARRD326KB9', 'sub-NDARWW480TU2', 'sub-NDARXV209WYA', 'sub-NDARVE980WU5', 'sub-NDARXE638NCB', 'sub-NDARYD195BDH', 'sub-NDARRU720LG4', 'sub-NDARUM791WPF', 'sub-NDARPK597XH0', 'sub-NDARZB128KCF', 'sub-NDARVJ468UZC', 'sub-NDARUC591FWN', 'sub-NDARRR633WLE', 'sub-NDARUE603CHQ', 'sub-NDARLY872ZXA', 'sub-NDARNX218UY5', 'sub-NDARJW373UE3', 'sub-NDARAT581NDH', 'sub-NDARNN218UGY', 'sub-NDARJE070PLA', 'sub-NDARRH285LR3', 'sub-NDARXD388TTE', 'sub-NDARVC195NLH', 'sub-NDARYB392JWP', 'sub-NDARED628HMQ', 'sub-NDARPF459CME', 'sub-NDARRV097NU1', 'sub-NDARNH285EWA', 'sub-NDARXT792GY8', 'sub-NDARNT541VT2', 'sub-NDARMY291ZPH', 'sub-NDARXR346UT5', 'sub-NDARUH536DUK', 'sub-NDARUR987CDM', 'sub-NDARYH697TPA', 'sub-NDARVH033CA4', 'sub-NDARAU939WUK', 'sub-NDARMK416UUQ', 'sub-NDARMW178UDD', 'sub-NDARPE056ACA', 'sub-NDARNB905CFU', 'sub-NDARDP725ZVY', 'sub-NDARRB338YZ0', 'sub-NDARXY162ERA', 'sub-NDARRX819BZ0', 'sub-NDARUR126CFH', 'sub-NDARAM675UR8', 'sub-NDARMC694YF3', 'sub-NDARVC821LP9', 'sub-NDARVD552PRC', 'sub-NDARUX818MGE', 'sub-NDARPL440BX5', 'sub-NDARPE838DC5', 'sub-NDARUJ891VL9', 'sub-NDARPF395NV5', 'sub-NDARXL588FFJ', 'sub-NDARWP157RYM', 'sub-NDARYG546ZFF', 'sub-NDARET550NXC', 'sub-NDARXR965TFK', 'sub-NDARCV628UUW', 'sub-NDARPF319WV2', 'sub-NDARVG761NR2', 'sub-NDARWG820RKE', 'sub-NDARPL215MTH', 'sub-NDARAP522AFK', 'sub-NDARBF851NH6', 'sub-NDARPF937BDQ', 'sub-NDARPX661BF1', 'sub-NDARWR628EFJ', 'sub-NDARAE358VBE', 'sub-NDARHV260FPW', 'sub-NDARRU499DP2', 'sub-NDARRZ927VC3', 'sub-NDARAR238RZ8', 'sub-NDARMU053YEU', 'sub-NDARFN854EJB', 'sub-NDARMW473LL1', 'sub-NDARRG199RU4', 'sub-NDARRB942UWU', 'sub-NDARXG035ZVM', 'sub-NDARMG451PJA', 'sub-NDARRB901DWV', 'sub-NDARWN691CG7', 'sub-NDARUC715YN4', 'sub-NDARRW536ZM2', 'sub-NDARTP022VL6', 'sub-NDARAV031PPJ', 'sub-NDARVC964LX0', 'sub-NDARWV405ZW0', 'sub-NDARVB297WUM', 'sub-NDARRM158VXD', 'sub-NDARTT242GNN', 'sub-NDARRA537FWW', 'sub-NDARVC711ZK0', 'sub-NDARKM635UY0', 'sub-NDARVL190JA8', 'sub-NDARRY792KY1', 'sub-NDARRN047XHC', 'sub-NDARMJ849UKD', 'sub-NDARGK608LJ8', 'sub-NDARUL456EER', 'sub-NDARMZ366UY8', 'sub-NDARUB495UD1', 'sub-NDARRM073JKA', 'sub-NDARVL878GRA', 'sub-NDARTR175UDC', 'sub-NDARXY240WJC', 'sub-NDARNN761ZPA', 'sub-NDARYN174NPH', 'sub-NDARZP630WYL', 'sub-NDARXT196WPG', 'sub-NDARGX001CB1', 'sub-NDARXD345GBN', 'sub-NDARVD194JX2', 'sub-NDARYW946VTC', 'sub-NDARMX328VWC', 'sub-NDARUV578DU2', 'sub-NDARXV291ATY', 'sub-NDARAG191AE8', 'sub-NDARBJ375VP4', 'sub-NDARPT910NEE', 'sub-NDARMF444MAY', 'sub-NDARGZ116HTR', 'sub-NDARUX340FYC', 'sub-NDARKW383ZPF', 'sub-NDARBL242L4H', 'sub-NDARPH834YB1', 'sub-NDARNE406XC3', 'sub-NDARMV981GZ7', 'sub-NDARUY339ZLN', 'sub-NDARRP163YRC', 'sub-NDARXK986EK6', 'sub-NDARUC771VM5', 'sub-NDARUR872MP9', 'sub-NDARPF683XWV', 'sub-NDARBE912PB0', 'sub-NDARXH597ML1', 'sub-NDARVB819ENX', 'sub-NDARWR247CE1', 'sub-NDARAW179AYF', 'sub-NDARMZ936WYB', 'sub-NDARRR735VMN', 'sub-NDARAC349YUC', 'sub-NDARUT891XYJ', 'sub-NDARMT732GKM', 'sub-NDARBE719PMB', 'sub-NDARVL697YGK', 'sub-NDARBJ482HJL', 'sub-NDARVN883AU2', 'sub-NDARXG736VP9', 'sub-NDARUA832MYV', 'sub-NDARVF159VP9', 'sub-NDARTH473LF8', 'sub-NDARRW475MPT', 'sub-NDARAY969YUW', 'sub-NDARZJ539CD9', 'sub-NDARNZ084JVC', 'sub-NDARPU897CM5', 'sub-NDARXH529MTX', 'sub-NDARPW915RGD', 'sub-NDARBF183RFB', 'sub-NDARUU615WPR', 'sub-NDARHG294AFG', 'sub-NDARUK719URM', 'sub-NDARYC287UFV', 'sub-NDARVY859ENR', 'sub-NDARUW206XUG', 'sub-NDARRH344TL7', 'sub-NDARZK745JGG', 'sub-NDARTT194LTU', 'sub-NDARWU936JGG', 'sub-NDARXP557DLJ', 'sub-NDARUC308ZLR', 'sub-NDARNB427ARE', 'sub-NDARWP634RZL', 'sub-NDARRF059RMB', 'sub-NDARAW247CCF', 'sub-NDARPJ001BVE', 'sub-NDARNZ792HBN', 'sub-NDARPL194XDX', 'sub-NDARUL636NGK', 'sub-NDARPF042DD2', 'sub-NDARPY302MV9', 'sub-NDARTW889JN9', 'sub-NDARRW940BL6', 'sub-NDARAN814UPR', 'sub-NDARUZ206DRV', 'sub-NDARUT233WU9', 'sub-NDARCB142ZPB', 'sub-NDARAC853DTE', 'sub-NDARUC144FN6', 'sub-NDARZR180BM6', 'sub-NDARWX338NDL', 'sub-NDARNU137XR4', 'sub-NDARVC310XV2', 'sub-NDARYE221LZB', 'sub-NDARGA499CKF', 'sub-NDARBF042LDM', 'sub-NDARKH168MC1', 'sub-NDARMB945WN7', 'sub-NDARBL214YLX', 'sub-NDARML024FF2', 'sub-NDARVV926KLM', 'sub-NDARUZ368BT4', 'sub-NDARXH270TJ8', 'sub-NDARZJ587UZU', 'sub-NDARMR134HUY', 'sub-NDARFT881VT6', 'sub-NDARNY419GR2', 'sub-NDARWJ414WB8', 'sub-NDARPH513LP3', 'sub-NDARRJ989YPA', 'sub-NDARAW216PM7', 'sub-NDARRY714GEY', 'sub-NDARLN778RYN', 'sub-NDARBD341NEM', 'sub-NDARVD543CMZ', 'sub-NDARMG196KV4', 'sub-NDARTZ926NMZ', 'sub-NDARXU883NMY', 'sub-NDARLY585ZVN', 'sub-NDARXZ685TU4', 'sub-NDARXB250PAC', 'sub-NDARPZ720WKW', 'sub-NDARZN914GPB', 'sub-NDARMC774PRM', 'sub-NDARVC350WVG', 'sub-NDARNX125KJ1', 'sub-NDARMZ119VPH', 'sub-NDARNZ043VH0', 'sub-NDARMF560MUH', 'sub-NDARGY959RN8', 'sub-NDARYX133FFQ', 'sub-NDARZN277NR6', 'sub-NDARRB403PDE', 'sub-NDARAX272ZJL', 'sub-NDARXD502MC1', 'sub-NDARPV412JEN', 'sub-NDARBE123PWH', 'sub-NDARAN262WK6', 'sub-NDARTL336THT', 'sub-NDARUF850XKH', 'sub-NDARPV303LAX', 'sub-NDARZW854BH0', 'sub-NDARWU018VDB', 'sub-NDARYA556KP8', 'sub-NDARBV680AA8', 'sub-NDARAN076TPG', 'sub-NDARHZ476MJP', 'sub-NDARPK237YHD', 'sub-NDARTZ901LDK', 'sub-NDARMD575AXD', 'sub-NDARTB300BN3', 'sub-NDARAU530GLJ', 'sub-NDARUJ779NM0', 'sub-NDARRE445RHR', 'sub-NDARRM320RHN', 'sub-NDARRR813CY6', 'sub-NDARZT957CWG', 'sub-NDARBW403EVZ', 'sub-NDARUB231LHN', 'sub-NDARYX008UCU', 'sub-NDARPK223WVZ', 'sub-NDARWA102TY7', 'sub-NDARUX284GGB', 'sub-NDARUD871XPD', 'sub-NDARRC348AFG', 'sub-NDARPL201YL4', 'sub-NDARXB889WUB', 'sub-NDARTB203DU7', 'sub-NDARWG549LCF', 'sub-NDARYA952GA1', 'sub-NDARMJ333WJM', 'sub-NDARRW100AU0', 'sub-NDARMA449JDZ', 'sub-NDARRM725BRV', 'sub-NDARNC287MK5', 'sub-NDARPK522DVQ', 'sub-NDARBG574KF4', 'sub-NDARPP622WV4', 'sub-NDARKT811ATJ', 'sub-NDARFA815FXE', 'sub-NDARDW741HCF', 'sub-NDARMY254BGN', 'sub-NDARUX408KJ1', 'sub-NDARYA898BRE', 'sub-NDARYA845EGP', 'sub-NDARPB619PHV', 'sub-NDARYT332LMM', 'sub-NDARMC325JCN', 'sub-NDARMZ477MNH', 'sub-NDARPF179GNV', 'sub-NDARPZ973RK0', 'sub-NDARZV749GAP', 'sub-NDARVG132NF6', 'sub-NDARMT784NED', 'sub-NDARXE542EMB', 'sub-NDARXF358XGE', 'sub-NDARXC055JGA', 'sub-NDARPF682GDC', 'sub-NDARVL729TT5', 'sub-NDARVK720WZ0', 'sub-NDARJG300HWH', 'sub-NDARRP801AX1', 'sub-NDARZV983XK9', 'sub-NDARPH474YF3', 'sub-NDARRZ145TFN', 'sub-NDARWP112TDL', 'sub-NDARGB324PM1', 'sub-NDARUW904FMQ', 'sub-NDARGU729WUR', 'sub-NDARXV445NYZ', 'sub-NDARZY101JNB', 'sub-NDARTK357VHL', 'sub-NDARBF176LPM', 'sub-NDARBD328NUQ', 'sub-NDARYC243UW5', 'sub-NDARCJ170CT9', 'sub-NDARPZ344ZGE', 'sub-NDARWU876CWH', 'sub-NDARBH019KPD', 'sub-NDARHP924ZHW', 'sub-NDARUN994RMC', 'sub-NDARPD891BX3', 'sub-NDARVC518NWG', 'sub-NDARRW481GFE', 'sub-NDARZL113CU0', 'sub-NDARXC878WB2', 'sub-NDARUW816MP3', 'sub-NDARUL224GN6', 'sub-NDARPX219TW0', 'sub-NDARXG646PM9', 'sub-NDARRV480PU1', 'sub-NDARLZ701LJ3', 'sub-NDARUN300FG1', 'sub-NDARMK100DJR', 'sub-NDARTK682LJE', 'sub-NDARPX838GCD', 'sub-NDARNT043XGH', 'sub-NDARMX835PGE', 'sub-NDARVH032PDR', 'sub-NDARYG988PUQ', 'sub-NDARUX187JTB', 'sub-NDARYA379LKT', 'sub-NDARRY768ZH3', 'sub-NDARWM848AKP', 'sub-NDARTB003FDD', 'sub-NDARYZ909VND', 'sub-NDARXR637JER', 'sub-NDARVR116KG5', 'sub-NDARRP008LJ6', 'sub-NDARPL596YTD', 'sub-NDAREC078VFT', 'sub-NDARVC305AC6', 'sub-NDARVB012UWL', 'sub-NDARRP818DWL', 'sub-NDARPV145KGL', 'sub-NDARMX482GWR', 'sub-NDARRF897HB5', 'sub-NDARMC759CX3', 'sub-NDARYZ693DE2', 'sub-NDARUK054GTN', 'sub-NDARNH147WGN', 'sub-NDARUE398GGV', 'sub-NDARVT072LX2', 'sub-NDARRC190NKB', 'sub-NDARKG460MWV', 'sub-NDARVB902GA5', 'sub-NDARAV554TP2', 'sub-NDARTP313AGH', 'sub-NDARVT454LAE', 'sub-NDARUY549PGQ', 'sub-NDARRL426AD5', 'sub-NDARRC982ZE9', 'sub-NDARUN221VCJ', 'sub-NDARPT777FDA', 'sub-NDARVL555VVA', 'sub-NDARRX897XV1', 'sub-NDARMM005DLK', 'sub-NDARXG961UAB', 'sub-NDARWM656UWL', 'sub-NDARCW094JCG', 'sub-NDARAY298THW', 'sub-NDARMN690FGZ', 'sub-NDARRL379BET', 'sub-NDARDT181RP4', 'sub-NDARVR601FUT', 'sub-NDARUG859NKB', 'sub-NDARWK983JFE', 'sub-NDARRV941EAC', 'sub-NDARUZ200NRJ', 'sub-NDARXL801JVG', 'sub-NDARVB587ECK', 'sub-NDARUM009GEZ', 'sub-NDARXL697DA6', 'sub-NDARXJ452HAJ', 'sub-NDARVD635FX8', 'sub-NDARMN043YKC', 'sub-NDARPL479LHN', 'sub-NDARZB517KTU', 'sub-NDARUX534HZQ', 'sub-NDARXY745NXJ', 'sub-NDARVG641YGK', 'sub-NDARVG777EUZ', 'sub-NDARPW786GC4', 'sub-NDARZX561DR9', 'sub-NDARAT680GJA', 'sub-NDARAP049KXJ', 'sub-NDARWV449GEM', 'sub-NDARBV059CGE', 'sub-NDARTU280GKF', 'sub-NDARRY715CY4', 'sub-NDARRK882CLT', 'sub-NDARUV041YCY', 'sub-NDARNZ917TDK', 'sub-NDARUU991VRE', 'sub-NDARWL486MKR', 'sub-NDARDV222JZ6', 'sub-NDARJW685KBA', 'sub-NDARYA503XVQ', 'sub-NDARJT523MV7', 'sub-NDARFT176NJP', 'sub-NDAREH074NG8', 'sub-NDARVX162AZU', 'sub-NDAREV601CE7', 'sub-NDARXY532ZTT', 'sub-NDARPF362VH8', 'sub-NDARMY294VNE', 'sub-NDARMV822KWR', 'sub-NDARWW005GCU', 'sub-NDARVL498YX5', 'sub-NDARRY280KNW', 'sub-NDARXY938XY7', 'sub-NDARUJ292JXV', 'sub-NDARRW680PHD', 'sub-NDARUM797TFA', 'sub-NDARPU981GWF', 'sub-NDARRL660CME', 'sub-NDARRV002MA8', 'sub-NDARPD029JVJ', 'sub-NDARBK106KRH', 'sub-NDARNY894TH7', 'sub-NDARRR622MYT', 'sub-NDARAT709MMX', 'sub-NDARWJ498CZY', 'sub-NDARXG571WPL', 'sub-NDARRL315KV3', 'sub-NDARWP817CVB', 'sub-NDARMF230VEX', 'sub-NDARBW026UGE', 'sub-NDARUU801VFA', 'sub-NDARNV570NHA', 'sub-NDARBA680RFY', 'sub-NDARFM645RH5', 'sub-NDARAR305LXG', 'sub-NDARAP739AUP', 'sub-NDARCM135DVC', 'sub-NDARXF890FLA', 'sub-NDARVC716GEE', 'sub-NDARRD943ZWU', 'sub-NDARBM839WR5', 'sub-NDARMH677JDM', 'sub-NDARPT670LAY', 'sub-NDARWE908KF8', 'sub-NDARPR537HF5', 'sub-NDARYH182BBV', 'sub-NDARAP964VDB', 'sub-NDARVB897AH1', 'sub-NDARMM326JCB', 'sub-NDARXB692PXC', 'sub-NDARVB151GXF', 'sub-NDARVD495YP9', 'sub-NDARMV319CAT', 'sub-NDARVK922KE5', 'sub-NDARMJ334ZK3', 'sub-NDARXG670HFE', 'sub-NDARBE287EFC', 'sub-NDARBV630BK6', 'sub-NDARBL042LWN', 'sub-NDARXT727MD7', 'sub-NDARUE533XNH', 'sub-NDARMN302YAV', 'sub-NDARTK950DY5', 'sub-NDARCW071AU5', 'sub-NDARBJ159HXB', 'sub-NDARUA745NA8', 'sub-NDARUY024RVP', 'sub-NDARYZ906UHJ', 'sub-NDARMK825WAX', 'sub-NDARAT358XM9', 'sub-NDARPW313LAJ', 'sub-NDARUL290YKN', 'sub-NDARWA433WYZ', 'sub-NDARMZ200GVD', 'sub-NDARLF616PBU', 'sub-NDARLM877UZM', 'sub-NDARAP782TVC', 'sub-NDARUX315PE6', 'sub-NDARYF699FW0', 'sub-NDARPE830YU0', 'sub-NDARLU529MP7', 'sub-NDARWR678HLF', 'sub-NDARMD666RYJ', 'sub-NDARWC399JLD', 'sub-NDARXK009VGV', 'sub-NDARAX287BLD', 'sub-NDARAP785CTE', 'sub-NDARBF389RLF', 'sub-NDARWM527PRT', 'sub-NDARUK658FMU', 'sub-NDARXW276NXN', 'sub-NDARMB857WG7', 'sub-NDARZJ460RWZ', 'sub-NDARPW577WJ7', 'sub-NDARRW974PEF', 'sub-NDARMN695VFH', 'sub-NDARBG831VK4', 'sub-NDARXF497LYF', 'sub-NDARDR950CGG', 'sub-NDARUY379PT5', 'sub-NDARUF540ZJ1', 'sub-NDARBF293YRB', 'sub-NDARRT038VG1', 'sub-NDARVG597HNL', 'sub-NDARRV217VTA', 'sub-NDARNK826AFY', 'sub-NDARUV263YB5', 'sub-NDARBK638HLZ', 'sub-NDARWN523GVF', 'sub-NDARHZ852XY0']\n"
     ]
    }
   ],
   "source": [
    "result = list(set(raw_subjects) - set(proc_subjects))\n",
    "print(result)"
   ]
  },
  {
   "cell_type": "code",
   "execution_count": 15,
   "id": "42ae12ca-e5dc-4351-b9f1-cc5b04e227fa",
   "metadata": {},
   "outputs": [],
   "source": [
    "with open('movieDM_subjects.txt', 'w') as f:\n",
    "    for item in result:\n",
    "        f.write(\"%s\\n\" % item)"
   ]
  },
  {
   "cell_type": "code",
   "execution_count": 16,
   "id": "69b7dcd1-34a3-45ed-8a60-b79017b85e10",
   "metadata": {},
   "outputs": [
    {
     "data": {
      "text/plain": [
       "708"
      ]
     },
     "execution_count": 16,
     "metadata": {},
     "output_type": "execute_result"
    }
   ],
   "source": [
    "len(result)"
   ]
  },
  {
   "cell_type": "markdown",
   "id": "bdb5c732-37d4-4fd4-a2db-fc70fc33029c",
   "metadata": {},
   "source": [
    "## now find the master subject list "
   ]
  },
  {
   "cell_type": "code",
   "execution_count": 21,
   "id": "621fdd04-26b1-479e-aa05-0fb9bffc1e44",
   "metadata": {},
   "outputs": [],
   "source": [
    "with open('movieTP_subjects.txt', 'r') as file1:\n",
    "    list1 = file1.readlines()\n",
    "\n",
    "with open('movieDM_subjects.txt', 'r') as file2:\n",
    "    list2 = file2.readlines()\n",
    "\n",
    "set1 = set(list1)\n",
    "set2 = set(list2)\n",
    "\n",
    "result_set = list(set1.union(set2))\n",
    "new_list = [item.strip() for item in result_set]"
   ]
  },
  {
   "cell_type": "code",
   "execution_count": 23,
   "id": "d503a360-3f4e-4e9b-b440-ac3a5d11a501",
   "metadata": {},
   "outputs": [],
   "source": [
    "new_list\n",
    "with open('movie_subjects.txt', 'w') as f:\n",
    "    for item in new_list:\n",
    "        f.write(\"%s\\n\" % item)"
   ]
  },
  {
   "cell_type": "code",
   "execution_count": 24,
   "id": "86deaf23-caca-411d-85f3-0c5bae7fdbf7",
   "metadata": {},
   "outputs": [
    {
     "data": {
      "text/plain": [
       "767"
      ]
     },
     "execution_count": 24,
     "metadata": {},
     "output_type": "execute_result"
    }
   ],
   "source": [
    "len(new_list)"
   ]
  },
  {
   "cell_type": "code",
   "execution_count": null,
   "id": "c021eab6-596c-4f8c-a9a6-def98a45c3e1",
   "metadata": {},
   "outputs": [],
   "source": []
  },
  {
   "cell_type": "code",
   "execution_count": null,
   "id": "6dfe80e7-d9e1-4b98-888c-8caa7d0e9cd5",
   "metadata": {},
   "outputs": [],
   "source": []
  },
  {
   "cell_type": "code",
   "execution_count": null,
   "id": "42e50aeb-c84b-4cf6-adc6-76a8c48cb017",
   "metadata": {},
   "outputs": [],
   "source": []
  },
  {
   "cell_type": "code",
   "execution_count": null,
   "id": "ef87fef6-4cd6-42f5-a0e3-bc96a48e559b",
   "metadata": {},
   "outputs": [],
   "source": []
  },
  {
   "cell_type": "markdown",
   "id": "1d8c82df-c9a3-4d47-97e1-7aa6c8a7e6cb",
   "metadata": {},
   "source": [
    "## find subjects that completed resting state but did not have movies run"
   ]
  },
  {
   "cell_type": "code",
   "execution_count": 1,
   "id": "59f3931c-7d22-4a23-b77d-649aebb1595d",
   "metadata": {},
   "outputs": [
    {
     "name": "stdout",
     "output_type": "stream",
     "text": [
      "[]\n"
     ]
    }
   ],
   "source": [
    "import os\n",
    "import glob\n",
    "\n",
    "\n",
    "stim='movieTP'\n",
    "\n",
    "dir_path = \"/nese/mit/group/sig/projects/hbn/hbn_bids/derivatives/fmriprep_23.0.0/\"\n",
    "sub_list = [f.name for f in os.scandir(dir_path) if f.is_dir() and f.name.startswith(\"sub-\")]\n",
    "\n",
    "\n",
    "# raw_subjects = []\n",
    "# for subject in sub_list:\n",
    "#     if glob.glob(f\"{dir_path}{subject}/ses-*/func/*{stim}_bold.nii.gz\"):\n",
    "#         raw_subjects.append(subject)\n",
    "\n",
    "# len(raw_subjects)\n"
   ]
  },
  {
   "cell_type": "code",
   "execution_count": 7,
   "id": "f3fb7cd6-2cdb-468c-abdd-e2c1c9bf23dd",
   "metadata": {},
   "outputs": [
    {
     "data": {
      "text/plain": [
       "0"
      ]
     },
     "execution_count": 7,
     "metadata": {},
     "output_type": "execute_result"
    }
   ],
   "source": [
    "len(proc_subjects)\n"
   ]
  },
  {
   "cell_type": "code",
   "execution_count": 8,
   "id": "3c81809c-ba65-4558-a534-fde8405c9034",
   "metadata": {},
   "outputs": [
    {
     "name": "stdout",
     "output_type": "stream",
     "text": [
      "['sub-NDAREE196FEG', 'sub-NDARKC993YWF', 'sub-NDARFL506HVX', 'sub-NDARYZ770NA1', 'sub-NDARJP948FJV', 'sub-NDARBF851NH6', 'sub-NDARKC880ZHY', 'sub-NDARUX885LMW', 'sub-NDARZT957CWG', 'sub-NDAREN242VPZ', 'sub-NDARTU768MY1', 'sub-NDARAD481FXF', 'sub-NDARKW383ZPF', 'sub-NDARLF484WJL', 'sub-NDARAV554TP2', 'sub-NDARAX272ZJL', 'sub-NDARCG984YXZ', 'sub-NDARLB017MBJ', 'sub-NDARNK064DXY', 'sub-NDARAG191AE8', 'sub-NDARVC140PKY', 'sub-NDARNL599TMZ', 'sub-NDARTR365NCY', 'sub-NDARYH951HH5', 'sub-NDARMY533CYM', 'sub-NDARPY458LTR', 'sub-NDARHL822EJK', 'sub-NDARTF833WXB', 'sub-NDARFG943GVZ', 'sub-NDARZL113CU0', 'sub-NDARYA845EGP', 'sub-NDARML148UCE', 'sub-NDARZL799MFW', 'sub-NDARMN802MG9', 'sub-NDARKR010EN7', 'sub-NDARWB943YY9', 'sub-NDAREM018TJQ', 'sub-NDARWC737UJ0', 'sub-NDARYN595JMA', 'sub-NDARGE366WNC', 'sub-NDARUX534HZQ', 'sub-NDARKC452YVR', 'sub-NDARFY612EMR', 'sub-NDARLH043YDK', 'sub-NDARMB273TED', 'sub-NDARHX739YBW', 'sub-NDARNH147WGN', 'sub-NDARAK019ZR6', 'sub-NDARCE353XKH', 'sub-NDARCD401HGZ', 'sub-NDARUF236HM7', 'sub-NDARWP817CVB', 'sub-NDARKH741PL8', 'sub-NDARLB629BJ1', 'sub-NDARVU320XJZ', 'sub-NDARYH697TPA', 'sub-NDARDB146NWY', 'sub-NDARLG942AZ1', 'sub-NDARZJ539CD9', 'sub-NDARZY101JNB', 'sub-NDARAA536PTU', 'sub-NDARWA570DNL', 'sub-NDARWG831JJ8', 'sub-NDARGM498YFL', 'sub-NDARKU726AB4', 'sub-NDAREU211JMY', 'sub-NDARDA695XTL', 'sub-NDARZT940RZG', 'sub-NDARMM782KJK', 'sub-NDARPX838GCD', 'sub-NDARLZ228PCB', 'sub-NDARJT606WGQ', 'sub-NDARZJ414CAA', 'sub-NDARYW946VTC', 'sub-NDARDN770HY6', 'sub-NDARRR595LRJ', 'sub-NDARKK597VDH', 'sub-NDARYK042VMG', 'sub-NDARGA967MGC', 'sub-NDARVK847ZRT', 'sub-NDARDH328DR9', 'sub-NDAREG561ML5', 'sub-NDARUT233WU9', 'sub-NDARCA789EE0', 'sub-NDARNL926VB7', 'sub-NDARNK810AJA', 'sub-NDARYW903VN8', 'sub-NDARXP021FZ5', 'sub-NDARHW216PER', 'sub-NDARAY969YUW', 'sub-NDARHN078CDT', 'sub-NDARVV704MND', 'sub-NDAREK918EC2', 'sub-NDARYN254VW6', 'sub-NDARGK253TTG', 'sub-NDARGM540EV8', 'sub-NDAREF074ZAQ', 'sub-NDARNG689AAP', 'sub-NDARPF362VH8', 'sub-NDARTV296UNC', 'sub-NDARDB804YHE', 'sub-NDARHM304AXP', 'sub-NDARBE287EFC', 'sub-NDARYM832PX3', 'sub-NDARRY006EMB', 'sub-NDARAD703XA2', 'sub-NDARRL315KV3', 'sub-NDARMV189NXG', 'sub-NDARBF042LDM', 'sub-NDARTM946WJ7', 'sub-NDARZB377WZJ', 'sub-NDARRA383KVQ', 'sub-NDARCW419GBD', 'sub-NDARHT218GFA', 'sub-NDARYZ946EUH', 'sub-NDARHG125NEN', 'sub-NDARUJ292JXV', 'sub-NDARAV945MCQ', 'sub-NDARYN174NPH', 'sub-NDARMH763YZD', 'sub-NDARZT772PU4', 'sub-NDARNJ894VH2', 'sub-NDARGW450YUX', 'sub-NDARYM586MYN', 'sub-NDARDZ946KVL', 'sub-NDARZD991YLG', 'sub-NDARNL807DKC', 'sub-NDARZZ810LVF', 'sub-NDARMR242UKQ', 'sub-NDARTN483XE4', 'sub-NDARYX133FFQ', 'sub-NDARAY283AU1', 'sub-NDARJR525HTX', 'sub-NDARPG873DJP', 'sub-NDARDC360DGB', 'sub-NDARKE358TFU', 'sub-NDARFB107PVH', 'sub-NDARYZ986HEW', 'sub-NDARNT939YMG', 'sub-NDARKX807KHG', 'sub-NDARAE358VBE', 'sub-NDARZG623FYX', 'sub-NDARYX530MZU', 'sub-NDARUZ200NRJ', 'sub-NDARJJ512AYJ', 'sub-NDARNN745ZEK', 'sub-NDARYA030ZG7', 'sub-NDARRV688GUX', 'sub-NDARME930DE7', 'sub-NDARLT216FTN', 'sub-NDARVU683CTN', 'sub-NDARPF118ABV', 'sub-NDARFD628UVZ', 'sub-NDARYF699FW0', 'sub-NDARFM229HHA', 'sub-NDARKC220LZG', 'sub-NDARXF711LJ9', 'sub-NDARWJ019VGU', 'sub-NDARGM421YWQ', 'sub-NDAREM141CKP', 'sub-NDARZF170TZ0', 'sub-NDARFZ990EFG', 'sub-NDARYP863PZ4', 'sub-NDARNC489BX5', 'sub-NDARHM615PJH', 'sub-NDARJC514CE0', 'sub-NDARLZ701LJ3', 'sub-NDARLG918MG8', 'sub-NDARKA429EPF', 'sub-NDARGG205WVN', 'sub-NDARHG906MEZ', 'sub-NDARYH996DA9', 'sub-NDARYY218AGA', 'sub-NDARDY421HTK', 'sub-NDARJT517YHZ', 'sub-NDARFV780ABD', 'sub-NDARPL501ZUU', 'sub-NDARAW179AYF', 'sub-NDARJT172UE0', 'sub-NDARJL656RDA', 'sub-NDARYX008UCU', 'sub-NDARNG309KZ8', 'sub-NDARKX346VTV', 'sub-NDARND645RXK', 'sub-NDARRZ356HET', 'sub-NDARUX315PE6', 'sub-NDARDL291DN4', 'sub-NDARJH925ZCD', 'sub-NDARRU290EZV', 'sub-NDARAC349YUC', 'sub-NDARNB824ARJ', 'sub-NDARLT365LHK', 'sub-NDARFN452VPC', 'sub-NDAREL063PMX', 'sub-NDARLD990NH4', 'sub-NDARLL389TUF', 'sub-NDARZK745JGG', 'sub-NDARTD290AY0', 'sub-NDAREG930XPP', 'sub-NDARBV167RMU', 'sub-NDARFL411AT1', 'sub-NDARZH451LRZ', 'sub-NDARWN169DHY', 'sub-NDARFR109LKT', 'sub-NDARZV766YXP', 'sub-NDARGF367KVL', 'sub-NDARAE199TDD', 'sub-NDARCJ007GF8', 'sub-NDARVG777EUZ', 'sub-NDARWF122UUJ', 'sub-NDARYG988PUQ', 'sub-NDARTJ522CPQ', 'sub-NDARWK626PFY', 'sub-NDARTK056HL3', 'sub-NDARBH512BHA', 'sub-NDARWP732GD1', 'sub-NDARNW218ZBU', 'sub-NDARRG269ML2', 'sub-NDARNZ084JVC', 'sub-NDARRW974PEF', 'sub-NDARMM905VYR', 'sub-NDARCB959FY4', 'sub-NDARMV247HRA', 'sub-NDARWJ087HKJ', 'sub-NDARHT019ER6', 'sub-NDARDR658DRA', 'sub-NDARNB440UE4', 'sub-NDARZR567HWG', 'sub-NDARHE236YLB', 'sub-NDARBC240LNC', 'sub-NDARMA598JTX', 'sub-NDARMM431GVE', 'sub-NDARBZ216FW8', 'sub-NDARVL964HH1', 'sub-NDARVB587ECK', 'sub-NDARPH176EWC', 'sub-NDARTW685ENR', 'sub-NDARYU323ZDJ', 'sub-NDARHD059PEQ', 'sub-NDARYH480GTD', 'sub-NDARHL358LGQ', 'sub-NDARBK106KRH', 'sub-NDARHK506HLW', 'sub-NDARPR799VX4', 'sub-NDARNF954MK3', 'sub-NDAREK947FYP', 'sub-NDARKR195PL9', 'sub-NDARMW551YA0', 'sub-NDARAV894XWD', 'sub-NDARAA504CRN', 'sub-NDARPL598MVU', 'sub-NDARMB857WG7', 'sub-NDARUW206XUG', 'sub-NDARDX910VTC', 'sub-NDARRW475MPT', 'sub-NDARDX469TC1', 'sub-NDARFH674DWX', 'sub-NDARVN646NZP', 'sub-NDARZB517KTU', 'sub-NDARDD531EP2', 'sub-NDARMJ699RJN', 'sub-NDARGU667MCK', 'sub-NDARHW718DTW', 'sub-NDARNP643KZH', 'sub-NDARCJ363KLE', 'sub-NDARYE379GGT', 'sub-NDARNV375KEK', 'sub-NDARYE221LZB', 'sub-NDARAY475AKD', 'sub-NDARGR661YZG', 'sub-NDARFA464HJQ', 'sub-NDARWR247CE1', 'sub-NDARYM257RR6', 'sub-NDARWW480TU2', 'sub-NDARYL272HDW', 'sub-NDARHU896TWV', 'sub-NDARTH610GMK', 'sub-NDARRE063LG2', 'sub-NDARNB427ARE', 'sub-NDAREZ098ZPE', 'sub-NDARAH976BND', 'sub-NDARYU898ETS', 'sub-NDARYW984FLT', 'sub-NDARJX421FWR', 'sub-NDARNE511XHU', 'sub-NDARFT834NT1', 'sub-NDARXL697DA6', 'sub-NDARTH433TE0', 'sub-NDARMV605LGH', 'sub-NDARLV812JXX', 'sub-NDARJU903AZH', 'sub-NDARHJ946UPH', 'sub-NDARFU789PRX', 'sub-NDARBT436PMT', 'sub-NDARKF899ZUB', 'sub-NDARHZ439EBY', 'sub-NDARNE906EJA', 'sub-NDARLG987WB0', 'sub-NDARRY126FA5', 'sub-NDARHC737MHK', 'sub-NDARDX561MRY', 'sub-NDARJV225EYT', 'sub-NDARMT939UCK', 'sub-NDARED047DTH', 'sub-NDARBU112XZE', 'sub-NDARYN484LLR', 'sub-NDARBG188RA5', 'sub-NDARNK489GNR', 'sub-NDARHK598YJC', 'sub-NDARMW863HW5', 'sub-NDARFW130NGG', 'sub-NDARMN415AXR', 'sub-NDARZM903TNL', 'sub-NDARCP360AFD', 'sub-NDARVX292KKC', 'sub-NDARGY148EVU', 'sub-NDARMN450PEH', 'sub-NDARAV747WVL', 'sub-NDARLX836EHJ', 'sub-NDARLJ355VAG', 'sub-NDARYR994ELB', 'sub-NDARZN914GPB', 'sub-NDARZR180BM6', 'sub-NDARHZ375JRF', 'sub-NDARYF135ZHU', 'sub-NDARNE729PN2', 'sub-NDARZF288FB7', 'sub-NDARDM425CG2', 'sub-NDARNW528VXP', 'sub-NDARDK983BDA', 'sub-NDARKT312RUD', 'sub-NDARAT709MMX', 'sub-NDARZW619BDL', 'sub-NDARFB500HHN', 'sub-NDARLP858RAA', 'sub-NDARNY419GR2', 'sub-NDARWJ414WB8', 'sub-NDARLE871HNP', 'sub-NDARHP176DPE', 'sub-NDARHW467TA8', 'sub-NDARRR813CY6', 'sub-NDARJT730WP0', 'sub-NDARYL438DCK', 'sub-NDARNJ687DMC', 'sub-NDARDN229AKK', 'sub-NDARYP495KFK', 'sub-NDARDN702GXX', 'sub-NDARYE521RDA', 'sub-NDARXE242KMQ', 'sub-NDARAZ681CYF', 'sub-NDARCL080RHP', 'sub-NDARZW013RUH', 'sub-NDARYM695TZY', 'sub-NDARVB902GA5', 'sub-NDARKM551DA4', 'sub-NDARJV894XP2', 'sub-NDARFW444PN1', 'sub-NDARXT727MD7', 'sub-NDARAW216PM7', 'sub-NDARHB993EV0', 'sub-NDARZP564MHU', 'sub-NDARZH517ZVK', 'sub-NDARTB203DU7', 'sub-NDARWM319UU2', 'sub-NDARCV412MDW', 'sub-NDARHR763RB4', 'sub-NDARAU530GLJ', 'sub-NDARJK842BCN', 'sub-NDARZD099KWW', 'sub-NDARFZ296UNG', 'sub-NDARJP133YL3', 'sub-NDARLA998XAC', 'sub-NDARBV577EE0', 'sub-NDARLJ970DEY', 'sub-NDARKG785VAJ', 'sub-NDARPD855ARC', 'sub-NDARET653TAM', 'sub-NDARLN961XGP', 'sub-NDARNH342XLK', 'sub-NDARYZ408VWW', 'sub-NDARTF317KRD', 'sub-NDARBD328NUQ', 'sub-NDARLV708XXF', 'sub-NDARVB877VWL', 'sub-NDARHM273AXL', 'sub-NDARVD543CMZ', 'sub-NDARFD822TY5', 'sub-NDARAJ977PRJ', 'sub-NDARKW531ACR', 'sub-NDARFR426KVH', 'sub-NDARKW565ZT9', 'sub-NDARNV983DET', 'sub-NDARMG675JB4', 'sub-NDARRK163VY8', 'sub-NDARKP414AZ5', 'sub-NDAREK544ENR', 'sub-NDARKV482FU9', 'sub-NDARCA186WGH', 'sub-NDARYJ536MCR', 'sub-NDARRL379BET', 'sub-NDARBV364MBC', 'sub-NDARLV387GP4', 'sub-NDARRC295CHW', 'sub-NDARJZ549HU8', 'sub-NDARVM685MER', 'sub-NDARDM118LR6', 'sub-NDARHJ523XGB', 'sub-NDARKX761BH9', 'sub-NDARGU100JH4', 'sub-NDAREB290UCN', 'sub-NDARWX605LAD', 'sub-NDARJM708VGE', 'sub-NDARVP894EX0', 'sub-NDARXR346UT5', 'sub-NDARAA075AMK', 'sub-NDARCA050RZL', 'sub-NDARVD552PRC', 'sub-NDARJK910PDK', 'sub-NDARYF368WEA', 'sub-NDARZW873DN3', 'sub-NDARUX086TVT', 'sub-NDARDM119WB1', 'sub-NDARHV527DNK', 'sub-NDARKF615JNZ', 'sub-NDARNW945XLL', 'sub-NDARVG127VW5', 'sub-NDARKC978MR4', 'sub-NDARRX897XV1', 'sub-NDARVC195NLH', 'sub-NDARRU979UBW', 'sub-NDARDU799BZF', 'sub-NDARJJ356DAL', 'sub-NDARER115FTJ', 'sub-NDARZE542ZVH', 'sub-NDARZE963MEU', 'sub-NDARVP281CJ4', 'sub-NDARKC403LRW', 'sub-NDARJP489HCE', 'sub-NDARTK657DV6', 'sub-NDARTY533VXQ', 'sub-NDARGH407KVG', 'sub-NDARCH868WVX', 'sub-NDARKV800DTW', 'sub-NDARYH110YV9', 'sub-NDARUD871XPD', 'sub-NDARLF283KJX', 'sub-NDARNJ715JPV', 'sub-NDARZV749GAP', 'sub-NDARZJ587UZU', 'sub-NDARCR576EV1', 'sub-NDARGX443CEU', 'sub-NDARHW270BD0', 'sub-NDAREY962BM7', 'sub-NDARVY007TEJ', 'sub-NDARLP181HLA', 'sub-NDARGT022BEW', 'sub-NDARKM096BGW', 'sub-NDARUM009GEZ', 'sub-NDARYX572VEW', 'sub-NDAREF662XZT', 'sub-NDAREU551GPC', 'sub-NDARGY054ENV', 'sub-NDARJJ638NAC', 'sub-NDARPH542LMH', 'sub-NDARHZ413DZL', 'sub-NDARZF949WTW', 'sub-NDARYC287UFV', 'sub-NDARLA516PH1', 'sub-NDARAP049KXJ', 'sub-NDARJH065GKG', 'sub-NDARCU417HRA', 'sub-NDARVX185WX2', 'sub-NDARAT680GJA', 'sub-NDARED632KNG', 'sub-NDARKG460MWV', 'sub-NDAREF057VX5', 'sub-NDARPH513LP3', 'sub-NDARKZ085UKQ', 'sub-NDARRK135YAZ', 'sub-NDARFW578RU9', 'sub-NDARZH629NVF', 'sub-NDARLA226ADX', 'sub-NDARYD585PXP', 'sub-NDAREC182WW2', 'sub-NDARPH022TRY', 'sub-NDARXK986EK6', 'sub-NDARDZ266KET', 'sub-NDARVM774PA5', 'sub-NDARKN175HWB', 'sub-NDARAP457WB5', 'sub-NDARCR715LEY', 'sub-NDARKD124UHN', 'sub-NDARLJ280UCN', 'sub-NDARTT759PC5', 'sub-NDARVN370YL8', 'sub-NDARAJ366ZFA', 'sub-NDARFW292PBD', 'sub-NDARZU401RCU', 'sub-NDARNG968RB9', 'sub-NDARAM277WZT', 'sub-NDARRY768ZH3', 'sub-NDARAY665GWN', 'sub-NDARDJ544BU5', 'sub-NDARYA877HN5', 'sub-NDARKW999WZD', 'sub-NDARHF904CWB', 'sub-NDARRB901DWV', 'sub-NDARKN509RP9', 'sub-NDARMK825WAX', 'sub-NDARWB685NUG', 'sub-NDARZG263HRK', 'sub-NDARTU280GKF', 'sub-NDARHB781DD8', 'sub-NDARME656MTN', 'sub-NDARUJ182TDW', 'sub-NDARGL963HU4', 'sub-NDARNE800DCT', 'sub-NDARTV107XD4', 'sub-NDARVB151GXF', 'sub-NDARKH421UB1', 'sub-NDARJR687LGX', 'sub-NDARJY141RFE', 'sub-NDARGM610LF0', 'sub-NDARTR175UDC', 'sub-NDARBX400RTC', 'sub-NDARMR277TT7', 'sub-NDARHU391FD7', 'sub-NDARYU620RH9', 'sub-NDARTB661TVR', 'sub-NDARFM080VAF', 'sub-NDARHX877BLQ', 'sub-NDARWK065NJ9', 'sub-NDARWU018VDB', 'sub-NDARHF023VG3', 'sub-NDARDJ825GBP', 'sub-NDARHX252NVH', 'sub-NDARBN100LCD', 'sub-NDARGL834CMQ', 'sub-NDARDX770PJK', 'sub-NDARBJ482HJL', 'sub-NDARHP558MGA', 'sub-NDARYT332LMM', 'sub-NDARXE193CZ1', 'sub-NDARJK085PZL', 'sub-NDARNB390JL3', 'sub-NDARHL238VL2', 'sub-NDARKZ198TAA', 'sub-NDARAT982JTU', 'sub-NDARMM386PL6', 'sub-NDARDU566NUY', 'sub-NDARAT358XM9', 'sub-NDARCB504PGG', 'sub-NDARMA390CHB', 'sub-NDARZF216KYX', 'sub-NDARUC356FCD', 'sub-NDAREK375DKR', 'sub-NDARBM213BEA', 'sub-NDARHJ126UW2', 'sub-NDARCT933HF2', 'sub-NDARHR944BBY']\n"
     ]
    }
   ],
   "source": [
    "proc_subjects = []\n",
    "for subject in sub_list:\n",
    "    if glob.glob(f\"{dir_path}{subject}/ses-*/func/*{stim}*\"):\n",
    "        proc_subjects.append(subject)\n",
    "\n",
    "len(proc_subjects)\n",
    "\n",
    "\n",
    "result = list(set(sub_list) - set(proc_subjects))\n",
    "print(result)\n",
    "\n",
    "with open('REST_movieTP_subjects.txt', 'w') as f:\n",
    "    for item in result:\n",
    "        f.write(\"%s\\n\" % item)"
   ]
  },
  {
   "cell_type": "code",
   "execution_count": 9,
   "id": "08985402-b306-46fd-b71d-40504805c956",
   "metadata": {},
   "outputs": [
    {
     "data": {
      "text/plain": [
       "560"
      ]
     },
     "execution_count": 9,
     "metadata": {},
     "output_type": "execute_result"
    }
   ],
   "source": [
    "len(result)"
   ]
  },
  {
   "cell_type": "code",
   "execution_count": 24,
   "id": "a98392c1-2ff5-44df-8c00-b75c707e13e3",
   "metadata": {},
   "outputs": [],
   "source": [
    "#find people that\n",
    "\n",
    "#+ had any fmriprep already complete\n",
    "fmriprep_path = \"/nese/mit/group/sig/projects/hbn/hbn_bids/derivatives/fmriprep_23.0.0/\"\n",
    "fmriprep_subs = [f.name for f in os.scandir(fmriprep_path) if f.is_dir() and f.name.startswith(\"sub-\")]\n",
    "\n",
    "\n",
    "#+ have any raw movie files\n",
    "bids_path = \"/nese/mit/group/sig/projects/hbn/hbn_bids/\"\n",
    "sub_list = [f.name for f in os.scandir(bids_path) if f.is_dir() and f.name.startswith(\"sub-\")]\n",
    "raw_subs = []\n",
    "for subject in sub_list:\n",
    "    if glob.glob(f\"{bids_path}{subject}/ses-*/func/*movie*_bold.nii.gz\"):\n",
    "        raw_subs.append(subject)\n",
    "\n",
    "len(raw_subs)\n",
    "\n",
    "#+ have no processed movie files\n",
    "movie_subs=[]\n",
    "for subject in fmriprep_subs:\n",
    "    if glob.glob(f\"{fmriprep_path}{subject}/ses-*/func/*movie*_bold.nii.gz\"):\n",
    "        continue\n",
    "    else:\n",
    "        movie_subs.append(subject)\n"
   ]
  },
  {
   "cell_type": "code",
   "execution_count": 26,
   "id": "8177e7b5-bc66-4065-aabf-b9767bc0927b",
   "metadata": {},
   "outputs": [
    {
     "name": "stdout",
     "output_type": "stream",
     "text": [
      "{'sub-NDAREE196FEG', 'sub-NDARKC993YWF', 'sub-NDARFL506HVX', 'sub-NDARJP948FJV', 'sub-NDARTU768MY1', 'sub-NDARAD481FXF', 'sub-NDARLF484WJL', 'sub-NDARCG984YXZ', 'sub-NDARLB017MBJ', 'sub-NDARNK064DXY', 'sub-NDARVC140PKY', 'sub-NDARNL599TMZ', 'sub-NDARTR365NCY', 'sub-NDARYH951HH5', 'sub-NDARMY533CYM', 'sub-NDARPY458LTR', 'sub-NDARHL822EJK', 'sub-NDARTF833WXB', 'sub-NDARML148UCE', 'sub-NDARMN802MG9', 'sub-NDARKR010EN7', 'sub-NDARWB943YY9', 'sub-NDAREM018TJQ', 'sub-NDARWC737UJ0', 'sub-NDARYN595JMA', 'sub-NDARGE366WNC', 'sub-NDARKC452YVR', 'sub-NDARFY612EMR', 'sub-NDARLH043YDK', 'sub-NDARMB273TED', 'sub-NDARHX739YBW', 'sub-NDARAK019ZR6', 'sub-NDARCD401HGZ', 'sub-NDARUF236HM7', 'sub-NDARLB629BJ1', 'sub-NDARKH741PL8', 'sub-NDARLG942AZ1', 'sub-NDARAA536PTU', 'sub-NDARGM498YFL', 'sub-NDARKU726AB4', 'sub-NDAREU211JMY', 'sub-NDARDA695XTL', 'sub-NDARMM782KJK', 'sub-NDARLZ228PCB', 'sub-NDARJT606WGQ', 'sub-NDARZJ414CAA', 'sub-NDARDN770HY6', 'sub-NDARRR595LRJ', 'sub-NDARKK597VDH', 'sub-NDARGA967MGC', 'sub-NDARVK847ZRT', 'sub-NDARDH328DR9', 'sub-NDARCA789EE0', 'sub-NDARNK810AJA', 'sub-NDARYW903VN8', 'sub-NDARHW216PER', 'sub-NDARHN078CDT', 'sub-NDARVV704MND', 'sub-NDAREK918EC2', 'sub-NDARYN254VW6', 'sub-NDARGM540EV8', 'sub-NDAREF074ZAQ', 'sub-NDARNG689AAP', 'sub-NDARTV296UNC', 'sub-NDARDB804YHE', 'sub-NDARHM304AXP', 'sub-NDARYM832PX3', 'sub-NDARAD703XA2', 'sub-NDARMV189NXG', 'sub-NDARTM946WJ7', 'sub-NDARZB377WZJ', 'sub-NDARRA383KVQ', 'sub-NDARHT218GFA', 'sub-NDARCW419GBD', 'sub-NDARYZ946EUH', 'sub-NDARHG125NEN', 'sub-NDARAV945MCQ', 'sub-NDARMH763YZD', 'sub-NDARZT772PU4', 'sub-NDARNJ894VH2', 'sub-NDARGW450YUX', 'sub-NDARDZ946KVL', 'sub-NDARZD991YLG', 'sub-NDARMR242UKQ', 'sub-NDARTN483XE4', 'sub-NDARJR525HTX', 'sub-NDARPG873DJP', 'sub-NDARDC360DGB', 'sub-NDARKE358TFU', 'sub-NDARFB107PVH', 'sub-NDARKX807KHG', 'sub-NDARNT939YMG', 'sub-NDARZG623FYX', 'sub-NDARYX530MZU', 'sub-NDARJJ512AYJ', 'sub-NDARNN745ZEK', 'sub-NDARME930DE7', 'sub-NDARLT216FTN', 'sub-NDARPF118ABV', 'sub-NDARFD628UVZ', 'sub-NDARKC220LZG', 'sub-NDARXF711LJ9', 'sub-NDARWJ019VGU', 'sub-NDARGM421YWQ', 'sub-NDAREM141CKP', 'sub-NDARFZ990EFG', 'sub-NDARHM615PJH', 'sub-NDARNC489BX5', 'sub-NDARJC514CE0', 'sub-NDARLG918MG8', 'sub-NDARKA429EPF', 'sub-NDARYH996DA9', 'sub-NDARYY218AGA', 'sub-NDARDY421HTK', 'sub-NDARFV780ABD', 'sub-NDARPL501ZUU', 'sub-NDARJT172UE0', 'sub-NDARNG309KZ8', 'sub-NDARKX346VTV', 'sub-NDARND645RXK', 'sub-NDARRZ356HET', 'sub-NDARDL291DN4', 'sub-NDARJH925ZCD', 'sub-NDARNB824ARJ', 'sub-NDARLT365LHK', 'sub-NDARFN452VPC', 'sub-NDAREL063PMX', 'sub-NDARLD990NH4', 'sub-NDARLL389TUF', 'sub-NDARTD290AY0', 'sub-NDARFL411AT1', 'sub-NDARWN169DHY', 'sub-NDARFR109LKT', 'sub-NDARZV766YXP', 'sub-NDARGF367KVL', 'sub-NDARAE199TDD', 'sub-NDARCJ007GF8', 'sub-NDARWF122UUJ', 'sub-NDARTJ522CPQ', 'sub-NDARWK626PFY', 'sub-NDARTK056HL3', 'sub-NDARNW218ZBU', 'sub-NDARRG269ML2', 'sub-NDARMM905VYR', 'sub-NDARCB959FY4', 'sub-NDARMV247HRA', 'sub-NDARWJ087HKJ', 'sub-NDARHT019ER6', 'sub-NDARDR658DRA', 'sub-NDARNB440UE4', 'sub-NDARHE236YLB', 'sub-NDARZR567HWG', 'sub-NDARMA598JTX', 'sub-NDARMM431GVE', 'sub-NDARBZ216FW8', 'sub-NDARTW685ENR', 'sub-NDARYU323ZDJ', 'sub-NDARHD059PEQ', 'sub-NDARYH480GTD', 'sub-NDARHL358LGQ', 'sub-NDARHK506HLW', 'sub-NDARNF954MK3', 'sub-NDAREK947FYP', 'sub-NDARKR195PL9', 'sub-NDARMW551YA0', 'sub-NDARAV894XWD', 'sub-NDARAA504CRN', 'sub-NDARDX469TC1', 'sub-NDARFH674DWX', 'sub-NDARVN646NZP', 'sub-NDARMJ699RJN', 'sub-NDARGU667MCK', 'sub-NDARNP643KZH', 'sub-NDARNV375KEK', 'sub-NDARGR661YZG', 'sub-NDARFA464HJQ', 'sub-NDARYM257RR6', 'sub-NDARYL272HDW', 'sub-NDARTH610GMK', 'sub-NDARHU896TWV', 'sub-NDARRE063LG2', 'sub-NDAREZ098ZPE', 'sub-NDARAH976BND', 'sub-NDARJX421FWR', 'sub-NDARNE511XHU', 'sub-NDARFT834NT1', 'sub-NDARLV812JXX', 'sub-NDARJU903AZH', 'sub-NDARHJ946UPH', 'sub-NDARFU789PRX', 'sub-NDARBT436PMT', 'sub-NDARKF899ZUB', 'sub-NDARHZ439EBY', 'sub-NDARNE906EJA', 'sub-NDARLG987WB0', 'sub-NDARRY126FA5', 'sub-NDARHC737MHK', 'sub-NDARDX561MRY', 'sub-NDARJV225EYT', 'sub-NDARMT939UCK', 'sub-NDARED047DTH', 'sub-NDARBU112XZE', 'sub-NDARYN484LLR', 'sub-NDARNK489GNR', 'sub-NDARHK598YJC', 'sub-NDARMW863HW5', 'sub-NDARFW130NGG', 'sub-NDARCP360AFD', 'sub-NDARVX292KKC', 'sub-NDARGY148EVU', 'sub-NDARMN450PEH', 'sub-NDARAV747WVL', 'sub-NDARLJ355VAG', 'sub-NDARHZ375JRF', 'sub-NDARNE729PN2', 'sub-NDARZF288FB7', 'sub-NDARNW528VXP', 'sub-NDARDM425CG2', 'sub-NDARDK983BDA', 'sub-NDARKT312RUD', 'sub-NDARFB500HHN', 'sub-NDARLP858RAA', 'sub-NDARLE871HNP', 'sub-NDARHP176DPE', 'sub-NDARHW467TA8', 'sub-NDARJT730WP0', 'sub-NDARYL438DCK', 'sub-NDARDN229AKK', 'sub-NDARNJ687DMC', 'sub-NDARYP495KFK', 'sub-NDARDN702GXX', 'sub-NDARXE242KMQ', 'sub-NDARCL080RHP', 'sub-NDARZW013RUH', 'sub-NDARYM695TZY', 'sub-NDARKM551DA4', 'sub-NDARJV894XP2', 'sub-NDARFW444PN1', 'sub-NDARHB993EV0', 'sub-NDARZP564MHU', 'sub-NDARZH517ZVK', 'sub-NDARCV412MDW', 'sub-NDARHR763RB4', 'sub-NDARJK842BCN', 'sub-NDARFZ296UNG', 'sub-NDARJP133YL3', 'sub-NDARLA998XAC', 'sub-NDARBV577EE0', 'sub-NDARLJ970DEY', 'sub-NDARKG785VAJ', 'sub-NDARET653TAM', 'sub-NDARLN961XGP', 'sub-NDARNH342XLK', 'sub-NDARYZ408VWW', 'sub-NDARTF317KRD', 'sub-NDARLV708XXF', 'sub-NDARVB877VWL', 'sub-NDARHM273AXL', 'sub-NDARAJ977PRJ', 'sub-NDARKW531ACR', 'sub-NDARFR426KVH', 'sub-NDARKW565ZT9', 'sub-NDARNV983DET', 'sub-NDARMG675JB4', 'sub-NDARRK163VY8', 'sub-NDARKP414AZ5', 'sub-NDAREK544ENR', 'sub-NDARKV482FU9', 'sub-NDARCA186WGH', 'sub-NDARYJ536MCR', 'sub-NDARBV364MBC', 'sub-NDARLV387GP4', 'sub-NDARJZ549HU8', 'sub-NDARVM685MER', 'sub-NDARDM118LR6', 'sub-NDARHJ523XGB', 'sub-NDARKX761BH9', 'sub-NDAREB290UCN', 'sub-NDARJM708VGE', 'sub-NDARVP894EX0', 'sub-NDARAA075AMK', 'sub-NDARCA050RZL', 'sub-NDARDM119WB1', 'sub-NDARKF615JNZ', 'sub-NDARKC978MR4', 'sub-NDARJJ356DAL', 'sub-NDARDU799BZF', 'sub-NDARZE542ZVH', 'sub-NDARKC403LRW', 'sub-NDARJP489HCE', 'sub-NDARTK657DV6', 'sub-NDARTY533VXQ', 'sub-NDARGH407KVG', 'sub-NDARKV800DTW', 'sub-NDARYH110YV9', 'sub-NDARLF283KJX', 'sub-NDARNJ715JPV', 'sub-NDARCR576EV1', 'sub-NDARGX443CEU', 'sub-NDARHW270BD0', 'sub-NDAREY962BM7', 'sub-NDARVY007TEJ', 'sub-NDARLP181HLA', 'sub-NDARGT022BEW', 'sub-NDARYX572VEW', 'sub-NDAREF662XZT', 'sub-NDAREU551GPC', 'sub-NDARGY054ENV', 'sub-NDARJJ638NAC', 'sub-NDARPH542LMH', 'sub-NDARHZ413DZL', 'sub-NDARZF949WTW', 'sub-NDARLA516PH1', 'sub-NDARJH065GKG', 'sub-NDARVX185WX2', 'sub-NDARED632KNG', 'sub-NDAREF057VX5', 'sub-NDARKZ085UKQ', 'sub-NDARRK135YAZ', 'sub-NDARZH629NVF', 'sub-NDAREC182WW2', 'sub-NDARPH022TRY', 'sub-NDARDZ266KET', 'sub-NDARVM774PA5', 'sub-NDARKN175HWB', 'sub-NDARCR715LEY', 'sub-NDARKD124UHN', 'sub-NDARLJ280UCN', 'sub-NDARTT759PC5', 'sub-NDARVN370YL8', 'sub-NDARAJ366ZFA', 'sub-NDARFW292PBD', 'sub-NDARZU401RCU', 'sub-NDARNG968RB9', 'sub-NDARAM277WZT', 'sub-NDARDJ544BU5', 'sub-NDARYA877HN5', 'sub-NDARKW999WZD', 'sub-NDARHF904CWB', 'sub-NDARKN509RP9', 'sub-NDARWB685NUG', 'sub-NDARZG263HRK', 'sub-NDARHB781DD8', 'sub-NDARME656MTN', 'sub-NDARUJ182TDW', 'sub-NDARGL963HU4', 'sub-NDARNE800DCT', 'sub-NDARTV107XD4', 'sub-NDARKH421UB1', 'sub-NDARJR687LGX', 'sub-NDARJY141RFE', 'sub-NDARGM610LF0', 'sub-NDARTB661TVR', 'sub-NDARYU620RH9', 'sub-NDARFM080VAF', 'sub-NDARHX877BLQ', 'sub-NDARHF023VG3', 'sub-NDARDJ825GBP', 'sub-NDARHX252NVH', 'sub-NDARBN100LCD', 'sub-NDARGL834CMQ', 'sub-NDARDX770PJK', 'sub-NDARHP558MGA', 'sub-NDARJK085PZL', 'sub-NDARNB390JL3', 'sub-NDARHL238VL2', 'sub-NDARKZ198TAA', 'sub-NDARMM386PL6', 'sub-NDARCB504PGG', 'sub-NDARMA390CHB', 'sub-NDARUC356FCD', 'sub-NDAREK375DKR', 'sub-NDARBM213BEA', 'sub-NDARHJ126UW2', 'sub-NDARCT933HF2', 'sub-NDARHR944BBY'}\n"
     ]
    }
   ],
   "source": [
    "common_elements = set(fmriprep_subs).intersection(movie_subs).difference(set(raw_subs))\n",
    "\n",
    "print(common_elements)"
   ]
  },
  {
   "cell_type": "code",
   "execution_count": 27,
   "id": "9128eb0d-1366-4b69-9409-0299a74287aa",
   "metadata": {},
   "outputs": [
    {
     "data": {
      "text/plain": [
       "376"
      ]
     },
     "execution_count": 27,
     "metadata": {},
     "output_type": "execute_result"
    }
   ],
   "source": [
    "len(common_elements)"
   ]
  },
  {
   "cell_type": "code",
   "execution_count": 28,
   "id": "5bf56a8f-ba51-4932-a69f-4fc27c737213",
   "metadata": {},
   "outputs": [],
   "source": [
    "with open('subs_to_run.txt', 'w') as f:\n",
    "    for item in common_elements:\n",
    "        f.write(\"%s\\n\" % item)"
   ]
  },
  {
   "cell_type": "code",
   "execution_count": null,
   "id": "599127a8-0e64-44dc-8417-2f06eca7a0d1",
   "metadata": {},
   "outputs": [],
   "source": []
  }
 ],
 "metadata": {
  "kernelspec": {
   "display_name": "Python 3 (ipykernel)",
   "language": "python",
   "name": "python3"
  },
  "language_info": {
   "codemirror_mode": {
    "name": "ipython",
    "version": 3
   },
   "file_extension": ".py",
   "mimetype": "text/x-python",
   "name": "python",
   "nbconvert_exporter": "python",
   "pygments_lexer": "ipython3",
   "version": "3.9.13"
  }
 },
 "nbformat": 4,
 "nbformat_minor": 5
}
