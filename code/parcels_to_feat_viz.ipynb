{
 "cells": [
  {
   "cell_type": "markdown",
   "id": "7ca008a7-7541-4af5-81f2-4b153af611b0",
   "metadata": {},
   "source": [
    "## notebook to load merlin parcels and export them as tsv for feature visualizer"
   ]
  },
  {
   "cell_type": "code",
   "execution_count": 1,
   "id": "3240961d-3c16-4dc9-856b-1d8e6cf451b7",
   "metadata": {},
   "outputs": [
    {
     "name": "stderr",
     "output_type": "stream",
     "text": [
      "/opt/miniconda-latest/lib/python3.8/site-packages/nilearn/datasets/__init__.py:87: FutureWarning: Fetchers from the nilearn.datasets module will be updated in version 0.9 to return python strings instead of bytes and Pandas dataframes instead of Numpy arrays.\n",
      "  warn(\"Fetchers from the nilearn.datasets module will be \"\n",
      "pixdim[1,2,3] should be non-zero; setting 0 dims to 1\n"
     ]
    }
   ],
   "source": [
    "import nibabel as nb\n",
    "import nilearn as nl\n",
    "import hcp_utils as hcp\n",
    "import numpy as np\n",
    "import pandas as pd"
   ]
  },
  {
   "cell_type": "code",
   "execution_count": 2,
   "id": "23a20f0c-3fba-4377-a9ef-daa1273c3cf6",
   "metadata": {},
   "outputs": [],
   "source": [
    "parcel_dir='/om2/user/jsmentch/projects/nat_img/sourcedata/data/merlin/brain/merlin_cifti_clean_smooth_mmp'\n",
    "\n",
    "im_file = f'{parcel_dir}/parcellated_sub-19_clean_smooth_task-MerlinMovie_space-fsLR_den-91k_bold.ptseries.nii'\n",
    "img = nb.load(im_file)\n",
    "img_y = img.get_fdata()\n",
    "#img_y = scaler.fit_transform(img_y)\n"
   ]
  },
  {
   "cell_type": "code",
   "execution_count": 3,
   "id": "a8ff0a27-6adc-4f13-ae5c-787a2d7958ba",
   "metadata": {},
   "outputs": [],
   "source": [
    "tr_length,parcel_number=img_y.shape"
   ]
  },
  {
   "cell_type": "code",
   "execution_count": 37,
   "id": "81a85db5-e78b-493f-8325-6cb20605d786",
   "metadata": {},
   "outputs": [],
   "source": [
    "for i in np.arange(parcel_number):\n",
    "    label=hcp.mmp['labels'][i+1] #odd that 0 is nothing '' ??? why?\n",
    "    timecourse=img_y[:,i]\n",
    "    onset=np.arange(timecourse.shape[0])*1.5\n",
    "    duration=np.ones(timecourse.shape[0])+0.5\n",
    "    data=np.column_stack((onset,duration,timecourse))\n",
    "    df=pd.DataFrame(data,columns=['onset','duration',label])\n",
    "    df.to_csv(f'../outputs/parcel_timecourse_tsv/merlin/sub19/{label}.tsv', index=False, sep=\"\\t\")"
   ]
  },
  {
   "cell_type": "code",
   "execution_count": 38,
   "id": "744ee03d-0f60-487d-8394-310ec3b1d866",
   "metadata": {},
   "outputs": [
    {
     "data": {
      "text/plain": [
       "(1013,)"
      ]
     },
     "execution_count": 38,
     "metadata": {},
     "output_type": "execute_result"
    }
   ],
   "source": [
    "timecourse[17:].shape"
   ]
  },
  {
   "cell_type": "code",
   "execution_count": null,
   "id": "fe4df2f7-ae69-45c2-9c1e-e1cae950d1ff",
   "metadata": {},
   "outputs": [],
   "source": []
  }
 ],
 "metadata": {
  "kernelspec": {
   "display_name": "Python 3",
   "language": "python",
   "name": "python3"
  },
  "language_info": {
   "codemirror_mode": {
    "name": "ipython",
    "version": 3
   },
   "file_extension": ".py",
   "mimetype": "text/x-python",
   "name": "python",
   "nbconvert_exporter": "python",
   "pygments_lexer": "ipython3",
   "version": "3.8.5"
  }
 },
 "nbformat": 4,
 "nbformat_minor": 5
}
