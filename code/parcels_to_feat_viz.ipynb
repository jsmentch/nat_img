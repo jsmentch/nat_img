{
 "cells": [
  {
   "cell_type": "markdown",
   "id": "7ca008a7-7541-4af5-81f2-4b153af611b0",
   "metadata": {},
   "source": [
    "## notebook to load .ptseries parcels and export them as tsv for the feature visualizer"
   ]
  },
  {
   "cell_type": "code",
   "execution_count": 27,
   "id": "3240961d-3c16-4dc9-856b-1d8e6cf451b7",
   "metadata": {},
   "outputs": [],
   "source": [
    "import nibabel as nb\n",
    "import nilearn as nl\n",
    "import hcp_utils as hcp\n",
    "import numpy as np\n",
    "import pandas as pd\n",
    "import glob"
   ]
  },
  {
   "cell_type": "markdown",
   "id": "561b3688-2c74-4dce-9104-ed3aebbb9f68",
   "metadata": {},
   "source": [
    "## First average the files together"
   ]
  },
  {
   "cell_type": "code",
   "execution_count": null,
   "id": "2d651cb8-1059-48cb-bdfb-90cba463d225",
   "metadata": {},
   "outputs": [],
   "source": [
    "#which files exist?\n",
    "asc_flist = open(\"hbn_asc_50.txt\",'r').read().splitlines()\n",
    "nt_flist = open(\"hbn_nt_50.txt\",'r').read().splitlines()\n",
    "\n",
    "asc_exists=[]\n",
    "nt_exists=[]\n",
    "\n",
    "n_asc=0\n",
    "n_nt=0\n",
    "print('----- extracting ASCs -----')\n",
    "for f in asc_flist:\n",
    "    try:\n",
    "        im_file = glob.glob(f'../sourcedata/data/HBN/brain/clean/{f}/ses-*/{f}_ses-*_task-movieDM_space-fsLR_den-91k_bold_clean_mmp.ptseries.nii')\n",
    "        #print(im_file[0])\n",
    "        img = nb.load(im_file[0])\n",
    "#         img_y = img.get_fdata()\n",
    "#         #img_y = scaler.fit_transform(img_y)\n",
    "        asc_exists.append(im_file[0])\n",
    "        print(f'exists  {f}')\n",
    "        n_asc=n_asc+1\n",
    "    except:\n",
    "        print(f'file for {f} dne')\n",
    "        \n",
    "print('----- extracting NTs -----')\n",
    "for f in nt_flist:\n",
    "    try:\n",
    "        im_file = glob.glob(f'../sourcedata/data/HBN/brain/clean/{f}/ses-*/{f}_ses-*_task-movieDM_space-fsLR_den-91k_bold_clean_mmp.ptseries.nii')\n",
    "        #print(im_file[0])\n",
    "        img = nb.load(im_file[0])\n",
    "#         img_y = img.get_fdata()\n",
    "#         #img_y = scaler.fit_transform(img_y)\n",
    "        nt_exists.append(im_file[0])\n",
    "        print(f'exists  {f}')\n",
    "        n_nt=n_nt+1\n",
    "\n",
    "    except:\n",
    "        print(f'file for {f} dne')"
   ]
  },
  {
   "cell_type": "code",
   "execution_count": 68,
   "id": "2407eed3-383e-4c36-ac36-4ed14aa0da8a",
   "metadata": {},
   "outputs": [],
   "source": [
    "#make the workbench commands to average all subjects to use in the terminal...\n",
    "asc_command=\"wb_command -cifti-average ../sourcedata/data/HBN/brain/clean/sub-all/sub-asc_task-movieDM_space-fsLR_den-91k_bold_clean_mmp.ptseries.nii\"\n",
    "for asc in asc_exists:\n",
    "    asc_command=asc_command+\" -cifti \"\n",
    "    asc_command=asc_command+asc\n",
    "\n",
    "nt_command=\"wb_command -cifti-average ../sourcedata/data/HBN/brain/clean/sub-all/sub-nt_task-movieDM_space-fsLR_den-91k_bold_clean_mmp.ptseries.nii\"\n",
    "for nt in nt_exists:\n",
    "    nt_command=nt_command+\" -cifti \"\n",
    "    nt_command=nt_command+nt\n"
   ]
  },
  {
   "cell_type": "code",
   "execution_count": 71,
   "id": "37db3639-0e25-4e6f-afea-d6c285c519a2",
   "metadata": {},
   "outputs": [
    {
     "data": {
      "text/plain": [
       "(750, 360)"
      ]
     },
     "execution_count": 71,
     "metadata": {},
     "output_type": "execute_result"
    }
   ],
   "source": []
  },
  {
   "cell_type": "code",
   "execution_count": 75,
   "id": "81a85db5-e78b-493f-8325-6cb20605d786",
   "metadata": {},
   "outputs": [
    {
     "name": "stdout",
     "output_type": "stream",
     "text": [
      "running nt\n",
      "running asc\n"
     ]
    }
   ],
   "source": [
    "for sub in ['nt', 'asc']:\n",
    "    print(f'running {sub}')\n",
    "    parcel_file=f'../sourcedata/data/HBN/brain/clean/sub-all/sub-{sub}_task-movieDM_space-fsLR_den-91k_bold_clean_mmp.ptseries.nii'\n",
    "    img = nb.load(parcel_file)\n",
    "    img_y = img.get_fdata()\n",
    "    #img_y = scaler.fit_transform(img_y)\n",
    "\n",
    "    #HBN TR is usually 800ms\n",
    "    TR=0.8\n",
    "\n",
    "    for i in np.arange(img_y.shape[1]):\n",
    "        label=hcp.mmp['labels'][i+1] #odd that 0 is nothing '' ??? why?\n",
    "        timecourse=img_y[:,i]\n",
    "        onset=np.arange(timecourse.shape[0])*TR\n",
    "        duration=np.ones(timecourse.shape[0])*TR\n",
    "        data=np.column_stack((onset,duration,timecourse))\n",
    "        #print(data)\n",
    "        df=pd.DataFrame(data,columns=['onset','duration',label])\n",
    "        df.to_csv(f'../outputs/parcel_timecourse_tsv/HBN/sub-all/{label}_{sub}.tsv', index=False, sep=\"\\t\")"
   ]
  },
  {
   "cell_type": "code",
   "execution_count": null,
   "id": "1869151c-514d-4ceb-b93f-b5d338adb370",
   "metadata": {},
   "outputs": [],
   "source": []
  }
 ],
 "metadata": {
  "kernelspec": {
   "display_name": "Python 3",
   "language": "python",
   "name": "python3"
  },
  "language_info": {
   "codemirror_mode": {
    "name": "ipython",
    "version": 3
   },
   "file_extension": ".py",
   "mimetype": "text/x-python",
   "name": "python",
   "nbconvert_exporter": "python",
   "pygments_lexer": "ipython3",
   "version": "3.8.5"
  }
 },
 "nbformat": 4,
 "nbformat_minor": 5
}
