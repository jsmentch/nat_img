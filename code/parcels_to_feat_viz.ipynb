{
 "cells": [
  {
   "cell_type": "markdown",
   "id": "7ca008a7-7541-4af5-81f2-4b153af611b0",
   "metadata": {},
   "source": [
    "## notebook to load merlin parcels and export them as tsv for feature visualizer"
   ]
  },
  {
   "cell_type": "code",
   "execution_count": 13,
   "id": "3240961d-3c16-4dc9-856b-1d8e6cf451b7",
   "metadata": {},
   "outputs": [],
   "source": [
    "import nibabel as nb\n",
    "import nilearn as nl\n",
    "import hcp_utils as hcp\n",
    "import numpy as np\n",
    "import pandas as pd"
   ]
  },
  {
   "cell_type": "code",
   "execution_count": 2,
   "id": "23a20f0c-3fba-4377-a9ef-daa1273c3cf6",
   "metadata": {},
   "outputs": [],
   "source": [
    "parcel_dir='/om2/user/jsmentch/projects/nat_img/sourcedata/data/merlin/brain/merlin_cifti_clean_smooth_mmp'\n",
    "\n",
    "im_file = f'{parcel_dir}/parcellated_sub-19_clean_smooth_task-MerlinMovie_space-fsLR_den-91k_bold.ptseries.nii'\n",
    "img = nb.load(im_file)\n",
    "img_y = img.get_fdata()\n",
    "#img_y = scaler.fit_transform(img_y)\n"
   ]
  },
  {
   "cell_type": "code",
   "execution_count": 3,
   "id": "a8ff0a27-6adc-4f13-ae5c-787a2d7958ba",
   "metadata": {},
   "outputs": [],
   "source": [
    "tr_length,parcel_number=img_y.shape"
   ]
  },
  {
   "cell_type": "code",
   "execution_count": 37,
   "id": "81a85db5-e78b-493f-8325-6cb20605d786",
   "metadata": {},
   "outputs": [],
   "source": [
    "for i in np.arange(parcel_number):\n",
    "    label=hcp.mmp['labels'][i+1] #odd that 0 is nothing '' ??? why?\n",
    "    timecourse=img_y[:,i]\n",
    "    onset=np.arange(timecourse.shape[0])*1.5\n",
    "    duration=np.ones(timecourse.shape[0])+0.5\n",
    "    data=np.column_stack((onset,duration,timecourse))\n",
    "    df=pd.DataFrame(data,columns=['onset','duration',label])\n",
    "    df.to_csv(f'../outputs/parcel_timecourse_tsv/merlin_sub19_{label}.tsv', index=False, sep=\"\\t\")"
   ]
  },
  {
   "cell_type": "code",
   "execution_count": 12,
   "id": "744ee03d-0f60-487d-8394-310ec3b1d866",
   "metadata": {},
   "outputs": [
    {
     "data": {
      "text/plain": [
       "(1030,)"
      ]
     },
     "execution_count": 12,
     "metadata": {},
     "output_type": "execute_result"
    }
   ],
   "source": [
    "timecourse.shape"
   ]
  },
  {
   "cell_type": "code",
   "execution_count": 17,
   "id": "c76f3e41-8adb-4de2-ba61-c9204012901b",
   "metadata": {},
   "outputs": [
    {
     "data": {
      "text/html": [
       "<div>\n",
       "<style scoped>\n",
       "    .dataframe tbody tr th:only-of-type {\n",
       "        vertical-align: middle;\n",
       "    }\n",
       "\n",
       "    .dataframe tbody tr th {\n",
       "        vertical-align: top;\n",
       "    }\n",
       "\n",
       "    .dataframe thead th {\n",
       "        text-align: right;\n",
       "    }\n",
       "</style>\n",
       "<table border=\"1\" class=\"dataframe\">\n",
       "  <thead>\n",
       "    <tr style=\"text-align: right;\">\n",
       "      <th></th>\n",
       "      <th>0</th>\n",
       "    </tr>\n",
       "  </thead>\n",
       "  <tbody>\n",
       "    <tr>\n",
       "      <th>0</th>\n",
       "      <td>1.058749</td>\n",
       "    </tr>\n",
       "    <tr>\n",
       "      <th>1</th>\n",
       "      <td>0.880680</td>\n",
       "    </tr>\n",
       "    <tr>\n",
       "      <th>2</th>\n",
       "      <td>0.713073</td>\n",
       "    </tr>\n",
       "    <tr>\n",
       "      <th>3</th>\n",
       "      <td>0.545386</td>\n",
       "    </tr>\n",
       "    <tr>\n",
       "      <th>4</th>\n",
       "      <td>0.356299</td>\n",
       "    </tr>\n",
       "    <tr>\n",
       "      <th>...</th>\n",
       "      <td>...</td>\n",
       "    </tr>\n",
       "    <tr>\n",
       "      <th>1025</th>\n",
       "      <td>-0.189445</td>\n",
       "    </tr>\n",
       "    <tr>\n",
       "      <th>1026</th>\n",
       "      <td>-0.158725</td>\n",
       "    </tr>\n",
       "    <tr>\n",
       "      <th>1027</th>\n",
       "      <td>0.260134</td>\n",
       "    </tr>\n",
       "    <tr>\n",
       "      <th>1028</th>\n",
       "      <td>1.139362</td>\n",
       "    </tr>\n",
       "    <tr>\n",
       "      <th>1029</th>\n",
       "      <td>2.334185</td>\n",
       "    </tr>\n",
       "  </tbody>\n",
       "</table>\n",
       "<p>1030 rows × 1 columns</p>\n",
       "</div>"
      ],
      "text/plain": [
       "             0\n",
       "0     1.058749\n",
       "1     0.880680\n",
       "2     0.713073\n",
       "3     0.545386\n",
       "4     0.356299\n",
       "...        ...\n",
       "1025 -0.189445\n",
       "1026 -0.158725\n",
       "1027  0.260134\n",
       "1028  1.139362\n",
       "1029  2.334185\n",
       "\n",
       "[1030 rows x 1 columns]"
      ]
     },
     "execution_count": 17,
     "metadata": {},
     "output_type": "execute_result"
    }
   ],
   "source": [
    "pd.DataFrame(timecourse)"
   ]
  },
  {
   "cell_type": "code",
   "execution_count": 36,
   "id": "c3951e49-e53d-44c7-8d3d-3c1699131a06",
   "metadata": {},
   "outputs": [],
   "source": []
  },
  {
   "cell_type": "code",
   "execution_count": 33,
   "id": "942c1eac-b631-4b26-a443-1d7d4e62bfb8",
   "metadata": {},
   "outputs": [
    {
     "data": {
      "text/plain": [
       "array([1.5, 1.5, 1.5, ..., 1.5, 1.5, 1.5])"
      ]
     },
     "execution_count": 33,
     "metadata": {},
     "output_type": "execute_result"
    }
   ],
   "source": []
  },
  {
   "cell_type": "code",
   "execution_count": null,
   "id": "4e000d6c-4958-44a6-a894-257c4b805e1b",
   "metadata": {},
   "outputs": [],
   "source": []
  }
 ],
 "metadata": {
  "kernelspec": {
   "display_name": "Python 3",
   "language": "python",
   "name": "python3"
  },
  "language_info": {
   "codemirror_mode": {
    "name": "ipython",
    "version": 3
   },
   "file_extension": ".py",
   "mimetype": "text/x-python",
   "name": "python",
   "nbconvert_exporter": "python",
   "pygments_lexer": "ipython3",
   "version": "3.8.5"
  }
 },
 "nbformat": 4,
 "nbformat_minor": 5
}
