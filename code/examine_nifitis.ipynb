{
 "cells": [
  {
   "cell_type": "code",
   "execution_count": 6,
   "id": "0f4b830b-2bed-493a-82a0-f1df545b3b43",
   "metadata": {},
   "outputs": [],
   "source": [
    "import numpy as np\n",
    "import pandas as pd\n",
    "import nilearn\n",
    "from nilearn import image\n"
   ]
  },
  {
   "cell_type": "code",
   "execution_count": 15,
   "id": "fb1e9692-9966-4b29-ac2a-e308c8dbc1fe",
   "metadata": {},
   "outputs": [],
   "source": [
    "im='/nese/mit/group/sig/projects/voice/voice_bids/sub-voice886/ses-1/func/sub-voice886_ses-1_task-emosent_run-02_bold.nii.gz'"
   ]
  },
  {
   "cell_type": "code",
   "execution_count": 16,
   "id": "9a4f0146-55ea-4a3c-ba79-9b3d3a8a0895",
   "metadata": {},
   "outputs": [],
   "source": [
    "im1='/nobackup/scratch/Mon/jsmentch/voice_bids/sub-voice854/ses-1/func/sub-voice854_ses-1_task-rest_run-01_bold1.nii.gz'"
   ]
  },
  {
   "cell_type": "code",
   "execution_count": 17,
   "id": "2f2904b8-e31c-4980-8638-5431b6bc09d4",
   "metadata": {},
   "outputs": [
    {
     "name": "stdout",
     "output_type": "stream",
     "text": [
      "(108, 108, 65, 296)\n"
     ]
    }
   ],
   "source": [
    "print(image.load_img(im1).shape)"
   ]
  },
  {
   "cell_type": "code",
   "execution_count": 18,
   "id": "0bc49e7d-25b5-4eea-8d39-b4efc98c4da9",
   "metadata": {},
   "outputs": [],
   "source": [
    "im2='/nobackup/scratch/Mon/jsmentch/voice_bids/sub-voice854/ses-1/func/sub-voice854_ses-1_task-rest_run-01_bold2.nii.gz'"
   ]
  },
  {
   "cell_type": "code",
   "execution_count": 19,
   "id": "5e3f236b-cdcc-4084-811a-945f0ba3afc9",
   "metadata": {},
   "outputs": [
    {
     "name": "stdout",
     "output_type": "stream",
     "text": [
      "(108, 108, 65, 7)\n"
     ]
    }
   ],
   "source": [
    "print(image.load_img(im2).shape)"
   ]
  },
  {
   "cell_type": "code",
   "execution_count": null,
   "id": "b9e6150c-f9e2-46e7-b416-2ef7340eccdc",
   "metadata": {},
   "outputs": [],
   "source": []
  },
  {
   "cell_type": "code",
   "execution_count": 18,
   "id": "24f69cd0-887a-4119-abf7-3db789c234b4",
   "metadata": {},
   "outputs": [
    {
     "data": {
      "text/plain": [
       "(0.0,\n",
       " 0.0,\n",
       " 0.0,\n",
       " 0.0,\n",
       " 0.0,\n",
       " 0.0,\n",
       " 0.0,\n",
       " 0.0,\n",
       " 0.0,\n",
       " 0.0,\n",
       " 0.0,\n",
       " 0.0,\n",
       " 0.0,\n",
       " 0.0,\n",
       " 0.0,\n",
       " 0.0,\n",
       " 0.0,\n",
       " 0.0,\n",
       " 0.0,\n",
       " 0.0,\n",
       " 0.0,\n",
       " 0.0,\n",
       " 0.0,\n",
       " 0.0,\n",
       " 0.0,\n",
       " 0.0,\n",
       " 0.0,\n",
       " 0.0,\n",
       " 0.0,\n",
       " 0.0,\n",
       " 0.0,\n",
       " 0.0,\n",
       " 0.0,\n",
       " 0.0,\n",
       " 0.0,\n",
       " 0.0,\n",
       " 0.0,\n",
       " 0.0,\n",
       " 0.0,\n",
       " 0.0,\n",
       " 0.0,\n",
       " 0.0,\n",
       " 0.0,\n",
       " 0.0,\n",
       " 0.0,\n",
       " 0.0,\n",
       " 0.0,\n",
       " 0.0,\n",
       " 0.0,\n",
       " 0.0,\n",
       " 0.0,\n",
       " 0.0,\n",
       " 0.0,\n",
       " 0.0,\n",
       " 0.0,\n",
       " 0.0,\n",
       " 0.0,\n",
       " 0.0,\n",
       " 0.0,\n",
       " 0.0,\n",
       " 0.0,\n",
       " 0.0,\n",
       " 0.0,\n",
       " 0.0,\n",
       " 0.0)"
      ]
     },
     "execution_count": 18,
     "metadata": {},
     "output_type": "execute_result"
    }
   ],
   "source": [
    "img.header.get_slice_times()"
   ]
  },
  {
   "cell_type": "code",
   "execution_count": 13,
   "id": "3199dcbe-1f53-4552-9a30-6459fbd0d29b",
   "metadata": {},
   "outputs": [
    {
     "name": "stdout",
     "output_type": "stream",
     "text": [
      "<class 'nibabel.nifti1.Nifti1Header'> object, endian='<'\n",
      "sizeof_hdr      : 348\n",
      "data_type       : b''\n",
      "db_name         : b''\n",
      "extents         : 0\n",
      "session_error   : 0\n",
      "regular         : b'r'\n",
      "dim_info        : 57\n",
      "dim             : [ 3 72 72 45  1  1  1  1]\n",
      "intent_p1       : 0.0\n",
      "intent_p2       : 0.0\n",
      "intent_p3       : 0.0\n",
      "intent_code     : none\n",
      "datatype        : int16\n",
      "bitpix          : 16\n",
      "slice_start     : 0\n",
      "pixdim          : [-1.    3.    3.    3.3   1.64  0.    0.    0.  ]\n",
      "vox_offset      : 0.0\n",
      "scl_slope       : nan\n",
      "scl_inter       : nan\n",
      "slice_end       : 0\n",
      "slice_code      : alternating increasing\n",
      "xyzt_units      : 10\n",
      "cal_max         : 0.0\n",
      "cal_min         : 0.0\n",
      "slice_duration  : 0.0\n",
      "toffset         : 0.0\n",
      "glmax           : 0\n",
      "glmin           : 0\n",
      "descrip         : b'TE=30;Time=124917.602;phase=1'\n",
      "aux_file        : b'SMS_MGH_V2.1;_MB=5;_FOV'\n",
      "qform_code      : scanner\n",
      "sform_code      : scanner\n",
      "quatern_b       : -0.016546093\n",
      "quatern_c       : 0.98885125\n",
      "quatern_d       : 0.14778316\n",
      "qoffset_x       : 116.30723\n",
      "qoffset_y       : -76.46639\n",
      "qoffset_z       : -82.12254\n",
      "srow_x          : [-2.9980004e+00 -1.0501027e-01 -3.4210101e-02  1.1630723e+02]\n",
      "srow_y          : [ -0.09132923   2.8673182   -0.9653373  -76.46639   ]\n",
      "srow_z          : [-6.0442898e-02  8.7604755e-01  3.1554644e+00 -8.2122543e+01]\n",
      "intent_name     : b''\n",
      "magic           : b'n+1'\n"
     ]
    }
   ],
   "source": [
    "print(img.header)"
   ]
  },
  {
   "cell_type": "code",
   "execution_count": null,
   "id": "1f931045-eceb-4b7d-b3d4-f9fba28b5ef4",
   "metadata": {},
   "outputs": [],
   "source": []
  }
 ],
 "metadata": {
  "kernelspec": {
   "display_name": "Python 3",
   "language": "python",
   "name": "python3"
  },
  "language_info": {
   "codemirror_mode": {
    "name": "ipython",
    "version": 3
   },
   "file_extension": ".py",
   "mimetype": "text/x-python",
   "name": "python",
   "nbconvert_exporter": "python",
   "pygments_lexer": "ipython3",
   "version": "3.8.5"
  }
 },
 "nbformat": 4,
 "nbformat_minor": 5
}
