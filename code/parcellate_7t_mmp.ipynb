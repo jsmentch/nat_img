{
 "cells": [
  {
   "cell_type": "code",
   "execution_count": 1,
   "id": "b9972397-2a7f-48d3-805e-1ec55404ae20",
   "metadata": {},
   "outputs": [
    {
     "name": "stderr",
     "output_type": "stream",
     "text": [
      "/opt/miniconda-latest/lib/python3.8/site-packages/nilearn/datasets/__init__.py:87: FutureWarning: Fetchers from the nilearn.datasets module will be updated in version 0.9 to return python strings instead of bytes and Pandas dataframes instead of Numpy arrays.\n",
      "  warn(\"Fetchers from the nilearn.datasets module will be \"\n",
      "pixdim[1,2,3] should be non-zero; setting 0 dims to 1\n"
     ]
    }
   ],
   "source": [
    "import nilearn\n",
    "import nibabel as nb\n",
    "import numpy as np\n",
    "import hcp_tools\n",
    "import hcp_utils as hcp"
   ]
  },
  {
   "cell_type": "code",
   "execution_count": 2,
   "id": "f6442eef-b75e-49af-acbe-501b58621c10",
   "metadata": {},
   "outputs": [],
   "source": [
    "mmp_path = '../sourcedata/data/parcellations/Q1-Q6_RelatedParcellation210.CorticalAreas_dil_Final_Final_Areas_Group_Colors.59k_fs_LR.dlabel.nii'\n",
    "mmp = nb.load(mmp_path)"
   ]
  },
  {
   "cell_type": "code",
   "execution_count": 3,
   "id": "b22f089f-2e9f-4643-b6e7-5825def1aafd",
   "metadata": {},
   "outputs": [
    {
     "data": {
      "text/plain": [
       "(1, 118584)"
      ]
     },
     "execution_count": 3,
     "metadata": {},
     "output_type": "execute_result"
    }
   ],
   "source": [
    "mmp.get_fdata().shape"
   ]
  },
  {
   "cell_type": "code",
   "execution_count": 8,
   "id": "6d416bec-8fc9-4173-9633-bce98e5923f3",
   "metadata": {},
   "outputs": [],
   "source": [
    "parcel = nb.load('test.ptseries.nii')"
   ]
  },
  {
   "cell_type": "code",
   "execution_count": 19,
   "id": "607bc19f-4f9d-4019-8ac3-12ad7a9db7f6",
   "metadata": {},
   "outputs": [
    {
     "data": {
      "text/plain": [
       "(921, 360)"
      ]
     },
     "execution_count": 19,
     "metadata": {},
     "output_type": "execute_result"
    }
   ],
   "source": [
    "parcel.shape"
   ]
  },
  {
   "cell_type": "code",
   "execution_count": null,
   "id": "7a54bedd-1ec5-48b0-90cb-b53ed0f7703d",
   "metadata": {},
   "outputs": [],
   "source": [
    "def left_cortex_data(arr, fill=0, vertex_info=vertex_info):\n",
    "    \"\"\"\n",
    "    Takes a 1D array of fMRI grayordinates and returns the values on the vertices of the left cortex mesh which is neccessary for surface visualization. \n",
    "    The unused vertices are filled with a constant (zero by default). \n",
    "    \"\"\"\n",
    "    out = np.zeros(vertex_info.num_meshl)\n",
    "    out[:] = fill\n",
    "    out[vertex_info.grayl] = arr[:len(vertex_info.grayl)]\n",
    "    return out"
   ]
  },
  {
   "cell_type": "code",
   "execution_count": 5,
   "id": "ed86e2bd-b71f-4377-8c85-77ffe77b4e4c",
   "metadata": {},
   "outputs": [
    {
     "name": "stderr",
     "output_type": "stream",
     "text": [
      "pixdim[1,2,3] should be non-zero; setting 0 dims to 1\n"
     ]
    }
   ],
   "source": [
    "subject=100610\n",
    "\n",
    "stim = ['tfMRI_MOVIE1_7T_AP','tfMRI_MOVIE2_7T_PA','tfMRI_MOVIE3_7T_PA','tfMRI_MOVIE4_7T_AP']\n",
    "stim_feat = ['7T_MOVIE1_CC1_v2', '7T_MOVIE2_HO1_v2', '7T_MOVIE3_CC2_v2', '7T_MOVIE4_HO2_v2']\n",
    "    \n",
    "i=0\n",
    "im_file = f'../sourcedata/data/HCP_7T_movie_FIX/brain/HCP_7T_movie_FIX/100610/MNINonLinear/Results/{stim[i]}/{stim[i]}_Atlas_1.6mm_MSMAll_hp2000_clean.dtseries.nii'\n",
    "\n",
    "\n",
    "img = nb.load(im_file)\n",
    "img_fdata = img.get_fdata()\n",
    "# vertex_info = hcp.get_HCP_vertex_info(img)\n",
    "# img_fdata_cortex_data = hcp.cortex_data(img_fdata, fill=0, vertex_info=vertex_info)\n",
    "    \n",
    "#Y = hcp_tools.extract_cortex(im_file)\n",
    "# img_y = img.get_fdata()\n",
    "# Y = img_y"
   ]
  },
  {
   "cell_type": "code",
   "execution_count": 6,
   "id": "575adb47-f559-4a53-9f6c-4385ab2b96d7",
   "metadata": {},
   "outputs": [
    {
     "data": {
      "text/plain": [
       "(921, 170494)"
      ]
     },
     "execution_count": 6,
     "metadata": {},
     "output_type": "execute_result"
    }
   ],
   "source": [
    "img_fdata.shape"
   ]
  },
  {
   "cell_type": "code",
   "execution_count": null,
   "id": "6521b88f-0926-460e-8631-f5738defab14",
   "metadata": {},
   "outputs": [],
   "source": [
    "'../sourcedata/data/HCP_7T_movie_FIX/brain/HCP_7T_movie_FIX/100610/MNINonLinear/Results/tfMRI_MOVIE1_7T_AP/tfMRI_MOVIE1_7T_AP_Atlas_1.6mm_MSMAll_hp2000_clean.dtseries.nii'"
   ]
  },
  {
   "cell_type": "code",
   "execution_count": 23,
   "id": "f0d127dc-9e8b-4d3d-906e-9802626cc9d5",
   "metadata": {},
   "outputs": [
    {
     "data": {
      "text/plain": [
       "{'grayl': array([    0,     1,     2, ..., 59289, 59290, 59291]),\n",
       " 'grayr': array([    0,     1,     2, ..., 59289, 59290, 59291]),\n",
       " 'num_meshl': 59292,\n",
       " 'num_meshr': 59292}"
      ]
     },
     "execution_count": 23,
     "metadata": {},
     "output_type": "execute_result"
    }
   ],
   "source": [
    "vertex_info"
   ]
  },
  {
   "cell_type": "code",
   "execution_count": null,
   "id": "ee970714-a297-46b2-a6bd-c47438ddd74c",
   "metadata": {},
   "outputs": [],
   "source": []
  },
  {
   "cell_type": "code",
   "execution_count": 17,
   "id": "4ce3d7e4-e21b-4496-a610-bff659fdf6c7",
   "metadata": {},
   "outputs": [
    {
     "data": {
      "text/plain": [
       "(118584,)"
      ]
     },
     "execution_count": 17,
     "metadata": {},
     "output_type": "execute_result"
    }
   ],
   "source": [
    "Y.shape"
   ]
  },
  {
   "cell_type": "code",
   "execution_count": 15,
   "id": "6d89aa3d-1a82-4066-b599-445a244033aa",
   "metadata": {},
   "outputs": [
    {
     "name": "stderr",
     "output_type": "stream",
     "text": [
      "pixdim[1,2,3] should be non-zero; setting 0 dims to 1\n"
     ]
    },
    {
     "data": {
      "text/plain": [
       "(118584,)"
      ]
     },
     "execution_count": 15,
     "metadata": {},
     "output_type": "execute_result"
    }
   ],
   "source": []
  },
  {
   "cell_type": "code",
   "execution_count": null,
   "id": "b27be553-d158-41df-9e95-527468608b28",
   "metadata": {},
   "outputs": [],
   "source": []
  }
 ],
 "metadata": {
  "kernelspec": {
   "display_name": "Python 3",
   "language": "python",
   "name": "python3"
  },
  "language_info": {
   "codemirror_mode": {
    "name": "ipython",
    "version": 3
   },
   "file_extension": ".py",
   "mimetype": "text/x-python",
   "name": "python",
   "nbconvert_exporter": "python",
   "pygments_lexer": "ipython3",
   "version": "3.8.5"
  }
 },
 "nbformat": 4,
 "nbformat_minor": 5
}
