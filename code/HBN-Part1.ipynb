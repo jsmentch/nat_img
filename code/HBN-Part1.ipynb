{
 "cells": [
  {
   "cell_type": "markdown",
   "id": "6e286163-7f1a-4001-9de5-c6f6881191f9",
   "metadata": {},
   "source": [
    "# Notebook to take a first look at the HBN data and classify subjects w/ and w/out ADHD"
   ]
  },
  {
   "cell_type": "code",
   "execution_count": 1,
   "id": "0b60d652-12f6-46fd-bca6-f57869825c4d",
   "metadata": {},
   "outputs": [],
   "source": [
    "import numpy as np\n",
    "import pandas as pd\n",
    "from glob import glob\n",
    "import os"
   ]
  },
  {
   "cell_type": "code",
   "execution_count": 2,
   "id": "9943842b-7b95-4131-b1fc-04ef46809fa1",
   "metadata": {},
   "outputs": [],
   "source": [
    "brain_dir='/nobackup/scratch/Mon/jsmentch/hbn_cifti_cleaned/smoothed/'"
   ]
  },
  {
   "cell_type": "markdown",
   "id": "a90070c6-5949-4d5d-9d96-3285947215ae",
   "metadata": {},
   "source": [
    "### list all subjects to get a look at who has a dx or not"
   ]
  },
  {
   "cell_type": "code",
   "execution_count": 3,
   "id": "9848bcab-0d3e-417c-a94c-50243d28c8c5",
   "metadata": {},
   "outputs": [],
   "source": [
    "#load data\n",
    "all_dx = np.load('../sourcedata/data/HBN/phenotype/parsed/dx_list.npy')\n",
    "sub_list = np.load('../sourcedata/data/HBN/phenotype/parsed/sub_list.npy')\n",
    "dx_array = np.load('../sourcedata/data/HBN/phenotype/parsed/dx_onehot.npy')"
   ]
  },
  {
   "cell_type": "code",
   "execution_count": 4,
   "id": "202607e2-6610-48d6-9eee-df308e8f71e7",
   "metadata": {},
   "outputs": [],
   "source": [
    "sub_list = list(sub_list)"
   ]
  },
  {
   "cell_type": "code",
   "execution_count": 5,
   "id": "4eb07d84-b1b9-4d4f-aea6-47b72d32af68",
   "metadata": {},
   "outputs": [],
   "source": [
    "subdirs=glob(f\"{brain_dir}*/\")\n",
    "stripped = [s[:-1] for s in subdirs]\n",
    "stripped = [os.path.basename(s) for s in stripped]\n",
    "sub_ids = [s[4:] for s in stripped]"
   ]
  },
  {
   "cell_type": "markdown",
   "id": "27bdd1f0-d507-4635-a797-16ea50906e85",
   "metadata": {},
   "source": [
    "### how many subjects have dx data???"
   ]
  },
  {
   "cell_type": "code",
   "execution_count": 6,
   "id": "a5fb290b-631c-405e-a492-9fc4c796b2a5",
   "metadata": {},
   "outputs": [
    {
     "name": "stdout",
     "output_type": "stream",
     "text": [
      "no dx data for: 514\n",
      "dx data for: 391\n"
     ]
    }
   ],
   "source": [
    "dx_count = 0\n",
    "dne_count = 0\n",
    "dx_array_RU = []\n",
    "\n",
    "sub_list_w_dx = [] # ru subjects with diagnostic data available\n",
    "dx_list_w_dx = [] # corresponding list of dx one hot data\n",
    "\n",
    "for s in sub_ids:\n",
    "    try:\n",
    "        ind = sub_list.index(s)\n",
    "        dx_count = dx_count+1\n",
    "        sub_list_w_dx.append(sub_list[ind])\n",
    "        dx_list_w_dx.append(dx_array[ind])\n",
    "        \n",
    "    except:\n",
    "        #print(\"DNE\")\n",
    "        dne_count=dne_count+1\n",
    "print(f\"no dx data for: {dne_count}\")\n",
    "print(f\"dx data for: {dx_count}\")  "
   ]
  },
  {
   "cell_type": "markdown",
   "id": "d4a10659-c0fc-409b-9726-565c156a9644",
   "metadata": {},
   "source": [
    "Less than half at the moment. 391/904 = ~43% 7/13/21"
   ]
  },
  {
   "cell_type": "code",
   "execution_count": 7,
   "id": "c7e60a0a-f5c3-48ec-8f01-67f732f82e24",
   "metadata": {},
   "outputs": [],
   "source": [
    "dx_df = pd.DataFrame(dx_list_w_dx)\n",
    "dx_df.columns = all_dx"
   ]
  },
  {
   "cell_type": "code",
   "execution_count": 8,
   "id": "04a5bc13-c6d7-4b43-8047-d232b765ed95",
   "metadata": {},
   "outputs": [
    {
     "name": "stdout",
     "output_type": "stream",
     "text": [
      "ADHD-Combined Type                                                              90.0\n",
      "ADHD-Hyperactive/Impulsive Type                                                 12.0\n",
      "ADHD-Inattentive Type                                                           95.0\n",
      "Acute Stress Disorder                                                            0.0\n",
      "Adjustment Disorders                                                             9.0\n",
      "Agoraphobia                                                                      1.0\n",
      "Alcohol Use Disorder                                                             0.0\n",
      "Autism Spectrum Disorder                                                        49.0\n",
      "Avoidant/Restrictive Food Intake Disorder                                        0.0\n",
      "Binge-Eating Disorder                                                            1.0\n",
      "Bipolar I Disorder                                                               0.0\n",
      "Bipolar II Disorder                                                              0.0\n",
      "Borderline Intellectual Functioning                                              2.0\n",
      "Bulimia Nervosa                                                                  0.0\n",
      "Cannabis Use Disorder                                                            0.0\n",
      "Child Neglect                                                                    0.0\n",
      "Child Onset Fluency Disorder (Stuttering)                                        1.0\n",
      "Conversion Disorder                                                              0.0\n",
      "Developmental Coordination Disorder                                              3.0\n",
      "Disruptive Mood Dysregulation Disorder                                           4.0\n",
      "Encopresis                                                                       3.0\n",
      "Enuresis                                                                        22.0\n",
      "Excoriation (Skin-Picking) Disorder                                              2.0\n",
      "Gender Dysphoria in Children                                                     0.0\n",
      "Generalized Anxiety Disorder                                                    38.0\n",
      "Hoarding Disorder                                                                1.0\n",
      "Insomnia Disorder                                                                1.0\n",
      "Intellectual Disability-Mild                                                     8.0\n",
      "Intellectual Disability-Moderate                                                 0.0\n",
      "Intellectual Disability-Severe                                                   0.0\n",
      "Language Disorder                                                               33.0\n",
      "Major Depressive Disorder                                                       11.0\n",
      "Major Neurocognitive Disorder Due to Epilepsy                                    0.0\n",
      "Narcolepsy                                                                       0.0\n",
      "Neurobehavioral Disorder Associated with Prenatal Alcohol Exposure (ND-PAE)      0.0\n",
      "No Diagnosis Given                                                              48.0\n",
      "No Diagnosis Given: Incomplete Eval                                             18.0\n",
      "Obsessive-Compulsive Disorder                                                    6.0\n",
      "Obsessive-Compulsive Disorder                                                    0.0\n",
      "Other Specified Anxiety Disorder                                                19.0\n",
      "Other Specified Attention-Deficit/Hyperactivity Disorder                        11.0\n",
      "Other Specified Bipolar and Related Disorder                                     0.0\n",
      "Other Specified Depressive Disorder                                              6.0\n",
      "Other Specified Elimination Disorder with Urinary Symptoms                       1.0\n",
      "Other Specified Feeding or Eating Disorder                                       0.0\n",
      "Other Specified Insomnia Disorder                                                0.0\n",
      "Other Specified Neurodevelopmental Disorder                                      0.0\n",
      "Other Specified Schizophrenia Spectrum and Other Psychotic Disorder              2.0\n",
      "Other Specified Tic Disorder                                                     1.0\n",
      "Other Specified Trauma- and Stressor-Related Disorder                            1.0\n",
      "Panic Disorder                                                                   0.0\n",
      "Parent-Child Relational Problem                                                  0.0\n",
      "Persistent (Chronic) Motor or Vocal Tic Disorder                                 7.0\n",
      "Persistent Depressive Disorder (Dysthymia)                                       4.0\n",
      "Pica in Children                                                                 1.0\n",
      "Posttraumatic Stress Disorder                                                    0.0\n",
      "Provisional Tic Disorder                                                         1.0\n",
      "Reactive Attachment Disorder                                                     0.0\n",
      "Schizophrenia                                                                    0.0\n",
      "Selective Mutism                                                                 2.0\n",
      "Separation Anxiety                                                              13.0\n",
      "Social (Pragmatic) Communication Disorder                                        2.0\n",
      "Social Anxiety (Social Phobia)                                                  25.0\n",
      "Specific Learning Disorder with Impairment in Mathematics                       11.0\n",
      "Specific Learning Disorder with Impairment in Mathematics                        0.0\n",
      "Specific Learning Disorder with Impairment in Reading                           48.0\n",
      "Specific Learning Disorder with Impairment in Reading                            0.0\n",
      "Specific Learning Disorder with Impairment in Written Expression                 7.0\n",
      "Specific Phobia                                                                 21.0\n",
      "Speech Sound Disorder                                                            8.0\n",
      "Tobacco Use Disorder                                                             0.0\n",
      "Tourettes Disorder                                                               5.0\n",
      "Trichotillomania (Hair-Pulling Disorder)                                         0.0\n",
      "Unspecified Anxiety Disorder                                                     0.0\n",
      "Unspecified Attention-Deficit/Hyperactivity Disorder                             1.0\n",
      "Unspecified Bipolar and Related Disorder                                         0.0\n",
      "Unspecified Depressive Disorder                                                  0.0\n",
      "Unspecified Intellectual Disability                                              0.0\n",
      "Unspecified Neurodevelopmental Disorder                                          1.0\n",
      "Unspecified Tic Disorder                                                         0.0\n"
     ]
    }
   ],
   "source": [
    "dx_sum = dx_df.sum()\n",
    "print(dx_sum.to_string())"
   ]
  },
  {
   "cell_type": "markdown",
   "id": "71814b2d-4016-48ac-9e2a-fc00133f7613",
   "metadata": {},
   "source": [
    "### get subjects with no dx and subjects with ASD since it is about balanced"
   ]
  },
  {
   "cell_type": "code",
   "execution_count": 9,
   "id": "a0186a01-5d17-48bf-bea4-9a0524289b1c",
   "metadata": {},
   "outputs": [
    {
     "data": {
      "text/plain": [
       "35"
      ]
     },
     "execution_count": 9,
     "metadata": {},
     "output_type": "execute_result"
    }
   ],
   "source": [
    "list(all_dx).index(\"Autism Spectrum Disorder\")\n",
    "list(all_dx).index(\"No Diagnosis Given\")"
   ]
  },
  {
   "cell_type": "code",
   "execution_count": 10,
   "id": "d907fb02-f07d-4b17-b8fd-aebcae6273af",
   "metadata": {},
   "outputs": [],
   "source": [
    "asd_sub_list = [] # list of RU subject ids w asd\n",
    "asd_dx_list = []  # list of RU subjects w asd full dx\n",
    "nt_sub_list = []  # list of RU subjects w no dx\n",
    "\n",
    "adhd_c_sub_list = []\n",
    "adhd_c_dx_list = []\n",
    "\n",
    "for i,s in enumerate(dx_list_w_dx):\n",
    "    if s[35]==1:\n",
    "        #print(\"NT\")\n",
    "        nt_sub_list.append(sub_list_w_dx[i])\n",
    "    if s[7]==1:\n",
    "        #print(\"ASD\")\n",
    "        asd_sub_list.append(sub_list_w_dx[i])\n",
    "        asd_dx_list.append(dx_list_w_dx[i])\n",
    "    if s[0]==1:\n",
    "        #print(\"ASD\")\n",
    "        adhd_c_sub_list.append(sub_list_w_dx[i])\n",
    "        adhd_c_dx_list.append(dx_list_w_dx[i])\n",
    "    "
   ]
  },
  {
   "cell_type": "code",
   "execution_count": 11,
   "id": "5e6ed25c-4ff1-407d-a950-663629e7d472",
   "metadata": {},
   "outputs": [
    {
     "data": {
      "text/plain": [
       "48"
      ]
     },
     "execution_count": 11,
     "metadata": {},
     "output_type": "execute_result"
    }
   ],
   "source": [
    "len(nt_sub_list)"
   ]
  },
  {
   "cell_type": "markdown",
   "id": "9f4e7977-7f65-4303-9048-500bb5a30adc",
   "metadata": {},
   "source": [
    "### load asd subjects. load nt subjects... Then.. Compare something"
   ]
  },
  {
   "cell_type": "code",
   "execution_count": 12,
   "id": "add45a9f-ce29-48cc-bc52-dca279ba0025",
   "metadata": {},
   "outputs": [
    {
     "data": {
      "text/plain": [
       "['NDARVD635FX8',\n",
       " 'NDARAC853DTE',\n",
       " 'NDARUZ206DRV',\n",
       " 'NDARZW262ZLV',\n",
       " 'NDARXL023NG9',\n",
       " 'NDARYN595JMA',\n",
       " 'NDARML406ZB8',\n",
       " 'NDARCF247TDJ',\n",
       " 'NDARPW915RGD',\n",
       " 'NDARFR095UJK',\n",
       " 'NDARZE850WXD',\n",
       " 'NDARMZ200GVD',\n",
       " 'NDARLN778RYN',\n",
       " 'NDAREF164ZUJ',\n",
       " 'NDARKP815KPZ',\n",
       " 'NDARXK076XU8',\n",
       " 'NDARFA402LMW',\n",
       " 'NDARWA351ZE2',\n",
       " 'NDARPV303LAX',\n",
       " 'NDARRA717GYV',\n",
       " 'NDARUX284GGB',\n",
       " 'NDARYZ909VND',\n",
       " 'NDARVP135ZGE',\n",
       " 'NDARTX795AKR',\n",
       " 'NDARAP782TVC',\n",
       " 'NDARUN221VCJ',\n",
       " 'NDARDR458MR7',\n",
       " 'NDARPP622WV4',\n",
       " 'NDARJW373UE3',\n",
       " 'NDARJZ526HN3',\n",
       " 'NDARPL201YL4',\n",
       " 'NDAREK801BPB',\n",
       " 'NDARYG391PMU',\n",
       " 'NDARXY745NXJ',\n",
       " 'NDARDF568GL5',\n",
       " 'NDARKJ322ELL',\n",
       " 'NDARHT095YB4',\n",
       " 'NDARAD232HVV',\n",
       " 'NDARDC987BMU',\n",
       " 'NDARXD388TTE',\n",
       " 'NDARCK647MU6',\n",
       " 'NDARLL790WLF',\n",
       " 'NDARNR734JZH',\n",
       " 'NDARFR820KFF',\n",
       " 'NDARAA948VFH',\n",
       " 'NDARUB231LHN',\n",
       " 'NDARRL685WB7',\n",
       " 'NDARTP313AGH',\n",
       " 'NDARAE358VBE',\n",
       " 'NDARGA499CKF',\n",
       " 'NDARHN749RW4',\n",
       " 'NDARLF142AF5',\n",
       " 'NDARGU395RFP',\n",
       " 'NDARFT881VT6',\n",
       " 'NDARRV837BZQ',\n",
       " 'NDARCZ915NC1',\n",
       " 'NDARKW521EMY',\n",
       " 'NDAREC647MKW',\n",
       " 'NDARNZ792HBN',\n",
       " 'NDARNR709MMQ',\n",
       " 'NDARNK241ZXA',\n",
       " 'NDARHM413HVA',\n",
       " 'NDARTK933KL9',\n",
       " 'NDAREN667YTZ',\n",
       " 'NDARYY218LU2',\n",
       " 'NDARRX819BZ0',\n",
       " 'NDARPW313LAJ',\n",
       " 'NDARHN158DC6',\n",
       " 'NDARDF373ZDW',\n",
       " 'NDARLJ334YD0',\n",
       " 'NDARCD357CZR',\n",
       " 'NDARDT528ZZJ',\n",
       " 'NDARLJ148JH2',\n",
       " 'NDARMN302YAV',\n",
       " 'NDARZU822WN3',\n",
       " 'NDARWV449GEM',\n",
       " 'NDAREM731BYM',\n",
       " 'NDARJG300HWH',\n",
       " 'NDARLN070VX7',\n",
       " 'NDARTB755MF5',\n",
       " 'NDARJH707GJM',\n",
       " 'NDARHF351AA6',\n",
       " 'NDARUJ779NM0',\n",
       " 'NDARML024FF2',\n",
       " 'NDARXT822TAA',\n",
       " 'NDARTN487KDK',\n",
       " 'NDARTE424BUF',\n",
       " 'NDARBV059CGE',\n",
       " 'NDARRF897HB5',\n",
       " 'NDARLL914UW4']"
      ]
     },
     "execution_count": 12,
     "metadata": {},
     "output_type": "execute_result"
    }
   ],
   "source": [
    "asd_sub_list\n",
    "nt_sub_list\n",
    "adhd_c_sub_list"
   ]
  },
  {
   "cell_type": "code",
   "execution_count": 13,
   "id": "1bfec500-e219-482a-9023-2550ae685b4e",
   "metadata": {},
   "outputs": [],
   "source": [
    "#how many have both the present and despicable me"
   ]
  },
  {
   "cell_type": "code",
   "execution_count": 14,
   "id": "74c65237-d885-4265-a5d8-f52386273723",
   "metadata": {},
   "outputs": [
    {
     "name": "stdout",
     "output_type": "stream",
     "text": [
      "total=49, the present=46, despicable me=35\n",
      "total=48, the present=46, despicable me=43\n",
      "total=90, the present=84, despicable me=71\n"
     ]
    }
   ],
   "source": [
    "import os.path\n",
    "prefix='/nobackup/scratch/Mon/jsmentch/hbn_cifti_cleaned/smoothed/sub-'\n",
    "\n",
    "for s in [asd_sub_list, nt_sub_list, adhd_c_sub_list]:\n",
    "    total_count=0\n",
    "    DM_count=0\n",
    "    TP_count=0\n",
    "    for a in s:\n",
    "        total_count = total_count+1\n",
    "        if os.path.isfile(f'{prefix}{a}/sub-{a}_clean_task-movieDM_space-fsLR_den-91k_bold.dtseries.nii'):\n",
    "            DM_count =DM_count+1\n",
    "        if os.path.isfile(f'{prefix}{a}/sub-{a}_clean_task-movieTP_space-fsLR_den-91k_bold.dtseries.nii'):\n",
    "            TP_count =TP_count+1\n",
    "    print(f'total={total_count}, the present={TP_count}, despicable me={DM_count}')"
   ]
  },
  {
   "cell_type": "code",
   "execution_count": 15,
   "id": "2fc9aa93-1485-42e1-a43a-2e680ac2cb66",
   "metadata": {},
   "outputs": [],
   "source": [
    "#build a classifier\n",
    "#train on despicable me, #test on the present\n",
    "#subjects who have only seen one or the other should be used for one or the other specifically"
   ]
  },
  {
   "cell_type": "markdown",
   "id": "3a318fb3-1f0c-4be6-b15a-559593ea6c93",
   "metadata": {},
   "source": [
    "### Plot UMAP plots of ASD vs NT participants."
   ]
  },
  {
   "cell_type": "code",
   "execution_count": 16,
   "id": "01809045-6abf-43e6-a903-e2a41a54ebf1",
   "metadata": {},
   "outputs": [],
   "source": [
    "import nibabel as nb\n",
    "import umap"
   ]
  },
  {
   "cell_type": "code",
   "execution_count": 17,
   "id": "97a15ca4-7a17-4e27-9979-d5b7c5250dbd",
   "metadata": {},
   "outputs": [],
   "source": [
    "#load ASD despicable me\n",
    "dm_asd = []\n",
    "\n",
    "prefix='/nobackup/scratch/Mon/jsmentch/hbn_cifti_cleaned/smoothed/parcellated/sub-'\n",
    "\n",
    "for s in asd_sub_list:\n",
    "    im_file=f'{prefix}{s}/sub-{s}_clean_task-movieDM_space-fsLR_den-91k_bold.dtseries.nii'\n",
    "    if os.path.isfile(im_file):\n",
    "        img = nb.load(im_file)\n",
    "        img_x = img.get_fdata()\n",
    "        dm_asd.append(img_x)\n",
    "\n",
    "dm_asd_array = np.array(dm_asd)\n",
    "dm_asd_stacked = np.vstack(dm_asd)\n",
    "\n",
    "dm_asd_array_flat = np.reshape(dm_asd_array,(len(dm_asd),270000))\n",
    "dm_asd_array_flat = np.nan_to_num(dm_asd_array_flat)"
   ]
  },
  {
   "cell_type": "code",
   "execution_count": 18,
   "id": "7bbde980-4c0d-40de-8383-1a9a0284c0af",
   "metadata": {},
   "outputs": [],
   "source": [
    "#load NT despicable me\n",
    "#load ASD despicable me\n",
    "dm_nt = []\n",
    "\n",
    "prefix='/nobackup/scratch/Mon/jsmentch/hbn_cifti_cleaned/smoothed/parcellated/sub-'\n",
    "\n",
    "for s in nt_sub_list:\n",
    "    im_file=f'{prefix}{s}/sub-{s}_clean_task-movieDM_space-fsLR_den-91k_bold.dtseries.nii'\n",
    "    if os.path.isfile(im_file):\n",
    "        img = nb.load(im_file)\n",
    "        img_x = img.get_fdata()\n",
    "        dm_nt.append(img_x)\n",
    "\n",
    "dm_nt_array = np.array(dm_nt)\n",
    "dm_nt_stacked = np.vstack(dm_nt)\n",
    "\n",
    "dm_nt_array_flat = np.reshape(dm_nt_array,(len(dm_nt),270000))\n",
    "dm_nt_array_flat = np.nan_to_num(dm_nt_array_flat)"
   ]
  },
  {
   "cell_type": "code",
   "execution_count": 19,
   "id": "e68dd087-b045-4204-abee-3abb55fcd127",
   "metadata": {},
   "outputs": [],
   "source": [
    "adhd_c_sub_list\n",
    "\n",
    "#load NT despicable me\n",
    "#load ASD despicable me\n",
    "dm_adhd_c = []\n",
    "\n",
    "prefix='/nobackup/scratch/Mon/jsmentch/hbn_cifti_cleaned/smoothed/parcellated/sub-'\n",
    "\n",
    "for s in adhd_c_sub_list:\n",
    "    im_file=f'{prefix}{s}/sub-{s}_clean_task-movieDM_space-fsLR_den-91k_bold.dtseries.nii'\n",
    "    if os.path.isfile(im_file):\n",
    "        img = nb.load(im_file)\n",
    "        img_x = img.get_fdata()\n",
    "        dm_adhd_c.append(img_x)\n",
    "\n",
    "dm_adhd_c_array = np.array(dm_adhd_c)\n",
    "dm_adhd_c_stacked = np.vstack(dm_adhd_c)\n",
    "\n",
    "dm_adhd_c_array_flat = np.reshape(dm_adhd_c_array,(len(dm_adhd_c),270000))\n",
    "dm_adhd_c_array_flat = np.nan_to_num(dm_adhd_c_array_flat)"
   ]
  },
  {
   "cell_type": "code",
   "execution_count": 20,
   "id": "6e6aebf6-7101-4f81-87d2-520a47ddff30",
   "metadata": {},
   "outputs": [
    {
     "data": {
      "text/plain": [
       "(35, 43, 71)"
      ]
     },
     "execution_count": 20,
     "metadata": {},
     "output_type": "execute_result"
    }
   ],
   "source": [
    "len(dm_asd),len(dm_nt),len(dm_adhd_c)"
   ]
  },
  {
   "cell_type": "code",
   "execution_count": null,
   "id": "2183cfec-68be-4a27-b891-e1b1e40771cf",
   "metadata": {},
   "outputs": [],
   "source": []
  },
  {
   "cell_type": "code",
   "execution_count": 21,
   "id": "0eb90371-2e6c-4601-b5b0-b03c4507b1be",
   "metadata": {},
   "outputs": [],
   "source": [
    "dm_asd_nt_adhd = []\n",
    "dm_asd_nt_adhd.append(dm_asd_array_flat)\n",
    "dm_asd_nt_adhd.append(dm_nt_array_flat)\n",
    "dm_asd_nt_adhd.append(dm_adhd_c_array_flat)\n",
    "\n",
    "dm_asd_nt_adhd= np.vstack(dm_asd_nt_adhd)\n"
   ]
  },
  {
   "cell_type": "code",
   "execution_count": 22,
   "id": "bf04bff5-e460-4235-967e-746d75872973",
   "metadata": {},
   "outputs": [
    {
     "data": {
      "text/plain": [
       "(149, 2)"
      ]
     },
     "execution_count": 22,
     "metadata": {},
     "output_type": "execute_result"
    }
   ],
   "source": [
    "reducer = umap.UMAP()\n",
    "embedding = reducer.fit_transform(dm_asd_nt_adhd)\n",
    "embedding.shape"
   ]
  },
  {
   "cell_type": "code",
   "execution_count": 23,
   "id": "cfeab6b2-90c4-4273-9da8-366318dc0409",
   "metadata": {},
   "outputs": [],
   "source": [
    "from matplotlib import pyplot as plt"
   ]
  },
  {
   "cell_type": "code",
   "execution_count": 24,
   "id": "3a238d8a-62b5-4598-b43d-9e491a42d7c1",
   "metadata": {},
   "outputs": [
    {
     "data": {
      "text/plain": [
       "Text(0.5, 1.0, 'UMAP embedding of MMP parcellation ptseries - HBN - despicable me')"
      ]
     },
     "execution_count": 24,
     "metadata": {},
     "output_type": "execute_result"
    },
    {
     "data": {
      "image/png": "[encoded data removed]",
      "text/plain": [
       "<Figure size 432x288 with 1 Axes>"
      ]
     },
     "metadata": {
      "needs_background": "light"
     },
     "output_type": "display_data"
    }
   ],
   "source": [
    "plt.scatter(embedding[:len(dm_asd),0],embedding[:len(dm_asd),1],label='ASD')\n",
    "\n",
    "plt.scatter(embedding[len(dm_asd):len(dm_asd)+len(dm_nt),0],embedding[len(dm_asd):len(dm_asd)+len(dm_nt),1],label='NT')\n",
    "\n",
    "plt.scatter(embedding[len(dm_asd)+len(dm_nt):,0],embedding[len(dm_asd)+len(dm_nt):,1],label='ADHD_C')\n",
    "\n",
    "plt.legend()\n",
    "\n",
    "plt.title(f'UMAP embedding of MMP parcellation ptseries - HBN - despicable me')"
   ]
  },
  {
   "cell_type": "markdown",
   "id": "5161ae8f-875c-46a3-a0fa-d8c9a4fff6c0",
   "metadata": {},
   "source": [
    "### now try a simple RNN"
   ]
  },
  {
   "cell_type": "code",
   "execution_count": 25,
   "id": "2eb1a2dd-0cd3-4bdf-8f5b-d859feb311a0",
   "metadata": {},
   "outputs": [],
   "source": [
    "import numpy as np\n",
    "import tensorflow as tf\n",
    "from tensorflow import keras\n",
    "from tensorflow.keras import layers\n",
    "\n",
    "from sklearn.preprocessing import StandardScaler\n",
    "import pandas as pd\n",
    "import nibabel as nb\n",
    "import hrf_tools\n",
    "#from analysis import load_data_HCP_MMP"
   ]
  },
  {
   "cell_type": "code",
   "execution_count": 29,
   "id": "b4c9c627-1c53-4080-adc7-c94807ed45f9",
   "metadata": {},
   "outputs": [
    {
     "data": {
      "text/plain": [
       "(43, 750, 360)"
      ]
     },
     "execution_count": 29,
     "metadata": {},
     "output_type": "execute_result"
    }
   ],
   "source": [
    "dm_nt_array.shape"
   ]
  },
  {
   "cell_type": "code",
   "execution_count": 27,
   "id": "58bb119e-7103-49c8-9cec-1218ca9252ec",
   "metadata": {},
   "outputs": [
    {
     "data": {
      "text/plain": [
       "(35, 750, 360)"
      ]
     },
     "execution_count": 27,
     "metadata": {},
     "output_type": "execute_result"
    }
   ],
   "source": [
    "dm_asd_array.shape"
   ]
  },
  {
   "cell_type": "code",
   "execution_count": 31,
   "id": "ae0e15a2-8654-4c80-ae3e-21139d04ed44",
   "metadata": {},
   "outputs": [
    {
     "data": {
      "text/plain": [
       "(15000, 360)"
      ]
     },
     "execution_count": 31,
     "metadata": {},
     "output_type": "execute_result"
    }
   ],
   "source": [
    "np.vstack(dm_nt_array[:20])\n",
    "np.vstack(dm_asd_array[:20])"
   ]
  },
  {
   "cell_type": "code",
   "execution_count": 42,
   "id": "e518a7e7-ce73-4073-b7ee-e94bc21e6f3f",
   "metadata": {},
   "outputs": [],
   "source": [
    "#NT=0 ASD=1\n",
    "#TRAINING SET\n",
    "X_train = []\n",
    "X_train.append(np.vstack(dm_nt_array[:20]))\n",
    "X_train.append(np.vstack(dm_asd_array[:20]))\n",
    "X_train = np.vstack(X_train)\n",
    "\n",
    "Y_train = np.ones( (30000,1) )\n",
    "Y_train[15000:]=0\n",
    "\n",
    "#VALIDATION SET\n",
    "X_val = []\n",
    "X_val.append(np.vstack(dm_nt_array[20:25]))\n",
    "X_val.append(np.vstack(dm_asd_array[20:25]))\n",
    "X_val = np.vstack(X_val)\n",
    "\n",
    "Y_val = np.ones( (X_val.shape[0],1) )\n",
    "Y_val[ int(X_val.shape[0]/2): ]=0\n",
    "\n",
    "#TEST SET\n",
    "X_test = []\n",
    "X_test.append(np.vstack(dm_nt_array[25:]))\n",
    "Y_test1 = np.zeros( (np.vstack(dm_nt_array[25:]).shape[0],1) )\n",
    "\n",
    "X_test.append(np.vstack(dm_asd_array[25:]))\n",
    "Y_test2 = np.ones( (np.vstack(dm_asd_array[25:]).shape[0],1) )\n",
    "\n",
    "\n",
    "X_test = np.vstack(X_test)\n",
    "\n",
    "Y_test=[]\n",
    "Y_test.append(Y_test1)\n",
    "Y_test.append(Y_test2)\n",
    "Y_test=np.vstack(Y_test)\n",
    "\n",
    "\n",
    "\n",
    "#for each class:\n",
    "#train on 20\n",
    "#val on 5\n",
    "#test on remainder\n",
    "# X_val\n",
    "# X_test\n"
   ]
  },
  {
   "cell_type": "code",
   "execution_count": 51,
   "id": "09ce64b4-3ba0-43ad-b786-2ec9c3ea1b1e",
   "metadata": {},
   "outputs": [],
   "source": [
    "X_train=np.nan_to_num(X_train)\n",
    "X_test=np.nan_to_num(X_test)\n",
    "X_val=np.nan_to_num(X_val)\n"
   ]
  },
  {
   "cell_type": "code",
   "execution_count": 52,
   "id": "36f246b1-f716-481f-8a34-5e8e1ec78e48",
   "metadata": {},
   "outputs": [
    {
     "name": "stdout",
     "output_type": "stream",
     "text": [
      "X_train = (30000, 360)\n",
      "Y_train = (30000, 1)\n",
      "X_val = (7500, 360)\n",
      "Y_val = (7500, 1)\n",
      "X_test = (21000, 360)\n",
      "Y_test = (21000, 1)\n"
     ]
    }
   ],
   "source": [
    "print(f'X_train = {X_train.shape}')\n",
    "print(f'Y_train = {Y_train.shape}')\n",
    "\n",
    "print(f'X_val = {X_val.shape}')\n",
    "print(f'Y_val = {Y_val.shape}')\n",
    "\n",
    "print(f'X_test = {X_test.shape}')\n",
    "print(f'Y_test = {Y_test.shape}')"
   ]
  },
  {
   "cell_type": "code",
   "execution_count": 53,
   "id": "2197382f-4d7b-4e2f-9005-23645a1a95b0",
   "metadata": {},
   "outputs": [],
   "source": [
    "# set Batch size and dimensions\n",
    "batch_size = 750\n",
    "time_steps = 50\n",
    "input_units = 360\n",
    "input_shape = (time_steps,input_units)"
   ]
  },
  {
   "cell_type": "code",
   "execution_count": 54,
   "id": "8622acaf-9cb3-4d57-a2af-c61a0683cc3d",
   "metadata": {},
   "outputs": [],
   "source": [
    "#https://keras.io/api/preprocessing/timeseries/\n",
    "dataset_train = tf.keras.preprocessing.timeseries_dataset_from_array(data = X_train, \n",
    "                                                     targets = Y_train, \n",
    "                                                    sequence_length=time_steps,\n",
    "                                                     batch_size = batch_size)\n",
    "dataset_val = tf.keras.preprocessing.timeseries_dataset_from_array(data = X_val, \n",
    "                                                     targets = Y_val, \n",
    "                                                    sequence_length=time_steps,\n",
    "                                                     batch_size = batch_size)\n",
    "\n",
    "dataset_test = tf.keras.preprocessing.timeseries_dataset_from_array(data = X_val, \n",
    "                                                     targets = Y_val, \n",
    "                                                    sequence_length=time_steps,\n",
    "                                                     batch_size = batch_size)"
   ]
  },
  {
   "cell_type": "code",
   "execution_count": 55,
   "id": "528bf0d4-d575-425e-8e65-63d407426b45",
   "metadata": {},
   "outputs": [
    {
     "name": "stdout",
     "output_type": "stream",
     "text": [
      "Model: \"sequential_1\"\n",
      "_________________________________________________________________\n",
      "Layer (type)                 Output Shape              Param #   \n",
      "=================================================================\n",
      "dropout_3 (Dropout)          (None, 50, 360)           0         \n",
      "_________________________________________________________________\n",
      "lstm_1 (LSTM)                (None, 360)               1038240   \n",
      "_________________________________________________________________\n",
      "dense_3 (Dense)              (None, 360)               129960    \n",
      "_________________________________________________________________\n",
      "dropout_4 (Dropout)          (None, 360)               0         \n",
      "_________________________________________________________________\n",
      "dense_4 (Dense)              (None, 360)               129960    \n",
      "_________________________________________________________________\n",
      "dropout_5 (Dropout)          (None, 360)               0         \n",
      "_________________________________________________________________\n",
      "dense_5 (Dense)              (None, 1)                 361       \n",
      "=================================================================\n",
      "Total params: 1,298,521\n",
      "Trainable params: 1,298,521\n",
      "Non-trainable params: 0\n",
      "_________________________________________________________________\n"
     ]
    }
   ],
   "source": [
    "model = keras.Sequential()\n",
    "# Add an Embedding layer expecting input vocab of size 1000, and\n",
    "# output embedding dimension of size 64.\n",
    "#model.add(layers.Embedding(input_dim=1024, output_dim=1024))\n",
    "\n",
    "model.add(keras.Input(shape=input_shape)) #omit beacuse of bug\n",
    "model.add(layers.Dropout(0.1))\n",
    "# Add a LSTM layer with 128 internal units.\n",
    "model.add(layers.LSTM(input_units))#,batch_input_shape=(batch_size, time_steps, input_units)))\n",
    "model.add(layers.Dense(360,activation='relu'))\n",
    "model.add(layers.Dropout(0.1))\n",
    "model.add(layers.Dense(360,activation='relu'))\n",
    "model.add(layers.Dropout(0.1))\n",
    "#model.add(layers.Dense(360))\n",
    "\n",
    "#model.add(layers.UpSampling1D(size=10))\n",
    "#model.add(layers.Dense(17049))\n",
    "#model.add(layers.Dense(128))\n",
    "model.add(layers.Dense(1,activation='sigmoid')) #1 and sigmoid because doing binary classification\n",
    "#model.add(layers.Dense(360))\n",
    "model.summary()"
   ]
  },
  {
   "cell_type": "code",
   "execution_count": 57,
   "id": "4ace7af0-1a6b-4ea3-be78-2d146fa6549e",
   "metadata": {},
   "outputs": [],
   "source": [
    "from tensorflow.keras.callbacks import EarlyStopping\n",
    "es = EarlyStopping(monitor = 'val_loss', mode = 'min', verbose = 1, restore_best_weights=True, patience=25)\n",
    "\n",
    "model.compile(\n",
    "    #loss=keras.losses.MeanSquaredError(reduction=\"auto\", name=\"mean_squared_error\"),\n",
    "    loss=keras.losses.BinaryCrossentropy(),\n",
    "    optimizer=\"adam\",\n",
    "    metrics=['accuracy']\n",
    ")"
   ]
  },
  {
   "cell_type": "code",
   "execution_count": 58,
   "id": "33b9cf29-7a58-42ba-a0e2-8fa5d3ac8e8a",
   "metadata": {},
   "outputs": [
    {
     "name": "stdout",
     "output_type": "stream",
     "text": [
      "Epoch 1/2\n",
      "40/40 [==============================] - 356s 9s/step - loss: 1.8115 - accuracy: 0.7902 - val_loss: 0.6998 - val_accuracy: 0.4974\n",
      "Epoch 2/2\n",
      "40/40 [==============================] - 375s 9s/step - loss: 0.7736 - accuracy: 0.1082 - val_loss: 0.6930 - val_accuracy: 0.5091\n"
     ]
    }
   ],
   "source": [
    "history = model.fit(dataset_train,epochs = 2, validation_data=dataset_val, callbacks = [es])"
   ]
  },
  {
   "cell_type": "code",
   "execution_count": 59,
   "id": "115f9bfb-f579-428e-89d9-f1971a6dc8ea",
   "metadata": {},
   "outputs": [
    {
     "name": "stdout",
     "output_type": "stream",
     "text": [
      "Epoch 1/2\n",
      "40/40 [==============================] - 362s 9s/step - loss: 0.6965 - accuracy: 0.3401 - val_loss: 0.6931 - val_accuracy: 0.5009\n",
      "Epoch 2/2\n",
      "40/40 [==============================] - 350s 9s/step - loss: 0.6942 - accuracy: 0.4174 - val_loss: 0.6931 - val_accuracy: 0.5011\n"
     ]
    }
   ],
   "source": [
    "history = model.fit(dataset_train,epochs = 2, validation_data=dataset_val, callbacks = [es])"
   ]
  },
  {
   "cell_type": "code",
   "execution_count": 60,
   "id": "f5e0a3bd-5fa2-45dd-b4b8-277b990e5042",
   "metadata": {},
   "outputs": [
    {
     "name": "stdout",
     "output_type": "stream",
     "text": [
      "Epoch 1/2\n",
      "40/40 [==============================] - 354s 9s/step - loss: 0.6936 - accuracy: 0.4426 - val_loss: 0.6931 - val_accuracy: 0.5049\n",
      "Epoch 2/2\n",
      "40/40 [==============================] - 355s 9s/step - loss: 0.6930 - accuracy: 0.4676 - val_loss: 0.6932 - val_accuracy: 0.5050\n"
     ]
    }
   ],
   "source": [
    "history = model.fit(dataset_train,epochs = 2, validation_data=dataset_val, callbacks = [es])"
   ]
  },
  {
   "cell_type": "code",
   "execution_count": null,
   "id": "5bb66f6a-8372-49c1-8dd8-803b993216e5",
   "metadata": {},
   "outputs": [
    {
     "name": "stdout",
     "output_type": "stream",
     "text": [
      "Epoch 1/2\n",
      "26/40 [==================>...........] - ETA: 1:52 - loss: 0.6901 - accuracy: 0.5320"
     ]
    }
   ],
   "source": [
    "history = model.fit(dataset_train,epochs = 2, validation_data=dataset_val, callbacks = [es])"
   ]
  },
  {
   "cell_type": "code",
   "execution_count": null,
   "id": "7392561f-1b35-49db-9a0e-d4379fa0a887",
   "metadata": {},
   "outputs": [],
   "source": [
    "model.evaluate(dataset_test)"
   ]
  },
  {
   "cell_type": "code",
   "execution_count": null,
   "id": "9519e05a-8ee4-461e-b959-ae8f8922a64e",
   "metadata": {},
   "outputs": [],
   "source": []
  }
 ],
 "metadata": {
  "kernelspec": {
   "display_name": "Python 3",
   "language": "python",
   "name": "python3"
  },
  "language_info": {
   "codemirror_mode": {
    "name": "ipython",
    "version": 3
   },
   "file_extension": ".py",
   "mimetype": "text/x-python",
   "name": "python",
   "nbconvert_exporter": "python",
   "pygments_lexer": "ipython3",
   "version": "3.8.5"
  }
 },
 "nbformat": 4,
 "nbformat_minor": 5
}
