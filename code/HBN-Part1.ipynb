{
 "cells": [
  {
   "cell_type": "markdown",
   "id": "6e286163-7f1a-4001-9de5-c6f6881191f9",
   "metadata": {},
   "source": [
    "# Notebook to take a first look at the HBN data and classify subjects w/ and w/out ADHD"
   ]
  },
  {
   "cell_type": "code",
   "execution_count": 1,
   "id": "0b60d652-12f6-46fd-bca6-f57869825c4d",
   "metadata": {},
   "outputs": [],
   "source": [
    "import numpy as np\n",
    "import pandas as pd\n",
    "from glob import glob\n",
    "import os"
   ]
  },
  {
   "cell_type": "code",
   "execution_count": 2,
   "id": "9943842b-7b95-4131-b1fc-04ef46809fa1",
   "metadata": {},
   "outputs": [],
   "source": [
    "brain_dir='/nobackup/scratch/Mon/jsmentch/hbn_cifti_cleaned/smoothed/'"
   ]
  },
  {
   "cell_type": "markdown",
   "id": "a90070c6-5949-4d5d-9d96-3285947215ae",
   "metadata": {},
   "source": [
    "### list all subjects to get a look at who has a dx or not"
   ]
  },
  {
   "cell_type": "code",
   "execution_count": 3,
   "id": "9848bcab-0d3e-417c-a94c-50243d28c8c5",
   "metadata": {},
   "outputs": [],
   "source": [
    "#load data\n",
    "all_dx = np.load('../sourcedata/data/HBN/phenotype/parsed/dx_list.npy')\n",
    "sub_list = np.load('../sourcedata/data/HBN/phenotype/parsed/sub_list.npy')\n",
    "dx_array = np.load('../sourcedata/data/HBN/phenotype/parsed/dx_onehot.npy')"
   ]
  },
  {
   "cell_type": "code",
   "execution_count": 4,
   "id": "202607e2-6610-48d6-9eee-df308e8f71e7",
   "metadata": {},
   "outputs": [],
   "source": [
    "sub_list = list(sub_list)"
   ]
  },
  {
   "cell_type": "code",
   "execution_count": 5,
   "id": "4eb07d84-b1b9-4d4f-aea6-47b72d32af68",
   "metadata": {},
   "outputs": [],
   "source": [
    "subdirs=glob(f\"{brain_dir}*/\")\n",
    "stripped = [s[:-1] for s in subdirs]\n",
    "stripped = [os.path.basename(s) for s in stripped]\n",
    "sub_ids = [s[4:] for s in stripped]"
   ]
  },
  {
   "cell_type": "markdown",
   "id": "27bdd1f0-d507-4635-a797-16ea50906e85",
   "metadata": {},
   "source": [
    "### how many subjects have dx data???"
   ]
  },
  {
   "cell_type": "code",
   "execution_count": 6,
   "id": "a5fb290b-631c-405e-a492-9fc4c796b2a5",
   "metadata": {},
   "outputs": [
    {
     "name": "stdout",
     "output_type": "stream",
     "text": [
      "no dx data for: 513\n",
      "dx data for: 391\n"
     ]
    }
   ],
   "source": [
    "dx_count = 0\n",
    "dne_count = 0\n",
    "dx_array_RU = []\n",
    "\n",
    "sub_list_w_dx = [] # ru subjects with diagnostic data available\n",
    "dx_list_w_dx = [] # corresponding list of dx one hot data\n",
    "\n",
    "for s in sub_ids:\n",
    "    try:\n",
    "        ind = sub_list.index(s)\n",
    "        dx_count = dx_count+1\n",
    "        sub_list_w_dx.append(sub_list[ind])\n",
    "        dx_list_w_dx.append(dx_array[ind])\n",
    "        \n",
    "    except:\n",
    "        #print(\"DNE\")\n",
    "        dne_count=dne_count+1\n",
    "print(f\"no dx data for: {dne_count}\")\n",
    "print(f\"dx data for: {dx_count}\")  "
   ]
  },
  {
   "cell_type": "markdown",
   "id": "d4a10659-c0fc-409b-9726-565c156a9644",
   "metadata": {},
   "source": [
    "Less than half at the moment. 391/904 = ~43% 7/13/21"
   ]
  },
  {
   "cell_type": "code",
   "execution_count": 7,
   "id": "c7e60a0a-f5c3-48ec-8f01-67f732f82e24",
   "metadata": {},
   "outputs": [],
   "source": [
    "dx_df = pd.DataFrame(dx_list_w_dx)\n",
    "dx_df.columns = all_dx"
   ]
  },
  {
   "cell_type": "code",
   "execution_count": 8,
   "id": "04a5bc13-c6d7-4b43-8047-d232b765ed95",
   "metadata": {},
   "outputs": [
    {
     "name": "stdout",
     "output_type": "stream",
     "text": [
      "ADHD-Combined Type                                                              90.0\n",
      "ADHD-Hyperactive/Impulsive Type                                                 12.0\n",
      "ADHD-Inattentive Type                                                           95.0\n",
      "Acute Stress Disorder                                                            0.0\n",
      "Adjustment Disorders                                                             9.0\n",
      "Agoraphobia                                                                      1.0\n",
      "Alcohol Use Disorder                                                             0.0\n",
      "Autism Spectrum Disorder                                                        49.0\n",
      "Avoidant/Restrictive Food Intake Disorder                                        0.0\n",
      "Binge-Eating Disorder                                                            1.0\n",
      "Bipolar I Disorder                                                               0.0\n",
      "Bipolar II Disorder                                                              0.0\n",
      "Borderline Intellectual Functioning                                              2.0\n",
      "Bulimia Nervosa                                                                  0.0\n",
      "Cannabis Use Disorder                                                            0.0\n",
      "Child Neglect                                                                    0.0\n",
      "Child Onset Fluency Disorder (Stuttering)                                        1.0\n",
      "Conversion Disorder                                                              0.0\n",
      "Developmental Coordination Disorder                                              3.0\n",
      "Disruptive Mood Dysregulation Disorder                                           4.0\n",
      "Encopresis                                                                       3.0\n",
      "Enuresis                                                                        22.0\n",
      "Excoriation (Skin-Picking) Disorder                                              2.0\n",
      "Gender Dysphoria in Children                                                     0.0\n",
      "Generalized Anxiety Disorder                                                    38.0\n",
      "Hoarding Disorder                                                                1.0\n",
      "Insomnia Disorder                                                                1.0\n",
      "Intellectual Disability-Mild                                                     8.0\n",
      "Intellectual Disability-Moderate                                                 0.0\n",
      "Intellectual Disability-Severe                                                   0.0\n",
      "Language Disorder                                                               33.0\n",
      "Major Depressive Disorder                                                       11.0\n",
      "Major Neurocognitive Disorder Due to Epilepsy                                    0.0\n",
      "Narcolepsy                                                                       0.0\n",
      "Neurobehavioral Disorder Associated with Prenatal Alcohol Exposure (ND-PAE)      0.0\n",
      "No Diagnosis Given                                                              48.0\n",
      "No Diagnosis Given: Incomplete Eval                                             18.0\n",
      "Obsessive-Compulsive Disorder                                                    6.0\n",
      "Obsessive-Compulsive Disorder                                                    0.0\n",
      "Other Specified Anxiety Disorder                                                19.0\n",
      "Other Specified Attention-Deficit/Hyperactivity Disorder                        11.0\n",
      "Other Specified Bipolar and Related Disorder                                     0.0\n",
      "Other Specified Depressive Disorder                                              6.0\n",
      "Other Specified Elimination Disorder with Urinary Symptoms                       1.0\n",
      "Other Specified Feeding or Eating Disorder                                       0.0\n",
      "Other Specified Insomnia Disorder                                                0.0\n",
      "Other Specified Neurodevelopmental Disorder                                      0.0\n",
      "Other Specified Schizophrenia Spectrum and Other Psychotic Disorder              2.0\n",
      "Other Specified Tic Disorder                                                     1.0\n",
      "Other Specified Trauma- and Stressor-Related Disorder                            1.0\n",
      "Panic Disorder                                                                   0.0\n",
      "Parent-Child Relational Problem                                                  0.0\n",
      "Persistent (Chronic) Motor or Vocal Tic Disorder                                 7.0\n",
      "Persistent Depressive Disorder (Dysthymia)                                       4.0\n",
      "Pica in Children                                                                 1.0\n",
      "Posttraumatic Stress Disorder                                                    0.0\n",
      "Provisional Tic Disorder                                                         1.0\n",
      "Reactive Attachment Disorder                                                     0.0\n",
      "Schizophrenia                                                                    0.0\n",
      "Selective Mutism                                                                 2.0\n",
      "Separation Anxiety                                                              13.0\n",
      "Social (Pragmatic) Communication Disorder                                        2.0\n",
      "Social Anxiety (Social Phobia)                                                  25.0\n",
      "Specific Learning Disorder with Impairment in Mathematics                       11.0\n",
      "Specific Learning Disorder with Impairment in Mathematics                        0.0\n",
      "Specific Learning Disorder with Impairment in Reading                           48.0\n",
      "Specific Learning Disorder with Impairment in Reading                            0.0\n",
      "Specific Learning Disorder with Impairment in Written Expression                 7.0\n",
      "Specific Phobia                                                                 21.0\n",
      "Speech Sound Disorder                                                            8.0\n",
      "Tobacco Use Disorder                                                             0.0\n",
      "Tourettes Disorder                                                               5.0\n",
      "Trichotillomania (Hair-Pulling Disorder)                                         0.0\n",
      "Unspecified Anxiety Disorder                                                     0.0\n",
      "Unspecified Attention-Deficit/Hyperactivity Disorder                             1.0\n",
      "Unspecified Bipolar and Related Disorder                                         0.0\n",
      "Unspecified Depressive Disorder                                                  0.0\n",
      "Unspecified Intellectual Disability                                              0.0\n",
      "Unspecified Neurodevelopmental Disorder                                          1.0\n",
      "Unspecified Tic Disorder                                                         0.0\n"
     ]
    }
   ],
   "source": [
    "dx_sum = dx_df.sum()\n",
    "print(dx_sum.to_string())"
   ]
  },
  {
   "cell_type": "markdown",
   "id": "71814b2d-4016-48ac-9e2a-fc00133f7613",
   "metadata": {},
   "source": [
    "### get subjects with no dx and subjects with ASD since it is about balanced"
   ]
  },
  {
   "cell_type": "code",
   "execution_count": 9,
   "id": "a0186a01-5d17-48bf-bea4-9a0524289b1c",
   "metadata": {},
   "outputs": [
    {
     "data": {
      "text/plain": [
       "35"
      ]
     },
     "execution_count": 9,
     "metadata": {},
     "output_type": "execute_result"
    }
   ],
   "source": [
    "list(all_dx).index(\"Autism Spectrum Disorder\")\n",
    "list(all_dx).index(\"No Diagnosis Given\")"
   ]
  },
  {
   "cell_type": "code",
   "execution_count": 20,
   "id": "d907fb02-f07d-4b17-b8fd-aebcae6273af",
   "metadata": {},
   "outputs": [],
   "source": [
    "asd_sub_list = [] # list of RU subject ids w asd\n",
    "asd_dx_list = []  # list of RU subjects w asd full dx\n",
    "nt_sub_list = []  # list of RU subjects w no dx\n",
    "\n",
    "adhd_c_sub_list = []\n",
    "adhd_c_dx_list = []\n",
    "\n",
    "for i,s in enumerate(dx_list_w_dx):\n",
    "    if s[35]==1:\n",
    "        #print(\"NT\")\n",
    "        nt_sub_list.append(sub_list_w_dx[i])\n",
    "    if s[7]==1:\n",
    "        #print(\"ASD\")\n",
    "        asd_sub_list.append(sub_list_w_dx[i])\n",
    "        asd_dx_list.append(dx_list_w_dx[i])\n",
    "    if s[0]==1:\n",
    "        #print(\"ASD\")\n",
    "        adhd_c_sub_list.append(sub_list_w_dx[i])\n",
    "        adhd_c_dx_list.append(dx_list_w_dx[i])\n",
    "    "
   ]
  },
  {
   "cell_type": "code",
   "execution_count": 22,
   "id": "5e6ed25c-4ff1-407d-a950-663629e7d472",
   "metadata": {},
   "outputs": [
    {
     "data": {
      "text/plain": [
       "48"
      ]
     },
     "execution_count": 22,
     "metadata": {},
     "output_type": "execute_result"
    }
   ],
   "source": [
    "len(nt_sub_list)"
   ]
  },
  {
   "cell_type": "markdown",
   "id": "9f4e7977-7f65-4303-9048-500bb5a30adc",
   "metadata": {},
   "source": [
    "### load asd subjects. load nt subjects... Then.. Compare something"
   ]
  },
  {
   "cell_type": "code",
   "execution_count": 11,
   "id": "add45a9f-ce29-48cc-bc52-dca279ba0025",
   "metadata": {},
   "outputs": [
    {
     "data": {
      "text/plain": [
       "['NDARVD635FX8',\n",
       " 'NDARAC853DTE',\n",
       " 'NDARUZ206DRV',\n",
       " 'NDARZW262ZLV',\n",
       " 'NDARXL023NG9',\n",
       " 'NDARYN595JMA',\n",
       " 'NDARML406ZB8',\n",
       " 'NDARCF247TDJ',\n",
       " 'NDARPW915RGD',\n",
       " 'NDARFR095UJK',\n",
       " 'NDARZE850WXD',\n",
       " 'NDARMZ200GVD',\n",
       " 'NDARLN778RYN',\n",
       " 'NDAREF164ZUJ',\n",
       " 'NDARKP815KPZ',\n",
       " 'NDARXK076XU8',\n",
       " 'NDARFA402LMW',\n",
       " 'NDARWA351ZE2',\n",
       " 'NDARPV303LAX',\n",
       " 'NDARRA717GYV',\n",
       " 'NDARUX284GGB',\n",
       " 'NDARYZ909VND',\n",
       " 'NDARVP135ZGE',\n",
       " 'NDARTX795AKR',\n",
       " 'NDARAP782TVC',\n",
       " 'NDARUN221VCJ',\n",
       " 'NDARDR458MR7',\n",
       " 'NDARPP622WV4',\n",
       " 'NDARJW373UE3',\n",
       " 'NDARJZ526HN3',\n",
       " 'NDARPL201YL4',\n",
       " 'NDAREK801BPB',\n",
       " 'NDARYG391PMU',\n",
       " 'NDARXY745NXJ',\n",
       " 'NDARDF568GL5',\n",
       " 'NDARKJ322ELL',\n",
       " 'NDARHT095YB4',\n",
       " 'NDARAD232HVV',\n",
       " 'NDARDC987BMU',\n",
       " 'NDARXD388TTE',\n",
       " 'NDARCK647MU6',\n",
       " 'NDARLL790WLF',\n",
       " 'NDARNR734JZH',\n",
       " 'NDARFR820KFF',\n",
       " 'NDARAA948VFH',\n",
       " 'NDARUB231LHN',\n",
       " 'NDARRL685WB7',\n",
       " 'NDARTP313AGH',\n",
       " 'NDARAE358VBE',\n",
       " 'NDARGA499CKF',\n",
       " 'NDARHN749RW4',\n",
       " 'NDARLF142AF5',\n",
       " 'NDARGU395RFP',\n",
       " 'NDARFT881VT6',\n",
       " 'NDARRV837BZQ',\n",
       " 'NDARCZ915NC1',\n",
       " 'NDARKW521EMY',\n",
       " 'NDAREC647MKW',\n",
       " 'NDARNZ792HBN',\n",
       " 'NDARNR709MMQ',\n",
       " 'NDARNK241ZXA',\n",
       " 'NDARHM413HVA',\n",
       " 'NDARTK933KL9',\n",
       " 'NDAREN667YTZ',\n",
       " 'NDARYY218LU2',\n",
       " 'NDARRX819BZ0',\n",
       " 'NDARPW313LAJ',\n",
       " 'NDARHN158DC6',\n",
       " 'NDARDF373ZDW',\n",
       " 'NDARLJ334YD0',\n",
       " 'NDARCD357CZR',\n",
       " 'NDARDT528ZZJ',\n",
       " 'NDARLJ148JH2',\n",
       " 'NDARMN302YAV',\n",
       " 'NDARZU822WN3',\n",
       " 'NDARWV449GEM',\n",
       " 'NDAREM731BYM',\n",
       " 'NDARJG300HWH',\n",
       " 'NDARLN070VX7',\n",
       " 'NDARTB755MF5',\n",
       " 'NDARJH707GJM',\n",
       " 'NDARHF351AA6',\n",
       " 'NDARUJ779NM0',\n",
       " 'NDARML024FF2',\n",
       " 'NDARXT822TAA',\n",
       " 'NDARTN487KDK',\n",
       " 'NDARTE424BUF',\n",
       " 'NDARBV059CGE',\n",
       " 'NDARRF897HB5',\n",
       " 'NDARLL914UW4']"
      ]
     },
     "execution_count": 11,
     "metadata": {},
     "output_type": "execute_result"
    }
   ],
   "source": [
    "asd_sub_list\n",
    "nt_sub_list\n",
    "adhd_c_sub_list"
   ]
  },
  {
   "cell_type": "code",
   "execution_count": 12,
   "id": "1bfec500-e219-482a-9023-2550ae685b4e",
   "metadata": {},
   "outputs": [],
   "source": [
    "#how many have both the present and despicable me"
   ]
  },
  {
   "cell_type": "code",
   "execution_count": 26,
   "id": "74c65237-d885-4265-a5d8-f52386273723",
   "metadata": {},
   "outputs": [
    {
     "name": "stdout",
     "output_type": "stream",
     "text": [
      "total=49, the present=46, despicable me=35\n",
      "total=48, the present=46, despicable me=43\n",
      "total=90, the present=84, despicable me=71\n"
     ]
    }
   ],
   "source": [
    "import os.path\n",
    "prefix='/nobackup/scratch/Mon/jsmentch/hbn_cifti_cleaned/smoothed/sub-'\n",
    "\n",
    "for s in [asd_sub_list, nt_sub_list, adhd_c_sub_list]:\n",
    "    total_count=0\n",
    "    DM_count=0\n",
    "    TP_count=0\n",
    "    for a in s:\n",
    "        total_count = total_count+1\n",
    "        if os.path.isfile(f'{prefix}{a}/sub-{a}_clean_task-movieDM_space-fsLR_den-91k_bold.dtseries.nii'):\n",
    "            DM_count =DM_count+1\n",
    "        if os.path.isfile(f'{prefix}{a}/sub-{a}_clean_task-movieTP_space-fsLR_den-91k_bold.dtseries.nii'):\n",
    "            TP_count =TP_count+1\n",
    "    print(f'total={total_count}, the present={TP_count}, despicable me={DM_count}')"
   ]
  },
  {
   "cell_type": "code",
   "execution_count": null,
   "id": "2fc9aa93-1485-42e1-a43a-2e680ac2cb66",
   "metadata": {},
   "outputs": [],
   "source": []
  }
 ],
 "metadata": {
  "kernelspec": {
   "display_name": "Python 3",
   "language": "python",
   "name": "python3"
  },
  "language_info": {
   "codemirror_mode": {
    "name": "ipython",
    "version": 3
   },
   "file_extension": ".py",
   "mimetype": "text/x-python",
   "name": "python",
   "nbconvert_exporter": "python",
   "pygments_lexer": "ipython3",
   "version": "3.8.5"
  }
 },
 "nbformat": 4,
 "nbformat_minor": 5
}
