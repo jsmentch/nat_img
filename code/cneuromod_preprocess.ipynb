{
 "cells": [
  {
   "cell_type": "markdown",
   "id": "4aa503a2-a5f5-4134-bc92-14a8fbc7ba57",
   "metadata": {},
   "source": [
    "# code to preprocess cneuromod cifti files for further analyses"
   ]
  },
  {
   "cell_type": "code",
   "execution_count": 1,
   "id": "a2a84a8e-9e3d-4aed-a404-aa5e8447a945",
   "metadata": {},
   "outputs": [],
   "source": [
    "import numpy as np\n",
    "from scipy import signal\n",
    "import pandas as pd\n",
    "from nilearn.image import load_img\n",
    "from nilearn.image import clean_img\n",
    "from nilearn.image import smooth_img\n",
    "from nilearn.image import index_img\n",
    "from nilearn.signal import clean\n",
    "from os import walk, mkdir\n",
    "from utility import var_to_nan\n",
    "from pathlib import Path\n",
    "import nibabel as nib\n",
    "from nibabel import cifti2"
   ]
  },
  {
   "cell_type": "code",
   "execution_count": 2,
   "id": "ea3ce1dd-e446-49a0-8341-e5fbd31ede7c",
   "metadata": {},
   "outputs": [],
   "source": [
    "#brainpath=f'/om4/group/gablab/data/HBN/derivatives/fmriprep/{sub}/func/{sub}_task-movie{task}_space-fsLR_den-91k_bold.dtseries.nii'\n",
    "brainpath=f'/om2/user/jsmentch/projects/nat_img/sourcedata/data/cneuromod/friends.fmriprep/sub-01/ses-001/func/sub-01_ses-001_task-s01e02a_space-fsLR_den-91k_bold.dtseries.nii'\n",
    "#confound_path=f'/om4/group/gablab/data/HBN/derivatives/fmriprep/{sub}/func/{sub}_task-movie{task}_desc-confounds_timeseries.tsv'\n",
    "confound_path=f'/om2/user/jsmentch/projects/nat_img/sourcedata/data/cneuromod/friends.fmriprep/sub-01/ses-001/func/sub-01_ses-001_task-s01e02a_desc-confounds_timeseries.tsv'\n",
    "\n",
    "#export_path = f'/nobackup/scratch/Mon/jsmentch/hbn_cifti_cleaned/{sub}'\n",
    "#exportfile = Path(f'{export_path}/{sub}_clean_task-movie{task}_space-fsLR_den-91k_bold.dtseries.nii')"
   ]
  },
  {
   "cell_type": "code",
   "execution_count": 3,
   "id": "a997234f-bb50-471b-960b-76ae054d66c0",
   "metadata": {},
   "outputs": [],
   "source": [
    "data = pd.read_csv(confound_path, sep='\\t')"
   ]
  },
  {
   "cell_type": "code",
   "execution_count": 4,
   "id": "e83aac3b-3ed1-485d-ab93-e7339e600947",
   "metadata": {},
   "outputs": [
    {
     "data": {
      "text/plain": [
       "['motion_outlier00',\n",
       " 'motion_outlier01',\n",
       " 'motion_outlier02',\n",
       " 'motion_outlier03',\n",
       " 'motion_outlier04',\n",
       " 'motion_outlier05',\n",
       " 'motion_outlier06',\n",
       " 'motion_outlier07']"
      ]
     },
     "execution_count": 4,
     "metadata": {},
     "output_type": "execute_result"
    }
   ],
   "source": [
    "all_confounds = [col for col in data.columns]\n",
    "\n",
    "motion_outliers = [mo for mo in all_confounds if \"motion_outlier\" in mo]\n",
    "motion_outliers"
   ]
  },
  {
   "cell_type": "code",
   "execution_count": 5,
   "id": "0a3c0bcb-4b8d-4471-9682-95ac23a3fda4",
   "metadata": {},
   "outputs": [],
   "source": [
    "confounds=data[['global_signal', 'csf', 'white_matter', 'framewise_displacement', 'a_comp_cor_00', 'a_comp_cor_01', 'a_comp_cor_02', 'a_comp_cor_03', 'a_comp_cor_04', 'rot_x','rot_y','rot_z','trans_x','trans_y','trans_z']].to_numpy()"
   ]
  },
  {
   "cell_type": "code",
   "execution_count": null,
   "id": "b36fa9b0-e15d-41e6-8410-e7aca3fc6568",
   "metadata": {},
   "outputs": [],
   "source": []
  }
 ],
 "metadata": {
  "kernelspec": {
   "display_name": "Python 3",
   "language": "python",
   "name": "python3"
  },
  "language_info": {
   "codemirror_mode": {
    "name": "ipython",
    "version": 3
   },
   "file_extension": ".py",
   "mimetype": "text/x-python",
   "name": "python",
   "nbconvert_exporter": "python",
   "pygments_lexer": "ipython3",
   "version": "3.8.5"
  }
 },
 "nbformat": 4,
 "nbformat_minor": 5
}
