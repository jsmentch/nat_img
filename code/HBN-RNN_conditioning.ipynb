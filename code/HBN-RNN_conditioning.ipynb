{
 "cells": [
  {
   "cell_type": "markdown",
   "id": "6e286163-7f1a-4001-9de5-c6f6881191f9",
   "metadata": {},
   "source": [
    "# Notebook to take a first look at the HBN data and classify subjects w/ and w/out ADHD"
   ]
  },
  {
   "cell_type": "code",
   "execution_count": 1,
   "id": "0b60d652-12f6-46fd-bca6-f57869825c4d",
   "metadata": {},
   "outputs": [],
   "source": [
    "import numpy as np\n",
    "import pandas as pd\n",
    "from glob import glob\n",
    "import os\n",
    "from matplotlib import pyplot as plt\n",
    "import nibabel as nb\n",
    "\n",
    "import hrf_tools\n",
    "from scipy.signal import resample\n",
    "from scipy.stats import zscore"
   ]
  },
  {
   "cell_type": "code",
   "execution_count": 2,
   "id": "9943842b-7b95-4131-b1fc-04ef46809fa1",
   "metadata": {},
   "outputs": [],
   "source": [
    "brain_dir='/nobackup/scratch/Mon/jsmentch/hbn_cifti_cleaned/smoothed/'"
   ]
  },
  {
   "cell_type": "code",
   "execution_count": 3,
   "id": "1733a4ba-6d91-4991-81ed-8d4c447ebe65",
   "metadata": {},
   "outputs": [],
   "source": [
    "#load features from pliers\n",
    "df=pd.read_csv('../sourcedata/data/HBN/features/DM_pliers_all.csv',index_col=0)\n",
    "\n",
    "X = df.to_numpy()\n",
    "\n",
    "X_hrf=hrf_tools.apply_optimal_hrf_10hz(X,1.25)\n",
    "\n",
    "#resample to math TRs of 0.8 n=750 time points\n",
    "X_res = []\n",
    "for x in X_hrf.T:\n",
    "    X_res.append(\n",
    "        resample(x,750)\n",
    "    )\n",
    "X_res = np.array(X_res)\n",
    "\n",
    "#zscore each feature \n",
    "X_z = zscore(X_res,axis=1)"
   ]
  },
  {
   "cell_type": "markdown",
   "id": "a90070c6-5949-4d5d-9d96-3285947215ae",
   "metadata": {},
   "source": [
    "### list all subjects to get a look at who has a dx or not"
   ]
  },
  {
   "cell_type": "code",
   "execution_count": 4,
   "id": "9848bcab-0d3e-417c-a94c-50243d28c8c5",
   "metadata": {},
   "outputs": [],
   "source": [
    "#load data\n",
    "all_dx = np.load('../sourcedata/data/HBN/phenotype/parsed/dx_list.npy')\n",
    "sub_list = np.load('../sourcedata/data/HBN/phenotype/parsed/sub_list.npy')\n",
    "dx_array = np.load('../sourcedata/data/HBN/phenotype/parsed/dx_onehot.npy')\n",
    "\n",
    "sub_list = list(sub_list)"
   ]
  },
  {
   "cell_type": "code",
   "execution_count": 5,
   "id": "4eb07d84-b1b9-4d4f-aea6-47b72d32af68",
   "metadata": {},
   "outputs": [],
   "source": [
    "subdirs=glob(f\"{brain_dir}*/\")\n",
    "stripped = [s[:-1] for s in subdirs]\n",
    "stripped = [os.path.basename(s) for s in stripped]\n",
    "sub_ids = [s[4:] for s in stripped]"
   ]
  },
  {
   "cell_type": "markdown",
   "id": "27bdd1f0-d507-4635-a797-16ea50906e85",
   "metadata": {},
   "source": [
    "### how many subjects have dx data???"
   ]
  },
  {
   "cell_type": "code",
   "execution_count": 6,
   "id": "a5fb290b-631c-405e-a492-9fc4c796b2a5",
   "metadata": {},
   "outputs": [
    {
     "name": "stdout",
     "output_type": "stream",
     "text": [
      "no dx data for: 47\n",
      "dx data for: 858\n"
     ]
    }
   ],
   "source": [
    "dx_count = 0\n",
    "dne_count = 0\n",
    "dx_array_RU = []\n",
    "\n",
    "sub_list_w_dx = [] # ru subjects with diagnostic data available\n",
    "dx_list_w_dx = [] # corresponding list of dx one hot data\n",
    "\n",
    "for s in sub_ids:\n",
    "    try:\n",
    "        ind = sub_list.index(s)\n",
    "        dx_count = dx_count+1\n",
    "        sub_list_w_dx.append(sub_list[ind])\n",
    "        dx_list_w_dx.append(dx_array[ind])\n",
    "        \n",
    "    except:\n",
    "        #print(\"DNE\")\n",
    "        dne_count=dne_count+1\n",
    "print(f\"no dx data for: {dne_count}\")\n",
    "print(f\"dx data for: {dx_count}\")"
   ]
  },
  {
   "cell_type": "markdown",
   "id": "d4a10659-c0fc-409b-9726-565c156a9644",
   "metadata": {},
   "source": [
    "who doesn't have dx data? check it..."
   ]
  },
  {
   "cell_type": "code",
   "execution_count": 7,
   "id": "c7e60a0a-f5c3-48ec-8f01-67f732f82e24",
   "metadata": {},
   "outputs": [],
   "source": [
    "dx_df = pd.DataFrame(dx_list_w_dx)\n",
    "dx_df.columns = all_dx"
   ]
  },
  {
   "cell_type": "code",
   "execution_count": 8,
   "id": "04a5bc13-c6d7-4b43-8047-d232b765ed95",
   "metadata": {},
   "outputs": [
    {
     "name": "stdout",
     "output_type": "stream",
     "text": [
      "ADHD-Combined Type                                                              198.0\n",
      "ADHD-Hyperactive/Impulsive Type                                                  28.0\n",
      "ADHD-Inattentive Type                                                           242.0\n",
      "Acute Stress Disorder                                                             0.0\n",
      "Adjustment Disorders                                                             18.0\n",
      "Agoraphobia                                                                       2.0\n",
      "Alcohol Use Disorder                                                              1.0\n",
      "Anorexia Nervosa-Binge Eating/Purging Type                                        1.0\n",
      "Anorexia Nervosa-Restricting Type                                                 0.0\n",
      "Autism Spectrum Disorder                                                        122.0\n",
      "Avoidant/Restrictive Food Intake Disorder                                         1.0\n",
      "Binge-Eating Disorder                                                             1.0\n",
      "Bipolar I Disorder                                                                0.0\n",
      "Bipolar II Disorder                                                               2.0\n",
      "Body Dysmorphic Disorder                                                          0.0\n",
      "Borderline Intellectual Functioning                                               9.0\n",
      "Borderline Personality Disorder                                                   0.0\n",
      "Bulimia Nervosa                                                                   0.0\n",
      "Cannabis Use Disorder                                                             3.0\n",
      "Child Neglect, Suspected                                                          0.0\n",
      "Child Onset Fluency Disorder (Stuttering)                                         3.0\n",
      "Conduct Disorder-Adolescent-onset type                                            3.0\n",
      "Conduct Disorder-Childhood-onset type                                             2.0\n",
      "Conduct Disorder-Unspecified onset                                                0.0\n",
      "Conversion Disorder                                                               0.0\n",
      "Cyclothymic Disorder                                                              0.0\n",
      "Delirium due to another medical condition                                         0.0\n",
      "Depressive Disorder Due to Another Medical Condition                              0.0\n",
      "Developmental Coordination Disorder                                               3.0\n",
      "Disinhibited Social Engagement Disorder                                           0.0\n",
      "Disruptive Mood Dysregulation Disorder                                            8.0\n",
      "Encopresis                                                                       11.0\n",
      "Enuresis                                                                         65.0\n",
      "Excoriation (Skin-Picking) Disorder                                              12.0\n",
      "Gender Dysphoria in Adolescents and Adults                                        0.0\n",
      "Gender Dysphoria in Children                                                      0.0\n",
      "Generalized Anxiety Disorder                                                    108.0\n",
      "Hoarding Disorder                                                                 1.0\n",
      "Illness Anxiety Disorder                                                          0.0\n",
      "Insomnia Disorder                                                                 2.0\n",
      "Intellectual Disability-Mild                                                     16.0\n",
      "Intellectual Disability-Moderate                                                  1.0\n",
      "Intellectual Disability-Severe                                                    0.0\n",
      "Intermittent Explosive Disorder                                                   1.0\n",
      "Language Disorder                                                                65.0\n",
      "Major Depressive Disorder                                                        48.0\n",
      "Major Neurocognitive Disorder Due to Epilepsy                                     0.0\n",
      "Narcolepsy                                                                        0.0\n",
      "Neurobehavioral Disorder Associated with Prenatal Alcohol Exposure (ND-PAE)       0.0\n",
      "Neurobehavioral Disorder Associated with Prenatal Alcohol Exposure (ND-PAE)       0.0\n",
      "No Diagnosis Given                                                               80.0\n",
      "No Diagnosis Given: Incomplete Eval                                              69.0\n",
      "Non-Rapid Eye Movement Sleep Arousal Disorders                                    3.0\n",
      "Obsessive-Compulsive Disorder                                                    20.0\n",
      "Obsessive-Compulsive Disorder                                                     0.0\n",
      "Oppositional Defiant Disorder                                                   120.0\n",
      "Other (or Unknown) Substance-Induced Disorders                                    0.0\n",
      "Other Specified Anxiety Disorder                                                 36.0\n",
      "Other Specified Attention-Deficit/Hyperactivity Disorder                         30.0\n",
      "Other Specified Bipolar and Related Disorder                                      0.0\n",
      "Other Specified Depressive Disorder                                              11.0\n",
      "Other Specified Disruptive, Impulse-Control, and Conduct Disorder                 6.0\n",
      "Other Specified Elimination Disorder with Fecal Symptoms                          2.0\n",
      "Other Specified Elimination Disorder with Urinary Symptoms                        1.0\n",
      "Other Specified Feeding or Eating Disorder                                        0.0\n",
      "Other Specified Insomnia Disorder                                                 0.0\n",
      "Other Specified Neurodevelopmental Disorder                                       1.0\n",
      "Other Specified Obsessive-Compulsive and Related Disorder                         4.0\n",
      "Other Specified Schizophrenia Spectrum and Other Psychotic Disorder               2.0\n",
      "Other Specified Tic Disorder                                                      7.0\n",
      "Other Specified Trauma- and Stressor-Related Disorder                             3.0\n",
      "Panic Disorder                                                                    2.0\n",
      "Parent-Child Relational Problem                                                   0.0\n",
      "Persistent (Chronic) Motor or Vocal Tic Disorder                                 28.0\n",
      "Persistent Depressive Disorder (Dysthymia)                                       15.0\n",
      "Pica in Children                                                                  2.0\n",
      "Posttraumatic Stress Disorder                                                     2.0\n",
      "Provisional Tic Disorder                                                         12.0\n",
      "Reactive Attachment Disorder                                                      1.0\n",
      "Schizophrenia                                                                     0.0\n",
      "Selective Mutism                                                                  5.0\n",
      "Separation Anxiety                                                               44.0\n",
      "Sibling Relational Problem                                                        1.0\n",
      "Social (Pragmatic) Communication Disorder                                         6.0\n",
      "Social Anxiety (Social Phobia)                                                   86.0\n",
      "Somatic Symptom Disorder                                                          0.0\n",
      "Specific Learning Disorder with Impairment in Mathematics                        41.0\n",
      "Specific Learning Disorder with Impairment in Mathematics                         0.0\n",
      "Specific Learning Disorder with Impairment in Reading                           130.0\n",
      "Specific Learning Disorder with Impairment in Reading                             0.0\n",
      "Specific Learning Disorder with Impairment in Written Expression                 27.0\n",
      "Specific Phobia                                                                  72.0\n",
      "Speech Sound Disorder                                                            15.0\n",
      "Substance/Medication-Induced Bipolar and Related Disorder                         1.0\n",
      "Substance/Medication-Induced Depressive Disorder                                  0.0\n",
      "Tobacco Use Disorder                                                              1.0\n",
      "Tourettes Disorder                                                               15.0\n",
      "Trichotillomania (Hair-Pulling Disorder)                                          2.0\n",
      "Unspecified Anxiety Disorder                                                      1.0\n",
      "Unspecified Attention-Deficit/Hyperactivity Disorder                              1.0\n",
      "Unspecified Bipolar and Related Disorder                                          0.0\n",
      "Unspecified Depressive Disorder                                                   0.0\n",
      "Unspecified Intellectual Disability                                               0.0\n",
      "Unspecified Neurodevelopmental Disorder                                           1.0\n",
      "Unspecified Tic Disorder                                                          0.0\n",
      "Unspecified Trauma- and Stressor-Related Disorder                                 0.0\n"
     ]
    }
   ],
   "source": [
    "dx_sum = dx_df.sum()\n",
    "print(dx_sum.to_string())"
   ]
  },
  {
   "cell_type": "markdown",
   "id": "71814b2d-4016-48ac-9e2a-fc00133f7613",
   "metadata": {},
   "source": [
    "### get subjects with no dx and subjects with ASD since it is about balanced"
   ]
  },
  {
   "cell_type": "code",
   "execution_count": 9,
   "id": "d907fb02-f07d-4b17-b8fd-aebcae6273af",
   "metadata": {},
   "outputs": [],
   "source": [
    "asd_sub_list = [] # list of RU subject ids w asd\n",
    "asd_dx_list = []  # list of RU subjects w asd full dx\n",
    "nt_sub_list = []  # list of RU subjects w no dx\n",
    "\n",
    "adhd_c_sub_list = []\n",
    "adhd_c_dx_list = []\n",
    "\n",
    "for i,s in enumerate(dx_list_w_dx):\n",
    "    if s[50]==1:\n",
    "        #print(\"NT\")\n",
    "        nt_sub_list.append(sub_list_w_dx[i])\n",
    "    if s[9]==1:\n",
    "        #print(\"ASD\")\n",
    "        asd_sub_list.append(sub_list_w_dx[i])\n",
    "        asd_dx_list.append(dx_list_w_dx[i])\n",
    "    if s[0]==1:\n",
    "        #print(\"ADHD_C\")\n",
    "        adhd_c_sub_list.append(sub_list_w_dx[i])\n",
    "        adhd_c_dx_list.append(dx_list_w_dx[i])\n",
    "    "
   ]
  },
  {
   "cell_type": "markdown",
   "id": "9f4e7977-7f65-4303-9048-500bb5a30adc",
   "metadata": {},
   "source": [
    "### load asd subjects. load nt subjects"
   ]
  },
  {
   "cell_type": "code",
   "execution_count": 10,
   "id": "74c65237-d885-4265-a5d8-f52386273723",
   "metadata": {},
   "outputs": [
    {
     "name": "stdout",
     "output_type": "stream",
     "text": [
      "total=122, the present=114, despicable me=93\n",
      "total=80, the present=74, despicable me=74\n",
      "total=198, the present=184, despicable me=152\n"
     ]
    }
   ],
   "source": [
    "import os.path\n",
    "prefix='/nobackup/scratch/Mon/jsmentch/hbn_cifti_cleaned/smoothed/sub-'\n",
    "\n",
    "for s in [asd_sub_list, nt_sub_list, adhd_c_sub_list]:\n",
    "    total_count=0\n",
    "    DM_count=0\n",
    "    TP_count=0\n",
    "    for a in s:\n",
    "        total_count = total_count+1\n",
    "        if os.path.isfile(f'{prefix}{a}/sub-{a}_clean_task-movieDM_space-fsLR_den-91k_bold.dtseries.nii'):\n",
    "            DM_count =DM_count+1\n",
    "        if os.path.isfile(f'{prefix}{a}/sub-{a}_clean_task-movieTP_space-fsLR_den-91k_bold.dtseries.nii'):\n",
    "            TP_count =TP_count+1\n",
    "    print(f'total={total_count}, the present={TP_count}, despicable me={DM_count}')"
   ]
  },
  {
   "cell_type": "code",
   "execution_count": 11,
   "id": "2fc9aa93-1485-42e1-a43a-2e680ac2cb66",
   "metadata": {},
   "outputs": [],
   "source": [
    "#build a classifier\n",
    "#train on despicable me, #test on the present\n",
    "#subjects who have only seen one or the other should be used for one or the other specifically"
   ]
  },
  {
   "cell_type": "code",
   "execution_count": 12,
   "id": "97a15ca4-7a17-4e27-9979-d5b7c5250dbd",
   "metadata": {},
   "outputs": [],
   "source": [
    "#load ASD despicable me\n",
    "dm_asd = []\n",
    "\n",
    "prefix='/nobackup/scratch/Mon/jsmentch/hbn_cifti_cleaned/smoothed/parcellated/sub-'\n",
    "\n",
    "for s in asd_sub_list:\n",
    "    im_file=f'{prefix}{s}/sub-{s}_clean_task-movieDM_space-fsLR_den-91k_bold.dtseries.nii'\n",
    "    if os.path.isfile(im_file):\n",
    "        img = nb.load(im_file)\n",
    "        img_x = img.get_fdata()\n",
    "        dm_asd.append(np.hstack( (img_x,X_z.T) ))\n",
    "\n",
    "dm_asd_array = np.array(dm_asd)\n",
    "#dm_asd_array =np.stack(dm_asd,axis=1)\n",
    "\n",
    "dm_asd_stacked = np.vstack(dm_asd)\n",
    "\n",
    "# dm_asd_array_flat = np.reshape(dm_asd_array,(len(dm_asd),270000))\n",
    "# dm_asd_array_flat = np.nan_to_num(dm_asd_array_flat)"
   ]
  },
  {
   "cell_type": "code",
   "execution_count": 13,
   "id": "7bbde980-4c0d-40de-8383-1a9a0284c0af",
   "metadata": {},
   "outputs": [],
   "source": [
    "#load NT despicable me\n",
    "dm_nt = []\n",
    "\n",
    "prefix='/nobackup/scratch/Mon/jsmentch/hbn_cifti_cleaned/smoothed/parcellated/sub-'\n",
    "\n",
    "for s in nt_sub_list:\n",
    "    im_file=f'{prefix}{s}/sub-{s}_clean_task-movieDM_space-fsLR_den-91k_bold.dtseries.nii'\n",
    "    if os.path.isfile(im_file):\n",
    "        img = nb.load(im_file)\n",
    "        img_x = img.get_fdata()\n",
    "        dm_nt.append(np.hstack( (img_x,X_z.T) ))\n",
    "\n",
    "dm_nt_array = np.array(dm_nt)\n",
    "#dm_nt_array =np.stack(dm_nt,axis=1)\n",
    "dm_nt_stacked = np.vstack(dm_nt)\n",
    "\n",
    "# dm_nt_array_flat = np.reshape(dm_nt_array,(len(dm_nt),270000))\n",
    "# dm_nt_array_flat = np.nan_to_num(dm_nt_array_flat)"
   ]
  },
  {
   "cell_type": "code",
   "execution_count": 14,
   "id": "e68dd087-b045-4204-abee-3abb55fcd127",
   "metadata": {},
   "outputs": [],
   "source": [
    "adhd_c_sub_list\n",
    "\n",
    "#load NT despicable me\n",
    "#load ASD despicable me\n",
    "dm_adhd_c = []\n",
    "\n",
    "prefix='/nobackup/scratch/Mon/jsmentch/hbn_cifti_cleaned/smoothed/parcellated/sub-'\n",
    "\n",
    "for s in adhd_c_sub_list:\n",
    "    im_file=f'{prefix}{s}/sub-{s}_clean_task-movieDM_space-fsLR_den-91k_bold.dtseries.nii'\n",
    "    if os.path.isfile(im_file):\n",
    "        img = nb.load(im_file)\n",
    "        img_x = img.get_fdata()\n",
    "        \n",
    "        dm_adhd_c.append(np.hstack( (img_x,X_z.T) ))\n",
    "\n",
    "dm_adhd_c_array = np.array(dm_adhd_c)\n",
    "#dm_adhd_c_array =np.stack(dm_adhd_c,axis=1)\n",
    "\n",
    "dm_adhd_c_stacked = np.vstack(dm_adhd_c)\n",
    "\n",
    "# dm_adhd_c_array_flat = np.reshape(dm_adhd_c_array,(len(dm_adhd_c),270000))\n",
    "# dm_adhd_c_array_flat = np.nan_to_num(dm_adhd_c_array_flat)"
   ]
  },
  {
   "cell_type": "markdown",
   "id": "df263113-0952-4c26-ac8e-4e9d321ea88a",
   "metadata": {},
   "source": [
    "## data augmentation - sliding window for training set"
   ]
  },
  {
   "cell_type": "code",
   "execution_count": 22,
   "id": "042cb7b6-2fe2-4ce9-aabd-18b1763eb84b",
   "metadata": {},
   "outputs": [],
   "source": [
    "def extract_windows(array):\n",
    "#     array = dm_nt_array_train[0]\n",
    "#     array = np.reshape(np.arange(750),(750,1))\n",
    "    examples = []\n",
    "#     step_size = 10\n",
    "#     window_size = 250\n",
    "    step_size = 100\n",
    "    window_size = 250\n",
    "    steps = int((750 - window_size - step_size)/step_size) +2\n",
    "    start = 0\n",
    "\n",
    "    for i in range(steps):\n",
    "        begin=start+ (i*step_size)\n",
    "        example = array[begin:begin+window_size]\n",
    "        examples.append(np.expand_dims(example, 0))\n",
    "\n",
    "    return np.vstack(examples)"
   ]
  },
  {
   "cell_type": "code",
   "execution_count": 25,
   "id": "1623950c-1298-4036-8430-5dd343036cf8",
   "metadata": {},
   "outputs": [],
   "source": [
    "def stack_extracted(array):\n",
    "    list_in = []\n",
    "    for d in array:\n",
    "        list_in.append(np.reshape(extract_windows(d), (-1,575) ) )\n",
    "    list_in = np.stack(list_in)\n",
    "    list_in=list_in.reshape(list_in.shape[0]*list_in.shape[1],list_in.shape[2])\n",
    "    return list_in"
   ]
  },
  {
   "cell_type": "code",
   "execution_count": 26,
   "id": "634b2d5d-0f44-45af-865b-37d7fbdc7728",
   "metadata": {},
   "outputs": [],
   "source": [
    "train_nt = stack_extracted(dm_nt_array[:50])\n",
    "train_asd = stack_extracted(dm_asd_array[:50])"
   ]
  },
  {
   "cell_type": "code",
   "execution_count": 27,
   "id": "43472f42-e81c-4058-a5ed-ebdaec959aa4",
   "metadata": {},
   "outputs": [],
   "source": [
    "train_list = []\n",
    "train_list.append(train_nt)\n",
    "train_list.append(train_asd)\n"
   ]
  },
  {
   "cell_type": "markdown",
   "id": "5161ae8f-875c-46a3-a0fa-d8c9a4fff6c0",
   "metadata": {},
   "source": [
    "### now try a simple RNN"
   ]
  },
  {
   "cell_type": "code",
   "execution_count": 28,
   "id": "2eb1a2dd-0cd3-4bdf-8f5b-d859feb311a0",
   "metadata": {},
   "outputs": [],
   "source": [
    "import numpy as np\n",
    "import tensorflow as tf\n",
    "from tensorflow import keras\n",
    "from tensorflow.keras import layers\n",
    "\n",
    "from sklearn.preprocessing import StandardScaler\n",
    "import pandas as pd\n",
    "import nibabel as nb\n",
    "import hrf_tools\n",
    "#from analysis import load_data_HCP_MMP\n",
    "\n",
    "gpu_devices = tf.config.experimental.list_physical_devices(\"GPU\")\n",
    "for device in gpu_devices:\n",
    "    tf.config.experimental.set_memory_growth(device, True)"
   ]
  },
  {
   "cell_type": "code",
   "execution_count": 29,
   "id": "7f7c5227-64a9-4120-aa7f-9b3a2bbfeaca",
   "metadata": {},
   "outputs": [],
   "source": [
    "#TRAINING SET\n",
    "X_train = np.vstack(train_list)\n",
    "X_train.shape\n",
    "\n",
    "Y_train = np.ones( (  int(X_train.shape[0])  ,1) )\n",
    "Y_train[int(int(X_train.shape[0])/2):]=0"
   ]
  },
  {
   "cell_type": "code",
   "execution_count": 30,
   "id": "e518a7e7-ce73-4073-b7ee-e94bc21e6f3f",
   "metadata": {},
   "outputs": [],
   "source": [
    "#NT=0 ASD=1\n",
    "#TRAINING SET\n",
    "# X_train = []\n",
    "# X_train.append(np.vstack(dm_nt_array[:20]))\n",
    "# X_train.append(np.vstack(dm_asd_array[:20]))\n",
    "# X_train = np.vstack(X_train)\n",
    "\n",
    "# Y_train = np.ones( (30000,1) )\n",
    "# Y_train[15000:]=0\n",
    "\n",
    "#VALIDATION SET\n",
    "X_val = []\n",
    "X_val.append(np.vstack(dm_nt_array[50:60]))\n",
    "X_val.append(np.vstack(dm_asd_array[50:60]))\n",
    "X_val = np.vstack(X_val)\n",
    "\n",
    "Y_val = np.ones( (X_val.shape[0],1) )\n",
    "Y_val[ int(X_val.shape[0]/2): ]=0\n",
    "\n",
    "#TEST SET\n",
    "X_test = []\n",
    "X_test.append(np.vstack(dm_nt_array[60:]))\n",
    "Y_test1 = np.zeros( (np.vstack(dm_nt_array[60:]).shape[0],1) )\n",
    "\n",
    "X_test.append(np.vstack(dm_asd_array[60:]))\n",
    "Y_test2 = np.ones( (np.vstack(dm_asd_array[60:]).shape[0],1) )\n",
    "\n",
    "\n",
    "X_test = np.vstack(X_test)\n",
    "\n",
    "Y_test=[]\n",
    "Y_test.append(Y_test1)\n",
    "Y_test.append(Y_test2)\n",
    "Y_test=np.vstack(Y_test)\n",
    "\n",
    "\n",
    "\n",
    "#for each class:\n",
    "#train on 20\n",
    "#val on 5\n",
    "#test on remainder\n",
    "# X_val\n",
    "# X_test\n"
   ]
  },
  {
   "cell_type": "code",
   "execution_count": 31,
   "id": "09ce64b4-3ba0-43ad-b786-2ec9c3ea1b1e",
   "metadata": {},
   "outputs": [],
   "source": [
    "X_train=np.nan_to_num(X_train)\n",
    "X_test=np.nan_to_num(X_test)\n",
    "X_val=np.nan_to_num(X_val)\n"
   ]
  },
  {
   "cell_type": "code",
   "execution_count": 32,
   "id": "36f246b1-f716-481f-8a34-5e8e1ec78e48",
   "metadata": {},
   "outputs": [
    {
     "name": "stdout",
     "output_type": "stream",
     "text": [
      "X_train = (150000, 575)\n",
      "Y_train = (150000, 1)\n",
      "X_val = (15000, 575)\n",
      "Y_val = (15000, 1)\n",
      "X_test = (35250, 575)\n",
      "Y_test = (35250, 1)\n"
     ]
    }
   ],
   "source": [
    "print(f'X_train = {X_train.shape}')\n",
    "print(f'Y_train = {Y_train.shape}')\n",
    "\n",
    "print(f'X_val = {X_val.shape}')\n",
    "print(f'Y_val = {Y_val.shape}')\n",
    "\n",
    "print(f'X_test = {X_test.shape}')\n",
    "print(f'Y_test = {Y_test.shape}')"
   ]
  },
  {
   "cell_type": "code",
   "execution_count": 46,
   "id": "2197382f-4d7b-4e2f-9005-23645a1a95b0",
   "metadata": {},
   "outputs": [],
   "source": [
    "# set Batch size and dimensions\n",
    "batch_size = 10\n",
    "time_steps = 250\n",
    "input_units = 575\n",
    "input_shape = (time_steps,input_units)"
   ]
  },
  {
   "cell_type": "code",
   "execution_count": 50,
   "id": "06770c17-3379-47c5-970d-a42e92c28127",
   "metadata": {},
   "outputs": [],
   "source": [
    "def print_dataset(ds):\n",
    "    for inputs, targets in ds:\n",
    "        print(\"---Batch---\")\n",
    "        print(\"Feature:\", inputs.numpy())\n",
    "        print(\"Label:\", targets.numpy())\n",
    "        print(\"\")"
   ]
  },
  {
   "cell_type": "code",
   "execution_count": null,
   "id": "e787564e-234c-49bf-bad8-6b8c1e1564a9",
   "metadata": {},
   "outputs": [],
   "source": [
    "print_dataset(dataset_train)"
   ]
  },
  {
   "cell_type": "code",
   "execution_count": 48,
   "id": "8622acaf-9cb3-4d57-a2af-c61a0683cc3d",
   "metadata": {},
   "outputs": [],
   "source": [
    "#https://keras.io/api/preprocessing/timeseries/\n",
    "#simple:\n",
    "dataset_train = tf.keras.preprocessing.timeseries_dataset_from_array(data = X_train, \n",
    "                                                     targets = Y_train, \n",
    "                                                    sequence_length=time_steps,\n",
    "                                                     batch_size = batch_size, shuffle=True)\n",
    "dataset_val = tf.keras.preprocessing.timeseries_dataset_from_array(data = X_val, \n",
    "                                                     targets = Y_val, \n",
    "                                                    sequence_length=time_steps,\n",
    "                                                     batch_size = batch_size)\n",
    "\n",
    "dataset_test = tf.keras.preprocessing.timeseries_dataset_from_array(data = X_val, \n",
    "                                                     targets = Y_val, \n",
    "                                                    sequence_length=time_steps,\n",
    "                                                     batch_size = batch_size)\n",
    "\n",
    "\n",
    "#more complicated with sliding window\n",
    "\n",
    "# dataset_train = tf.keras.preprocessing.timeseries_dataset_from_array(data = X_train, \n",
    "#                                                      targets = Y_train, \n",
    "#                                                     sequence_length=time_steps, sequence_stride = 10,\n",
    "#                                                      batch_size = batch_size, shuffle=True)\n",
    "\n",
    "# dataset_val = tf.keras.preprocessing.timeseries_dataset_from_array(data = X_val, \n",
    "#                                                      targets = Y_val, \n",
    "#                                                     sequence_length=time_steps,\n",
    "#                                                      batch_size = batch_size)\n",
    "\n",
    "# dataset_test = tf.keras.preprocessing.timeseries_dataset_from_array(data = X_val, \n",
    "#                                                      targets = Y_val, \n",
    "#                                                     sequence_length=time_steps,\n",
    "#                                                      batch_size = batch_size)"
   ]
  },
  {
   "cell_type": "code",
   "execution_count": null,
   "id": "528bf0d4-d575-425e-8e65-63d407426b45",
   "metadata": {},
   "outputs": [],
   "source": [
    "model = keras.Sequential()\n",
    "# Add an Embedding layer expecting input vocab of size 1000, and\n",
    "# output embedding dimension of size 64.\n",
    "#model.add(layers.Embedding(input_dim=1024, output_dim=1024))\n",
    "\n",
    "model.add(keras.Input(shape=input_shape)) #omit beacuse of bug\n",
    "#model.add(layers.Dropout(0.1))\n",
    "# Add a LSTM layer with 128 internal units.\n",
    "model.add(layers.LSTM(32,return_sequences=True))#,batch_input_shape=(batch_size, time_steps, input_units)))\n",
    "#model.add(layers.GRU(32,return_sequences=True))#,batch_input_shape=(batch_size, time_steps, input_units)))\n",
    "#model.add(layers.GRU(32,return_sequences=True))#,batch_input_shape=(batch_size, time_steps, input_units)))\n",
    "\n",
    "#model.add(layers.LSTM(64))#,batch_input_shape=(batch_size, time_steps, input_units)))\n",
    "# model.add(layers.GRU(64))#,batch_input_shape=(batch_size, time_steps, input_units)))\n",
    "\n",
    "# model.add(layers.Dense(360,activation='relu'))\n",
    "# model.add(layers.Dropout(0.1))\n",
    "# model.add(layers.Dense(360,activation='relu'))\n",
    "# model.add(layers.Dropout(0.1))\n",
    "# model.add(layers.Dense(180,activation='relu'))\n",
    "# model.add(layers.Dropout(0.1))\n",
    "# model.add(layers.Dense(90,activation='relu'))\n",
    "# model.add(layers.Dropout(0.1))\n",
    "# model.add(layers.Dense(45,activation='relu'))\n",
    "# model.add(layers.Dropout(0.1))\n",
    "# model.add(layers.Dense(64,activation='relu'))\n",
    "model.add(layers.Dropout(0.5))\n",
    "\n",
    "model.add(layers.GlobalAveragePooling1D())\n",
    "\n",
    "#model.add(layers.Dense(360))\n",
    "\n",
    "#model.add(layers.AveragePooling1D(pool_size=32,strides=None,data_format='channels_last'))\n",
    "\n",
    "#model.add(layers.UpSampling1D(size=10))\n",
    "#model.add(layers.Dense(17049))\n",
    "#model.add(layers.Dense(128))\n",
    "model.add(layers.Dense(1,activation='sigmoid')) #1 and sigmoid because doing binary classification\n",
    "#model.add(layers.Dense(360))\n",
    "model.summary()"
   ]
  },
  {
   "cell_type": "code",
   "execution_count": null,
   "id": "4ace7af0-1a6b-4ea3-be78-2d146fa6549e",
   "metadata": {},
   "outputs": [],
   "source": [
    "from tensorflow.keras.callbacks import EarlyStopping\n",
    "es = EarlyStopping(monitor = 'val_accuracy', mode = 'min', verbose = 10, restore_best_weights=True, patience=200)\n",
    "\n",
    "model.compile(\n",
    "    #loss=keras.losses.MeanSquaredError(reduction=\"auto\", name=\"mean_squared_error\"),\n",
    "    loss=keras.losses.BinaryCrossentropy(),\n",
    "    optimizer=\"adadelta\",\n",
    "    metrics=['accuracy']\n",
    ")"
   ]
  },
  {
   "cell_type": "code",
   "execution_count": 49,
   "id": "33b9cf29-7a58-42ba-a0e2-8fa5d3ac8e8a",
   "metadata": {},
   "outputs": [
    {
     "name": "stdout",
     "output_type": "stream",
     "text": [
      "14976/14976 [==============================] - 443s 29ms/step - loss: 0.6924 - accuracy: 0.5214 - val_loss: 0.6982 - val_accuracy: 0.4434\n"
     ]
    },
    {
     "name": "stderr",
     "output_type": "stream",
     "text": [
      "WARNING:absl:Found untraced functions such as gru_cell_2_layer_call_and_return_conditional_losses, gru_cell_2_layer_call_fn, gru_cell_3_layer_call_and_return_conditional_losses, gru_cell_3_layer_call_fn, gru_cell_2_layer_call_fn while saving (showing 5 of 10). These functions will not be directly callable after loading.\n",
      "WARNING:absl:Found untraced functions such as gru_cell_2_layer_call_and_return_conditional_losses, gru_cell_2_layer_call_fn, gru_cell_3_layer_call_and_return_conditional_losses, gru_cell_3_layer_call_fn, gru_cell_2_layer_call_fn while saving (showing 5 of 10). These functions will not be directly callable after loading.\n"
     ]
    },
    {
     "name": "stdout",
     "output_type": "stream",
     "text": [
      "INFO:tensorflow:Assets written to: ../outputs/GRU_32_2.pb/assets\n"
     ]
    },
    {
     "name": "stderr",
     "output_type": "stream",
     "text": [
      "INFO:tensorflow:Assets written to: ../outputs/GRU_32_2.pb/assets\n"
     ]
    }
   ],
   "source": [
    "model_cb = tf.keras.callbacks.ModelCheckpoint(filepath='../outputs/GRU_32_2.pb')\n",
    "history_cb = tf.keras.callbacks.CSVLogger('../outputs/GRU_32_2_log.csv', separator=\",\", append=True)\n",
    "\n",
    "history = model.fit(dataset_train,epochs = 1, validation_data=dataset_val, callbacks = [es, model_cb, history_cb])"
   ]
  },
  {
   "cell_type": "code",
   "execution_count": 34,
   "id": "1ff3b2c0-a113-44c0-91b0-b2bf2bf3d8f6",
   "metadata": {},
   "outputs": [
    {
     "name": "stdout",
     "output_type": "stream",
     "text": [
      "dict_keys(['loss', 'accuracy', 'val_loss', 'val_accuracy'])\n"
     ]
    },
    {
     "data": {
      "image/png": "[encoded data removed]",
      "text/plain": [
       "<Figure size 432x288 with 1 Axes>"
      ]
     },
     "metadata": {
      "needs_background": "light"
     },
     "output_type": "display_data"
    },
    {
     "data": {
      "image/png": "[encoded data removed]",
      "text/plain": [
       "<Figure size 432x288 with 1 Axes>"
      ]
     },
     "metadata": {
      "needs_background": "light"
     },
     "output_type": "display_data"
    }
   ],
   "source": [
    "from matplotlib import pyplot as plt\n",
    "print(history.history.keys())\n",
    "#  \"Accuracy\"\n",
    "plt.plot(history.history['accuracy'])\n",
    "plt.plot(history.history['val_accuracy'])\n",
    "plt.title('model accuracy')\n",
    "plt.ylabel('accuracy')\n",
    "plt.xlabel('epoch')\n",
    "plt.legend(['train', 'validation'], loc='upper left')\n",
    "plt.show()\n",
    "# \"Loss\"\n",
    "plt.plot(history.history['loss'])\n",
    "plt.plot(history.history['val_loss'])\n",
    "plt.title('model loss')\n",
    "plt.ylabel('loss')\n",
    "plt.xlabel('epoch')\n",
    "plt.legend(['train', 'validation'], loc='upper left')\n",
    "plt.show()"
   ]
  },
  {
   "cell_type": "code",
   "execution_count": null,
   "id": "7392561f-1b35-49db-9a0e-d4379fa0a887",
   "metadata": {},
   "outputs": [],
   "source": [
    "model.evaluate(dataset_test)"
   ]
  },
  {
   "cell_type": "code",
   "execution_count": null,
   "id": "c5645498-dc82-4935-903a-0112ee6eb61f",
   "metadata": {},
   "outputs": [],
   "source": [
    "model.save('../outputs/GRU_32_2.pb')"
   ]
  },
  {
   "cell_type": "code",
   "execution_count": null,
   "id": "29060636-6f31-436e-9f2b-9ea0d62ca4ef",
   "metadata": {},
   "outputs": [],
   "source": []
  },
  {
   "cell_type": "code",
   "execution_count": null,
   "id": "2dcf1c4a-6491-482b-8504-b961f3aea385",
   "metadata": {},
   "outputs": [],
   "source": []
  },
  {
   "cell_type": "code",
   "execution_count": null,
   "id": "7e24b2cb-2818-415b-8800-22d98f672f72",
   "metadata": {},
   "outputs": [],
   "source": []
  },
  {
   "cell_type": "code",
   "execution_count": null,
   "id": "9519e05a-8ee4-461e-b959-ae8f8922a64e",
   "metadata": {},
   "outputs": [],
   "source": [
    "model = keras.models.load_model('../outputs/model.pb')"
   ]
  }
 ],
 "metadata": {
  "kernelspec": {
   "display_name": "Python 3",
   "language": "python",
   "name": "python3"
  },
  "language_info": {
   "codemirror_mode": {
    "name": "ipython",
    "version": 3
   },
   "file_extension": ".py",
   "mimetype": "text/x-python",
   "name": "python",
   "nbconvert_exporter": "python",
   "pygments_lexer": "ipython3",
   "version": "3.8.5"
  }
 },
 "nbformat": 4,
 "nbformat_minor": 5
}
