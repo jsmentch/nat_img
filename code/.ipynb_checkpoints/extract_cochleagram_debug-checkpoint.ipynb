{
 "cells": [
  {
   "cell_type": "code",
   "execution_count": 1,
   "id": "adequate-haiti",
   "metadata": {},
   "outputs": [],
   "source": [
    "import extract_audiofeatures"
   ]
  },
  {
   "cell_type": "code",
   "execution_count": 2,
   "id": "associate-respondent",
   "metadata": {},
   "outputs": [],
   "source": [
    "stim='../sourcedata/data/HCP_7T_movie_FIX/stimuli/7T_MOVIE1_CC1_v2.wav'"
   ]
  },
  {
   "cell_type": "code",
   "execution_count": 19,
   "id": "generous-diesel",
   "metadata": {},
   "outputs": [],
   "source": [
    "y,sr = extract_audiofeatures.load_wav(stim)"
   ]
  },
  {
   "cell_type": "code",
   "execution_count": 20,
   "id": "several-decade",
   "metadata": {},
   "outputs": [],
   "source": [
    "y=y[:-(y.size % sr)]"
   ]
  },
  {
   "cell_type": "code",
   "execution_count": 21,
   "id": "lovely-newcastle",
   "metadata": {},
   "outputs": [],
   "source": [
    "from pycochleagram.cochleagram import cochleagram\n",
    "pc = cochleagram(signal=y, sr=sr, n=6,low_lim=200, hi_lim=6400, sample_factor=1)"
   ]
  },
  {
   "cell_type": "code",
   "execution_count": 22,
   "id": "broadband-audio",
   "metadata": {},
   "outputs": [],
   "source": [
    "from pycochleagram.cochleagram import apply_envelope_downsample\n",
    "pc_downsampled = apply_envelope_downsample(pc, mode='poly', audio_sr=sr, env_sr=16)"
   ]
  },
  {
   "cell_type": "code",
   "execution_count": 23,
   "id": "eight-chinese",
   "metadata": {},
   "outputs": [
    {
     "data": {
      "text/plain": [
       "(8, 14736)"
      ]
     },
     "execution_count": 23,
     "metadata": {},
     "output_type": "execute_result"
    }
   ],
   "source": [
    "pc_downsampled.shape"
   ]
  },
  {
   "cell_type": "code",
   "execution_count": null,
   "id": "available-genome",
   "metadata": {},
   "outputs": [],
   "source": []
  },
  {
   "cell_type": "code",
   "execution_count": null,
   "id": "flexible-arctic",
   "metadata": {},
   "outputs": [],
   "source": [
    "np.save(args.output_dir+'/'+basename+\"_pycochleagram_6.npy\",pc_downsampled)"
   ]
  }
 ],
 "metadata": {
  "kernelspec": {
   "display_name": "Python 3",
   "language": "python",
   "name": "python3"
  },
  "language_info": {
   "codemirror_mode": {
    "name": "ipython",
    "version": 3
   },
   "file_extension": ".py",
   "mimetype": "text/x-python",
   "name": "python",
   "nbconvert_exporter": "python",
   "pygments_lexer": "ipython3",
   "version": "3.8.5"
  }
 },
 "nbformat": 4,
 "nbformat_minor": 5
}
