{
 "cells": [
  {
   "cell_type": "code",
   "execution_count": 3,
   "id": "collaborative-drinking",
   "metadata": {},
   "outputs": [],
   "source": [
    "import numpy as np\n",
    "import librosa\n",
    "import extract_audiofeatures as ea"
   ]
  },
  {
   "cell_type": "code",
   "execution_count": 4,
   "id": "mathematical-equity",
   "metadata": {},
   "outputs": [],
   "source": [
    "wav_in = '../sourcedata/data/HCP_7T_movie_FIX/stimuli/7T_MOVIE1_CC1_v2.wav'"
   ]
  },
  {
   "cell_type": "code",
   "execution_count": 5,
   "id": "crucial-quarter",
   "metadata": {},
   "outputs": [],
   "source": [
    "y,sr,dur_10hz = ea.load_wav(wav_in)"
   ]
  },
  {
   "cell_type": "code",
   "execution_count": 6,
   "id": "satellite-holmes",
   "metadata": {},
   "outputs": [
    {
     "data": {
      "text/plain": [
       "9210"
      ]
     },
     "execution_count": 6,
     "metadata": {},
     "output_type": "execute_result"
    }
   ],
   "source": [
    "dur_10hz"
   ]
  },
  {
   "cell_type": "code",
   "execution_count": 9,
   "id": "rolled-costs",
   "metadata": {},
   "outputs": [],
   "source": [
    "chroma = librosa.feature.chroma_stft(y=y, sr=sr, hop_length=1600)"
   ]
  },
  {
   "cell_type": "code",
   "execution_count": 10,
   "id": "quantitative-beijing",
   "metadata": {},
   "outputs": [
    {
     "data": {
      "text/plain": [
       "(12, 9211)"
      ]
     },
     "execution_count": 10,
     "metadata": {},
     "output_type": "execute_result"
    }
   ],
   "source": [
    "chroma.shape"
   ]
  },
  {
   "cell_type": "code",
   "execution_count": null,
   "id": "unusual-borough",
   "metadata": {},
   "outputs": [],
   "source": []
  }
 ],
 "metadata": {
  "kernelspec": {
   "display_name": "Python 3",
   "language": "python",
   "name": "python3"
  },
  "language_info": {
   "codemirror_mode": {
    "name": "ipython",
    "version": 3
   },
   "file_extension": ".py",
   "mimetype": "text/x-python",
   "name": "python",
   "nbconvert_exporter": "python",
   "pygments_lexer": "ipython3",
   "version": "3.8.5"
  }
 },
 "nbformat": 4,
 "nbformat_minor": 5
}
