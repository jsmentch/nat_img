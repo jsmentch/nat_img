{
 "cells": [
  {
   "cell_type": "code",
   "execution_count": 1,
   "id": "outdoor-mobile",
   "metadata": {},
   "outputs": [],
   "source": [
    "import numpy as np\n",
    "#import librosa\n",
    "#import extract_audiofeatures as ea"
   ]
  },
  {
   "cell_type": "code",
   "execution_count": 4,
   "id": "genetic-sweden",
   "metadata": {},
   "outputs": [],
   "source": [
    "wav_in = '../sourcedata/data/HCP_7T_movie_FIX/stimuli/7T_MOVIE1_CC1_v2.wav'"
   ]
  },
  {
   "cell_type": "code",
   "execution_count": 5,
   "id": "coral-artwork",
   "metadata": {},
   "outputs": [],
   "source": [
    "y,sr,dur_10hz = ea.load_wav(wav_in)"
   ]
  },
  {
   "cell_type": "code",
   "execution_count": 6,
   "id": "great-mortgage",
   "metadata": {},
   "outputs": [
    {
     "data": {
      "text/plain": [
       "9210"
      ]
     },
     "execution_count": 6,
     "metadata": {},
     "output_type": "execute_result"
    }
   ],
   "source": [
    "dur_10hz"
   ]
  },
  {
   "cell_type": "code",
   "execution_count": 9,
   "id": "settled-anger",
   "metadata": {},
   "outputs": [],
   "source": [
    "chroma = librosa.feature.chroma_stft(y=y, sr=sr, hop_length=1600)"
   ]
  },
  {
   "cell_type": "code",
   "execution_count": 10,
   "id": "minimal-environment",
   "metadata": {},
   "outputs": [
    {
     "data": {
      "text/plain": [
       "(12, 9211)"
      ]
     },
     "execution_count": 10,
     "metadata": {},
     "output_type": "execute_result"
    }
   ],
   "source": [
    "chroma.shape"
   ]
  },
  {
   "cell_type": "code",
   "execution_count": 6,
   "id": "manual-applicant",
   "metadata": {},
   "outputs": [],
   "source": [
    "embed = np.load('../sourcedata/data/HCP_7T_movie_FIX/features/7T_MOVIE1_CC1_v2_as_embed.npy')\n",
    "scores = np.load('../sourcedata/data/HCP_7T_movie_FIX/features/7T_MOVIE1_CC1_v2_as_scores.npy')"
   ]
  },
  {
   "cell_type": "code",
   "execution_count": 5,
   "id": "cardiac-contrast",
   "metadata": {},
   "outputs": [],
   "source": [
    "other = np.load('../sourcedata/data/HCP_7T_movie_FIX/features/7T_MOVIE1_CC1_v2_mfcc.npy')"
   ]
  },
  {
   "cell_type": "code",
   "execution_count": 25,
   "id": "productive-hamilton",
   "metadata": {},
   "outputs": [],
   "source": [
    "scores = np.load('../sourcedata/data/HCP_7T_movie_FIX/features/7T_MOVIE1_CC1_v2_as_scores.npy')"
   ]
  },
  {
   "cell_type": "code",
   "execution_count": 33,
   "id": "sporting-solution",
   "metadata": {},
   "outputs": [],
   "source": [
    "scores_hrf = np.load('../sourcedata/data/HCP_7T_movie_FIX/features_hrf/7T_MOVIE1_CC1_v2_as_scores_hrf.npy')"
   ]
  },
  {
   "cell_type": "code",
   "execution_count": 26,
   "id": "complete-viewer",
   "metadata": {},
   "outputs": [
    {
     "data": {
      "text/plain": [
       "(521, 1918)"
      ]
     },
     "execution_count": 26,
     "metadata": {},
     "output_type": "execute_result"
    }
   ],
   "source": [
    "scores.shape"
   ]
  },
  {
   "cell_type": "code",
   "execution_count": 35,
   "id": "related-generator",
   "metadata": {},
   "outputs": [
    {
     "data": {
      "text/plain": [
       "[<matplotlib.lines.Line2D at 0x2aef2f4dc430>]"
      ]
     },
     "execution_count": 35,
     "metadata": {},
     "output_type": "execute_result"
    },
    {
     "data": {
      "image/png": "[encoded data removed]",
      "text/plain": [
       "<Figure size 432x288 with 1 Axes>"
      ]
     },
     "metadata": {
      "needs_background": "light"
     },
     "output_type": "display_data"
    }
   ],
   "source": [
    "plt.plot(scores[0])"
   ]
  },
  {
   "cell_type": "code",
   "execution_count": 36,
   "id": "piano-fossil",
   "metadata": {},
   "outputs": [
    {
     "data": {
      "text/plain": [
       "[<matplotlib.lines.Line2D at 0x2aef2f533b80>]"
      ]
     },
     "execution_count": 36,
     "metadata": {},
     "output_type": "execute_result"
    },
    {
     "data": {
      "image/png": "[encoded data removed]",
      "text/plain": [
       "<Figure size 432x288 with 1 Axes>"
      ]
     },
     "metadata": {
      "needs_background": "light"
     },
     "output_type": "display_data"
    }
   ],
   "source": [
    "plt.plot(scores_hrf[0])"
   ]
  },
  {
   "cell_type": "code",
   "execution_count": 28,
   "id": "unsigned-bearing",
   "metadata": {},
   "outputs": [
    {
     "data": {
      "text/plain": [
       "(521, 1918)"
      ]
     },
     "execution_count": 28,
     "metadata": {},
     "output_type": "execute_result"
    }
   ],
   "source": [
    "scores_hrf.shape"
   ]
  },
  {
   "cell_type": "code",
   "execution_count": null,
   "id": "meaning-kinase",
   "metadata": {},
   "outputs": [],
   "source": []
  },
  {
   "cell_type": "code",
   "execution_count": 15,
   "id": "upper-priority",
   "metadata": {},
   "outputs": [],
   "source": [
    "\n",
    "\n",
    "def resample_1hz(feat_in):\n",
    "    feat_in = feat_in[:,::10] \n",
    "    return feat_in\n",
    "\n",
    "# SPM's HRF\n",
    "def spm_hrf_compat(t,\n",
    "                   peak_delay=6,\n",
    "                   under_delay=16,\n",
    "                   peak_disp=1,\n",
    "                   under_disp=1,\n",
    "                   p_u_ratio = 6,\n",
    "                   normalize=True,\n",
    "                  ):\n",
    "    \"\"\" SPM HRF function from sum of two gamma PDFs\n",
    "\n",
    "    This function is designed to be partially compatible with SPMs `spm_hrf.m`\n",
    "    function.\n",
    "\n",
    "    The SPN HRF is a *peak* gamma PDF (with location `peak_delay` and dispersion\n",
    "    `peak_disp`), minus an *undershoot* gamma PDF (with location `under_delay`\n",
    "    and dispersion `under_disp`, and divided by the `p_u_ratio`).\n",
    "\n",
    "    Parameters\n",
    "    ----------\n",
    "    t : array-like\n",
    "        vector of times at which to sample HRF\n",
    "    peak_delay : float, optional\n",
    "        delay of peak\n",
    "    peak_disp : float, optional\n",
    "        width (dispersion) of peak\n",
    "    under_delay : float, optional\n",
    "        delay of undershoot\n",
    "    under_disp : float, optional\n",
    "        width (dispersion) of undershoot\n",
    "    p_u_ratio : float, optional\n",
    "        peak to undershoot ratio.  Undershoot divided by this value before\n",
    "        subtracting from peak.\n",
    "    normalize : {True, False}, optional\n",
    "        If True, divide HRF values by their sum before returning.  SPM does this\n",
    "        by default.\n",
    "\n",
    "    Returns\n",
    "    -------\n",
    "    hrf : array\n",
    "        vector length ``len(t)`` of samples from HRF at times `t`\n",
    "\n",
    "    Notes\n",
    "    -----\n",
    "    See ``spm_hrf.m`` in the SPM distribution.\n",
    "    \"\"\"\n",
    "    if len([v for v in [peak_delay, peak_disp, under_delay, under_disp]\n",
    "            if v <= 0]):\n",
    "        raise ValueError(\"delays and dispersions must be > 0\")\n",
    "    # gamma.pdf only defined for t > 0\n",
    "    hrf = np.zeros(t.shape, dtype=np.float)\n",
    "    pos_t = t[t > 0]\n",
    "    peak = gamma.pdf(pos_t,\n",
    "                         peak_delay / peak_disp,\n",
    "                         loc=0,\n",
    "                         scale=peak_disp)\n",
    "    undershoot = gamma.pdf(pos_t,\n",
    "                               under_delay / under_disp,\n",
    "                               loc=0,\n",
    "                               scale=under_disp)\n",
    "    hrf[t > 0] = peak - undershoot / p_u_ratio\n",
    "    if not normalize:\n",
    "        return hrf\n",
    "    return hrf / np.max(hrf)"
   ]
  },
  {
   "cell_type": "code",
   "execution_count": 17,
   "id": "continued-samba",
   "metadata": {},
   "outputs": [],
   "source": [
    "from scipy.stats import gamma\n",
    "rms = np.load('../sourcedata/data/HCP_7T_movie_FIX/features/7T_MOVIE1_CC1_v2_rms.npy')"
   ]
  },
  {
   "cell_type": "code",
   "execution_count": 22,
   "id": "medical-spencer",
   "metadata": {},
   "outputs": [
    {
     "name": "stderr",
     "output_type": "stream",
     "text": [
      "<ipython-input-15-a7fc75ff66bd>:70: DeprecationWarning: `np.float` is a deprecated alias for the builtin `float`. To silence this warning, use `float` by itself. Doing this will not modify any behavior and is safe. If you specifically wanted the numpy scalar type, use `np.float64` here.\n",
      "Deprecated in NumPy 1.20; for more details and guidance: https://numpy.org/devdocs/release/1.20.0-notes.html#deprecations\n",
      "  hrf = np.zeros(t.shape, dtype=np.float)\n"
     ]
    }
   ],
   "source": [
    "def apply_optimal_hrf_10hz(feat_in):\n",
    "    #applies optimal hrf from merlin study to a 10hz feature \n",
    "    t=np.arange(320)\n",
    "    optimal_hrf=spm_hrf_compat(t,\n",
    "                   peak_delay=60,\n",
    "                   under_delay=180,\n",
    "                   peak_disp=14,\n",
    "                   under_disp=15,\n",
    "                   p_u_ratio = 4,\n",
    "                   normalize=False,)\n",
    "    n_to_remove = optimal_hrf.shape[0]-1 #how much to trim from end after convolution\n",
    "    for m in np.arange(feat_in.shape[1]):\n",
    "        feat_in[:,m]=np.convolve(feat_in[:,m], optimal_hrf)[:-n_to_remove]\n",
    "    return feat_in\n",
    "\n",
    "\n",
    "rms_out=apply_optimal_hrf_10hz(rms)"
   ]
  },
  {
   "cell_type": "code",
   "execution_count": 23,
   "id": "worthy-electricity",
   "metadata": {},
   "outputs": [
    {
     "data": {
      "text/plain": [
       "9211"
      ]
     },
     "execution_count": 23,
     "metadata": {},
     "output_type": "execute_result"
    }
   ],
   "source": [
    "rms.shape[1]"
   ]
  },
  {
   "cell_type": "code",
   "execution_count": null,
   "id": "informal-unknown",
   "metadata": {},
   "outputs": [],
   "source": []
  },
  {
   "cell_type": "code",
   "execution_count": null,
   "id": "qualified-intro",
   "metadata": {},
   "outputs": [],
   "source": []
  },
  {
   "cell_type": "code",
   "execution_count": 12,
   "id": "opponent-excess",
   "metadata": {},
   "outputs": [],
   "source": [
    "rms_hrf = np.load('../sourcedata/data/HCP_7T_movie_FIX/features_hrf/7T_MOVIE1_CC1_v2_rms_hrf.npy')"
   ]
  },
  {
   "cell_type": "code",
   "execution_count": 13,
   "id": "dense-asian",
   "metadata": {},
   "outputs": [
    {
     "data": {
      "text/plain": [
       "(1, 922)"
      ]
     },
     "execution_count": 13,
     "metadata": {},
     "output_type": "execute_result"
    }
   ],
   "source": [
    "rms_hrf.shape"
   ]
  },
  {
   "cell_type": "code",
   "execution_count": 14,
   "id": "automotive-collect",
   "metadata": {},
   "outputs": [
    {
     "data": {
      "text/plain": [
       "[<matplotlib.lines.Line2D at 0x2aef2ca46220>]"
      ]
     },
     "execution_count": 14,
     "metadata": {},
     "output_type": "execute_result"
    },
    {
     "data": {
      "image/png": "[encoded data removed]",
      "text/plain": [
       "<Figure size 432x288 with 1 Axes>"
      ]
     },
     "metadata": {
      "needs_background": "light"
     },
     "output_type": "display_data"
    }
   ],
   "source": [
    "plt.plot(rms_hrf[0,:])"
   ]
  },
  {
   "cell_type": "code",
   "execution_count": 25,
   "id": "elder-athletics",
   "metadata": {},
   "outputs": [
    {
     "data": {
      "text/plain": [
       "(13, 9211)"
      ]
     },
     "execution_count": 25,
     "metadata": {},
     "output_type": "execute_result"
    }
   ],
   "source": [
    "other.shape"
   ]
  },
  {
   "cell_type": "code",
   "execution_count": 3,
   "id": "level-thickness",
   "metadata": {},
   "outputs": [
    {
     "data": {
      "text/plain": [
       "(1918, 1024)"
      ]
     },
     "execution_count": 3,
     "metadata": {},
     "output_type": "execute_result"
    }
   ],
   "source": [
    "embed.shape"
   ]
  },
  {
   "cell_type": "code",
   "execution_count": 3,
   "id": "painful-coaching",
   "metadata": {},
   "outputs": [],
   "source": [
    "from matplotlib import pyplot as plt"
   ]
  },
  {
   "cell_type": "code",
   "execution_count": 5,
   "id": "hired-cycling",
   "metadata": {},
   "outputs": [
    {
     "data": {
      "text/plain": [
       "<matplotlib.image.AxesImage at 0x2b103681cca0>"
      ]
     },
     "execution_count": 5,
     "metadata": {},
     "output_type": "execute_result"
    },
    {
     "data": {
      "image/png": "[encoded data removed]",
      "text/plain": [
       "<Figure size 432x288 with 1 Axes>"
      ]
     },
     "metadata": {
      "needs_background": "light"
     },
     "output_type": "display_data"
    }
   ],
   "source": [
    "plt.imshow(embed)"
   ]
  },
  {
   "cell_type": "code",
   "execution_count": 15,
   "id": "frozen-sender",
   "metadata": {},
   "outputs": [
    {
     "data": {
      "text/plain": [
       "(1918, 521)"
      ]
     },
     "execution_count": 15,
     "metadata": {},
     "output_type": "execute_result"
    }
   ],
   "source": [
    "scores.shape"
   ]
  },
  {
   "cell_type": "code",
   "execution_count": 23,
   "id": "thermal-isaac",
   "metadata": {},
   "outputs": [
    {
     "data": {
      "text/plain": [
       "[<matplotlib.lines.Line2D at 0x2b1035b610d0>]"
      ]
     },
     "execution_count": 23,
     "metadata": {},
     "output_type": "execute_result"
    },
    {
     "data": {
      "image/png": "[encoded data removed]",
      "text/plain": [
       "<Figure size 432x288 with 1 Axes>"
      ]
     },
     "metadata": {
      "needs_background": "light"
     },
     "output_type": "display_data"
    }
   ],
   "source": [
    "plt.plot(scores[:,5])"
   ]
  },
  {
   "cell_type": "code",
   "execution_count": 12,
   "id": "brief-curtis",
   "metadata": {},
   "outputs": [],
   "source": [
    "class_names = np.load('/om2/user/jsmentch/data/yamnet_output/yamnet_class_names.npy')\n"
   ]
  },
  {
   "cell_type": "code",
   "execution_count": 13,
   "id": "european-estimate",
   "metadata": {},
   "outputs": [
    {
     "data": {
      "text/plain": [
       "array(['Speech', 'Child speech, kid speaking', 'Conversation',\n",
       "       'Narration, monologue', 'Babbling', 'Speech synthesizer', 'Shout',\n",
       "       'Bellow', 'Whoop', 'Yell', 'Children shouting', 'Screaming',\n",
       "       'Whispering', 'Laughter', 'Baby laughter', 'Giggle', 'Snicker',\n",
       "       'Belly laugh', 'Chuckle, chortle', 'Crying, sobbing',\n",
       "       'Baby cry, infant cry', 'Whimper', 'Wail, moan', 'Sigh', 'Singing',\n",
       "       'Choir', 'Yodeling', 'Chant', 'Mantra', 'Child singing',\n",
       "       'Synthetic singing', 'Rapping', 'Humming', 'Groan', 'Grunt',\n",
       "       'Whistling', 'Breathing', 'Wheeze', 'Snoring', 'Gasp', 'Pant',\n",
       "       'Snort', 'Cough', 'Throat clearing', 'Sneeze', 'Sniff', 'Run',\n",
       "       'Shuffle', 'Walk, footsteps', 'Chewing, mastication', 'Biting',\n",
       "       'Gargling', 'Stomach rumble', 'Burping, eructation', 'Hiccup',\n",
       "       'Fart', 'Hands', 'Finger snapping', 'Clapping',\n",
       "       'Heart sounds, heartbeat', 'Heart murmur', 'Cheering', 'Applause',\n",
       "       'Chatter', 'Crowd', 'Hubbub, speech noise, speech babble',\n",
       "       'Children playing', 'Animal', 'Domestic animals, pets', 'Dog',\n",
       "       'Bark', 'Yip', 'Howl', 'Bow-wow', 'Growling', 'Whimper (dog)',\n",
       "       'Cat', 'Purr', 'Meow', 'Hiss', 'Caterwaul',\n",
       "       'Livestock, farm animals, working animals', 'Horse', 'Clip-clop',\n",
       "       'Neigh, whinny', 'Cattle, bovinae', 'Moo', 'Cowbell', 'Pig',\n",
       "       'Oink', 'Goat', 'Bleat', 'Sheep', 'Fowl', 'Chicken, rooster',\n",
       "       'Cluck', 'Crowing, cock-a-doodle-doo', 'Turkey', 'Gobble', 'Duck',\n",
       "       'Quack', 'Goose', 'Honk', 'Wild animals',\n",
       "       'Roaring cats (lions, tigers)', 'Roar', 'Bird',\n",
       "       'Bird vocalization, bird call, bird song', 'Chirp, tweet',\n",
       "       'Squawk', 'Pigeon, dove', 'Coo', 'Crow', 'Caw', 'Owl', 'Hoot',\n",
       "       'Bird flight, flapping wings', 'Canidae, dogs, wolves',\n",
       "       'Rodents, rats, mice', 'Mouse', 'Patter', 'Insect', 'Cricket',\n",
       "       'Mosquito', 'Fly, housefly', 'Buzz', 'Bee, wasp, etc.', 'Frog',\n",
       "       'Croak', 'Snake', 'Rattle', 'Whale vocalization', 'Music',\n",
       "       'Musical instrument', 'Plucked string instrument', 'Guitar',\n",
       "       'Electric guitar', 'Bass guitar', 'Acoustic guitar',\n",
       "       'Steel guitar, slide guitar', 'Tapping (guitar technique)',\n",
       "       'Strum', 'Banjo', 'Sitar', 'Mandolin', 'Zither', 'Ukulele',\n",
       "       'Keyboard (musical)', 'Piano', 'Electric piano', 'Organ',\n",
       "       'Electronic organ', 'Hammond organ', 'Synthesizer', 'Sampler',\n",
       "       'Harpsichord', 'Percussion', 'Drum kit', 'Drum machine', 'Drum',\n",
       "       'Snare drum', 'Rimshot', 'Drum roll', 'Bass drum', 'Timpani',\n",
       "       'Tabla', 'Cymbal', 'Hi-hat', 'Wood block', 'Tambourine',\n",
       "       'Rattle (instrument)', 'Maraca', 'Gong', 'Tubular bells',\n",
       "       'Mallet percussion', 'Marimba, xylophone', 'Glockenspiel',\n",
       "       'Vibraphone', 'Steelpan', 'Orchestra', 'Brass instrument',\n",
       "       'French horn', 'Trumpet', 'Trombone', 'Bowed string instrument',\n",
       "       'String section', 'Violin, fiddle', 'Pizzicato', 'Cello',\n",
       "       'Double bass', 'Wind instrument, woodwind instrument', 'Flute',\n",
       "       'Saxophone', 'Clarinet', 'Harp', 'Bell', 'Church bell',\n",
       "       'Jingle bell', 'Bicycle bell', 'Tuning fork', 'Chime',\n",
       "       'Wind chime', 'Change ringing (campanology)', 'Harmonica',\n",
       "       'Accordion', 'Bagpipes', 'Didgeridoo', 'Shofar', 'Theremin',\n",
       "       'Singing bowl', 'Scratching (performance technique)', 'Pop music',\n",
       "       'Hip hop music', 'Beatboxing', 'Rock music', 'Heavy metal',\n",
       "       'Punk rock', 'Grunge', 'Progressive rock', 'Rock and roll',\n",
       "       'Psychedelic rock', 'Rhythm and blues', 'Soul music', 'Reggae',\n",
       "       'Country', 'Swing music', 'Bluegrass', 'Funk', 'Folk music',\n",
       "       'Middle Eastern music', 'Jazz', 'Disco', 'Classical music',\n",
       "       'Opera', 'Electronic music', 'House music', 'Techno', 'Dubstep',\n",
       "       'Drum and bass', 'Electronica', 'Electronic dance music',\n",
       "       'Ambient music', 'Trance music', 'Music of Latin America',\n",
       "       'Salsa music', 'Flamenco', 'Blues', 'Music for children',\n",
       "       'New-age music', 'Vocal music', 'A capella', 'Music of Africa',\n",
       "       'Afrobeat', 'Christian music', 'Gospel music', 'Music of Asia',\n",
       "       'Carnatic music', 'Music of Bollywood', 'Ska', 'Traditional music',\n",
       "       'Independent music', 'Song', 'Background music', 'Theme music',\n",
       "       'Jingle (music)', 'Soundtrack music', 'Lullaby',\n",
       "       'Video game music', 'Christmas music', 'Dance music',\n",
       "       'Wedding music', 'Happy music', 'Sad music', 'Tender music',\n",
       "       'Exciting music', 'Angry music', 'Scary music', 'Wind',\n",
       "       'Rustling leaves', 'Wind noise (microphone)', 'Thunderstorm',\n",
       "       'Thunder', 'Water', 'Rain', 'Raindrop', 'Rain on surface',\n",
       "       'Stream', 'Waterfall', 'Ocean', 'Waves, surf', 'Steam', 'Gurgling',\n",
       "       'Fire', 'Crackle', 'Vehicle', 'Boat, Water vehicle',\n",
       "       'Sailboat, sailing ship', 'Rowboat, canoe, kayak',\n",
       "       'Motorboat, speedboat', 'Ship', 'Motor vehicle (road)', 'Car',\n",
       "       'Vehicle horn, car horn, honking', 'Toot', 'Car alarm',\n",
       "       'Power windows, electric windows', 'Skidding', 'Tire squeal',\n",
       "       'Car passing by', 'Race car, auto racing', 'Truck', 'Air brake',\n",
       "       'Air horn, truck horn', 'Reversing beeps',\n",
       "       'Ice cream truck, ice cream van', 'Bus', 'Emergency vehicle',\n",
       "       'Police car (siren)', 'Ambulance (siren)',\n",
       "       'Fire engine, fire truck (siren)', 'Motorcycle',\n",
       "       'Traffic noise, roadway noise', 'Rail transport', 'Train',\n",
       "       'Train whistle', 'Train horn', 'Railroad car, train wagon',\n",
       "       'Train wheels squealing', 'Subway, metro, underground', 'Aircraft',\n",
       "       'Aircraft engine', 'Jet engine', 'Propeller, airscrew',\n",
       "       'Helicopter', 'Fixed-wing aircraft, airplane', 'Bicycle',\n",
       "       'Skateboard', 'Engine', 'Light engine (high frequency)',\n",
       "       \"Dental drill, dentist's drill\", 'Lawn mower', 'Chainsaw',\n",
       "       'Medium engine (mid frequency)', 'Heavy engine (low frequency)',\n",
       "       'Engine knocking', 'Engine starting', 'Idling',\n",
       "       'Accelerating, revving, vroom', 'Door', 'Doorbell', 'Ding-dong',\n",
       "       'Sliding door', 'Slam', 'Knock', 'Tap', 'Squeak',\n",
       "       'Cupboard open or close', 'Drawer open or close',\n",
       "       'Dishes, pots, and pans', 'Cutlery, silverware', 'Chopping (food)',\n",
       "       'Frying (food)', 'Microwave oven', 'Blender', 'Water tap, faucet',\n",
       "       'Sink (filling or washing)', 'Bathtub (filling or washing)',\n",
       "       'Hair dryer', 'Toilet flush', 'Toothbrush', 'Electric toothbrush',\n",
       "       'Vacuum cleaner', 'Zipper (clothing)', 'Keys jangling',\n",
       "       'Coin (dropping)', 'Scissors', 'Electric shaver, electric razor',\n",
       "       'Shuffling cards', 'Typing', 'Typewriter', 'Computer keyboard',\n",
       "       'Writing', 'Alarm', 'Telephone', 'Telephone bell ringing',\n",
       "       'Ringtone', 'Telephone dialing, DTMF', 'Dial tone', 'Busy signal',\n",
       "       'Alarm clock', 'Siren', 'Civil defense siren', 'Buzzer',\n",
       "       'Smoke detector, smoke alarm', 'Fire alarm', 'Foghorn', 'Whistle',\n",
       "       'Steam whistle', 'Mechanisms', 'Ratchet, pawl', 'Clock', 'Tick',\n",
       "       'Tick-tock', 'Gears', 'Pulleys', 'Sewing machine',\n",
       "       'Mechanical fan', 'Air conditioning', 'Cash register', 'Printer',\n",
       "       'Camera', 'Single-lens reflex camera', 'Tools', 'Hammer',\n",
       "       'Jackhammer', 'Sawing', 'Filing (rasp)', 'Sanding', 'Power tool',\n",
       "       'Drill', 'Explosion', 'Gunshot, gunfire', 'Machine gun',\n",
       "       'Fusillade', 'Artillery fire', 'Cap gun', 'Fireworks',\n",
       "       'Firecracker', 'Burst, pop', 'Eruption', 'Boom', 'Wood', 'Chop',\n",
       "       'Splinter', 'Crack', 'Glass', 'Chink, clink', 'Shatter', 'Liquid',\n",
       "       'Splash, splatter', 'Slosh', 'Squish', 'Drip', 'Pour',\n",
       "       'Trickle, dribble', 'Gush', 'Fill (with liquid)', 'Spray',\n",
       "       'Pump (liquid)', 'Stir', 'Boiling', 'Sonar', 'Arrow',\n",
       "       'Whoosh, swoosh, swish', 'Thump, thud', 'Thunk',\n",
       "       'Electronic tuner', 'Effects unit', 'Chorus effect',\n",
       "       'Basketball bounce', 'Bang', 'Slap, smack', 'Whack, thwack',\n",
       "       'Smash, crash', 'Breaking', 'Bouncing', 'Whip', 'Flap', 'Scratch',\n",
       "       'Scrape', 'Rub', 'Roll', 'Crushing', 'Crumpling, crinkling',\n",
       "       'Tearing', 'Beep, bleep', 'Ping', 'Ding', 'Clang', 'Squeal',\n",
       "       'Creak', 'Rustle', 'Whir', 'Clatter', 'Sizzle', 'Clicking',\n",
       "       'Clickety-clack', 'Rumble', 'Plop', 'Jingle, tinkle', 'Hum',\n",
       "       'Zing', 'Boing', 'Crunch', 'Silence', 'Sine wave', 'Harmonic',\n",
       "       'Chirp tone', 'Sound effect', 'Pulse', 'Inside, small room',\n",
       "       'Inside, large room or hall', 'Inside, public space',\n",
       "       'Outside, urban or manmade', 'Outside, rural or natural',\n",
       "       'Reverberation', 'Echo', 'Noise', 'Environmental noise', 'Static',\n",
       "       'Mains hum', 'Distortion', 'Sidetone', 'Cacophony', 'White noise',\n",
       "       'Pink noise', 'Throbbing', 'Vibration', 'Television', 'Radio',\n",
       "       'Field recording'], dtype='<U40')"
      ]
     },
     "execution_count": 13,
     "metadata": {},
     "output_type": "execute_result"
    }
   ],
   "source": [
    "class_names"
   ]
  },
  {
   "cell_type": "code",
   "execution_count": null,
   "id": "reported-ancient",
   "metadata": {},
   "outputs": [],
   "source": []
  }
 ],
 "metadata": {
  "kernelspec": {
   "display_name": "Python 3",
   "language": "python",
   "name": "python3"
  },
  "language_info": {
   "codemirror_mode": {
    "name": "ipython",
    "version": 3
   },
   "file_extension": ".py",
   "mimetype": "text/x-python",
   "name": "python",
   "nbconvert_exporter": "python",
   "pygments_lexer": "ipython3",
   "version": "3.8.5"
  }
 },
 "nbformat": 4,
 "nbformat_minor": 5
}
