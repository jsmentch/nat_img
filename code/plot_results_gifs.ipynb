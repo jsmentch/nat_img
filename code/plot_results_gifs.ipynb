{
 "cells": [
  {
   "cell_type": "code",
   "execution_count": 2,
   "id": "0cb257d5-40bc-469e-960f-f96ff9b01601",
   "metadata": {},
   "outputs": [],
   "source": [
    "from PIL import Image, ImageDraw\n",
    "import os\n",
    "\n"
   ]
  },
  {
   "cell_type": "code",
   "execution_count": 11,
   "id": "9a8d2fe8-83b2-41c7-ba84-ae7bf91ff39d",
   "metadata": {},
   "outputs": [
    {
     "data": {
      "text/plain": [
       "['../outputs/figures/budapest/speech/partALL_GLM_effect_z_sid000007_speech_z.png',\n",
       " '../outputs/figures/budapest/speech/partALL_GLM_effect_z_sid000009_speech_z.png',\n",
       " '../outputs/figures/budapest/speech/partALL_GLM_effect_z_sid000010_speech_z.png',\n",
       " '../outputs/figures/budapest/speech/partALL_GLM_effect_z_sid000013_speech_z.png',\n",
       " '../outputs/figures/budapest/speech/partALL_GLM_effect_z_sid000021_speech_z.png',\n",
       " '../outputs/figures/budapest/speech/partALL_GLM_effect_z_sid000024_speech_z.png',\n",
       " '../outputs/figures/budapest/speech/partALL_GLM_effect_z_sid000025_speech_z.png',\n",
       " '../outputs/figures/budapest/speech/partALL_GLM_effect_z_sid000030_speech_z.png',\n",
       " '../outputs/figures/budapest/speech/partALL_GLM_effect_z_sid000034_speech_z.png',\n",
       " '../outputs/figures/budapest/speech/partALL_GLM_effect_z_sid000050_speech_z.png',\n",
       " '../outputs/figures/budapest/speech/partALL_GLM_effect_z_sid000052_speech_z.png',\n",
       " '../outputs/figures/budapest/speech/partALL_GLM_effect_z_sid000055_speech_z.png',\n",
       " '../outputs/figures/budapest/speech/partALL_GLM_effect_z_sid000114_speech_z.png',\n",
       " '../outputs/figures/budapest/speech/partALL_GLM_effect_z_sid000134_speech_z.png',\n",
       " '../outputs/figures/budapest/speech/partALL_GLM_effect_z_sid000416_speech_z.png',\n",
       " '../outputs/figures/budapest/speech/partALL_GLM_effect_z_sid000522_speech_z.png',\n",
       " '../outputs/figures/budapest/speech/partALL_GLM_effect_z_sid000535_speech_z.png',\n",
       " '../outputs/figures/budapest/speech/partALL_GLM_effect_z_sid000560_speech_z.png',\n",
       " '../outputs/figures/budapest/speech/.ipynb_checkpoints/partALL_GLM_effect_z_sid000010_speech_z-checkpoint.png',\n",
       " '../outputs/figures/budapest/speech/.ipynb_checkpoints/partALL_GLM_effect_z_sid000034_speech_z-checkpoint.png',\n",
       " '../outputs/figures/budapest/speech/.ipynb_checkpoints/partALL_GLM_effect_z_sid000535_speech_z-checkpoint.png']"
      ]
     },
     "execution_count": 11,
     "metadata": {},
     "output_type": "execute_result"
    }
   ],
   "source": []
  },
  {
   "cell_type": "code",
   "execution_count": 16,
   "id": "ac8ed5f5-39f8-46d8-a598-5193760eb6a1",
   "metadata": {},
   "outputs": [],
   "source": [
    "features=['speech','as_music_nospeech','as_music','any_faces_vs_home','any_faces_nospeech','any_faces']\n",
    "for feature in features:\n",
    "    filelist=[]\n",
    "    import os\n",
    "    for root, dirs, files in os.walk(f'../outputs/figures/budapest/{feature}'):\n",
    "        for name in files:\n",
    "            filelist.append(os.path.join(root, name))\n",
    "\n",
    "    append_images=[]\n",
    "    for i,f in enumerate(filelist):\n",
    "        if i==0:\n",
    "            img1 = Image.open(f)\n",
    "        else:\n",
    "            img2 = Image.open(f)\n",
    "            append_images.append(img2)\n",
    "    img1.save(f'../outputs/figures/budapest/qual_{feature}.gif', save_all=True, append_images=append_images, duration=0.2, loop=0)"
   ]
  },
  {
   "cell_type": "code",
   "execution_count": 18,
   "id": "9c1cf9a6-8f53-4d66-94e2-8c868a3c5a02",
   "metadata": {},
   "outputs": [],
   "source": [
    "features=['qual_rms','qual_r2']\n",
    "for feature in features:\n",
    "    filelist=[]\n",
    "    import os\n",
    "    for root, dirs, files in os.walk(f'../outputs/figures/HCP_7T/{feature}'):\n",
    "        for name in files:\n",
    "            filelist.append(os.path.join(root, name))\n",
    "\n",
    "    append_images=[]\n",
    "    for i,f in enumerate(filelist):\n",
    "        if i==0:\n",
    "            img1 = Image.open(f)\n",
    "        else:\n",
    "            img2 = Image.open(f)\n",
    "            append_images.append(img2)\n",
    "    img1.save(f'../outputs/figures/HCP_7T/{feature}.gif', save_all=True, append_images=append_images, duration=0.05, loop=0)"
   ]
  },
  {
   "cell_type": "code",
   "execution_count": null,
   "id": "a9d16d53-184a-4091-aaf0-26721fea96bc",
   "metadata": {},
   "outputs": [],
   "source": []
  }
 ],
 "metadata": {
  "kernelspec": {
   "display_name": "Python 3",
   "language": "python",
   "name": "python3"
  },
  "language_info": {
   "codemirror_mode": {
    "name": "ipython",
    "version": 3
   },
   "file_extension": ".py",
   "mimetype": "text/x-python",
   "name": "python",
   "nbconvert_exporter": "python",
   "pygments_lexer": "ipython3",
   "version": "3.8.5"
  }
 },
 "nbformat": 4,
 "nbformat_minor": 5
}
