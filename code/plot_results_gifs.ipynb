{
 "cells": [
  {
   "cell_type": "code",
   "execution_count": 2,
   "id": "0cb257d5-40bc-469e-960f-f96ff9b01601",
   "metadata": {},
   "outputs": [],
   "source": [
    "from PIL import Image, ImageDraw\n",
    "import os\n",
    "\n"
   ]
  },
  {
   "cell_type": "code",
   "execution_count": 11,
   "id": "9a8d2fe8-83b2-41c7-ba84-ae7bf91ff39d",
   "metadata": {},
   "outputs": [
    {
     "data": {
      "text/plain": [
       "['../outputs/figures/budapest/speech/partALL_GLM_effect_z_sid000007_speech_z.png',\n",
       " '../outputs/figures/budapest/speech/partALL_GLM_effect_z_sid000009_speech_z.png',\n",
       " '../outputs/figures/budapest/speech/partALL_GLM_effect_z_sid000010_speech_z.png',\n",
       " '../outputs/figures/budapest/speech/partALL_GLM_effect_z_sid000013_speech_z.png',\n",
       " '../outputs/figures/budapest/speech/partALL_GLM_effect_z_sid000021_speech_z.png',\n",
       " '../outputs/figures/budapest/speech/partALL_GLM_effect_z_sid000024_speech_z.png',\n",
       " '../outputs/figures/budapest/speech/partALL_GLM_effect_z_sid000025_speech_z.png',\n",
       " '../outputs/figures/budapest/speech/partALL_GLM_effect_z_sid000030_speech_z.png',\n",
       " '../outputs/figures/budapest/speech/partALL_GLM_effect_z_sid000034_speech_z.png',\n",
       " '../outputs/figures/budapest/speech/partALL_GLM_effect_z_sid000050_speech_z.png',\n",
       " '../outputs/figures/budapest/speech/partALL_GLM_effect_z_sid000052_speech_z.png',\n",
       " '../outputs/figures/budapest/speech/partALL_GLM_effect_z_sid000055_speech_z.png',\n",
       " '../outputs/figures/budapest/speech/partALL_GLM_effect_z_sid000114_speech_z.png',\n",
       " '../outputs/figures/budapest/speech/partALL_GLM_effect_z_sid000134_speech_z.png',\n",
       " '../outputs/figures/budapest/speech/partALL_GLM_effect_z_sid000416_speech_z.png',\n",
       " '../outputs/figures/budapest/speech/partALL_GLM_effect_z_sid000522_speech_z.png',\n",
       " '../outputs/figures/budapest/speech/partALL_GLM_effect_z_sid000535_speech_z.png',\n",
       " '../outputs/figures/budapest/speech/partALL_GLM_effect_z_sid000560_speech_z.png',\n",
       " '../outputs/figures/budapest/speech/.ipynb_checkpoints/partALL_GLM_effect_z_sid000010_speech_z-checkpoint.png',\n",
       " '../outputs/figures/budapest/speech/.ipynb_checkpoints/partALL_GLM_effect_z_sid000034_speech_z-checkpoint.png',\n",
       " '../outputs/figures/budapest/speech/.ipynb_checkpoints/partALL_GLM_effect_z_sid000535_speech_z-checkpoint.png']"
      ]
     },
     "execution_count": 11,
     "metadata": {},
     "output_type": "execute_result"
    }
   ],
   "source": [
    "feature='speech'\n",
    "\n",
    "filelist=[]\n",
    "import os\n",
    "for root, dirs, files in os.walk(f'../outputs/figures/budapest/{feature}'):\n",
    "    for name in files:\n",
    "        filelist.append(os.path.join(root, name))\n",
    "#     for name in dirs:\n",
    "#         print(os.path.join(root, name))\n",
    "filelist        \n",
    "#files=os.walk('../outputs/figures/budapest/{feature}')"
   ]
  },
  {
   "cell_type": "code",
   "execution_count": 12,
   "id": "ac8ed5f5-39f8-46d8-a598-5193760eb6a1",
   "metadata": {},
   "outputs": [
    {
     "ename": "FileNotFoundError",
     "evalue": "[Errno 2] No such file or directory: '../outputs/figures/budapest/plot_gif0_sid000005_raw_raw.png'",
     "output_type": "error",
     "traceback": [
      "\u001b[0;31m---------------------------------------------------------------------------\u001b[0m",
      "\u001b[0;31mFileNotFoundError\u001b[0m                         Traceback (most recent call last)",
      "\u001b[0;32m<ipython-input-12-178926d41069>\u001b[0m in \u001b[0;36m<module>\u001b[0;34m\u001b[0m\n\u001b[1;32m      2\u001b[0m \u001b[0;32mfor\u001b[0m \u001b[0mi\u001b[0m\u001b[0;34m,\u001b[0m\u001b[0mf\u001b[0m \u001b[0;32min\u001b[0m \u001b[0menumerate\u001b[0m\u001b[0;34m(\u001b[0m\u001b[0mfilelist\u001b[0m\u001b[0;34m)\u001b[0m\u001b[0;34m:\u001b[0m\u001b[0;34m\u001b[0m\u001b[0;34m\u001b[0m\u001b[0m\n\u001b[1;32m      3\u001b[0m     \u001b[0;32mif\u001b[0m \u001b[0mi\u001b[0m\u001b[0;34m==\u001b[0m\u001b[0;36m0\u001b[0m\u001b[0;34m:\u001b[0m\u001b[0;34m\u001b[0m\u001b[0;34m\u001b[0m\u001b[0m\n\u001b[0;32m----> 4\u001b[0;31m         \u001b[0mimg1\u001b[0m \u001b[0;34m=\u001b[0m \u001b[0mImage\u001b[0m\u001b[0;34m.\u001b[0m\u001b[0mopen\u001b[0m\u001b[0;34m(\u001b[0m\u001b[0;34mf'../outputs/figures/budapest/plot_gif0_sid000005_raw_raw.png'\u001b[0m\u001b[0;34m)\u001b[0m\u001b[0;34m\u001b[0m\u001b[0;34m\u001b[0m\u001b[0m\n\u001b[0m\u001b[1;32m      5\u001b[0m     \u001b[0;32melse\u001b[0m\u001b[0;34m:\u001b[0m\u001b[0;34m\u001b[0m\u001b[0;34m\u001b[0m\u001b[0m\n\u001b[1;32m      6\u001b[0m         \u001b[0mimg2\u001b[0m \u001b[0;34m=\u001b[0m \u001b[0mImage\u001b[0m\u001b[0;34m.\u001b[0m\u001b[0mopen\u001b[0m\u001b[0;34m(\u001b[0m\u001b[0;34mf'../outputs/figures/budapest/plot_gif{i}_sid000005_raw_raw.png'\u001b[0m\u001b[0;34m)\u001b[0m\u001b[0;34m\u001b[0m\u001b[0;34m\u001b[0m\u001b[0m\n",
      "\u001b[0;32m/opt/miniconda-latest/lib/python3.8/site-packages/PIL/Image.py\u001b[0m in \u001b[0;36mopen\u001b[0;34m(fp, mode, formats)\u001b[0m\n\u001b[1;32m   2902\u001b[0m \u001b[0;34m\u001b[0m\u001b[0m\n\u001b[1;32m   2903\u001b[0m     \u001b[0;32mif\u001b[0m \u001b[0mfilename\u001b[0m\u001b[0;34m:\u001b[0m\u001b[0;34m\u001b[0m\u001b[0;34m\u001b[0m\u001b[0m\n\u001b[0;32m-> 2904\u001b[0;31m         \u001b[0mfp\u001b[0m \u001b[0;34m=\u001b[0m \u001b[0mbuiltins\u001b[0m\u001b[0;34m.\u001b[0m\u001b[0mopen\u001b[0m\u001b[0;34m(\u001b[0m\u001b[0mfilename\u001b[0m\u001b[0;34m,\u001b[0m \u001b[0;34m\"rb\"\u001b[0m\u001b[0;34m)\u001b[0m\u001b[0;34m\u001b[0m\u001b[0;34m\u001b[0m\u001b[0m\n\u001b[0m\u001b[1;32m   2905\u001b[0m         \u001b[0mexclusive_fp\u001b[0m \u001b[0;34m=\u001b[0m \u001b[0;32mTrue\u001b[0m\u001b[0;34m\u001b[0m\u001b[0;34m\u001b[0m\u001b[0m\n\u001b[1;32m   2906\u001b[0m \u001b[0;34m\u001b[0m\u001b[0m\n",
      "\u001b[0;31mFileNotFoundError\u001b[0m: [Errno 2] No such file or directory: '../outputs/figures/budapest/plot_gif0_sid000005_raw_raw.png'"
     ]
    }
   ],
   "source": [
    "append_images=[]\n",
    "for i,f in enumerate(filelist):\n",
    "    if i==0:\n",
    "        img1 = Image.open(f'../outputs/figures/budapest/plot_gif0_sid000005_raw_raw.png')\n",
    "    else:\n",
    "        img2 = Image.open(f'../outputs/figures/budapest/plot_gif{i}_sid000005_raw_raw.png')\n",
    "        append_images.append(img2)\n",
    "img1.save(f'../outputs/figures/budapest/qual_{feature}.gif', save_all=True, append_images=append_images, duration=0.1, loop=0)"
   ]
  },
  {
   "cell_type": "code",
   "execution_count": null,
   "id": "9c1cf9a6-8f53-4d66-94e2-8c868a3c5a02",
   "metadata": {},
   "outputs": [],
   "source": []
  }
 ],
 "metadata": {
  "kernelspec": {
   "display_name": "Python 3",
   "language": "python",
   "name": "python3"
  },
  "language_info": {
   "codemirror_mode": {
    "name": "ipython",
    "version": 3
   },
   "file_extension": ".py",
   "mimetype": "text/x-python",
   "name": "python",
   "nbconvert_exporter": "python",
   "pygments_lexer": "ipython3",
   "version": "3.8.5"
  }
 },
 "nbformat": 4,
 "nbformat_minor": 5
}
