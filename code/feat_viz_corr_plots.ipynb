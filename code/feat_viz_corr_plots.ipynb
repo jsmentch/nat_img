{
 "cells": [
  {
   "cell_type": "markdown",
   "id": "91da0cdd-79d9-4233-9e11-c11fbec10c7c",
   "metadata": {
    "tags": []
   },
   "source": [
    "## notebook to plot correlations between different features and brain parcel timecourses"
   ]
  },
  {
   "cell_type": "code",
   "execution_count": 2,
   "id": "c52de1e1-6d98-44d6-ad01-865a13fd997d",
   "metadata": {},
   "outputs": [
    {
     "name": "stderr",
     "output_type": "stream",
     "text": [
      "/opt/miniconda-latest/lib/python3.8/site-packages/nilearn/datasets/__init__.py:87: FutureWarning: Fetchers from the nilearn.datasets module will be updated in version 0.9 to return python strings instead of bytes and Pandas dataframes instead of Numpy arrays.\n",
      "  warn(\"Fetchers from the nilearn.datasets module will be \"\n",
      "pixdim[1,2,3] should be non-zero; setting 0 dims to 1\n"
     ]
    }
   ],
   "source": [
    "import nibabel as nb\n",
    "import nilearn as nl\n",
    "import hcp_utils as hcp\n",
    "import numpy as np\n",
    "import pandas as pd"
   ]
  },
  {
   "cell_type": "code",
   "execution_count": null,
   "id": "16e6bb85-d0e7-4539-b55b-2f4b02027697",
   "metadata": {},
   "outputs": [],
   "source": []
  }
 ],
 "metadata": {
  "kernelspec": {
   "display_name": "Python 3",
   "language": "python",
   "name": "python3"
  },
  "language_info": {
   "codemirror_mode": {
    "name": "ipython",
    "version": 3
   },
   "file_extension": ".py",
   "mimetype": "text/x-python",
   "name": "python",
   "nbconvert_exporter": "python",
   "pygments_lexer": "ipython3",
   "version": "3.8.5"
  }
 },
 "nbformat": 4,
 "nbformat_minor": 5
}
