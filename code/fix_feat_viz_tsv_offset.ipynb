{
 "cells": [
  {
   "cell_type": "markdown",
   "id": "ccb07ca9-5582-42d3-8a8d-bc084e19d5b2",
   "metadata": {},
   "source": [
    "## notebook to fix offset timing of tsv files"
   ]
  },
  {
   "cell_type": "markdown",
   "id": "e53ac31d-1e84-4fed-9d7e-ad1b4282e776",
   "metadata": {},
   "source": [
    "some of the files exported by the feature visualizer have incorrect timing due to \"offset\". this will repair them for now. the feature visuzlier bug is fixed 4/19/22"
   ]
  },
  {
   "cell_type": "code",
   "execution_count": 24,
   "id": "98d8a35a-15be-4c83-8c11-fb86e7a4c3f3",
   "metadata": {},
   "outputs": [],
   "source": [
    "import pandas as pd\n",
    "import os"
   ]
  },
  {
   "cell_type": "code",
   "execution_count": 25,
   "id": "480dae6f-7247-4e9a-be3b-dc3b27076b90",
   "metadata": {},
   "outputs": [],
   "source": [
    "tsv_dir='../sourcedata/data/merlin/features/convert_tsvs'"
   ]
  },
  {
   "cell_type": "code",
   "execution_count": 26,
   "id": "d75a0477-0c3f-4359-aaa3-1485f36254c7",
   "metadata": {},
   "outputs": [],
   "source": [
    "df=pd.read_csv(f'{tsv_dir}/merlin/any_faces_edited.tsv', sep='\\t')\n",
    "\n",
    "df['onset'] = df['onset'] + 25.5\n",
    "\n",
    "df.to_csv(f'{tsv_dir}/merlin/any_faces_edited.tsv', index=False, sep=\"\\t\")"
   ]
  },
  {
   "cell_type": "code",
   "execution_count": 27,
   "id": "05ff75fa-b46e-415c-9a5e-269a5c0b04d1",
   "metadata": {},
   "outputs": [],
   "source": [
    "df=pd.read_csv(f'{tsv_dir}/merlin/speech_edited.tsv', sep='\\t')\n",
    "\n",
    "df['onset'] = df['onset'] + 25.5\n",
    "\n",
    "df.to_csv(f'{tsv_dir}/merlin/speech_edited.tsv', index=False, sep=\"\\t\")"
   ]
  },
  {
   "cell_type": "markdown",
   "id": "51affe22-c4d7-40e1-b50c-c22e45ba044a",
   "metadata": {},
   "source": [
    "### fix a folder of files"
   ]
  },
  {
   "cell_type": "code",
   "execution_count": 28,
   "id": "837eee2e-3b96-4e31-83e1-84c878981d73",
   "metadata": {},
   "outputs": [],
   "source": [
    "tsv_dir='/om2/scratch/Sat/jsmentch/feature_viz_paper/features/budapest'"
   ]
  },
  {
   "cell_type": "code",
   "execution_count": 29,
   "id": "00c33682-4e8b-4dfe-9f0a-c4b99a3a2af9",
   "metadata": {},
   "outputs": [],
   "source": [
    "files = [f for f in os.listdir(tsv_dir) if os.path.isfile(os.path.join(tsv_dir, f))]\n",
    "for f in files:\n",
    "    df=pd.read_csv(f'{tsv_dir}/{f}', sep='\\t')\n",
    "    df['onset'] = df['onset'] + 10\n",
    "    df.to_csv(f'{tsv_dir}/{f}', index=False, sep=\"\\t\")"
   ]
  },
  {
   "cell_type": "code",
   "execution_count": null,
   "id": "6bc27cc0-0a08-4d77-bc72-8ee6ae9e8d62",
   "metadata": {},
   "outputs": [],
   "source": []
  }
 ],
 "metadata": {
  "kernelspec": {
   "display_name": "Python 3",
   "language": "python",
   "name": "python3"
  },
  "language_info": {
   "codemirror_mode": {
    "name": "ipython",
    "version": 3
   },
   "file_extension": ".py",
   "mimetype": "text/x-python",
   "name": "python",
   "nbconvert_exporter": "python",
   "pygments_lexer": "ipython3",
   "version": "3.8.5"
  }
 },
 "nbformat": 4,
 "nbformat_minor": 5
}
