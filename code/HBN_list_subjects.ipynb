{
 "cells": [
  {
   "cell_type": "code",
   "execution_count": 3,
   "id": "corresponding-navigation",
   "metadata": {},
   "outputs": [],
   "source": [
    "import numpy as np\n",
    "import pandas as pd\n",
    "import re\n",
    "import math\n",
    "from matplotlib import pyplot as plt\n",
    "import glob"
   ]
  },
  {
   "cell_type": "code",
   "execution_count": 4,
   "id": "federal-helmet",
   "metadata": {},
   "outputs": [],
   "source": [
    "all_dx = np.load('../sourcedata/data/HBN/phenotype/parsed/dx_list.npy')\n",
    "sub_list = np.load('../sourcedata/data/HBN/phenotype/parsed/sub_list.npy')\n",
    "dx_array = np.load('../sourcedata/data/HBN/phenotype/parsed/dx_onehot.npy')\n",
    "hbn_dir='/nese/mit/group/sig/projects/hbn/hbn_bids/'"
   ]
  },
  {
   "cell_type": "code",
   "execution_count": 5,
   "id": "sophisticated-mechanism",
   "metadata": {},
   "outputs": [],
   "source": [
    "dx_df = pd.DataFrame(dx_array)\n",
    "dx_df.columns = all_dx"
   ]
  },
  {
   "cell_type": "markdown",
   "id": "experienced-socket",
   "metadata": {},
   "source": [
    "### list how many func files are there for different clinical groups"
   ]
  },
  {
   "cell_type": "code",
   "execution_count": 6,
   "id": "studied-closing",
   "metadata": {},
   "outputs": [],
   "source": [
    "#get the ids of different dx\n",
    "all_subs=dx_df.index\n",
    "sub_ind=dx_df.loc[dx_df['No Diagnosis Given'] == 1].index\n",
    "sub_ind_asd=dx_df.loc[dx_df['Autism Spectrum Disorder'] == 1].index\n",
    "only_asd= dx_df.loc[((dx_df['ADHD-Combined Type'] == 0) & (dx_df['ADHD-Hyperactive/Impulsive Type'] == 0) & (dx_df['ADHD-Inattentive Type'] == 0) &  (dx_df['Unspecified Attention-Deficit/Hyperactivity Disorder'] == 0) & (dx_df['Autism Spectrum Disorder'] == 1) )].index"
   ]
  },
  {
   "cell_type": "code",
   "execution_count": 8,
   "id": "individual-louis",
   "metadata": {},
   "outputs": [],
   "source": [
    "#function#give a list of subject indices and it will search for their functional files\n",
    "#also give string of the clinical group\n",
    "def count_funcs(list_in, group):\n",
    "    hbn_dir='/nese/mit/group/sig/projects/hbn/hbn_bids/'\n",
    "    sub_count=len(list_in)\n",
    "    rest_DM_TP=0\n",
    "    DM_TP=0\n",
    "    rest=0\n",
    "    anything=0\n",
    "    peer=0\n",
    "    for sub in sub_list[list_in]:\n",
    "        #print(f)\n",
    "        func_files=glob.glob(f'{hbn_dir}sub-{sub}/*/func/*')\n",
    "        if (any(\"DM\" in s for s in func_files) and any(\"TP\" in s for s in func_files) and any(\"rest\" in s for s in func_files)):\n",
    "            rest_DM_TP+=1\n",
    "        if (any(\"DM\" in s for s in func_files) and any(\"TP\" in s for s in func_files)):\n",
    "            DM_TP +=1\n",
    "        if (any(\"rest\" in s for s in func_files)):\n",
    "            rest+=1\n",
    "        if (any(\"DM\" in s for s in func_files) or any(\"TP\" in s for s in func_files) or any(\"rest\" in s for s in func_files)):\n",
    "            anything+=1\n",
    "        if (any(\"peer\" in s for s in func_files)):\n",
    "            peer+=1\n",
    "    print(f'How many {group} subjects are there:')\n",
    "    print(f'{sub_count} {group} subjects')\n",
    "    print(f'{rest_DM_TP} saw both movies and had resting state')\n",
    "    print(f'{DM_TP} saw both movies and no resting state')\n",
    "    print(f'{rest} at least had resting state')\n",
    "    print(f'{peer} had some peer data')\n",
    "    print(f'{anything} at least had some functional data')"
   ]
  },
  {
   "cell_type": "code",
   "execution_count": 48,
   "id": "following-contract",
   "metadata": {},
   "outputs": [
    {
     "name": "stdout",
     "output_type": "stream",
     "text": [
      "How many all subjects are there:\n",
      "3615 all subjects\n",
      "1453 saw both movies and had resting state\n",
      "1616 saw both movies and no resting state\n",
      "2211 at least had resting state\n",
      "1896 had some peer data\n",
      "2419 at least had some functional data\n"
     ]
    }
   ],
   "source": [
    "count_funcs(all_subs, 'all')"
   ]
  },
  {
   "cell_type": "code",
   "execution_count": 49,
   "id": "broken-while",
   "metadata": {},
   "outputs": [
    {
     "name": "stdout",
     "output_type": "stream",
     "text": [
      "How many NT subjects are there:\n",
      "308 NT subjects\n",
      "115 saw both movies and had resting state\n",
      "138 saw both movies and no resting state\n",
      "200 at least had resting state\n",
      "152 had some peer data\n",
      "225 at least had some functional data\n"
     ]
    }
   ],
   "source": [
    "count_funcs(sub_ind, 'NT')"
   ]
  },
  {
   "cell_type": "code",
   "execution_count": 50,
   "id": "higher-portsmouth",
   "metadata": {},
   "outputs": [
    {
     "name": "stdout",
     "output_type": "stream",
     "text": [
      "How many ASC subjects are there:\n",
      "539 ASC subjects\n",
      "215 saw both movies and had resting state\n",
      "243 saw both movies and no resting state\n",
      "315 at least had resting state\n",
      "289 had some peer data\n",
      "352 at least had some functional data\n"
     ]
    }
   ],
   "source": [
    "count_funcs(sub_ind_asd, 'ASC')"
   ]
  },
  {
   "cell_type": "code",
   "execution_count": 51,
   "id": "interior-consumption",
   "metadata": {},
   "outputs": [
    {
     "name": "stdout",
     "output_type": "stream",
     "text": [
      "How many ASC (no ADHD) subjects are there:\n",
      "142 ASC (no ADHD) subjects\n",
      "42 saw both movies and had resting state\n",
      "51 saw both movies and no resting state\n",
      "73 at least had resting state\n",
      "68 had some peer data\n",
      "85 at least had some functional data\n"
     ]
    }
   ],
   "source": [
    "count_funcs(only_asd, 'ASC (no ADHD)')"
   ]
  },
  {
   "cell_type": "markdown",
   "id": "present-reggae",
   "metadata": {},
   "source": [
    "### get list of ~50 NTs and ASCs to datalad get and fmriprep"
   ]
  },
  {
   "cell_type": "code",
   "execution_count": 17,
   "id": "changing-harvey",
   "metadata": {},
   "outputs": [],
   "source": [
    "NT_list=[]\n",
    "for sub in sub_list[sub_ind]:\n",
    "    func_files=glob.glob(f'{hbn_dir}sub-{sub}/*/func/*')\n",
    "    if (any(\"DM\" in s for s in func_files) and any(\"TP\" in s for s in func_files) and any(\"rest\" in s for s in func_files)):\n",
    "        NT_list.append(f'sub-{sub}')\n",
    "NT_list=NT_list[:50]"
   ]
  },
  {
   "cell_type": "code",
   "execution_count": 18,
   "id": "f9e97b42-42ba-45eb-8f90-bdb80c898e51",
   "metadata": {},
   "outputs": [],
   "source": [
    "ASC_list=[]\n",
    "for sub in sub_list[sub_ind_asd]:\n",
    "    func_files=glob.glob(f'{hbn_dir}sub-{sub}/*/func/*')\n",
    "    if (any(\"DM\" in s for s in func_files) and any(\"TP\" in s for s in func_files) and any(\"rest\" in s for s in func_files)):\n",
    "        ASC_list.append(f'sub-{sub}')\n",
    "ASC_list=ASC_list[:50]"
   ]
  },
  {
   "cell_type": "code",
   "execution_count": 19,
   "id": "7f8b73a6-c35f-4a81-9b0f-ba5faf0dc68b",
   "metadata": {},
   "outputs": [],
   "source": [
    "sub_list=NT_list\n",
    "for i in ASC_list:\n",
    "    sub_list.append(i)"
   ]
  },
  {
   "cell_type": "code",
   "execution_count": 23,
   "id": "4caca76f-2bb5-4034-96b6-0a16b67997a4",
   "metadata": {},
   "outputs": [],
   "source": [
    "n_sub_list = [\"{}\\n\".format(i) for i in sub_list]\n",
    "with open(r'hbn_100_subs.txt', 'w') as fp:\n",
    "    fp.writelines(n_sub_list)"
   ]
  }
 ],
 "metadata": {
  "kernelspec": {
   "display_name": "Python 3",
   "language": "python",
   "name": "python3"
  },
  "language_info": {
   "codemirror_mode": {
    "name": "ipython",
    "version": 3
   },
   "file_extension": ".py",
   "mimetype": "text/x-python",
   "name": "python",
   "nbconvert_exporter": "python",
   "pygments_lexer": "ipython3",
   "version": "3.8.5"
  }
 },
 "nbformat": 4,
 "nbformat_minor": 5
}
