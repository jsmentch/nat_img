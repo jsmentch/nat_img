{
 "cells": [
  {
   "cell_type": "code",
   "execution_count": 1,
   "id": "corresponding-navigation",
   "metadata": {},
   "outputs": [],
   "source": [
    "import numpy as np\n",
    "import pandas as pd\n",
    "import re\n",
    "import math\n",
    "from matplotlib import pyplot as plt\n",
    "import glob"
   ]
  },
  {
   "cell_type": "code",
   "execution_count": 2,
   "id": "federal-helmet",
   "metadata": {},
   "outputs": [],
   "source": [
    "all_dx = np.load('../sourcedata/data/HBN/phenotype/parsed/dx_list.npy')\n",
    "sub_list = np.load('../sourcedata/data/HBN/phenotype/parsed/sub_list.npy')\n",
    "dx_array = np.load('../sourcedata/data/HBN/phenotype/parsed/dx_onehot.npy')\n",
    "hbn_dir='/nese/mit/group/sig/projects/hbn/hbn_bids/'"
   ]
  },
  {
   "cell_type": "code",
   "execution_count": 3,
   "id": "sophisticated-mechanism",
   "metadata": {},
   "outputs": [],
   "source": [
    "dx_df = pd.DataFrame(dx_array)\n",
    "dx_df.columns = all_dx"
   ]
  },
  {
   "cell_type": "markdown",
   "id": "experienced-socket",
   "metadata": {},
   "source": [
    "### list how many func files are there for different clinical groups"
   ]
  },
  {
   "cell_type": "code",
   "execution_count": 4,
   "id": "studied-closing",
   "metadata": {},
   "outputs": [],
   "source": [
    "#get the ids of different dx\n",
    "all_subs=dx_df.index\n",
    "sub_ind=dx_df.loc[dx_df['No Diagnosis Given'] == 1].index\n",
    "sub_ind_asd=dx_df.loc[dx_df['Autism Spectrum Disorder'] == 1].index\n",
    "only_asd= dx_df.loc[((dx_df['ADHD-Combined Type'] == 0) & (dx_df['ADHD-Hyperactive/Impulsive Type'] == 0) & (dx_df['ADHD-Inattentive Type'] == 0) &  (dx_df['Unspecified Attention-Deficit/Hyperactivity Disorder'] == 0) & (dx_df['Autism Spectrum Disorder'] == 1) )].index"
   ]
  },
  {
   "cell_type": "code",
   "execution_count": 5,
   "id": "individual-louis",
   "metadata": {},
   "outputs": [],
   "source": [
    "#function#give a list of subject indices and it will search for their functional files\n",
    "#also give string of the clinical group\n",
    "def count_funcs(list_in, group):\n",
    "    hbn_dir='/nese/mit/group/sig/projects/hbn/hbn_bids/'\n",
    "    sub_count=len(list_in)\n",
    "    rest_DM_TP=0\n",
    "    DM_TP=0\n",
    "    rest=0\n",
    "    anything=0\n",
    "    peer=0\n",
    "    for sub in sub_list[list_in]:\n",
    "        #print(f)\n",
    "        func_files=glob.glob(f'{hbn_dir}sub-{sub}/*/func/*')\n",
    "        if (any(\"DM\" in s for s in func_files) and any(\"TP\" in s for s in func_files) and any(\"rest\" in s for s in func_files)):\n",
    "            rest_DM_TP+=1\n",
    "        if (any(\"DM\" in s for s in func_files) and any(\"TP\" in s for s in func_files)):\n",
    "            DM_TP +=1\n",
    "        if (any(\"rest\" in s for s in func_files)):\n",
    "            rest+=1\n",
    "        if (any(\"DM\" in s for s in func_files) or any(\"TP\" in s for s in func_files) or any(\"rest\" in s for s in func_files)):\n",
    "            anything+=1\n",
    "        if (any(\"peer\" in s for s in func_files)):\n",
    "            peer+=1\n",
    "    print(f'How many {group} subjects are there:')\n",
    "    print(f'{sub_count} {group} subjects')\n",
    "    print(f'{rest_DM_TP} saw both movies and had resting state')\n",
    "    print(f'{DM_TP} saw both movies and no resting state')\n",
    "    print(f'{rest} at least had resting state')\n",
    "    print(f'{peer} had some peer data')\n",
    "    print(f'{anything} at least had some functional data')"
   ]
  },
  {
   "cell_type": "code",
   "execution_count": 6,
   "id": "following-contract",
   "metadata": {},
   "outputs": [
    {
     "ename": "KeyboardInterrupt",
     "evalue": "",
     "output_type": "error",
     "traceback": [
      "\u001b[0;31m---------------------------------------------------------------------------\u001b[0m",
      "\u001b[0;31mKeyboardInterrupt\u001b[0m                         Traceback (most recent call last)",
      "\u001b[0;32m<ipython-input-6-1a46de5e52ca>\u001b[0m in \u001b[0;36m<module>\u001b[0;34m\u001b[0m\n\u001b[0;32m----> 1\u001b[0;31m \u001b[0mcount_funcs\u001b[0m\u001b[0;34m(\u001b[0m\u001b[0mall_subs\u001b[0m\u001b[0;34m,\u001b[0m \u001b[0;34m'all'\u001b[0m\u001b[0;34m)\u001b[0m\u001b[0;34m\u001b[0m\u001b[0;34m\u001b[0m\u001b[0m\n\u001b[0m",
      "\u001b[0;32m<ipython-input-5-098301a3dbe6>\u001b[0m in \u001b[0;36mcount_funcs\u001b[0;34m(list_in, group)\u001b[0m\n\u001b[1;32m     11\u001b[0m     \u001b[0;32mfor\u001b[0m \u001b[0msub\u001b[0m \u001b[0;32min\u001b[0m \u001b[0msub_list\u001b[0m\u001b[0;34m[\u001b[0m\u001b[0mlist_in\u001b[0m\u001b[0;34m]\u001b[0m\u001b[0;34m:\u001b[0m\u001b[0;34m\u001b[0m\u001b[0;34m\u001b[0m\u001b[0m\n\u001b[1;32m     12\u001b[0m         \u001b[0;31m#print(f)\u001b[0m\u001b[0;34m\u001b[0m\u001b[0;34m\u001b[0m\u001b[0;34m\u001b[0m\u001b[0m\n\u001b[0;32m---> 13\u001b[0;31m         \u001b[0mfunc_files\u001b[0m\u001b[0;34m=\u001b[0m\u001b[0mglob\u001b[0m\u001b[0;34m.\u001b[0m\u001b[0mglob\u001b[0m\u001b[0;34m(\u001b[0m\u001b[0;34mf'{hbn_dir}sub-{sub}/*/func/*'\u001b[0m\u001b[0;34m)\u001b[0m\u001b[0;34m\u001b[0m\u001b[0;34m\u001b[0m\u001b[0m\n\u001b[0m\u001b[1;32m     14\u001b[0m         \u001b[0;32mif\u001b[0m \u001b[0;34m(\u001b[0m\u001b[0many\u001b[0m\u001b[0;34m(\u001b[0m\u001b[0;34m\"DM\"\u001b[0m \u001b[0;32min\u001b[0m \u001b[0ms\u001b[0m \u001b[0;32mfor\u001b[0m \u001b[0ms\u001b[0m \u001b[0;32min\u001b[0m \u001b[0mfunc_files\u001b[0m\u001b[0;34m)\u001b[0m \u001b[0;32mand\u001b[0m \u001b[0many\u001b[0m\u001b[0;34m(\u001b[0m\u001b[0;34m\"TP\"\u001b[0m \u001b[0;32min\u001b[0m \u001b[0ms\u001b[0m \u001b[0;32mfor\u001b[0m \u001b[0ms\u001b[0m \u001b[0;32min\u001b[0m \u001b[0mfunc_files\u001b[0m\u001b[0;34m)\u001b[0m \u001b[0;32mand\u001b[0m \u001b[0many\u001b[0m\u001b[0;34m(\u001b[0m\u001b[0;34m\"rest\"\u001b[0m \u001b[0;32min\u001b[0m \u001b[0ms\u001b[0m \u001b[0;32mfor\u001b[0m \u001b[0ms\u001b[0m \u001b[0;32min\u001b[0m \u001b[0mfunc_files\u001b[0m\u001b[0;34m)\u001b[0m\u001b[0;34m)\u001b[0m\u001b[0;34m:\u001b[0m\u001b[0;34m\u001b[0m\u001b[0;34m\u001b[0m\u001b[0m\n\u001b[1;32m     15\u001b[0m             \u001b[0mrest_DM_TP\u001b[0m\u001b[0;34m+=\u001b[0m\u001b[0;36m1\u001b[0m\u001b[0;34m\u001b[0m\u001b[0;34m\u001b[0m\u001b[0m\n",
      "\u001b[0;32m/opt/miniconda-latest/lib/python3.8/glob.py\u001b[0m in \u001b[0;36mglob\u001b[0;34m(pathname, recursive)\u001b[0m\n\u001b[1;32m     19\u001b[0m     \u001b[0mzero\u001b[0m \u001b[0;32mor\u001b[0m \u001b[0mmore\u001b[0m \u001b[0mdirectories\u001b[0m \u001b[0;32mand\u001b[0m \u001b[0msubdirectories\u001b[0m\u001b[0;34m.\u001b[0m\u001b[0;34m\u001b[0m\u001b[0;34m\u001b[0m\u001b[0m\n\u001b[1;32m     20\u001b[0m     \"\"\"\n\u001b[0;32m---> 21\u001b[0;31m     \u001b[0;32mreturn\u001b[0m \u001b[0mlist\u001b[0m\u001b[0;34m(\u001b[0m\u001b[0miglob\u001b[0m\u001b[0;34m(\u001b[0m\u001b[0mpathname\u001b[0m\u001b[0;34m,\u001b[0m \u001b[0mrecursive\u001b[0m\u001b[0;34m=\u001b[0m\u001b[0mrecursive\u001b[0m\u001b[0;34m)\u001b[0m\u001b[0;34m)\u001b[0m\u001b[0;34m\u001b[0m\u001b[0;34m\u001b[0m\u001b[0m\n\u001b[0m\u001b[1;32m     22\u001b[0m \u001b[0;34m\u001b[0m\u001b[0m\n\u001b[1;32m     23\u001b[0m \u001b[0;32mdef\u001b[0m \u001b[0miglob\u001b[0m\u001b[0;34m(\u001b[0m\u001b[0mpathname\u001b[0m\u001b[0;34m,\u001b[0m \u001b[0;34m*\u001b[0m\u001b[0;34m,\u001b[0m \u001b[0mrecursive\u001b[0m\u001b[0;34m=\u001b[0m\u001b[0;32mFalse\u001b[0m\u001b[0;34m)\u001b[0m\u001b[0;34m:\u001b[0m\u001b[0;34m\u001b[0m\u001b[0;34m\u001b[0m\u001b[0m\n",
      "\u001b[0;32m/opt/miniconda-latest/lib/python3.8/glob.py\u001b[0m in \u001b[0;36m_iglob\u001b[0;34m(pathname, recursive, dironly)\u001b[0m\n\u001b[1;32m     71\u001b[0m     \u001b[0;32melse\u001b[0m\u001b[0;34m:\u001b[0m\u001b[0;34m\u001b[0m\u001b[0;34m\u001b[0m\u001b[0m\n\u001b[1;32m     72\u001b[0m         \u001b[0mglob_in_dir\u001b[0m \u001b[0;34m=\u001b[0m \u001b[0m_glob0\u001b[0m\u001b[0;34m\u001b[0m\u001b[0;34m\u001b[0m\u001b[0m\n\u001b[0;32m---> 73\u001b[0;31m     \u001b[0;32mfor\u001b[0m \u001b[0mdirname\u001b[0m \u001b[0;32min\u001b[0m \u001b[0mdirs\u001b[0m\u001b[0;34m:\u001b[0m\u001b[0;34m\u001b[0m\u001b[0;34m\u001b[0m\u001b[0m\n\u001b[0m\u001b[1;32m     74\u001b[0m         \u001b[0;32mfor\u001b[0m \u001b[0mname\u001b[0m \u001b[0;32min\u001b[0m \u001b[0mglob_in_dir\u001b[0m\u001b[0;34m(\u001b[0m\u001b[0mdirname\u001b[0m\u001b[0;34m,\u001b[0m \u001b[0mbasename\u001b[0m\u001b[0;34m,\u001b[0m \u001b[0mdironly\u001b[0m\u001b[0;34m)\u001b[0m\u001b[0;34m:\u001b[0m\u001b[0;34m\u001b[0m\u001b[0;34m\u001b[0m\u001b[0m\n\u001b[1;32m     75\u001b[0m             \u001b[0;32myield\u001b[0m \u001b[0mos\u001b[0m\u001b[0;34m.\u001b[0m\u001b[0mpath\u001b[0m\u001b[0;34m.\u001b[0m\u001b[0mjoin\u001b[0m\u001b[0;34m(\u001b[0m\u001b[0mdirname\u001b[0m\u001b[0;34m,\u001b[0m \u001b[0mname\u001b[0m\u001b[0;34m)\u001b[0m\u001b[0;34m\u001b[0m\u001b[0;34m\u001b[0m\u001b[0m\n",
      "\u001b[0;32m/opt/miniconda-latest/lib/python3.8/glob.py\u001b[0m in \u001b[0;36m_iglob\u001b[0;34m(pathname, recursive, dironly)\u001b[0m\n\u001b[1;32m     71\u001b[0m     \u001b[0;32melse\u001b[0m\u001b[0;34m:\u001b[0m\u001b[0;34m\u001b[0m\u001b[0;34m\u001b[0m\u001b[0m\n\u001b[1;32m     72\u001b[0m         \u001b[0mglob_in_dir\u001b[0m \u001b[0;34m=\u001b[0m \u001b[0m_glob0\u001b[0m\u001b[0;34m\u001b[0m\u001b[0;34m\u001b[0m\u001b[0m\n\u001b[0;32m---> 73\u001b[0;31m     \u001b[0;32mfor\u001b[0m \u001b[0mdirname\u001b[0m \u001b[0;32min\u001b[0m \u001b[0mdirs\u001b[0m\u001b[0;34m:\u001b[0m\u001b[0;34m\u001b[0m\u001b[0;34m\u001b[0m\u001b[0m\n\u001b[0m\u001b[1;32m     74\u001b[0m         \u001b[0;32mfor\u001b[0m \u001b[0mname\u001b[0m \u001b[0;32min\u001b[0m \u001b[0mglob_in_dir\u001b[0m\u001b[0;34m(\u001b[0m\u001b[0mdirname\u001b[0m\u001b[0;34m,\u001b[0m \u001b[0mbasename\u001b[0m\u001b[0;34m,\u001b[0m \u001b[0mdironly\u001b[0m\u001b[0;34m)\u001b[0m\u001b[0;34m:\u001b[0m\u001b[0;34m\u001b[0m\u001b[0;34m\u001b[0m\u001b[0m\n\u001b[1;32m     75\u001b[0m             \u001b[0;32myield\u001b[0m \u001b[0mos\u001b[0m\u001b[0;34m.\u001b[0m\u001b[0mpath\u001b[0m\u001b[0;34m.\u001b[0m\u001b[0mjoin\u001b[0m\u001b[0;34m(\u001b[0m\u001b[0mdirname\u001b[0m\u001b[0;34m,\u001b[0m \u001b[0mname\u001b[0m\u001b[0;34m)\u001b[0m\u001b[0;34m\u001b[0m\u001b[0;34m\u001b[0m\u001b[0m\n",
      "\u001b[0;32m/opt/miniconda-latest/lib/python3.8/glob.py\u001b[0m in \u001b[0;36m_iglob\u001b[0;34m(pathname, recursive, dironly)\u001b[0m\n\u001b[1;32m     72\u001b[0m         \u001b[0mglob_in_dir\u001b[0m \u001b[0;34m=\u001b[0m \u001b[0m_glob0\u001b[0m\u001b[0;34m\u001b[0m\u001b[0;34m\u001b[0m\u001b[0m\n\u001b[1;32m     73\u001b[0m     \u001b[0;32mfor\u001b[0m \u001b[0mdirname\u001b[0m \u001b[0;32min\u001b[0m \u001b[0mdirs\u001b[0m\u001b[0;34m:\u001b[0m\u001b[0;34m\u001b[0m\u001b[0;34m\u001b[0m\u001b[0m\n\u001b[0;32m---> 74\u001b[0;31m         \u001b[0;32mfor\u001b[0m \u001b[0mname\u001b[0m \u001b[0;32min\u001b[0m \u001b[0mglob_in_dir\u001b[0m\u001b[0;34m(\u001b[0m\u001b[0mdirname\u001b[0m\u001b[0;34m,\u001b[0m \u001b[0mbasename\u001b[0m\u001b[0;34m,\u001b[0m \u001b[0mdironly\u001b[0m\u001b[0;34m)\u001b[0m\u001b[0;34m:\u001b[0m\u001b[0;34m\u001b[0m\u001b[0;34m\u001b[0m\u001b[0m\n\u001b[0m\u001b[1;32m     75\u001b[0m             \u001b[0;32myield\u001b[0m \u001b[0mos\u001b[0m\u001b[0;34m.\u001b[0m\u001b[0mpath\u001b[0m\u001b[0;34m.\u001b[0m\u001b[0mjoin\u001b[0m\u001b[0;34m(\u001b[0m\u001b[0mdirname\u001b[0m\u001b[0;34m,\u001b[0m \u001b[0mname\u001b[0m\u001b[0;34m)\u001b[0m\u001b[0;34m\u001b[0m\u001b[0;34m\u001b[0m\u001b[0m\n\u001b[1;32m     76\u001b[0m \u001b[0;34m\u001b[0m\u001b[0m\n",
      "\u001b[0;32m/opt/miniconda-latest/lib/python3.8/glob.py\u001b[0m in \u001b[0;36m_glob1\u001b[0;34m(dirname, pattern, dironly)\u001b[0m\n\u001b[1;32m     80\u001b[0m \u001b[0;34m\u001b[0m\u001b[0m\n\u001b[1;32m     81\u001b[0m \u001b[0;32mdef\u001b[0m \u001b[0m_glob1\u001b[0m\u001b[0;34m(\u001b[0m\u001b[0mdirname\u001b[0m\u001b[0;34m,\u001b[0m \u001b[0mpattern\u001b[0m\u001b[0;34m,\u001b[0m \u001b[0mdironly\u001b[0m\u001b[0;34m)\u001b[0m\u001b[0;34m:\u001b[0m\u001b[0;34m\u001b[0m\u001b[0;34m\u001b[0m\u001b[0m\n\u001b[0;32m---> 82\u001b[0;31m     \u001b[0mnames\u001b[0m \u001b[0;34m=\u001b[0m \u001b[0mlist\u001b[0m\u001b[0;34m(\u001b[0m\u001b[0m_iterdir\u001b[0m\u001b[0;34m(\u001b[0m\u001b[0mdirname\u001b[0m\u001b[0;34m,\u001b[0m \u001b[0mdironly\u001b[0m\u001b[0;34m)\u001b[0m\u001b[0;34m)\u001b[0m\u001b[0;34m\u001b[0m\u001b[0;34m\u001b[0m\u001b[0m\n\u001b[0m\u001b[1;32m     83\u001b[0m     \u001b[0;32mif\u001b[0m \u001b[0;32mnot\u001b[0m \u001b[0m_ishidden\u001b[0m\u001b[0;34m(\u001b[0m\u001b[0mpattern\u001b[0m\u001b[0;34m)\u001b[0m\u001b[0;34m:\u001b[0m\u001b[0;34m\u001b[0m\u001b[0;34m\u001b[0m\u001b[0m\n\u001b[1;32m     84\u001b[0m         \u001b[0mnames\u001b[0m \u001b[0;34m=\u001b[0m \u001b[0;34m(\u001b[0m\u001b[0mx\u001b[0m \u001b[0;32mfor\u001b[0m \u001b[0mx\u001b[0m \u001b[0;32min\u001b[0m \u001b[0mnames\u001b[0m \u001b[0;32mif\u001b[0m \u001b[0;32mnot\u001b[0m \u001b[0m_ishidden\u001b[0m\u001b[0;34m(\u001b[0m\u001b[0mx\u001b[0m\u001b[0;34m)\u001b[0m\u001b[0;34m)\u001b[0m\u001b[0;34m\u001b[0m\u001b[0;34m\u001b[0m\u001b[0m\n",
      "\u001b[0;32m/opt/miniconda-latest/lib/python3.8/glob.py\u001b[0m in \u001b[0;36m_iterdir\u001b[0;34m(dirname, dironly)\u001b[0m\n\u001b[1;32m    121\u001b[0m             \u001b[0mdirname\u001b[0m \u001b[0;34m=\u001b[0m \u001b[0mos\u001b[0m\u001b[0;34m.\u001b[0m\u001b[0mcurdir\u001b[0m\u001b[0;34m\u001b[0m\u001b[0;34m\u001b[0m\u001b[0m\n\u001b[1;32m    122\u001b[0m     \u001b[0;32mtry\u001b[0m\u001b[0;34m:\u001b[0m\u001b[0;34m\u001b[0m\u001b[0;34m\u001b[0m\u001b[0m\n\u001b[0;32m--> 123\u001b[0;31m         \u001b[0;32mwith\u001b[0m \u001b[0mos\u001b[0m\u001b[0;34m.\u001b[0m\u001b[0mscandir\u001b[0m\u001b[0;34m(\u001b[0m\u001b[0mdirname\u001b[0m\u001b[0;34m)\u001b[0m \u001b[0;32mas\u001b[0m \u001b[0mit\u001b[0m\u001b[0;34m:\u001b[0m\u001b[0;34m\u001b[0m\u001b[0;34m\u001b[0m\u001b[0m\n\u001b[0m\u001b[1;32m    124\u001b[0m             \u001b[0;32mfor\u001b[0m \u001b[0mentry\u001b[0m \u001b[0;32min\u001b[0m \u001b[0mit\u001b[0m\u001b[0;34m:\u001b[0m\u001b[0;34m\u001b[0m\u001b[0;34m\u001b[0m\u001b[0m\n\u001b[1;32m    125\u001b[0m                 \u001b[0;32mtry\u001b[0m\u001b[0;34m:\u001b[0m\u001b[0;34m\u001b[0m\u001b[0;34m\u001b[0m\u001b[0m\n",
      "\u001b[0;31mKeyboardInterrupt\u001b[0m: "
     ]
    }
   ],
   "source": [
    "count_funcs(all_subs, 'all')"
   ]
  },
  {
   "cell_type": "code",
   "execution_count": 49,
   "id": "broken-while",
   "metadata": {},
   "outputs": [
    {
     "name": "stdout",
     "output_type": "stream",
     "text": [
      "How many NT subjects are there:\n",
      "308 NT subjects\n",
      "115 saw both movies and had resting state\n",
      "138 saw both movies and no resting state\n",
      "200 at least had resting state\n",
      "152 had some peer data\n",
      "225 at least had some functional data\n"
     ]
    }
   ],
   "source": [
    "count_funcs(sub_ind, 'NT')"
   ]
  },
  {
   "cell_type": "code",
   "execution_count": 50,
   "id": "higher-portsmouth",
   "metadata": {},
   "outputs": [
    {
     "name": "stdout",
     "output_type": "stream",
     "text": [
      "How many ASC subjects are there:\n",
      "539 ASC subjects\n",
      "215 saw both movies and had resting state\n",
      "243 saw both movies and no resting state\n",
      "315 at least had resting state\n",
      "289 had some peer data\n",
      "352 at least had some functional data\n"
     ]
    }
   ],
   "source": [
    "count_funcs(sub_ind_asd, 'ASC')"
   ]
  },
  {
   "cell_type": "code",
   "execution_count": 7,
   "id": "interior-consumption",
   "metadata": {},
   "outputs": [
    {
     "name": "stdout",
     "output_type": "stream",
     "text": [
      "How many ASC (no ADHD) subjects are there:\n",
      "142 ASC (no ADHD) subjects\n",
      "42 saw both movies and had resting state\n",
      "51 saw both movies and no resting state\n",
      "73 at least had resting state\n",
      "68 had some peer data\n",
      "85 at least had some functional data\n"
     ]
    }
   ],
   "source": [
    "count_funcs(only_asd, 'ASC (no ADHD)')"
   ]
  },
  {
   "cell_type": "markdown",
   "id": "present-reggae",
   "metadata": {},
   "source": [
    "### get list of ~50 NTs and ASCs to datalad get and fmriprep"
   ]
  },
  {
   "cell_type": "code",
   "execution_count": 11,
   "id": "changing-harvey",
   "metadata": {},
   "outputs": [],
   "source": [
    "NT_list=[]\n",
    "for sub in sub_list[sub_ind]:\n",
    "    func_files=glob.glob(f'{hbn_dir}sub-{sub}/*/func/*')\n",
    "    if (any(\"DM\" in s for s in func_files) and any(\"TP\" in s for s in func_files) and any(\"rest\" in s for s in func_files)):\n",
    "        NT_list.append(f'sub-{sub}')\n",
    "NT_list=NT_list[:50]"
   ]
  },
  {
   "cell_type": "code",
   "execution_count": 12,
   "id": "7d30a7da-fd00-4cff-81c8-1d57975bc63a",
   "metadata": {},
   "outputs": [],
   "source": [
    "n_sub_list = [\"{}\\n\".format(i) for i in NT_list]\n",
    "with open(r'hbn_nt_50.txt', 'w') as fp:\n",
    "    fp.writelines(n_sub_list)"
   ]
  },
  {
   "cell_type": "code",
   "execution_count": 13,
   "id": "f9e97b42-42ba-45eb-8f90-bdb80c898e51",
   "metadata": {},
   "outputs": [],
   "source": [
    "ASC_list=[]\n",
    "for sub in sub_list[sub_ind_asd]:\n",
    "    func_files=glob.glob(f'{hbn_dir}sub-{sub}/*/func/*')\n",
    "    if (any(\"DM\" in s for s in func_files) and any(\"TP\" in s for s in func_files) and any(\"rest\" in s for s in func_files)):\n",
    "        ASC_list.append(f'sub-{sub}')\n",
    "ASC_list=ASC_list[:50]"
   ]
  },
  {
   "cell_type": "code",
   "execution_count": 14,
   "id": "a33e71fd-0118-4f96-b6e6-619fe5ce0a68",
   "metadata": {},
   "outputs": [],
   "source": [
    "n_sub_list = [\"{}\\n\".format(i) for i in ASC_list]\n",
    "with open(r'hbn_asc_50.txt', 'w') as fp:\n",
    "    fp.writelines(n_sub_list)"
   ]
  },
  {
   "cell_type": "code",
   "execution_count": null,
   "id": "1eafc7e7-5b2b-4513-9a1e-58a69795920c",
   "metadata": {},
   "outputs": [],
   "source": []
  },
  {
   "cell_type": "code",
   "execution_count": 19,
   "id": "7f8b73a6-c35f-4a81-9b0f-ba5faf0dc68b",
   "metadata": {},
   "outputs": [],
   "source": [
    "#combine lists\n",
    "sub_list=NT_list\n",
    "for i in ASC_list:\n",
    "    sub_list.append(i)"
   ]
  },
  {
   "cell_type": "code",
   "execution_count": 23,
   "id": "4caca76f-2bb5-4034-96b6-0a16b67997a4",
   "metadata": {},
   "outputs": [],
   "source": [
    "n_sub_list = [\"{}\\n\".format(i) for i in sub_list]\n",
    "with open(r'hbn_100_subs.txt', 'w') as fp:\n",
    "    fp.writelines(n_sub_list)"
   ]
  }
 ],
 "metadata": {
  "kernelspec": {
   "display_name": "Python 3",
   "language": "python",
   "name": "python3"
  },
  "language_info": {
   "codemirror_mode": {
    "name": "ipython",
    "version": 3
   },
   "file_extension": ".py",
   "mimetype": "text/x-python",
   "name": "python",
   "nbconvert_exporter": "python",
   "pygments_lexer": "ipython3",
   "version": "3.8.5"
  }
 },
 "nbformat": 4,
 "nbformat_minor": 5
}
