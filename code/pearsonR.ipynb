{
 "cells": [
  {
   "cell_type": "code",
   "execution_count": 1,
   "id": "29575bc9-07bd-4f05-8750-91c2463d7d56",
   "metadata": {},
   "outputs": [
    {
     "name": "stderr",
     "output_type": "stream",
     "text": [
      "/opt/miniconda-latest/lib/python3.8/site-packages/nilearn/datasets/__init__.py:87: FutureWarning: Fetchers from the nilearn.datasets module will be updated in version 0.9 to return python strings instead of bytes and Pandas dataframes instead of Numpy arrays.\n",
      "  warn(\"Fetchers from the nilearn.datasets module will be \"\n",
      "pixdim[1,2,3] should be non-zero; setting 0 dims to 1\n"
     ]
    }
   ],
   "source": [
    "import numpy as np\n",
    "import pandas as pd\n",
    "import nibabel as nb\n",
    "import hrf_tools\n",
    "import hcp_utils as hcp\n",
    "from analysis import plot_results\n",
    "from os import walk\n",
    "from nilearn.image import load_img\n",
    "import os\n",
    "import gc\n",
    "import matplotlib.pyplot as plt\n",
    "from scipy.stats import ttest_1samp, norm\n",
    "from scipy.stats import zscore\n",
    "# subject_flist = list(walk(clean_path))[0][2:][0]\n",
    "#all_=[]\n",
    "from nilearn.glm.first_level import make_first_level_design_matrix\n",
    "from nilearn.glm.contrasts import compute_contrast\n",
    "from nilearn.glm.first_level import run_glm\n"
   ]
  },
  {
   "cell_type": "code",
   "execution_count": 2,
   "id": "38e0751f-35fc-4fab-af5d-9e42942bd3be",
   "metadata": {},
   "outputs": [],
   "source": [
    "def load_feature(feature):\n",
    "    speech_list = []\n",
    "    for r in np.arange(1,6):\n",
    "    #     flow = np.load(f'../sourcedata/data/budapest/features/budapest{r}_optic_flow_10hz.npy')\n",
    "    #     flow_list.append(flow)\n",
    "        data = pd.read_csv(f'../sourcedata/data/budapest/features/budapest{r}_{feature}.tsv', sep='\\t')\n",
    "        #print(data)\n",
    "        speech = np.array(data['value'])\n",
    "        speech = np.expand_dims(speech, axis=1).astype(float)\n",
    "        speech=hrf_tools.apply_optimal_hrf_10hz(speech,10)\n",
    "        speech = hrf_tools.resample_1hz(speech)\n",
    "        speech_list.append(speech)\n",
    "    return(speech_list)"
   ]
  },
  {
   "cell_type": "code",
   "execution_count": 3,
   "id": "690fc762-c71e-458d-a2ca-d2c3edc03562",
   "metadata": {},
   "outputs": [],
   "source": [
    "speech_list = load_feature('speech')\n",
    "as_speech_list = load_feature('as_speech')"
   ]
  },
  {
   "cell_type": "code",
   "execution_count": 10,
   "id": "7873c6e4-a8c8-456f-98a7-2db4422f1e12",
   "metadata": {},
   "outputs": [
    {
     "data": {
      "text/plain": [
       "(2952, 1)"
      ]
     },
     "execution_count": 10,
     "metadata": {},
     "output_type": "execute_result"
    }
   ],
   "source": [
    "for r in np.arange(5):\n",
    "    Xi = speech_list[r]\n",
    "    Xi2 = as_speech_list[r]\n",
    "    if r == 0:\n",
    "        X=np.copy(Xi)\n",
    "        X2=np.copy(Xi2)\n",
    "    else:\n",
    "        Xi2=Xi2[:-20,:]\n",
    "        Xi=Xi[:-20,:]\n",
    "        X2=np.vstack((X2,Xi2))\n",
    "        X=np.vstack((X,Xi))\n",
    "X2.shape"
   ]
  },
  {
   "cell_type": "code",
   "execution_count": 11,
   "id": "d3508f80-b7c9-4af0-85c6-8582a2327bc3",
   "metadata": {},
   "outputs": [],
   "source": [
    "from scipy.stats import pearsonr"
   ]
  },
  {
   "cell_type": "code",
   "execution_count": 18,
   "id": "0a7fcadc-b794-41f5-aa4f-b90497b89b69",
   "metadata": {},
   "outputs": [
    {
     "data": {
      "text/plain": [
       "(2952,)"
      ]
     },
     "execution_count": 18,
     "metadata": {},
     "output_type": "execute_result"
    }
   ],
   "source": [
    "X[:,0].shape"
   ]
  },
  {
   "cell_type": "code",
   "execution_count": 19,
   "id": "fbf35654-5f17-4ced-baa8-2b07b4bb49f5",
   "metadata": {},
   "outputs": [],
   "source": [
    "r,p = pearsonr(X[:,0],X2[:,0])"
   ]
  },
  {
   "cell_type": "code",
   "execution_count": 20,
   "id": "6f30d62f-0f46-45cc-99f6-a8c88004707e",
   "metadata": {},
   "outputs": [
    {
     "data": {
      "text/plain": [
       "0.8785160792502393"
      ]
     },
     "execution_count": 20,
     "metadata": {},
     "output_type": "execute_result"
    }
   ],
   "source": [
    "r"
   ]
  },
  {
   "cell_type": "code",
   "execution_count": null,
   "id": "f9c28965-f6a6-427f-9b6d-8572507b6ced",
   "metadata": {},
   "outputs": [],
   "source": []
  }
 ],
 "metadata": {
  "kernelspec": {
   "display_name": "Python 3",
   "language": "python",
   "name": "python3"
  },
  "language_info": {
   "codemirror_mode": {
    "name": "ipython",
    "version": 3
   },
   "file_extension": ".py",
   "mimetype": "text/x-python",
   "name": "python",
   "nbconvert_exporter": "python",
   "pygments_lexer": "ipython3",
   "version": "3.8.5"
  }
 },
 "nbformat": 4,
 "nbformat_minor": 5
}
