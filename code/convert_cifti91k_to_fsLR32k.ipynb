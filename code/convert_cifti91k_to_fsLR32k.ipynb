{
 "cells": [
  {
   "cell_type": "code",
   "execution_count": 4,
   "id": "8e5add82-150c-4b7e-8d12-4ebace73e77d",
   "metadata": {},
   "outputs": [
    {
     "name": "stderr",
     "output_type": "stream",
     "text": [
      "/opt/miniconda-latest/lib/python3.8/site-packages/nilearn/datasets/__init__.py:87: FutureWarning: Fetchers from the nilearn.datasets module will be updated in version 0.9 to return python strings instead of bytes and Pandas dataframes instead of Numpy arrays.\n",
      "  warn(\"Fetchers from the nilearn.datasets module will be \"\n"
     ]
    }
   ],
   "source": [
    "import nibabel as nib\n",
    "from nibabel import cifti2\n",
    "\n",
    "import numpy as np\n",
    "import pandas as pd\n",
    "\n",
    "import nibabel as nb\n",
    "from nilearn import plotting as nlp"
   ]
  },
  {
   "cell_type": "code",
   "execution_count": 5,
   "id": "19554d63-3d4e-48d1-8f23-aa59aeb3ee56",
   "metadata": {},
   "outputs": [],
   "source": [
    "from nilearn.image import load_img\n"
   ]
  },
  {
   "cell_type": "code",
   "execution_count": 6,
   "id": "c784b7b2-0d23-4c13-89fa-2782b92715d1",
   "metadata": {},
   "outputs": [],
   "source": [
    "brainpath='/om/scratch/Thu/jsmentch/sub-voice999/ses-2/func/sub-voice999_ses-2_task-rest_run-1_space-fsLR_den-91k_bold.dtseries.nii'\n",
    "\n",
    "cifti = nb.load(brainpath)\n",
    "cifti_data = cifti.get_fdata(dtype=np.float32)\n",
    "cifti_hdr = cifti.header\n",
    "nifti_hdr = cifti.nifti_header"
   ]
  },
  {
   "cell_type": "code",
   "execution_count": 7,
   "id": "62ba9345-7d40-4abf-94e6-a05f2bd4f56d",
   "metadata": {},
   "outputs": [],
   "source": [
    "\n",
    "\n",
    "def surf_data_from_cifti(data, axis, surf_name):\n",
    "    assert isinstance(axis, nb.cifti2.BrainModelAxis)\n",
    "    for name, data_indices, model in axis.iter_structures():  # Iterates over volumetric and surface structures\n",
    "        if name == surf_name:                                 # Just looking for a surface\n",
    "            data = data.T[data_indices]                       # Assume brainmodels axis is last, move it to front\n",
    "            vtx_indices = model.vertex                        # Generally 1-N, except medial wall vertices\n",
    "            surf_data = np.zeros((vtx_indices.max() + 1,) + data.shape[1:], dtype=data.dtype)\n",
    "            surf_data[vtx_indices] = data\n",
    "            return surf_data\n",
    "    raise ValueError(f\"No structure named {surf_name}\")"
   ]
  },
  {
   "cell_type": "code",
   "execution_count": 8,
   "id": "15306494-a51a-4372-ba16-df4552d6d4ff",
   "metadata": {},
   "outputs": [],
   "source": [
    "axes = [cifti_hdr.get_axis(i) for i in range(cifti.ndim)]"
   ]
  },
  {
   "cell_type": "code",
   "execution_count": 9,
   "id": "94af62f6-ee1b-4627-9f9e-2dc1b1b6d6b5",
   "metadata": {},
   "outputs": [
    {
     "data": {
      "text/plain": [
       "[<nibabel.cifti2.cifti2_axes.SeriesAxis at 0x2b3a5b250c40>,\n",
       " <nibabel.cifti2.cifti2_axes.BrainModelAxis at 0x2b3a5b3dfee0>]"
      ]
     },
     "execution_count": 9,
     "metadata": {},
     "output_type": "execute_result"
    }
   ],
   "source": [
    "axes"
   ]
  },
  {
   "cell_type": "code",
   "execution_count": 13,
   "id": "d114275f-3e7e-4e84-9337-600a8a1baa20",
   "metadata": {},
   "outputs": [
    {
     "data": {
      "text/plain": [
       "array([[484.18225, 460.05838, 458.6734 , ..., 441.07153, 436.94177,\n",
       "        441.1471 ],\n",
       "       [619.3565 , 595.6607 , 589.9193 , ..., 593.4951 , 589.13873,\n",
       "        589.8186 ],\n",
       "       [702.95905, 679.5403 , 673.44635, ..., 666.1437 , 664.45654,\n",
       "        667.5539 ],\n",
       "       ...,\n",
       "       [656.8014 , 622.30273, 610.6689 , ..., 615.6548 , 615.75555,\n",
       "        615.35266],\n",
       "       [652.4198 , 618.7018 , 608.65436, ..., 611.1977 , 611.87756,\n",
       "        609.6365 ],\n",
       "       [637.66345, 613.1115 , 603.74396, ..., 602.71155, 603.8195 ,\n",
       "        608.52844]], dtype=float32)"
      ]
     },
     "execution_count": 13,
     "metadata": {},
     "output_type": "execute_result"
    }
   ],
   "source": [
    "surf_data_from_cifti(cifti_data, axes[1], 'CIFTI_STRUCTURE_CORTEX_LEFT')"
   ]
  },
  {
   "cell_type": "code",
   "execution_count": null,
   "id": "f7f401b5-ad3e-4323-a80a-efbf4a4edc37",
   "metadata": {},
   "outputs": [],
   "source": []
  }
 ],
 "metadata": {
  "kernelspec": {
   "display_name": "Python 3",
   "language": "python",
   "name": "python3"
  },
  "language_info": {
   "codemirror_mode": {
    "name": "ipython",
    "version": 3
   },
   "file_extension": ".py",
   "mimetype": "text/x-python",
   "name": "python",
   "nbconvert_exporter": "python",
   "pygments_lexer": "ipython3",
   "version": "3.8.5"
  }
 },
 "nbformat": 4,
 "nbformat_minor": 5
}
