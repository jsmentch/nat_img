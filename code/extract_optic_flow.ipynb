{
 "cells": [
  {
   "cell_type": "code",
   "execution_count": 1,
   "id": "strange-market",
   "metadata": {},
   "outputs": [
    {
     "ename": "ModuleNotFoundError",
     "evalue": "No module named 'pliers'",
     "output_type": "error",
     "traceback": [
      "\u001b[0;31m---------------------------------------------------------------------------\u001b[0m",
      "\u001b[0;31mModuleNotFoundError\u001b[0m                       Traceback (most recent call last)",
      "\u001b[0;32m<ipython-input-1-9c2734a9a844>\u001b[0m in \u001b[0;36m<module>\u001b[0;34m\u001b[0m\n\u001b[0;32m----> 1\u001b[0;31m \u001b[0;32mfrom\u001b[0m \u001b[0mpliers\u001b[0m\u001b[0;34m.\u001b[0m\u001b[0mextractors\u001b[0m \u001b[0;32mimport\u001b[0m \u001b[0mFarnebackOpticalFlowExtractor\u001b[0m\u001b[0;34m\u001b[0m\u001b[0;34m\u001b[0m\u001b[0m\n\u001b[0m\u001b[1;32m      2\u001b[0m \u001b[0;32mimport\u001b[0m \u001b[0mnumpy\u001b[0m \u001b[0;32mas\u001b[0m \u001b[0mnp\u001b[0m\u001b[0;34m\u001b[0m\u001b[0;34m\u001b[0m\u001b[0m\n\u001b[1;32m      3\u001b[0m \u001b[0;32mimport\u001b[0m \u001b[0mpandas\u001b[0m \u001b[0;32mas\u001b[0m \u001b[0mpd\u001b[0m\u001b[0;34m\u001b[0m\u001b[0;34m\u001b[0m\u001b[0m\n\u001b[1;32m      4\u001b[0m \u001b[0;32mimport\u001b[0m \u001b[0mos\u001b[0m\u001b[0;34m\u001b[0m\u001b[0;34m\u001b[0m\u001b[0m\n\u001b[1;32m      5\u001b[0m \u001b[0;32mfrom\u001b[0m \u001b[0mmatplotlib\u001b[0m \u001b[0;32mimport\u001b[0m \u001b[0mpyplot\u001b[0m \u001b[0;32mas\u001b[0m \u001b[0mplt\u001b[0m\u001b[0;34m\u001b[0m\u001b[0;34m\u001b[0m\u001b[0m\n",
      "\u001b[0;31mModuleNotFoundError\u001b[0m: No module named 'pliers'"
     ]
    }
   ],
   "source": [
    "from pliers.extractors import FarnebackOpticalFlowExtractor\n",
    "import numpy as np\n",
    "import pandas as pd\n",
    "import os\n",
    "from matplotlib import pyplot as plt\n",
    "from pliers.stimuli import VideoStim"
   ]
  },
  {
   "cell_type": "code",
   "execution_count": 2,
   "id": "wrong-plumbing",
   "metadata": {},
   "outputs": [],
   "source": [
    "#method to find the index of nearest value in an array\n",
    "def find_nearest(array, value):\n",
    "    array = np.asarray(array)\n",
    "    idx = (np.abs(array - value)).argmin()\n",
    "    return idx,array[idx]"
   ]
  },
  {
   "cell_type": "code",
   "execution_count": 3,
   "id": "polish-retail",
   "metadata": {},
   "outputs": [],
   "source": [
    "stimulus = '../sourcedata/data/HBN/stimuli/hbn_stimuli/TP.mp4'\n",
    "outdir = '../sourcedata/data/HBN/features/'\n",
    "stim = os.path.splitext( os.path.split(stimulus)[1] )[0] # split stim name eg 'TP'"
   ]
  },
  {
   "cell_type": "code",
   "execution_count": 2,
   "id": "preceding-consequence",
   "metadata": {},
   "outputs": [],
   "source": [
    "vs = VideoStim(stimulus)\n",
    "ext = FarnebackOpticalFlowExtractor()\n",
    "results = ext.transform(vs)"
   ]
  },
  {
   "cell_type": "code",
   "execution_count": 8,
   "id": "continuing-cooper",
   "metadata": {},
   "outputs": [],
   "source": [
    "optic_flow = results.to_df(object_id='auto')"
   ]
  },
  {
   "cell_type": "code",
   "execution_count": 9,
   "id": "worse-crime",
   "metadata": {},
   "outputs": [],
   "source": [
    "optic_flow.to_pickle(f\"{outdir}{stim}_optic_flow.pkl\")"
   ]
  },
  {
   "cell_type": "code",
   "execution_count": 10,
   "id": "catholic-relative",
   "metadata": {},
   "outputs": [],
   "source": [
    "#plt.plot(TP_optic_flow.total_flow)"
   ]
  },
  {
   "cell_type": "code",
   "execution_count": 34,
   "id": "inclusive-gilbert",
   "metadata": {},
   "outputs": [],
   "source": [
    "flow = np.array(optic_flow.total_flow.tolist())\n",
    "onset = np.array(optic_flow.onset.tolist())"
   ]
  },
  {
   "cell_type": "code",
   "execution_count": 54,
   "id": "continuous-price",
   "metadata": {},
   "outputs": [],
   "source": [
    "flow_10hz = np.zeros(2032)"
   ]
  },
  {
   "cell_type": "code",
   "execution_count": 55,
   "id": "violent-symbol",
   "metadata": {},
   "outputs": [],
   "source": [
    "# downsample from 24hz to 10hz with 1d max pooling essentially. We take the max because we don't want to miss a spike/peak\n",
    "previous_ind=0\n",
    "for i,f in enumerate(flow_10hz):\n",
    "    t=i/10\n",
    "    nearest_ind,nearest_val = find_nearest(onset, t)\n",
    "    flow_bin = np.append( flow[previous_ind:nearest_ind]  , 0 )\n",
    "    flow_10hz[i] = max(flow_bin)\n",
    "    previous_ind = nearest_ind"
   ]
  },
  {
   "cell_type": "code",
   "execution_count": 11,
   "id": "moving-panic",
   "metadata": {},
   "outputs": [],
   "source": [
    "#plt.plot(flow_10hz)"
   ]
  },
  {
   "cell_type": "code",
   "execution_count": 58,
   "id": "lined-category",
   "metadata": {},
   "outputs": [],
   "source": [
    "np.save(f\"{outdir}{stim}_optic_flow_10hz.npy\",flow_10hz)"
   ]
  },
  {
   "cell_type": "code",
   "execution_count": 4,
   "id": "unsigned-force",
   "metadata": {},
   "outputs": [],
   "source": [
    "#flow_10hz = np.load('../sourcedata/data/HBN/features/TP_optic_flow_10hz.npy')"
   ]
  },
  {
   "cell_type": "code",
   "execution_count": 7,
   "id": "quick-creation",
   "metadata": {},
   "outputs": [],
   "source": [
    "#export it as a tsv to visualize\n",
    "onset_tsv = np.arange(0,203.2,0.1)\n",
    "duration_tsv = np.ones(2032)-0.9\n",
    "d = {\"onset\": onset_tsv, \"duration\": duration_tsv, \"value\": flow_10hz}\n",
    "df = pd.DataFrame(d)\n",
    "df.to_csv(f\"{outdir}{stim}_optic_flow_10hz.tsv\", sep='\\t', index=False)"
   ]
  },
  {
   "cell_type": "code",
   "execution_count": null,
   "id": "received-newcastle",
   "metadata": {},
   "outputs": [],
   "source": []
  }
 ],
 "metadata": {
  "kernelspec": {
   "display_name": "Python 3",
   "language": "python",
   "name": "python3"
  },
  "language_info": {
   "codemirror_mode": {
    "name": "ipython",
    "version": 3
   },
   "file_extension": ".py",
   "mimetype": "text/x-python",
   "name": "python",
   "nbconvert_exporter": "python",
   "pygments_lexer": "ipython3",
   "version": "3.8.5"
  }
 },
 "nbformat": 4,
 "nbformat_minor": 5
}
