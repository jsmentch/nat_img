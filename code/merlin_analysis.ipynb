{
 "cells": [
  {
   "cell_type": "markdown",
   "metadata": {},
   "source": [
    "# Notebook to compare to merlin"
   ]
  },
  {
   "cell_type": "code",
   "execution_count": 2,
   "metadata": {},
   "outputs": [],
   "source": [
    "from os import walk\n",
    "import nibabel as nb\n",
    "import numpy as np\n",
    "import pandas as pd\n",
    "import matplotlib.pyplot as plt"
   ]
  },
  {
   "cell_type": "code",
   "execution_count": 4,
   "metadata": {},
   "outputs": [],
   "source": [
    "import numpy as np\n",
    "import nibabel as nb\n",
    "from sklearn.linear_model import RidgeCV\n",
    "from sklearn.model_selection import KFold\n",
    "from sklearn.metrics import r2_score\n",
    "from nilearn_plotting_custom import plot_surf\n",
    "from PIL import Image\n",
    "from PIL import ImageDraw\n",
    "import npp\n",
    "import hcp_utils as hcp\n",
    "from hcp_tools import load_flatmaps_59k\n",
    "from hcp_tools import load_meshes\n",
    "import os\n",
    "import matplotlib.pyplot as plt\n",
    "import seaborn as sns\n",
    "from scipy.signal import resample\n",
    "from sklearn.preprocessing import StandardScaler\n",
    "sns.set(\"paper\", \"white\")\n",
    "#%matplotlib inline\n",
    "plt.rcParams['axes.facecolor'] = 'white'\n",
    "plt.rcParams['figure.facecolor'] = 'white'\n",
    "def load_data_merlin(subject,feature):\n",
    "    # Inputs: subject = id eg 'sub-19'\n",
    "    #         feature='as_scores'\n",
    "    # Returns: X feature data (2D; time x feature)\n",
    "    #          Y brain data (2D; time x grayordinate)\n",
    "    im_file = f'../sourcedata/data/merlin/brain/merlin_cifti_clean_smooth/{str(subject)}_clean_smooth_task-MerlinMovie_space-fsLR_den-91k_bold.dtseries.nii'\n",
    "    img = nb.load(im_file)\n",
    "    Y = img.get_fdata()\n",
    "    Y = Y[17:] #trim beginning, first 17 TRs\n",
    "    Y = Y[:1009] #trim end to end of film    braintrain.append(s_brain[:-200,:]) #roughly 80 20 split, trim the last 200 TRs of each subject to save as test set\n",
    "    Y = np.nan_to_num(Y)\n",
    "    #load feature\n",
    "    X = np.load(f'../sourcedata/data/merlin/features/Merlin_{feature}.npy')\n",
    "    X = resample(X, Y.shape[0], axis=0) #resample to 1hz for now \n",
    "    #feat_x=feat_x.T\n",
    "    #trim final movies\n",
    "    vertex_info = hcp.get_HCP_vertex_info(img)\n",
    "    return X,Y,vertex_info"
   ]
  },
  {
   "cell_type": "code",
   "execution_count": 5,
   "metadata": {},
   "outputs": [
    {
     "ename": "FileNotFoundError",
     "evalue": "No such file or no access: '../sourcedata/data/merlin/brain/merlin_cifti_clean_smooth/sub-19_clean_smooth_task-MerlinMovie_space-fsLR_den-91k_bold.dtseries.nii'",
     "output_type": "error",
     "traceback": [
      "\u001b[0;31m---------------------------------------------------------------------------\u001b[0m",
      "\u001b[0;31mFileNotFoundError\u001b[0m                         Traceback (most recent call last)",
      "\u001b[0;32m/opt/miniconda-latest/lib/python3.8/site-packages/nibabel/loadsave.py\u001b[0m in \u001b[0;36mload\u001b[0;34m(filename, **kwargs)\u001b[0m\n\u001b[1;32m     41\u001b[0m     \u001b[0;32mtry\u001b[0m\u001b[0;34m:\u001b[0m\u001b[0;34m\u001b[0m\u001b[0;34m\u001b[0m\u001b[0m\n\u001b[0;32m---> 42\u001b[0;31m         \u001b[0mstat_result\u001b[0m \u001b[0;34m=\u001b[0m \u001b[0mos\u001b[0m\u001b[0;34m.\u001b[0m\u001b[0mstat\u001b[0m\u001b[0;34m(\u001b[0m\u001b[0mfilename\u001b[0m\u001b[0;34m)\u001b[0m\u001b[0;34m\u001b[0m\u001b[0;34m\u001b[0m\u001b[0m\n\u001b[0m\u001b[1;32m     43\u001b[0m     \u001b[0;32mexcept\u001b[0m \u001b[0mOSError\u001b[0m\u001b[0;34m:\u001b[0m\u001b[0;34m\u001b[0m\u001b[0;34m\u001b[0m\u001b[0m\n",
      "\u001b[0;31mFileNotFoundError\u001b[0m: [Errno 2] No such file or directory: '../sourcedata/data/merlin/brain/merlin_cifti_clean_smooth/sub-19_clean_smooth_task-MerlinMovie_space-fsLR_den-91k_bold.dtseries.nii'",
      "\nDuring handling of the above exception, another exception occurred:\n",
      "\u001b[0;31mFileNotFoundError\u001b[0m                         Traceback (most recent call last)",
      "\u001b[0;32m<ipython-input-5-9612a1a6aabf>\u001b[0m in \u001b[0;36m<module>\u001b[0;34m\u001b[0m\n\u001b[0;32m----> 1\u001b[0;31m \u001b[0mX\u001b[0m\u001b[0;34m,\u001b[0m\u001b[0mY\u001b[0m\u001b[0;34m,\u001b[0m\u001b[0mvertex_info\u001b[0m \u001b[0;34m=\u001b[0m \u001b[0mload_data_merlin\u001b[0m\u001b[0;34m(\u001b[0m\u001b[0;34m'sub-19'\u001b[0m\u001b[0;34m,\u001b[0m\u001b[0;34m'as_scores'\u001b[0m\u001b[0;34m)\u001b[0m\u001b[0;34m\u001b[0m\u001b[0;34m\u001b[0m\u001b[0m\n\u001b[0m\u001b[1;32m      2\u001b[0m \u001b[0mX\u001b[0m \u001b[0;34m=\u001b[0m \u001b[0mhrf_tools\u001b[0m\u001b[0;34m.\u001b[0m\u001b[0mapply_optimal_hrf_10hz\u001b[0m\u001b[0;34m(\u001b[0m\u001b[0mX\u001b[0m\u001b[0;34m,\u001b[0m\u001b[0;34m(\u001b[0m\u001b[0;36m1\u001b[0m\u001b[0;34m/\u001b[0m\u001b[0;36m1.5\u001b[0m\u001b[0;34m)\u001b[0m\u001b[0;34m)\u001b[0m\u001b[0;34m\u001b[0m\u001b[0;34m\u001b[0m\u001b[0m\n\u001b[1;32m      3\u001b[0m \u001b[0mscores_mean\u001b[0m\u001b[0;34m,\u001b[0m\u001b[0mcorr_mean\u001b[0m\u001b[0;34m,\u001b[0m\u001b[0mweights_mean\u001b[0m \u001b[0;34m=\u001b[0m \u001b[0msimple_ridgeCV\u001b[0m\u001b[0;34m(\u001b[0m\u001b[0mX\u001b[0m\u001b[0;34m,\u001b[0m\u001b[0mY\u001b[0m\u001b[0;34m)\u001b[0m\u001b[0;34m\u001b[0m\u001b[0;34m\u001b[0m\u001b[0m\n\u001b[1;32m      4\u001b[0m \u001b[0msubject\u001b[0m\u001b[0;34m=\u001b[0m\u001b[0;34m'sub-19'\u001b[0m\u001b[0;34m\u001b[0m\u001b[0;34m\u001b[0m\u001b[0m\n\u001b[1;32m      5\u001b[0m \u001b[0manalysis\u001b[0m\u001b[0;34m.\u001b[0m\u001b[0mplot_results\u001b[0m\u001b[0;34m(\u001b[0m\u001b[0mscores_mean\u001b[0m\u001b[0;34m,\u001b[0m\u001b[0;34m'r2'\u001b[0m\u001b[0;34m,\u001b[0m\u001b[0;34m'32k'\u001b[0m\u001b[0;34m,\u001b[0m\u001b[0mvertex_info\u001b[0m\u001b[0;34m,\u001b[0m\u001b[0msubject\u001b[0m\u001b[0;34m,\u001b[0m\u001b[0;34m'as_scores'\u001b[0m\u001b[0;34m,\u001b[0m\u001b[0;34m'merlin'\u001b[0m\u001b[0;34m,\u001b[0m\u001b[0;34m'ridgeCV'\u001b[0m\u001b[0;34m)\u001b[0m\u001b[0;34m\u001b[0m\u001b[0;34m\u001b[0m\u001b[0m\n",
      "\u001b[0;32m<ipython-input-4-a10a2f5584a1>\u001b[0m in \u001b[0;36mload_data_merlin\u001b[0;34m(subject, feature)\u001b[0m\n\u001b[1;32m     26\u001b[0m     \u001b[0;31m#          Y brain data (2D; time x grayordinate)\u001b[0m\u001b[0;34m\u001b[0m\u001b[0;34m\u001b[0m\u001b[0;34m\u001b[0m\u001b[0m\n\u001b[1;32m     27\u001b[0m     \u001b[0mim_file\u001b[0m \u001b[0;34m=\u001b[0m \u001b[0;34mf'../sourcedata/data/merlin/brain/merlin_cifti_clean_smooth/{str(subject)}_clean_smooth_task-MerlinMovie_space-fsLR_den-91k_bold.dtseries.nii'\u001b[0m\u001b[0;34m\u001b[0m\u001b[0;34m\u001b[0m\u001b[0m\n\u001b[0;32m---> 28\u001b[0;31m     \u001b[0mimg\u001b[0m \u001b[0;34m=\u001b[0m \u001b[0mnb\u001b[0m\u001b[0;34m.\u001b[0m\u001b[0mload\u001b[0m\u001b[0;34m(\u001b[0m\u001b[0mim_file\u001b[0m\u001b[0;34m)\u001b[0m\u001b[0;34m\u001b[0m\u001b[0;34m\u001b[0m\u001b[0m\n\u001b[0m\u001b[1;32m     29\u001b[0m     \u001b[0mY\u001b[0m \u001b[0;34m=\u001b[0m \u001b[0mimg\u001b[0m\u001b[0;34m.\u001b[0m\u001b[0mget_fdata\u001b[0m\u001b[0;34m(\u001b[0m\u001b[0;34m)\u001b[0m\u001b[0;34m\u001b[0m\u001b[0;34m\u001b[0m\u001b[0m\n\u001b[1;32m     30\u001b[0m     \u001b[0mY\u001b[0m \u001b[0;34m=\u001b[0m \u001b[0mY\u001b[0m\u001b[0;34m[\u001b[0m\u001b[0;36m17\u001b[0m\u001b[0;34m:\u001b[0m\u001b[0;34m]\u001b[0m \u001b[0;31m#trim beginning, first 17 TRs\u001b[0m\u001b[0;34m\u001b[0m\u001b[0;34m\u001b[0m\u001b[0m\n",
      "\u001b[0;32m/opt/miniconda-latest/lib/python3.8/site-packages/nibabel/loadsave.py\u001b[0m in \u001b[0;36mload\u001b[0;34m(filename, **kwargs)\u001b[0m\n\u001b[1;32m     42\u001b[0m         \u001b[0mstat_result\u001b[0m \u001b[0;34m=\u001b[0m \u001b[0mos\u001b[0m\u001b[0;34m.\u001b[0m\u001b[0mstat\u001b[0m\u001b[0;34m(\u001b[0m\u001b[0mfilename\u001b[0m\u001b[0;34m)\u001b[0m\u001b[0;34m\u001b[0m\u001b[0;34m\u001b[0m\u001b[0m\n\u001b[1;32m     43\u001b[0m     \u001b[0;32mexcept\u001b[0m \u001b[0mOSError\u001b[0m\u001b[0;34m:\u001b[0m\u001b[0;34m\u001b[0m\u001b[0;34m\u001b[0m\u001b[0m\n\u001b[0;32m---> 44\u001b[0;31m         \u001b[0;32mraise\u001b[0m \u001b[0mFileNotFoundError\u001b[0m\u001b[0;34m(\u001b[0m\u001b[0;34mf\"No such file or no access: '{filename}'\"\u001b[0m\u001b[0;34m)\u001b[0m\u001b[0;34m\u001b[0m\u001b[0;34m\u001b[0m\u001b[0m\n\u001b[0m\u001b[1;32m     45\u001b[0m     \u001b[0;32mif\u001b[0m \u001b[0mstat_result\u001b[0m\u001b[0;34m.\u001b[0m\u001b[0mst_size\u001b[0m \u001b[0;34m<=\u001b[0m \u001b[0;36m0\u001b[0m\u001b[0;34m:\u001b[0m\u001b[0;34m\u001b[0m\u001b[0;34m\u001b[0m\u001b[0m\n\u001b[1;32m     46\u001b[0m         \u001b[0;32mraise\u001b[0m \u001b[0mImageFileError\u001b[0m\u001b[0;34m(\u001b[0m\u001b[0;34mf\"Empty file: '{filename}'\"\u001b[0m\u001b[0;34m)\u001b[0m\u001b[0;34m\u001b[0m\u001b[0;34m\u001b[0m\u001b[0m\n",
      "\u001b[0;31mFileNotFoundError\u001b[0m: No such file or no access: '../sourcedata/data/merlin/brain/merlin_cifti_clean_smooth/sub-19_clean_smooth_task-MerlinMovie_space-fsLR_den-91k_bold.dtseries.nii'"
     ]
    }
   ],
   "source": [
    "X,Y,vertex_info = load_data_merlin('sub-19','as_scores')\n",
    "X = hrf_tools.apply_optimal_hrf_10hz(X,(1/1.5))\n",
    "scores_mean,corr_mean,weights_mean = simple_ridgeCV(X,Y)\n",
    "subject='sub-19'\n",
    "analysis.plot_results(scores_mean,'r2','32k',vertex_info,subject,'as_scores','merlin','ridgeCV')"
   ]
  },
  {
   "cell_type": "markdown",
   "metadata": {},
   "source": [
    "## save list of subjects to a txt file"
   ]
  },
  {
   "cell_type": "code",
   "execution_count": 51,
   "metadata": {},
   "outputs": [],
   "source": [
    "cleanpath='/om2/user/jsmentch/projects/speech_face_analysis/data/cifti/cleaned/'\n",
    "subject_flist = list(walk(cleanpath))[0][2:][0]"
   ]
  },
  {
   "cell_type": "code",
   "execution_count": 55,
   "metadata": {},
   "outputs": [],
   "source": [
    "subject_flist = [s_f[:6] for s_f in subject_flist]"
   ]
  },
  {
   "cell_type": "code",
   "execution_count": 57,
   "metadata": {},
   "outputs": [],
   "source": [
    "with open(\"merlin_subjects.txt\", 'w') as output:\n",
    "    for row in subject_flist:\n",
    "        output.write(str(row) + '\\n')"
   ]
  },
  {
   "cell_type": "code",
   "execution_count": null,
   "metadata": {},
   "outputs": [],
   "source": []
  },
  {
   "cell_type": "code",
   "execution_count": null,
   "metadata": {},
   "outputs": [],
   "source": []
  },
  {
   "cell_type": "code",
   "execution_count": null,
   "metadata": {},
   "outputs": [],
   "source": []
  },
  {
   "cell_type": "code",
   "execution_count": 14,
   "metadata": {},
   "outputs": [
    {
     "data": {
      "text/plain": [
       "Text(0, 0.5, '# voxels')"
      ]
     },
     "execution_count": 14,
     "metadata": {},
     "output_type": "execute_result"
    },
    {
     "data": {
      "image/png": "[encoded data removed]",
      "text/plain": [
       "<Figure size 432x288 with 1 Axes>"
      ]
     },
     "metadata": {},
     "output_type": "display_data"
    }
   ],
   "source": [
    "#plt.figure(figsize=(10,5))           \n",
    "plt.hist(scores_mean,25,color='k')\n",
    "plt.xlim(-0.5,0.5)\n",
    "plt.xlabel('coeffecient of determination (r2)')\n",
    "plt.ylabel('# voxels')"
   ]
  },
  {
   "cell_type": "code",
   "execution_count": 109,
   "metadata": {},
   "outputs": [
    {
     "data": {
      "text/plain": [
       "Text(0, 0.5, '# voxels')"
      ]
     },
     "execution_count": 109,
     "metadata": {},
     "output_type": "execute_result"
    },
    {
     "data": {
      "image/png": "[encoded data removed]",
      "text/plain": [
       "<Figure size 432x288 with 1 Axes>"
      ]
     },
     "metadata": {},
     "output_type": "display_data"
    }
   ],
   "source": [
    "#plt.figure(figsize=(10,5))           \n",
    "plt.hist(scores_mean,25,color='k')\n",
    "plt.xlim(-0.5,0.5)\n",
    "plt.xlabel('corr of determination (r)')\n",
    "plt.ylabel('# voxels')"
   ]
  },
  {
   "cell_type": "code",
   "execution_count": 32,
   "metadata": {},
   "outputs": [
    {
     "name": "stdout",
     "output_type": "stream",
     "text": [
      "[-1.27620555 -1.2560505  -1.22764082 ...  0.33157008  0.33174205\n",
      "  2.        ]\n",
      "[-1.95929125 -1.72557674 -1.58966494 ...  0.46162916  0.46325908\n",
      "  2.        ]\n",
      "[-1.27620555 -1.2560505  -1.22764082 ...  0.33157008  0.33174205\n",
      "  2.        ]\n",
      "[-1.95929125 -1.72557674 -1.58966494 ...  0.46162916  0.46325908\n",
      "  2.        ]\n"
     ]
    }
   ],
   "source": [
    "plot_32k_results(scores_mean,'r2',subject,feature,'merlin_encoding')"
   ]
  },
  {
   "cell_type": "code",
   "execution_count": 34,
   "metadata": {},
   "outputs": [
    {
     "name": "stdout",
     "output_type": "stream",
     "text": [
      "[-0.24132409 -0.22983428 -0.22710414 ...         nan         nan\n",
      "         nan]\n",
      "[-0.23204213 -0.22651422 -0.21749859 ...         nan         nan\n",
      "         nan]\n",
      "[-0.24132409 -0.22983428 -0.2292875  ...         nan         nan\n",
      "         nan]\n",
      "[-0.23204213 -0.22651422 -0.21749859 ...         nan         nan\n",
      "         nan]\n"
     ]
    }
   ],
   "source": [
    "plot_32k_results(corr_mean,'r',subject,feature,'merlin_encoding')"
   ]
  }
 ],
 "metadata": {
  "kernelspec": {
   "display_name": "Python 3",
   "language": "python",
   "name": "python3"
  },
  "language_info": {
   "codemirror_mode": {
    "name": "ipython",
    "version": 3
   },
   "file_extension": ".py",
   "mimetype": "text/x-python",
   "name": "python",
   "nbconvert_exporter": "python",
   "pygments_lexer": "ipython3",
   "version": "3.8.5"
  }
 },
 "nbformat": 4,
 "nbformat_minor": 4
}
