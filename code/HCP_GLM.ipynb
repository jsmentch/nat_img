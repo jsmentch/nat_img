{
 "cells": [
  {
   "cell_type": "code",
   "execution_count": 1,
   "id": "complimentary-reducing",
   "metadata": {},
   "outputs": [
    {
     "name": "stderr",
     "output_type": "stream",
     "text": [
      "pixdim[1,2,3] should be non-zero; setting 0 dims to 1\n"
     ]
    }
   ],
   "source": [
    "import nibabel as nb\n",
    "import numpy as np\n",
    "import nilearn.plotting as nlp\n",
    "from nilearn_plotting_custom import plot_surf\n",
    "import hcp_utils as hcp\n",
    "from hcp_tools import extract_cortex\n",
    "from hcp_tools import load_meshes\n",
    "from analysis import load_data\n",
    "from hcp_tools import load_flatmaps_59k\n",
    "from analysis import simple_ridgeCV\n",
    "from analysis import plot_59k_results\n",
    "import os\n",
    "import hrf_tools\n",
    "import matplotlib.pyplot as plt\n",
    "import seaborn as sns\n",
    "sns.set(\"paper\", \"white\")\n",
    "%matplotlib inline\n",
    "plt.rcParams['axes.facecolor'] = 'white'\n",
    "plt.rcParams['figure.facecolor'] = 'white'\n",
    "from os import walk\n",
    "import nibabel as nb\n",
    "import numpy as np\n",
    "import pandas as pd"
   ]
  },
  {
   "cell_type": "code",
   "execution_count": null,
   "id": "47a9240d-6cbd-47e3-97ae-c9a0cbaa049b",
   "metadata": {},
   "outputs": [],
   "source": []
  },
  {
   "cell_type": "code",
   "execution_count": 2,
   "id": "pleased-warrant",
   "metadata": {},
   "outputs": [],
   "source": [
    "subject=100610\n",
    "feature='rms'\n",
    "n_movies=4"
   ]
  },
  {
   "cell_type": "code",
   "execution_count": 4,
   "id": "addressed-joining",
   "metadata": {},
   "outputs": [],
   "source": [
    "def load_data(subject,feature,n_movies):\n",
    "    from sklearn.preprocessing import StandardScaler\n",
    "    # Inputs: subject = HCP id eg 100610\n",
    "    #         feature='mfs'\n",
    "    #         n_movies is a number 1-4\n",
    "    # Returns: X feature data (2D; time x feature)\n",
    "    #          Y brain data (2D; time x grayordinate)\n",
    "    scaler = StandardScaler()\n",
    "    y_l=[]\n",
    "    x_l=[]\n",
    "    stim = ['tfMRI_MOVIE1_7T_AP','tfMRI_MOVIE2_7T_PA','tfMRI_MOVIE3_7T_PA','tfMRI_MOVIE4_7T_AP']\n",
    "    stim_feat = ['7T_MOVIE1_CC1_v2', '7T_MOVIE2_HO1_v2', '7T_MOVIE3_CC2_v2', '7T_MOVIE4_HO2_v2']\n",
    "    \n",
    "    for i in np.arange(n_movies):\n",
    "        #load brain image\n",
    "        im_file = f'../sourcedata/data/HCP_7T_movie_FIX/brain/HCP_7T_movie_FIX/{str(subject)}/MNINonLinear/Results/{stim[i]}/{stim[i]}_Atlas_1.6mm_MSMAll_hp2000_clean.dtseries.nii'\n",
    "        img = nb.load(im_file)\n",
    "        img_y = img.get_fdata()\n",
    "        img_y = scaler.fit_transform(img_y)\n",
    "        #load feature\n",
    "        feat_x = np.load(f'../sourcedata/data/HCP_7T_movie_FIX/features/{stim_feat[i]}_{feature}.npy')\n",
    "        feat_x = hrf_tools.apply_optimal_hrf_10hz(feat_x,10)\n",
    "        feat_x = hrf_tools.resample_1hz(feat_x)\n",
    "        feat_x = feat_x[:img_y.shape[0],:]\n",
    "        #feat_x=feat_x.T\n",
    "        y_l.append(img_y)\n",
    "        x_l.append(feat_x)\n",
    "    Y=np.vstack(y_l)\n",
    "    X=np.vstack(x_l)\n",
    "    X = scaler.fit_transform(X)\n",
    "    vertex_info = hcp.get_HCP_vertex_info(img)\n",
    "    return X,Y,vertex_info"
   ]
  },
  {
   "cell_type": "code",
   "execution_count": 5,
   "id": "imposed-judgment",
   "metadata": {},
   "outputs": [
    {
     "name": "stderr",
     "output_type": "stream",
     "text": [
      "pixdim[1,2,3] should be non-zero; setting 0 dims to 1\n",
      "pixdim[1,2,3] should be non-zero; setting 0 dims to 1\n",
      "pixdim[1,2,3] should be non-zero; setting 0 dims to 1\n",
      "pixdim[1,2,3] should be non-zero; setting 0 dims to 1\n"
     ]
    }
   ],
   "source": [
    "X,Y,vertex_info = load_data(subject,feature,n_movies)"
   ]
  },
  {
   "cell_type": "code",
   "execution_count": 6,
   "id": "congressional-champagne",
   "metadata": {},
   "outputs": [
    {
     "data": {
      "text/plain": [
       "(3655, 1)"
      ]
     },
     "execution_count": 6,
     "metadata": {},
     "output_type": "execute_result"
    }
   ],
   "source": [
    "X.shape"
   ]
  },
  {
   "cell_type": "code",
   "execution_count": 7,
   "id": "extra-windows",
   "metadata": {},
   "outputs": [
    {
     "data": {
      "text/plain": [
       "(3655, 170494)"
      ]
     },
     "execution_count": 7,
     "metadata": {},
     "output_type": "execute_result"
    }
   ],
   "source": [
    "Y.shape"
   ]
  },
  {
   "cell_type": "code",
   "execution_count": 8,
   "id": "loaded-community",
   "metadata": {},
   "outputs": [],
   "source": [
    "tr=1\n",
    "n_scans=X.shape[0]"
   ]
  },
  {
   "cell_type": "code",
   "execution_count": 10,
   "id": "intense-fortune",
   "metadata": {},
   "outputs": [],
   "source": [
    "events = pd.DataFrame(columns=['trial_type', 'onset',\n",
    "                       'duration'])"
   ]
  },
  {
   "cell_type": "code",
   "execution_count": 11,
   "id": "looking-vector",
   "metadata": {},
   "outputs": [],
   "source": [
    "for i in np.arange(n_scans):\n",
    "    c_title = 'c'+str(i)\n",
    "    conditions = [c_title] * n_scans\n",
    "    duration = np.ones(n_scans)+0.5\n",
    "    onsets = np.arange(0,n_scans,1)\n",
    "    df= pd.DataFrame({'trial_type': conditions, 'onset': onsets, 'duration': duration})\n",
    "    #print(df)\n",
    "    events.append(df)"
   ]
  },
  {
   "cell_type": "code",
   "execution_count": 9,
   "id": "isolated-rebound",
   "metadata": {},
   "outputs": [],
   "source": [
    "frame_times= np.arange(n_scans)\n"
   ]
  },
  {
   "cell_type": "code",
   "execution_count": 16,
   "id": "rational-denmark",
   "metadata": {},
   "outputs": [],
   "source": [
    "from nilearn.glm.first_level import make_first_level_design_matrix\n",
    "design_matrices = make_first_level_design_matrix(frame_times, None,\n",
    "                          add_regs= X, hrf_model='spm', drift_model=None)"
   ]
  },
  {
   "cell_type": "code",
   "execution_count": 18,
   "id": "annoying-lightning",
   "metadata": {},
   "outputs": [
    {
     "data": {
      "text/html": [
       "<div>\n",
       "<style scoped>\n",
       "    .dataframe tbody tr th:only-of-type {\n",
       "        vertical-align: middle;\n",
       "    }\n",
       "\n",
       "    .dataframe tbody tr th {\n",
       "        vertical-align: top;\n",
       "    }\n",
       "\n",
       "    .dataframe thead th {\n",
       "        text-align: right;\n",
       "    }\n",
       "</style>\n",
       "<table border=\"1\" class=\"dataframe\">\n",
       "  <thead>\n",
       "    <tr style=\"text-align: right;\">\n",
       "      <th></th>\n",
       "      <th>reg0</th>\n",
       "      <th>constant</th>\n",
       "    </tr>\n",
       "  </thead>\n",
       "  <tbody>\n",
       "    <tr>\n",
       "      <th>0</th>\n",
       "      <td>-1.044246</td>\n",
       "      <td>1.0</td>\n",
       "    </tr>\n",
       "    <tr>\n",
       "      <th>1</th>\n",
       "      <td>-1.044246</td>\n",
       "      <td>1.0</td>\n",
       "    </tr>\n",
       "    <tr>\n",
       "      <th>2</th>\n",
       "      <td>-1.044246</td>\n",
       "      <td>1.0</td>\n",
       "    </tr>\n",
       "    <tr>\n",
       "      <th>3</th>\n",
       "      <td>-1.044246</td>\n",
       "      <td>1.0</td>\n",
       "    </tr>\n",
       "    <tr>\n",
       "      <th>4</th>\n",
       "      <td>-1.044246</td>\n",
       "      <td>1.0</td>\n",
       "    </tr>\n",
       "    <tr>\n",
       "      <th>...</th>\n",
       "      <td>...</td>\n",
       "      <td>...</td>\n",
       "    </tr>\n",
       "    <tr>\n",
       "      <th>3650</th>\n",
       "      <td>-1.455334</td>\n",
       "      <td>1.0</td>\n",
       "    </tr>\n",
       "    <tr>\n",
       "      <th>3651</th>\n",
       "      <td>-1.435397</td>\n",
       "      <td>1.0</td>\n",
       "    </tr>\n",
       "    <tr>\n",
       "      <th>3652</th>\n",
       "      <td>-1.403661</td>\n",
       "      <td>1.0</td>\n",
       "    </tr>\n",
       "    <tr>\n",
       "      <th>3653</th>\n",
       "      <td>-1.364386</td>\n",
       "      <td>1.0</td>\n",
       "    </tr>\n",
       "    <tr>\n",
       "      <th>3654</th>\n",
       "      <td>-1.322007</td>\n",
       "      <td>1.0</td>\n",
       "    </tr>\n",
       "  </tbody>\n",
       "</table>\n",
       "<p>3655 rows × 2 columns</p>\n",
       "</div>"
      ],
      "text/plain": [
       "          reg0  constant\n",
       "0    -1.044246       1.0\n",
       "1    -1.044246       1.0\n",
       "2    -1.044246       1.0\n",
       "3    -1.044246       1.0\n",
       "4    -1.044246       1.0\n",
       "...        ...       ...\n",
       "3650 -1.455334       1.0\n",
       "3651 -1.435397       1.0\n",
       "3652 -1.403661       1.0\n",
       "3653 -1.364386       1.0\n",
       "3654 -1.322007       1.0\n",
       "\n",
       "[3655 rows x 2 columns]"
      ]
     },
     "execution_count": 18,
     "metadata": {},
     "output_type": "execute_result"
    }
   ],
   "source": [
    "design_matrices"
   ]
  },
  {
   "cell_type": "code",
   "execution_count": 19,
   "id": "contrary-things",
   "metadata": {},
   "outputs": [
    {
     "data": {
      "text/plain": [
       "<AxesSubplot:label='conditions', ylabel='scan number'>"
      ]
     },
     "execution_count": 19,
     "metadata": {},
     "output_type": "execute_result"
    },
    {
     "data": {
      "image/png": "[encoded data removed]",
      "text/plain": [
       "<Figure size 105.12x720 with 1 Axes>"
      ]
     },
     "metadata": {},
     "output_type": "display_data"
    }
   ],
   "source": [
    "from nilearn.plotting import plot_design_matrix\n",
    "plot_design_matrix(design_matrices)"
   ]
  },
  {
   "cell_type": "code",
   "execution_count": 21,
   "id": "amateur-sweden",
   "metadata": {},
   "outputs": [],
   "source": [
    "from nilearn.glm.first_level import run_glm\n",
    "fmri_glm_labels,fmri_glm_results = run_glm(Y,design_matrices.values)"
   ]
  },
  {
   "cell_type": "code",
   "execution_count": 27,
   "id": "swedish-spirituality",
   "metadata": {},
   "outputs": [],
   "source": [
    "from nilearn.glm.contrasts import compute_contrast\n",
    "contrast = compute_contrast(fmri_glm_labels, fmri_glm_results, np.array([1,0]),contrast_type='t')"
   ]
  },
  {
   "cell_type": "code",
   "execution_count": 33,
   "id": "ahead-crest",
   "metadata": {},
   "outputs": [
    {
     "data": {
      "text/plain": [
       "<bound method Contrast.effect_size of <nilearn.glm.contrasts.Contrast object at 0x2b605ca5e3a0>>"
      ]
     },
     "execution_count": 33,
     "metadata": {},
     "output_type": "execute_result"
    }
   ],
   "source": [
    "contrast.z_score()\n",
    "contrast.p_value()\n",
    "contrast.effect_size()"
   ]
  },
  {
   "cell_type": "code",
   "execution_count": null,
   "id": "expired-treat",
   "metadata": {},
   "outputs": [],
   "source": []
  }
 ],
 "metadata": {
  "kernelspec": {
   "display_name": "Python 3",
   "language": "python",
   "name": "python3"
  },
  "language_info": {
   "codemirror_mode": {
    "name": "ipython",
    "version": 3
   },
   "file_extension": ".py",
   "mimetype": "text/x-python",
   "name": "python",
   "nbconvert_exporter": "python",
   "pygments_lexer": "ipython3",
   "version": "3.8.5"
  }
 },
 "nbformat": 4,
 "nbformat_minor": 5
}
