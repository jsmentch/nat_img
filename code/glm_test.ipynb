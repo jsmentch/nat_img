{
 "cells": [
  {
   "cell_type": "code",
   "execution_count": 32,
   "id": "split-assurance",
   "metadata": {},
   "outputs": [],
   "source": [
    "from sklearn.preprocessing import StandardScaler\n",
    "import numpy as np\n",
    "import pandas as pd\n",
    "import nibabel as nb\n",
    "import hrf_tools\n",
    "import hcp_utils as hcp"
   ]
  },
  {
   "cell_type": "code",
   "execution_count": 2,
   "id": "statutory-carol",
   "metadata": {},
   "outputs": [],
   "source": [
    "subject=100610\n",
    "feature='rms'\n",
    "#n_movies=4\n",
    "#vertex_info = hcp.get_HCP_vertex_info(img)\n",
    "scaler = StandardScaler()"
   ]
  },
  {
   "cell_type": "code",
   "execution_count": 8,
   "id": "extra-effects",
   "metadata": {},
   "outputs": [
    {
     "name": "stderr",
     "output_type": "stream",
     "text": [
      "pixdim[1,2,3] should be non-zero; setting 0 dims to 1\n"
     ]
    }
   ],
   "source": [
    "im_file = f'../sourcedata/data/HCP_7T_movie_FIX/brain/HCP_7T_movie_FIX/100610/MNINonLinear/Results/tfMRI_MOVIE1_7T_AP/tfMRI_MOVIE1_7T_AP_Atlas_1.6mm_MSMAll_hp2000_clean.dtseries.nii'\n",
    "img = nb.load(im_file)\n",
    "img_y = img.get_fdata()\n",
    "Y = scaler.fit_transform(img_y)\n",
    "#load feature\n",
    "X = np.load(f'../sourcedata/data/HCP_7T_movie_FIX/features/7T_MOVIE1_CC1_v2_rms.npy')\n",
    "X = hrf_tools.apply_optimal_hrf_10hz(X,10)\n",
    "X = hrf_tools.resample_1hz(X)\n",
    "X = X[:Y.shape[0],:] # if it has one extra value"
   ]
  },
  {
   "cell_type": "code",
   "execution_count": 9,
   "id": "criminal-cricket",
   "metadata": {},
   "outputs": [],
   "source": [
    "n_scans = Y.shape[0]\n",
    "frame_times= np.arange(n_scans)"
   ]
  },
  {
   "cell_type": "code",
   "execution_count": 10,
   "id": "wound-screen",
   "metadata": {},
   "outputs": [],
   "source": [
    "from nilearn.glm.first_level import make_first_level_design_matrix\n",
    "design_matrix = make_first_level_design_matrix(frame_times, None,\n",
    "                          add_regs=X, hrf_model=None, drift_model=None)"
   ]
  },
  {
   "cell_type": "code",
   "execution_count": 11,
   "id": "adequate-mailing",
   "metadata": {},
   "outputs": [
    {
     "data": {
      "text/plain": [
       "<AxesSubplot:label='conditions', ylabel='scan number'>"
      ]
     },
     "execution_count": 11,
     "metadata": {},
     "output_type": "execute_result"
    },
    {
     "data": {
      "image/png": "[encoded data removed]",
      "text/plain": [
       "<Figure size 105.12x720 with 1 Axes>"
      ]
     },
     "metadata": {
      "needs_background": "light"
     },
     "output_type": "display_data"
    }
   ],
   "source": [
    "from nilearn.plotting import plot_design_matrix\n",
    "plot_design_matrix(design_matrix)"
   ]
  },
  {
   "cell_type": "code",
   "execution_count": 27,
   "id": "ambient-acquisition",
   "metadata": {},
   "outputs": [],
   "source": [
    "from nilearn.glm.first_level import run_glm\n",
    "labels,results = run_glm(Y,design_matrix.values)"
   ]
  },
  {
   "cell_type": "code",
   "execution_count": 31,
   "id": "compound-doctrine",
   "metadata": {},
   "outputs": [],
   "source": [
    "from nilearn.glm.contrasts import compute_contrast\n",
    "contrast = compute_contrast(labels=labels, \\\n",
    "                            regression_result=results, \\\n",
    "                            con_val=np.array([1,0]).T, \\\n",
    "                            contrast_type='t')"
   ]
  },
  {
   "cell_type": "code",
   "execution_count": null,
   "id": "conditional-legend",
   "metadata": {},
   "outputs": [],
   "source": []
  }
 ],
 "metadata": {
  "kernelspec": {
   "display_name": "Python 3",
   "language": "python",
   "name": "python3"
  },
  "language_info": {
   "codemirror_mode": {
    "name": "ipython",
    "version": 3
   },
   "file_extension": ".py",
   "mimetype": "text/x-python",
   "name": "python",
   "nbconvert_exporter": "python",
   "pygments_lexer": "ipython3",
   "version": "3.8.5"
  }
 },
 "nbformat": 4,
 "nbformat_minor": 5
}
