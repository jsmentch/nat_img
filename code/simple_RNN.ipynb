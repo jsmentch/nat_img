{
 "cells": [
  {
   "cell_type": "markdown",
   "metadata": {},
   "source": [
    "# make a very simple LSTM model with keras"
   ]
  },
  {
   "cell_type": "code",
   "execution_count": 114,
   "metadata": {},
   "outputs": [],
   "source": [
    "import numpy as np\n",
    "import tensorflow as tf\n",
    "from tensorflow import keras\n",
    "from tensorflow.keras import layers"
   ]
  },
  {
   "cell_type": "markdown",
   "metadata": {},
   "source": [
    "### load data"
   ]
  },
  {
   "cell_type": "code",
   "execution_count": 154,
   "metadata": {},
   "outputs": [
    {
     "data": {
      "text/plain": [
       "(807, 9)"
      ]
     },
     "execution_count": 154,
     "metadata": {},
     "output_type": "execute_result"
    }
   ],
   "source": [
    "x_train_path = '../data/char_train.npy'\n",
    "x_train = np.load(x_train_path)\n",
    "x_train.shape"
   ]
  },
  {
   "cell_type": "code",
   "execution_count": 155,
   "metadata": {},
   "outputs": [
    {
     "data": {
      "text/plain": [
       "(807, 1721)"
      ]
     },
     "execution_count": 155,
     "metadata": {},
     "output_type": "execute_result"
    }
   ],
   "source": [
    "y_train_path = '../data/brain_train.npy'\n",
    "y_train = np.load(y_train_path)\n",
    "#y_train = y_train[:,0:18]\n",
    "y_train.shape"
   ]
  },
  {
   "cell_type": "code",
   "execution_count": 156,
   "metadata": {},
   "outputs": [
    {
     "data": {
      "text/plain": [
       "(TensorSpec(shape=(9,), dtype=tf.float64, name=None),\n",
       " TensorSpec(shape=(1721,), dtype=tf.float64, name=None))"
      ]
     },
     "execution_count": 156,
     "metadata": {},
     "output_type": "execute_result"
    }
   ],
   "source": [
    "#dataset = tf.data.Dataset.from_tensor_slices((np.expand_dims(x_train,0), np.expand_dims(y_train,0)))\n",
    "dataset = tf.data.Dataset.from_tensor_slices((x_train, y_train))\n",
    "\n",
    "dataset.element_spec"
   ]
  },
  {
   "cell_type": "code",
   "execution_count": 157,
   "metadata": {},
   "outputs": [
    {
     "data": {
      "text/plain": [
       "<PrefetchDataset shapes: ((64, 9), (64, 1721)), types: (tf.float64, tf.float64)>"
      ]
     },
     "execution_count": 157,
     "metadata": {},
     "output_type": "execute_result"
    }
   ],
   "source": [
    "# Batch size\n",
    "BATCH_SIZE = 64\n",
    "\n",
    "# Buffer size to shuffle the dataset\n",
    "# (TF data is designed to work with possibly infinite sequences,\n",
    "# so it doesn't attempt to shuffle the entire sequence in memory. Instead,\n",
    "# it maintains a buffer in which it shuffles elements).\n",
    "BUFFER_SIZE = 10000\n",
    "\n",
    "dataset = (\n",
    "    dataset\n",
    "    .shuffle(BUFFER_SIZE)\n",
    "    .batch(BATCH_SIZE, drop_remainder=True)\n",
    "    .prefetch(tf.data.experimental.AUTOTUNE))\n",
    "\n",
    "dataset"
   ]
  },
  {
   "cell_type": "code",
   "execution_count": 145,
   "metadata": {},
   "outputs": [],
   "source": [
    "#simple_rnn = layers.SimpleRNN(18, return_sequences=True, return_state=True)"
   ]
  },
  {
   "cell_type": "code",
   "execution_count": 146,
   "metadata": {},
   "outputs": [],
   "source": [
    "#whole_sequence_output, final_state = simple_rnn(np.expand_dims(x_train,0))"
   ]
  },
  {
   "cell_type": "code",
   "execution_count": 168,
   "metadata": {},
   "outputs": [
    {
     "name": "stdout",
     "output_type": "stream",
     "text": [
      "Model: \"sequential_43\"\n",
      "_________________________________________________________________\n",
      "Layer (type)                 Output Shape              Param #   \n",
      "=================================================================\n",
      "embedding_14 (Embedding)     (None, None, 3)           27        \n",
      "_________________________________________________________________\n",
      "lstm_37 (LSTM)               (None, 1721)              11874900  \n",
      "=================================================================\n",
      "Total params: 11,874,927\n",
      "Trainable params: 11,874,927\n",
      "Non-trainable params: 0\n",
      "_________________________________________________________________\n"
     ]
    }
   ],
   "source": [
    "model = keras.Sequential()\n",
    "# Add an Embedding layer expecting input vocab of size 1000, and\n",
    "# output embedding dimension of size 64.\n",
    "model.add(layers.Embedding(input_dim=9, output_dim=3))\n",
    "# Add a LSTM layer with 128 internal units.\n",
    "model.add(layers.LSTM(1721))\n",
    "# Add a Dense layer with 10 units.\n",
    "#model.add(layers.Dense(1721))\n",
    "\n",
    "model.summary()\n"
   ]
  },
  {
   "cell_type": "code",
   "execution_count": 169,
   "metadata": {},
   "outputs": [],
   "source": [
    "model.compile(\n",
    "    loss=keras.losses.MeanSquaredError(reduction=\"auto\", name=\"mean_squared_error\"),\n",
    "    optimizer=\"adam\",\n",
    "    metrics=[\"accuracy\", 'mean_squared_error'],\n",
    ")"
   ]
  },
  {
   "cell_type": "code",
   "execution_count": 162,
   "metadata": {},
   "outputs": [
    {
     "name": "stdout",
     "output_type": "stream",
     "text": [
      "Epoch 1/10\n",
      "12/12 [==============================] - 0s 7ms/step - loss: 1.0070 - accuracy: 0.0013 - mean_squared_error: 1.0070\n",
      "Epoch 2/10\n",
      "12/12 [==============================] - 0s 6ms/step - loss: 1.0092 - accuracy: 0.0013 - mean_squared_error: 1.0092\n",
      "Epoch 3/10\n",
      "12/12 [==============================] - 0s 6ms/step - loss: 1.0049 - accuracy: 0.0013 - mean_squared_error: 1.0049\n",
      "Epoch 4/10\n",
      "12/12 [==============================] - 0s 6ms/step - loss: 1.0061 - accuracy: 0.0026 - mean_squared_error: 1.0061\n",
      "Epoch 5/10\n",
      "12/12 [==============================] - 0s 6ms/step - loss: 1.0002 - accuracy: 0.0039 - mean_squared_error: 1.0002\n",
      "Epoch 6/10\n",
      "12/12 [==============================] - 0s 6ms/step - loss: 1.0068 - accuracy: 0.0026 - mean_squared_error: 1.0068\n",
      "Epoch 7/10\n",
      "12/12 [==============================] - 0s 7ms/step - loss: 1.0067 - accuracy: 0.0026 - mean_squared_error: 1.0067\n",
      "Epoch 8/10\n",
      "12/12 [==============================] - 0s 7ms/step - loss: 1.0102 - accuracy: 0.0039 - mean_squared_error: 1.0102\n",
      "Epoch 9/10\n",
      "12/12 [==============================] - 0s 7ms/step - loss: 1.0041 - accuracy: 0.0039 - mean_squared_error: 1.0041\n",
      "Epoch 10/10\n",
      "12/12 [==============================] - 0s 7ms/step - loss: 1.0076 - accuracy: 0.0039 - mean_squared_error: 1.0076\n"
     ]
    },
    {
     "data": {
      "text/plain": [
       "<tensorflow.python.keras.callbacks.History at 0x2b6c2e8adac0>"
      ]
     },
     "execution_count": 162,
     "metadata": {},
     "output_type": "execute_result"
    }
   ],
   "source": [
    "model.fit(dataset,epochs = 10)"
   ]
  },
  {
   "cell_type": "code",
   "execution_count": 163,
   "metadata": {},
   "outputs": [
    {
     "data": {
      "text/plain": [
       "(198, 9)"
      ]
     },
     "execution_count": 163,
     "metadata": {},
     "output_type": "execute_result"
    }
   ],
   "source": [
    "x_test_path = '../data/char_test.npy'\n",
    "x_test = np.load(x_test_path)\n",
    "x_test.shape"
   ]
  },
  {
   "cell_type": "code",
   "execution_count": 164,
   "metadata": {},
   "outputs": [
    {
     "data": {
      "text/plain": [
       "(198, 1721)"
      ]
     },
     "execution_count": 164,
     "metadata": {},
     "output_type": "execute_result"
    }
   ],
   "source": [
    "y_test_path = '../data/brain_test.npy'\n",
    "y_test = np.load(y_test_path)\n",
    "#y_train = y_train[:,0:18]\n",
    "y_test.shape"
   ]
  },
  {
   "cell_type": "code",
   "execution_count": 165,
   "metadata": {},
   "outputs": [
    {
     "name": "stdout",
     "output_type": "stream",
     "text": [
      "7/7 [==============================] - 0s 4ms/step - loss: 0.9385 - accuracy: 0.0000e+00 - mean_squared_error: 0.9385\n"
     ]
    },
    {
     "data": {
      "text/plain": [
       "[0.938504695892334, 0.0, 0.938504695892334]"
      ]
     },
     "execution_count": 165,
     "metadata": {},
     "output_type": "execute_result"
    }
   ],
   "source": [
    "model.evaluate(x_test,y_test)"
   ]
  },
  {
   "cell_type": "code",
   "execution_count": null,
   "metadata": {},
   "outputs": [],
   "source": []
  },
  {
   "cell_type": "code",
   "execution_count": null,
   "metadata": {},
   "outputs": [],
   "source": []
  },
  {
   "cell_type": "code",
   "execution_count": null,
   "metadata": {},
   "outputs": [],
   "source": []
  }
 ],
 "metadata": {
  "kernelspec": {
   "display_name": "Python 3",
   "language": "python",
   "name": "python3"
  },
  "language_info": {
   "codemirror_mode": {
    "name": "ipython",
    "version": 3
   },
   "file_extension": ".py",
   "mimetype": "text/x-python",
   "name": "python",
   "nbconvert_exporter": "python",
   "pygments_lexer": "ipython3",
   "version": "3.8.5"
  }
 },
 "nbformat": 4,
 "nbformat_minor": 4
}
