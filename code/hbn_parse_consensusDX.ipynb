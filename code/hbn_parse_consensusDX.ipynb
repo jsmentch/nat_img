{
 "cells": [
  {
   "cell_type": "markdown",
   "id": "85a5bbb8-cd9c-4a01-9c0f-16d8c23e7009",
   "metadata": {
    "tags": []
   },
   "source": [
    "# notebook to parse the HBN dx csv into a 1 hot encoding of dx presence/absence"
   ]
  },
  {
   "cell_type": "code",
   "execution_count": 115,
   "id": "b1ed818b-8320-4457-9ffc-297c528a8e2f",
   "metadata": {},
   "outputs": [],
   "source": [
    "import numpy as np\n",
    "import pandas as pd\n",
    "import re\n",
    "import math"
   ]
  },
  {
   "cell_type": "code",
   "execution_count": 105,
   "id": "fdbcdfe7-9bbb-4f77-8edb-343701a8cdb4",
   "metadata": {},
   "outputs": [],
   "source": [
    "dx_file = '../sourcedata/data/HBN/phenotype/consensusDX_data-2021-06-01T18_41_14.276Z.csv'"
   ]
  },
  {
   "cell_type": "code",
   "execution_count": 106,
   "id": "1fa8c69d-8839-477b-a4ef-be336d66a623",
   "metadata": {},
   "outputs": [
    {
     "name": "stderr",
     "output_type": "stream",
     "text": [
      "<ipython-input-106-bc160a92d3d1>:1: ParserWarning: Falling back to the 'python' engine because the 'c' engine does not support skipfooter; you can avoid this warning by specifying engine='python'.\n",
      "  dx = pd.read_csv(dx_file,skipfooter=6)\n"
     ]
    }
   ],
   "source": [
    "dx = pd.read_csv(dx_file,skipfooter=6)\n",
    "dx.columns = ['id','c1','c2','c3','c4','c5','c6','c7','c8','c9','c10','c11']"
   ]
  },
  {
   "cell_type": "code",
   "execution_count": 107,
   "id": "bb4479c6-f970-42e1-bcb5-a5b42cad3ed4",
   "metadata": {},
   "outputs": [
    {
     "data": {
      "text/html": [
       "<div>\n",
       "<style scoped>\n",
       "    .dataframe tbody tr th:only-of-type {\n",
       "        vertical-align: middle;\n",
       "    }\n",
       "\n",
       "    .dataframe tbody tr th {\n",
       "        vertical-align: top;\n",
       "    }\n",
       "\n",
       "    .dataframe thead th {\n",
       "        text-align: right;\n",
       "    }\n",
       "</style>\n",
       "<table border=\"1\" class=\"dataframe\">\n",
       "  <thead>\n",
       "    <tr style=\"text-align: right;\">\n",
       "      <th></th>\n",
       "      <th>id</th>\n",
       "      <th>c1</th>\n",
       "      <th>c2</th>\n",
       "      <th>c3</th>\n",
       "      <th>c4</th>\n",
       "      <th>c5</th>\n",
       "      <th>c6</th>\n",
       "      <th>c7</th>\n",
       "      <th>c8</th>\n",
       "      <th>c9</th>\n",
       "      <th>c10</th>\n",
       "      <th>c11</th>\n",
       "    </tr>\n",
       "  </thead>\n",
       "  <tbody>\n",
       "    <tr>\n",
       "      <th>10</th>\n",
       "      <td>NDARAC904DMU,assessment</td>\n",
       "      <td>No Diagnosis Given</td>\n",
       "      <td>NaN</td>\n",
       "      <td>NaN</td>\n",
       "      <td>NaN</td>\n",
       "      <td>NaN</td>\n",
       "      <td>NaN</td>\n",
       "      <td>NaN</td>\n",
       "      <td>NaN</td>\n",
       "      <td>NaN</td>\n",
       "      <td>NaN</td>\n",
       "      <td>NaN</td>\n",
       "    </tr>\n",
       "    <tr>\n",
       "      <th>11</th>\n",
       "      <td>NDARAD123TUZ,assessment</td>\n",
       "      <td>ADHD-Combined Type</td>\n",
       "      <td>Autism Spectrum Disorder</td>\n",
       "      <td>Language Disorder</td>\n",
       "      <td>Separation Anxiety</td>\n",
       "      <td>Specific Phobia</td>\n",
       "      <td>Specific Phobia</td>\n",
       "      <td>Unspecified Intellectual Disability</td>\n",
       "      <td>Provisional Tic Disorder</td>\n",
       "      <td>NaN</td>\n",
       "      <td>NaN</td>\n",
       "      <td>NaN</td>\n",
       "    </tr>\n",
       "    <tr>\n",
       "      <th>12</th>\n",
       "      <td>NDARAD232HVV,assessment</td>\n",
       "      <td>Autism Spectrum Disorder</td>\n",
       "      <td>ADHD-Combined Type</td>\n",
       "      <td>Generalized Anxiety Disorder</td>\n",
       "      <td>Social Anxiety (Social Phobia)</td>\n",
       "      <td>Obsessive-Compulsive Disorder</td>\n",
       "      <td>Enuresis</td>\n",
       "      <td>Other Specified Schizophrenia Spectrum and Oth...</td>\n",
       "      <td>NaN</td>\n",
       "      <td>NaN</td>\n",
       "      <td>NaN</td>\n",
       "      <td>NaN</td>\n",
       "    </tr>\n",
       "    <tr>\n",
       "      <th>13</th>\n",
       "      <td>NDARAD481FXF,assessment</td>\n",
       "      <td>Major Depressive Disorder</td>\n",
       "      <td>NaN</td>\n",
       "      <td>NaN</td>\n",
       "      <td>NaN</td>\n",
       "      <td>NaN</td>\n",
       "      <td>NaN</td>\n",
       "      <td>NaN</td>\n",
       "      <td>NaN</td>\n",
       "      <td>NaN</td>\n",
       "      <td>NaN</td>\n",
       "      <td>NaN</td>\n",
       "    </tr>\n",
       "    <tr>\n",
       "      <th>14</th>\n",
       "      <td>NDARAD615WLJ,assessment</td>\n",
       "      <td>ADHD-Combined Type</td>\n",
       "      <td>Autism Spectrum Disorder</td>\n",
       "      <td>Specific Phobia</td>\n",
       "      <td>Specific Phobia</td>\n",
       "      <td>Enuresis</td>\n",
       "      <td>NaN</td>\n",
       "      <td>NaN</td>\n",
       "      <td>NaN</td>\n",
       "      <td>NaN</td>\n",
       "      <td>NaN</td>\n",
       "      <td>NaN</td>\n",
       "    </tr>\n",
       "  </tbody>\n",
       "</table>\n",
       "</div>"
      ],
      "text/plain": [
       "                         id                         c1  \\\n",
       "10  NDARAC904DMU,assessment         No Diagnosis Given   \n",
       "11  NDARAD123TUZ,assessment         ADHD-Combined Type   \n",
       "12  NDARAD232HVV,assessment   Autism Spectrum Disorder   \n",
       "13  NDARAD481FXF,assessment  Major Depressive Disorder   \n",
       "14  NDARAD615WLJ,assessment         ADHD-Combined Type   \n",
       "\n",
       "                          c2                            c3  \\\n",
       "10                       NaN                           NaN   \n",
       "11  Autism Spectrum Disorder             Language Disorder   \n",
       "12        ADHD-Combined Type  Generalized Anxiety Disorder   \n",
       "13                       NaN                           NaN   \n",
       "14  Autism Spectrum Disorder               Specific Phobia   \n",
       "\n",
       "                                c4                             c5  \\\n",
       "10                             NaN                            NaN   \n",
       "11              Separation Anxiety                Specific Phobia   \n",
       "12  Social Anxiety (Social Phobia)  Obsessive-Compulsive Disorder   \n",
       "13                             NaN                            NaN   \n",
       "14                 Specific Phobia                       Enuresis   \n",
       "\n",
       "                 c6                                                 c7  \\\n",
       "10              NaN                                                NaN   \n",
       "11  Specific Phobia                Unspecified Intellectual Disability   \n",
       "12         Enuresis  Other Specified Schizophrenia Spectrum and Oth...   \n",
       "13              NaN                                                NaN   \n",
       "14              NaN                                                NaN   \n",
       "\n",
       "                          c8   c9  c10  c11  \n",
       "10                       NaN  NaN  NaN  NaN  \n",
       "11  Provisional Tic Disorder  NaN  NaN  NaN  \n",
       "12                       NaN  NaN  NaN  NaN  \n",
       "13                       NaN  NaN  NaN  NaN  \n",
       "14                       NaN  NaN  NaN  NaN  "
      ]
     },
     "execution_count": 107,
     "metadata": {},
     "output_type": "execute_result"
    }
   ],
   "source": [
    "dx[10:15]"
   ]
  },
  {
   "cell_type": "code",
   "execution_count": 131,
   "id": "dc95161f-afc3-436b-b477-d272bcaa65b7",
   "metadata": {},
   "outputs": [],
   "source": [
    "sub_list = dx.id.tolist()\n",
    "sub_list = [elem[:12] for elem in sub_list]"
   ]
  },
  {
   "cell_type": "markdown",
   "id": "bc126e93-e80c-4b09-9898-17e3adb56f46",
   "metadata": {},
   "source": [
    "## get a list of all possible dx"
   ]
  },
  {
   "cell_type": "code",
   "execution_count": 108,
   "id": "20c404f4-442a-475c-9561-913a6c7d1406",
   "metadata": {},
   "outputs": [
    {
     "data": {
      "text/plain": [
       "['ADHD-Combined Type',\n",
       " 'ADHD-Hyperactive/Impulsive Type',\n",
       " 'ADHD-Inattentive Type',\n",
       " 'Acute Stress Disorder',\n",
       " 'Adjustment Disorders',\n",
       " 'Agoraphobia',\n",
       " 'Alcohol Use Disorder',\n",
       " 'Autism Spectrum Disorder',\n",
       " 'Avoidant/Restrictive Food Intake Disorder',\n",
       " 'Binge-Eating Disorder']"
      ]
     },
     "execution_count": 108,
     "metadata": {},
     "output_type": "execute_result"
    }
   ],
   "source": [
    "all_dx = []\n",
    "for i,column in enumerate(dx):\n",
    "    if i==0:\n",
    "        continue\n",
    "    all_dx.append(dx[column].tolist())\n",
    "all_dx = [item for sublist in all_dx for item in sublist]\n",
    "all_dx = np.unique(np.array(all_dx))\n",
    "all_dx = all_dx[1:-1]\n",
    "all_dx = all_dx.tolist()\n",
    "all_dx[0:10]"
   ]
  },
  {
   "cell_type": "code",
   "execution_count": 109,
   "id": "84ef74df-cb2b-4eb7-9f81-83c25abf8c8a",
   "metadata": {},
   "outputs": [
    {
     "data": {
      "text/plain": [
       "78"
      ]
     },
     "execution_count": 109,
     "metadata": {},
     "output_type": "execute_result"
    }
   ],
   "source": [
    "all_dx.index('Unspecified Neurodevelopmental Disorder')"
   ]
  },
  {
   "cell_type": "code",
   "execution_count": 110,
   "id": "dd253c29-02f4-4556-88a9-281961e7492d",
   "metadata": {},
   "outputs": [],
   "source": [
    "#subject by dx array\n",
    "dx_array = np.zeros( (dx.shape[0],len(all_dx) ))"
   ]
  },
  {
   "cell_type": "code",
   "execution_count": 122,
   "id": "6974575c-c27f-4979-99bf-64b6006a3a25",
   "metadata": {},
   "outputs": [],
   "source": [
    "#LOOP THROUGH columns\n",
    "for i,column in enumerate(dx):\n",
    "    if i==0:\n",
    "        continue\n",
    "    for ii,d in enumerate(dx[column]):\n",
    "        #print(i,ii,d)\n",
    "        if not isinstance(d, str):\n",
    "            if math.isnan(d):\n",
    "                continue\n",
    "        if not bool(re.match(d,' ')):\n",
    "            dx_array[ii,all_dx.index(d)]=1"
   ]
  },
  {
   "cell_type": "code",
   "execution_count": 126,
   "id": "5a6d49ee-96db-483c-8bc5-2d698d7dff89",
   "metadata": {},
   "outputs": [
    {
     "data": {
      "text/plain": [
       "array([1., 0., 0., 0., 0., 0., 0., 1., 0., 0., 0., 0., 0., 0., 0., 0., 0.,\n",
       "       0., 0., 0., 0., 0., 0., 0., 0., 0., 0., 0., 0., 0., 1., 0., 0., 0.,\n",
       "       0., 0., 0., 0., 0., 0., 0., 0., 0., 0., 0., 0., 0., 0., 0., 0., 0.,\n",
       "       0., 0., 0., 0., 0., 1., 0., 0., 0., 1., 0., 0., 0., 0., 0., 0., 0.,\n",
       "       1., 0., 0., 0., 0., 0., 0., 0., 0., 1., 0., 0.])"
      ]
     },
     "execution_count": 126,
     "metadata": {},
     "output_type": "execute_result"
    }
   ],
   "source": [
    "dx_array"
   ]
  },
  {
   "cell_type": "code",
   "execution_count": 133,
   "id": "c58c9ec9-4135-4dba-98c6-0a6cbe0265da",
   "metadata": {},
   "outputs": [],
   "source": [
    "np.save('../sourcedata/data/HBN/phenotype/parsed/dx_list.npy',all_dx)\n",
    "np.save('../sourcedata/data/HBN/phenotype/parsed/sub_list.npy',sub_list)\n",
    "np.save('../sourcedata/data/HBN/phenotype/parsed/dx_onehot.npy',dx_array)"
   ]
  },
  {
   "cell_type": "code",
   "execution_count": null,
   "id": "80384f4f-9bd9-48fb-a19d-ec674b5470f4",
   "metadata": {},
   "outputs": [],
   "source": []
  }
 ],
 "metadata": {
  "kernelspec": {
   "display_name": "Python 3",
   "language": "python",
   "name": "python3"
  },
  "language_info": {
   "codemirror_mode": {
    "name": "ipython",
    "version": 3
   },
   "file_extension": ".py",
   "mimetype": "text/x-python",
   "name": "python",
   "nbconvert_exporter": "python",
   "pygments_lexer": "ipython3",
   "version": "3.8.5"
  }
 },
 "nbformat": 4,
 "nbformat_minor": 5
}
