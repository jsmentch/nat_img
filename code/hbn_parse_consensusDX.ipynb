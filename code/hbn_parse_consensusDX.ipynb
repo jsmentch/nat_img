{
 "cells": [
  {
   "cell_type": "markdown",
   "id": "85a5bbb8-cd9c-4a01-9c0f-16d8c23e7009",
   "metadata": {
    "tags": []
   },
   "source": [
    "# notebook to parse the HBN dx csv into a 1 hot encoding of dx presence/absence"
   ]
  },
  {
   "cell_type": "code",
   "execution_count": 1,
   "id": "b1ed818b-8320-4457-9ffc-297c528a8e2f",
   "metadata": {},
   "outputs": [],
   "source": [
    "import numpy as np\n",
    "import pandas as pd\n",
    "import re\n",
    "import math\n",
    "from matplotlib import pyplot as plt"
   ]
  },
  {
   "cell_type": "code",
   "execution_count": null,
   "id": "fdbcdfe7-9bbb-4f77-8edb-343701a8cdb4",
   "metadata": {},
   "outputs": [],
   "source": [
    "#dx_file = '../sourcedata/data/HBN/phenotype/consensusDX_data-2021-06-01T18_41_14.276Z.csv'\n",
    "dx_file = '../sourcedata/data/HBN/phenotype/Diagnosis_ClinicianConsensus_data-2021-07-28T01_17_37.720Z.csv'"
   ]
  },
  {
   "cell_type": "code",
   "execution_count": null,
   "id": "1fa8c69d-8839-477b-a4ef-be336d66a623",
   "metadata": {},
   "outputs": [],
   "source": [
    "#dx = pd.read_csv(dx_file,skipfooter=6)\n",
    "dx = pd.read_csv(dx_file)\n",
    "\n",
    "dx.columns = ['id','c1','c2','c3','c4','c5','c6','c7','c8','c9','c10']"
   ]
  },
  {
   "cell_type": "code",
   "execution_count": null,
   "id": "bb4479c6-f970-42e1-bcb5-a5b42cad3ed4",
   "metadata": {},
   "outputs": [],
   "source": [
    "dx[-5:]"
   ]
  },
  {
   "cell_type": "code",
   "execution_count": null,
   "id": "dc95161f-afc3-436b-b477-d272bcaa65b7",
   "metadata": {},
   "outputs": [],
   "source": [
    "sub_list = dx.id.tolist()\n",
    "sub_list = [elem[:12] for elem in sub_list]"
   ]
  },
  {
   "cell_type": "code",
   "execution_count": null,
   "id": "f1b9b042-905b-406d-8131-bd79685f2ecb",
   "metadata": {},
   "outputs": [],
   "source": [
    "len(sub_list)"
   ]
  },
  {
   "cell_type": "markdown",
   "id": "bc126e93-e80c-4b09-9898-17e3adb56f46",
   "metadata": {},
   "source": [
    "## get a list of all possible dx"
   ]
  },
  {
   "cell_type": "code",
   "execution_count": null,
   "id": "20c404f4-442a-475c-9561-913a6c7d1406",
   "metadata": {},
   "outputs": [],
   "source": [
    "all_dx = []\n",
    "for i,column in enumerate(dx):\n",
    "    if i==0:\n",
    "        continue\n",
    "    all_dx.append(dx[column].tolist())\n",
    "all_dx = [item for sublist in all_dx for item in sublist]\n",
    "all_dx = np.unique(np.array(all_dx))\n",
    "all_dx = all_dx[1:-1]\n",
    "all_dx = all_dx.tolist()\n",
    "all_dx[0:10]"
   ]
  },
  {
   "cell_type": "code",
   "execution_count": null,
   "id": "84ef74df-cb2b-4eb7-9f81-83c25abf8c8a",
   "metadata": {},
   "outputs": [],
   "source": [
    "all_dx.index('Unspecified Neurodevelopmental Disorder')"
   ]
  },
  {
   "cell_type": "code",
   "execution_count": null,
   "id": "dd253c29-02f4-4556-88a9-281961e7492d",
   "metadata": {},
   "outputs": [],
   "source": [
    "#subject by dx array\n",
    "dx_array = np.zeros( (dx.shape[0],len(all_dx) ))"
   ]
  },
  {
   "cell_type": "code",
   "execution_count": null,
   "id": "6974575c-c27f-4979-99bf-64b6006a3a25",
   "metadata": {},
   "outputs": [],
   "source": [
    "#LOOP THROUGH columns\n",
    "for i,column in enumerate(dx):\n",
    "    if i==0:\n",
    "        continue\n",
    "    for ii,d in enumerate(dx[column]):\n",
    "        #print(i,ii,d)\n",
    "        if not isinstance(d, str):\n",
    "            if math.isnan(d):\n",
    "                continue\n",
    "        if not bool(re.match(d,' ')):\n",
    "            dx_array[ii,all_dx.index(d)]=1"
   ]
  },
  {
   "cell_type": "code",
   "execution_count": null,
   "id": "5a6d49ee-96db-483c-8bc5-2d698d7dff89",
   "metadata": {},
   "outputs": [],
   "source": [
    "dx_array"
   ]
  },
  {
   "cell_type": "code",
   "execution_count": null,
   "id": "c58c9ec9-4135-4dba-98c6-0a6cbe0265da",
   "metadata": {},
   "outputs": [],
   "source": [
    "np.save('../sourcedata/data/HBN/phenotype/parsed/dx_list.npy',all_dx)\n",
    "np.save('../sourcedata/data/HBN/phenotype/parsed/sub_list.npy',sub_list)\n",
    "np.save('../sourcedata/data/HBN/phenotype/parsed/dx_onehot.npy',dx_array)"
   ]
  },
  {
   "cell_type": "code",
   "execution_count": null,
   "id": "0d156526-a448-4611-a163-c099941cd12f",
   "metadata": {},
   "outputs": [],
   "source": [
    "dx_df = pd.DataFrame(dx_array)\n",
    "dx_df.columns = all_dx\n",
    "dx_df"
   ]
  },
  {
   "cell_type": "code",
   "execution_count": null,
   "id": "82e79168-984c-4283-ae4f-dc75fc812927",
   "metadata": {},
   "outputs": [],
   "source": [
    "dx_df.to_pickle('../sourcedata/data/HBN/phenotype/parsed/dx_onehot_df.pkl')\n",
    "#unpickled_df = pd.read_pickle(\"./dummy.pkl\")"
   ]
  },
  {
   "cell_type": "code",
   "execution_count": null,
   "id": "80384f4f-9bd9-48fb-a19d-ec674b5470f4",
   "metadata": {},
   "outputs": [],
   "source": [
    "import umap\n",
    "reducer = umap.UMAP()\n",
    "embedding = reducer.fit_transform(dx_array)\n"
   ]
  },
  {
   "cell_type": "code",
   "execution_count": null,
   "id": "4e4119e5-2292-4fd5-990a-0139fe5fdac5",
   "metadata": {},
   "outputs": [],
   "source": [
    "embedding.shape"
   ]
  },
  {
   "cell_type": "code",
   "execution_count": null,
   "id": "3fccb9c5-b5d7-430b-a704-ceff65213fca",
   "metadata": {},
   "outputs": [],
   "source": [
    "from matplotlib import pyplot as plt"
   ]
  },
  {
   "cell_type": "code",
   "execution_count": null,
   "id": "cedb3da6-83a2-4caa-ac7c-7d4a89d20d5f",
   "metadata": {},
   "outputs": [],
   "source": [
    "plt.scatter(embedding[:,0],embedding[:,1])"
   ]
  },
  {
   "cell_type": "code",
   "execution_count": null,
   "id": "893ed5b7-27bf-4255-9538-179afc86bb6c",
   "metadata": {},
   "outputs": [],
   "source": []
  },
  {
   "cell_type": "code",
   "execution_count": null,
   "id": "334d0afa-080d-4f3a-bd66-848d0f1afbef",
   "metadata": {},
   "outputs": [],
   "source": []
  },
  {
   "cell_type": "code",
   "execution_count": null,
   "id": "fb77cb9d-3719-404c-95ef-879186d5a1ab",
   "metadata": {},
   "outputs": [],
   "source": [
    "dx_df = pd.read_pickle('../sourcedata/data/HBN/phenotype/parsed/dx_onehot_df.pkl')"
   ]
  },
  {
   "cell_type": "code",
   "execution_count": null,
   "id": "81f8631e-35f3-450f-9847-b9484b87dfde",
   "metadata": {},
   "outputs": [],
   "source": [
    "\n",
    "print('32 participants with ONLY language disorder:')\n",
    "#dx_df.loc[ (dx_df['Language Disorder'] == 1) & (dx_df.drop('Language Disorder',axis=1).eq(0).all(1)) ]"
   ]
  },
  {
   "cell_type": "code",
   "execution_count": null,
   "id": "a720c53e-517e-42b3-86eb-60dd7c7efb52",
   "metadata": {},
   "outputs": [],
   "source": [
    "dx_sum_lang = dx_df.loc[dx_df['Language Disorder'] == 1].sum()\n",
    "print('comorbid w/langauge disorder:')\n",
    "print(dx_sum_lang.to_string())"
   ]
  },
  {
   "cell_type": "code",
   "execution_count": null,
   "id": "9c631836-2f75-47e1-bc0b-9d3d422a6939",
   "metadata": {},
   "outputs": [],
   "source": [
    "dx_sum = dx_df.sum()"
   ]
  },
  {
   "cell_type": "code",
   "execution_count": null,
   "id": "6b8b9cbe-4f72-461d-8ca9-94637a43135c",
   "metadata": {},
   "outputs": [],
   "source": [
    "print(dx_sum.to_string())"
   ]
  },
  {
   "cell_type": "code",
   "execution_count": null,
   "id": "b7618d49-9b49-489f-ac08-75c0f5d9cc6b",
   "metadata": {},
   "outputs": [],
   "source": [
    "dx_name_list = []\n",
    "dx_val_list = []\n",
    "for i,n in enumerate(dx_sum):\n",
    "    if n>0:\n",
    "        dx_name_list.append(dx_sum.index[i])\n",
    "        dx_val_list.append(n)"
   ]
  },
  {
   "cell_type": "code",
   "execution_count": null,
   "id": "ab75d6d9-6b42-43ec-9cb6-5651a3cc2f83",
   "metadata": {},
   "outputs": [],
   "source": [
    "dx_val_list"
   ]
  },
  {
   "cell_type": "code",
   "execution_count": null,
   "id": "2bf79a02-16d5-42e4-97be-dc02bcf34c79",
   "metadata": {},
   "outputs": [],
   "source": [
    "x=np.arange(len(dx_val_list))"
   ]
  },
  {
   "cell_type": "code",
   "execution_count": null,
   "id": "2f7a478d-c31c-4da7-bab4-b9fa81fdf188",
   "metadata": {},
   "outputs": [],
   "source": [
    "plt.figure(figsize=(10, 10),facecolor='white')\n",
    "plt.xlabel('dx count')\n",
    "\n",
    "plt.barh(x,dx_val_list,tick_label=dx_name_list)\n",
    "plt.title('HBN ConsensusDx n > 10')"
   ]
  },
  {
   "cell_type": "code",
   "execution_count": null,
   "id": "9e0a6ec9-8935-462c-8f03-71e415ed9d32",
   "metadata": {},
   "outputs": [],
   "source": [
    "plt.figure(figsize=(20, 10),facecolor='white')\n",
    "plt.ylabel('dx count')\n",
    "\n",
    "plt.bar(x,dx_val_list,tick_label=dx_name_list)\n",
    "plt.title('HBN ConsensusDx ALL')\n",
    "plt.xticks(rotation=90)"
   ]
  },
  {
   "cell_type": "markdown",
   "id": "aa24f0d0-4041-480c-88d6-ac65b34eead0",
   "metadata": {},
   "source": [
    "## parse basic demographics"
   ]
  },
  {
   "cell_type": "code",
   "execution_count": 21,
   "id": "7027f2e9-7612-4aed-8cf2-daa854d1b0cd",
   "metadata": {},
   "outputs": [],
   "source": [
    "#dx_file = '../sourcedata/data/HBN/phenotype/consensusDX_data-2021-06-01T18_41_14.276Z.csv'\n",
    "basic_demos_file = '../sourcedata/data/HBN/phenotype/basic_demos.csv'"
   ]
  },
  {
   "cell_type": "code",
   "execution_count": 22,
   "id": "8b783881-c7e1-4ac9-a3b8-09e2aa2f9319",
   "metadata": {},
   "outputs": [],
   "source": [
    "#dx = pd.read_csv(dx_file,skipfooter=6)\n",
    "df_basic_demos = pd.read_csv(basic_demos_file)\n",
    "\n",
    "#df_basic_demos.columns = ['id','c1','c2','c3','c4','c5','c6','c7','c8','c9','c10']"
   ]
  },
  {
   "cell_type": "code",
   "execution_count": null,
   "id": "675502cd-366a-42fb-a383-982aa9deb6f7",
   "metadata": {},
   "outputs": [],
   "source": [
    "df_basic_demos"
   ]
  },
  {
   "cell_type": "code",
   "execution_count": 25,
   "id": "eb20259e-2775-41af-9527-69a905ec6912",
   "metadata": {},
   "outputs": [],
   "source": [
    "sub_age_list = df_basic_demos.Identifiers.tolist()"
   ]
  },
  {
   "cell_type": "code",
   "execution_count": 26,
   "id": "d6e7792f-b5fd-4a46-aeb3-cebad25cde58",
   "metadata": {},
   "outputs": [],
   "source": [
    "sub_age = df_basic_demos.Age.tolist()"
   ]
  },
  {
   "cell_type": "code",
   "execution_count": 27,
   "id": "bfb591a4-9b20-47da-92d3-7468d92ce8cb",
   "metadata": {},
   "outputs": [],
   "source": [
    "np.save('../sourcedata/data/HBN/phenotype/parsed/sub_age_list.npy',sub_age_list)\n",
    "np.save('../sourcedata/data/HBN/phenotype/parsed/sub_age.npy',sub_age)"
   ]
  },
  {
   "cell_type": "code",
   "execution_count": null,
   "id": "de6f9589-6845-4fc8-9e72-2481c54143e0",
   "metadata": {},
   "outputs": [],
   "source": []
  }
 ],
 "metadata": {
  "kernelspec": {
   "display_name": "Python 3 (ipykernel)",
   "language": "python",
   "name": "python3"
  },
  "language_info": {
   "codemirror_mode": {
    "name": "ipython",
    "version": 3
   },
   "file_extension": ".py",
   "mimetype": "text/x-python",
   "name": "python",
   "nbconvert_exporter": "python",
   "pygments_lexer": "ipython3",
   "version": "3.9.13"
  }
 },
 "nbformat": 4,
 "nbformat_minor": 5
}
