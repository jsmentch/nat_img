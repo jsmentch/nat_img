{
 "cells": [
  {
   "cell_type": "markdown",
   "metadata": {},
   "source": [
    "# Notebook to remove confounds from a cifti image and apply LPF"
   ]
  },
  {
   "cell_type": "markdown",
   "metadata": {},
   "source": [
    "There seem to be 2 functions for removing confounds, filtering, etc:\n",
    "\n",
    "- https://nilearn.github.io/modules/generated/nilearn.image.clean_img.html\n",
    "- https://nilearn.github.io/modules/generated/nilearn.signal.clean.html\n",
    "\n",
    "Here I will apply clean_img to the cifti data"
   ]
  },
  {
   "cell_type": "code",
   "execution_count": 1,
   "metadata": {},
   "outputs": [],
   "source": [
    "import numpy as np\n",
    "from scipy import signal\n",
    "import pandas as pd\n",
    "\n",
    "import matplotlib as mpl\n",
    "import matplotlib.pyplot as plt\n",
    "import seaborn as sns\n",
    "sns.set(\"paper\", \"white\")\n",
    "\n",
    "from nilearn.image import load_img\n",
    "from nilearn.image import clean_img\n",
    "from nilearn.image import smooth_img\n",
    "from nilearn.image import index_img\n",
    "from nilearn.signal import clean\n",
    "from os import walk\n",
    "\n",
    "from utility import var_to_nan\n",
    "from pathlib import Path\n",
    "\n",
    "\n",
    "import nibabel as nib\n",
    "from nibabel import cifti2\n",
    "%matplotlib inline"
   ]
  },
  {
   "cell_type": "markdown",
   "metadata": {},
   "source": [
    "## Load a sub whole brain data"
   ]
  },
  {
   "cell_type": "code",
   "execution_count": null,
   "metadata": {},
   "outputs": [],
   "source": []
  },
  {
   "cell_type": "code",
   "execution_count": 2,
   "metadata": {},
   "outputs": [
    {
     "ename": "ValueError",
     "evalue": "array must not contain infs or NaNs",
     "output_type": "error",
     "traceback": [
      "\u001b[0;31m---------------------------------------------------------------------------\u001b[0m",
      "\u001b[0;31mValueError\u001b[0m                                Traceback (most recent call last)",
      "\u001b[0;32m<ipython-input-2-20b7b3cb42ff>\u001b[0m in \u001b[0;36m<module>\u001b[0;34m\u001b[0m\n\u001b[1;32m     12\u001b[0m \u001b[0;34m\u001b[0m\u001b[0m\n\u001b[1;32m     13\u001b[0m \u001b[0;31m#func_cln = clean_img(func,detrend=True,confounds=confounds,low_pass=0.1,t_r=1.5)\u001b[0m\u001b[0;34m\u001b[0m\u001b[0;34m\u001b[0m\u001b[0;34m\u001b[0m\u001b[0m\n\u001b[0;32m---> 14\u001b[0;31m \u001b[0mfunc_data_clean\u001b[0m \u001b[0;34m=\u001b[0m \u001b[0mclean\u001b[0m\u001b[0;34m(\u001b[0m\u001b[0mfunc_data\u001b[0m\u001b[0;34m,\u001b[0m\u001b[0mdetrend\u001b[0m\u001b[0;34m=\u001b[0m\u001b[0;32mTrue\u001b[0m\u001b[0;34m,\u001b[0m\u001b[0mstandardize\u001b[0m\u001b[0;34m=\u001b[0m\u001b[0;34m'zscore'\u001b[0m\u001b[0;34m,\u001b[0m\u001b[0mconfounds\u001b[0m\u001b[0;34m=\u001b[0m\u001b[0mconfounds\u001b[0m\u001b[0;34m,\u001b[0m\u001b[0mlow_pass\u001b[0m\u001b[0;34m=\u001b[0m\u001b[0;36m0.1\u001b[0m\u001b[0;34m,\u001b[0m\u001b[0mt_r\u001b[0m\u001b[0;34m=\u001b[0m\u001b[0;36m1\u001b[0m\u001b[0;34m)\u001b[0m\u001b[0;34m\u001b[0m\u001b[0;34m\u001b[0m\u001b[0m\n\u001b[0m\u001b[1;32m     15\u001b[0m \u001b[0mfunc_cln\u001b[0m \u001b[0;34m=\u001b[0m \u001b[0mnib\u001b[0m\u001b[0;34m.\u001b[0m\u001b[0mCifti2Image\u001b[0m\u001b[0;34m(\u001b[0m\u001b[0mfunc_data_clean\u001b[0m\u001b[0;34m,\u001b[0m \u001b[0mbrainimg\u001b[0m\u001b[0;34m.\u001b[0m\u001b[0mheader\u001b[0m\u001b[0;34m)\u001b[0m\u001b[0;34m\u001b[0m\u001b[0;34m\u001b[0m\u001b[0m\n",
      "\u001b[0;32m/opt/miniconda-latest/lib/python3.8/site-packages/nilearn/signal.py\u001b[0m in \u001b[0;36mclean\u001b[0;34m(signals, sessions, detrend, standardize, confounds, standardize_confounds, low_pass, high_pass, t_r, ensure_finite)\u001b[0m\n\u001b[1;32m    620\u001b[0m \u001b[0;34m\u001b[0m\u001b[0m\n\u001b[1;32m    621\u001b[0m         \u001b[0;31m# Pivoting in qr decomposition was added in scipy 0.10\u001b[0m\u001b[0;34m\u001b[0m\u001b[0;34m\u001b[0m\u001b[0;34m\u001b[0m\u001b[0m\n\u001b[0;32m--> 622\u001b[0;31m         \u001b[0mQ\u001b[0m\u001b[0;34m,\u001b[0m \u001b[0mR\u001b[0m\u001b[0;34m,\u001b[0m \u001b[0m_\u001b[0m \u001b[0;34m=\u001b[0m \u001b[0mlinalg\u001b[0m\u001b[0;34m.\u001b[0m\u001b[0mqr\u001b[0m\u001b[0;34m(\u001b[0m\u001b[0mconfounds\u001b[0m\u001b[0;34m,\u001b[0m \u001b[0mmode\u001b[0m\u001b[0;34m=\u001b[0m\u001b[0;34m'economic'\u001b[0m\u001b[0;34m,\u001b[0m \u001b[0mpivoting\u001b[0m\u001b[0;34m=\u001b[0m\u001b[0;32mTrue\u001b[0m\u001b[0;34m)\u001b[0m\u001b[0;34m\u001b[0m\u001b[0;34m\u001b[0m\u001b[0m\n\u001b[0m\u001b[1;32m    623\u001b[0m         \u001b[0mQ\u001b[0m \u001b[0;34m=\u001b[0m \u001b[0mQ\u001b[0m\u001b[0;34m[\u001b[0m\u001b[0;34m:\u001b[0m\u001b[0;34m,\u001b[0m \u001b[0mnp\u001b[0m\u001b[0;34m.\u001b[0m\u001b[0mabs\u001b[0m\u001b[0;34m(\u001b[0m\u001b[0mnp\u001b[0m\u001b[0;34m.\u001b[0m\u001b[0mdiag\u001b[0m\u001b[0;34m(\u001b[0m\u001b[0mR\u001b[0m\u001b[0;34m)\u001b[0m\u001b[0;34m)\u001b[0m \u001b[0;34m>\u001b[0m \u001b[0mnp\u001b[0m\u001b[0;34m.\u001b[0m\u001b[0mfinfo\u001b[0m\u001b[0;34m(\u001b[0m\u001b[0mnp\u001b[0m\u001b[0;34m.\u001b[0m\u001b[0mfloat\u001b[0m\u001b[0;34m)\u001b[0m\u001b[0;34m.\u001b[0m\u001b[0meps\u001b[0m \u001b[0;34m*\u001b[0m \u001b[0;36m100.\u001b[0m\u001b[0;34m]\u001b[0m\u001b[0;34m\u001b[0m\u001b[0;34m\u001b[0m\u001b[0m\n\u001b[1;32m    624\u001b[0m         \u001b[0msignals\u001b[0m \u001b[0;34m-=\u001b[0m \u001b[0mQ\u001b[0m\u001b[0;34m.\u001b[0m\u001b[0mdot\u001b[0m\u001b[0;34m(\u001b[0m\u001b[0mQ\u001b[0m\u001b[0;34m.\u001b[0m\u001b[0mT\u001b[0m\u001b[0;34m)\u001b[0m\u001b[0;34m.\u001b[0m\u001b[0mdot\u001b[0m\u001b[0;34m(\u001b[0m\u001b[0msignals\u001b[0m\u001b[0;34m)\u001b[0m\u001b[0;34m\u001b[0m\u001b[0;34m\u001b[0m\u001b[0m\n",
      "\u001b[0;32m/opt/miniconda-latest/lib/python3.8/site-packages/scipy/linalg/decomp_qr.py\u001b[0m in \u001b[0;36mqr\u001b[0;34m(a, overwrite_a, lwork, mode, pivoting, check_finite)\u001b[0m\n\u001b[1;32m    124\u001b[0m \u001b[0;34m\u001b[0m\u001b[0m\n\u001b[1;32m    125\u001b[0m     \u001b[0;32mif\u001b[0m \u001b[0mcheck_finite\u001b[0m\u001b[0;34m:\u001b[0m\u001b[0;34m\u001b[0m\u001b[0;34m\u001b[0m\u001b[0m\n\u001b[0;32m--> 126\u001b[0;31m         \u001b[0ma1\u001b[0m \u001b[0;34m=\u001b[0m \u001b[0mnumpy\u001b[0m\u001b[0;34m.\u001b[0m\u001b[0masarray_chkfinite\u001b[0m\u001b[0;34m(\u001b[0m\u001b[0ma\u001b[0m\u001b[0;34m)\u001b[0m\u001b[0;34m\u001b[0m\u001b[0;34m\u001b[0m\u001b[0m\n\u001b[0m\u001b[1;32m    127\u001b[0m     \u001b[0;32melse\u001b[0m\u001b[0;34m:\u001b[0m\u001b[0;34m\u001b[0m\u001b[0;34m\u001b[0m\u001b[0m\n\u001b[1;32m    128\u001b[0m         \u001b[0ma1\u001b[0m \u001b[0;34m=\u001b[0m \u001b[0mnumpy\u001b[0m\u001b[0;34m.\u001b[0m\u001b[0masarray\u001b[0m\u001b[0;34m(\u001b[0m\u001b[0ma\u001b[0m\u001b[0;34m)\u001b[0m\u001b[0;34m\u001b[0m\u001b[0;34m\u001b[0m\u001b[0m\n",
      "\u001b[0;32m/opt/miniconda-latest/lib/python3.8/site-packages/numpy/lib/function_base.py\u001b[0m in \u001b[0;36masarray_chkfinite\u001b[0;34m(a, dtype, order)\u001b[0m\n\u001b[1;32m    483\u001b[0m     \u001b[0ma\u001b[0m \u001b[0;34m=\u001b[0m \u001b[0masarray\u001b[0m\u001b[0;34m(\u001b[0m\u001b[0ma\u001b[0m\u001b[0;34m,\u001b[0m \u001b[0mdtype\u001b[0m\u001b[0;34m=\u001b[0m\u001b[0mdtype\u001b[0m\u001b[0;34m,\u001b[0m \u001b[0morder\u001b[0m\u001b[0;34m=\u001b[0m\u001b[0morder\u001b[0m\u001b[0;34m)\u001b[0m\u001b[0;34m\u001b[0m\u001b[0;34m\u001b[0m\u001b[0m\n\u001b[1;32m    484\u001b[0m     \u001b[0;32mif\u001b[0m \u001b[0ma\u001b[0m\u001b[0;34m.\u001b[0m\u001b[0mdtype\u001b[0m\u001b[0;34m.\u001b[0m\u001b[0mchar\u001b[0m \u001b[0;32min\u001b[0m \u001b[0mtypecodes\u001b[0m\u001b[0;34m[\u001b[0m\u001b[0;34m'AllFloat'\u001b[0m\u001b[0;34m]\u001b[0m \u001b[0;32mand\u001b[0m \u001b[0;32mnot\u001b[0m \u001b[0mnp\u001b[0m\u001b[0;34m.\u001b[0m\u001b[0misfinite\u001b[0m\u001b[0;34m(\u001b[0m\u001b[0ma\u001b[0m\u001b[0;34m)\u001b[0m\u001b[0;34m.\u001b[0m\u001b[0mall\u001b[0m\u001b[0;34m(\u001b[0m\u001b[0;34m)\u001b[0m\u001b[0;34m:\u001b[0m\u001b[0;34m\u001b[0m\u001b[0;34m\u001b[0m\u001b[0m\n\u001b[0;32m--> 485\u001b[0;31m         raise ValueError(\n\u001b[0m\u001b[1;32m    486\u001b[0m             \"array must not contain infs or NaNs\")\n\u001b[1;32m    487\u001b[0m     \u001b[0;32mreturn\u001b[0m \u001b[0ma\u001b[0m\u001b[0;34m\u001b[0m\u001b[0;34m\u001b[0m\u001b[0m\n",
      "\u001b[0;31mValueError\u001b[0m: array must not contain infs or NaNs"
     ]
    }
   ],
   "source": [
    "brainpath='/om2/user/jsmentch/projects/nat_img/sourcedata/data/budapest/brain/sub-sid000007_task-movie_run-1_space-fsLR_den-91k_bold.dtseries.nii'\n",
    "brainimg = load_img(brainpath) # load func img\n",
    "\n",
    "confound_path = '/om2/user/jsmentch/projects/nat_img/sourcedata/data/budapest/brain/sub-sid000007_task-movie_run-1_desc-confounds_timeseries.tsv'\n",
    "\n",
    "data = pd.read_csv(confound_path, sep='\\t')\n",
    "#confounds=data[['global_signal', 'csf', 'white_matter','rot_x','rot_y','rot_z','trans_x','trans_y','trans_z']].to_numpy()\n",
    "confounds=data[['global_signal', 'csf', 'white_matter', 'framewise_displacement', 'a_comp_cor_00', 'a_comp_cor_01', 'a_comp_cor_02', 'a_comp_cor_03', 'a_comp_cor_04', 'a_comp_cor_05', 'rot_x','rot_y','rot_z','trans_x','trans_y','trans_z']].to_numpy()\n",
    "\n",
    "func_data=np.array(brainimg.dataobj)\n",
    "func_data = var_to_nan(func_data,0.5)\n",
    "\n",
    "#func_cln = clean_img(func,detrend=True,confounds=confounds,low_pass=0.1,t_r=1.5)\n",
    "func_data_clean = clean(func_data,detrend=True,standardize='zscore',confounds=confounds,low_pass=0.1,t_r=1)\n",
    "func_cln = nib.Cifti2Image(func_data_clean, brainimg.header)"
   ]
  },
  {
   "cell_type": "code",
   "execution_count": null,
   "metadata": {},
   "outputs": [],
   "source": [
    "#export\n",
    "func_cln.to_filename(export_path+sub+'_clean_task-MerlinMovie_space-fsLR_den-91k_bold.dtseries.nii')"
   ]
  },
  {
   "cell_type": "markdown",
   "metadata": {},
   "source": [
    "## Do the same for all budapest subjects"
   ]
  },
  {
   "cell_type": "code",
   "execution_count": 3,
   "metadata": {},
   "outputs": [],
   "source": [
    "# list all budapest subjects\n",
    "scratch_fmriprep = '/nobackup/scratch/Mon/jsmentch/nat_img/sourcedata/data/budapest/brain/ds003017/derivatives/fmriprep/'\n",
    "subject_list = list(walk(scratch_fmriprep))[0][1]\n",
    "subject_list.remove('logs')\n",
    "subject_list.remove('derivatives')"
   ]
  },
  {
   "cell_type": "code",
   "execution_count": 20,
   "metadata": {},
   "outputs": [],
   "source": [
    "#export subject list to a text file\n",
    "textfile = open(\"budapest_subjects.txt\", \"w\")\n",
    "for element in subject_list:\n",
    "    textfile.write(element + \"\\n\")\n",
    "textfile.close()"
   ]
  },
  {
   "cell_type": "code",
   "execution_count": 20,
   "metadata": {},
   "outputs": [
    {
     "name": "stdout",
     "output_type": "stream",
     "text": [
      "running sub-sid000029\n",
      "running sub-sid000029\n",
      "running sub-sid000029\n",
      "running sub-sid000029\n",
      "running sub-sid000029\n",
      "running sub-sid000020\n",
      "running sub-sid000020\n",
      "running sub-sid000020\n",
      "running sub-sid000020\n",
      "running sub-sid000020\n",
      "running sub-sid000034\n",
      "running sub-sid000034\n",
      "running sub-sid000034\n",
      "running sub-sid000034\n",
      "running sub-sid000034\n",
      "running sub-sid000560\n",
      "running sub-sid000560\n",
      "running sub-sid000560\n",
      "running sub-sid000560\n",
      "running sub-sid000560\n",
      "running sub-sid000142\n",
      "running sub-sid000142\n",
      "running sub-sid000142\n",
      "running sub-sid000142\n",
      "running sub-sid000142\n",
      "running sub-sid000120\n",
      "running sub-sid000120\n",
      "running sub-sid000120\n",
      "running sub-sid000120\n",
      "running sub-sid000120\n",
      "running sub-sid000134\n",
      "running sub-sid000134\n",
      "running sub-sid000134\n",
      "running sub-sid000134\n",
      "running sub-sid000134\n",
      "running sub-sid000050\n",
      "running sub-sid000050\n",
      "running sub-sid000050\n",
      "running sub-sid000050\n",
      "running sub-sid000050\n",
      "running sub-sid000021\n",
      "running sub-sid000021\n",
      "running sub-sid000021\n",
      "running sub-sid000021\n",
      "running sub-sid000021\n",
      "running sub-sid000024\n",
      "running sub-sid000024\n",
      "running sub-sid000024\n",
      "running sub-sid000024\n",
      "running sub-sid000024\n",
      "running sub-sid000005\n",
      "running sub-sid000005\n",
      "running sub-sid000005\n",
      "running sub-sid000005\n",
      "running sub-sid000005\n",
      "running sub-sid000052\n",
      "running sub-sid000052\n",
      "running sub-sid000052\n",
      "running sub-sid000052\n",
      "running sub-sid000052\n",
      "running sub-sid000535\n",
      "running sub-sid000535\n",
      "running sub-sid000535\n",
      "running sub-sid000535\n",
      "running sub-sid000535\n",
      "running sub-sid000499\n",
      "running sub-sid000499\n",
      "running sub-sid000499\n",
      "running sub-sid000499\n",
      "running sub-sid000499\n",
      "running sub-sid000030\n",
      "running sub-sid000030\n",
      "running sub-sid000030\n",
      "running sub-sid000030\n",
      "running sub-sid000030\n",
      "running sub-sid000055\n",
      "running sub-sid000055\n",
      "running sub-sid000055\n",
      "running sub-sid000055\n",
      "running sub-sid000055\n",
      "running sub-sid000278\n",
      "running sub-sid000278\n",
      "running sub-sid000278\n",
      "running sub-sid000278\n",
      "running sub-sid000278\n",
      "running sub-sid000010\n",
      "running sub-sid000010\n",
      "running sub-sid000010\n",
      "running sub-sid000010\n",
      "running sub-sid000010\n",
      "running sub-sid000416\n",
      "running sub-sid000416\n",
      "running sub-sid000416\n",
      "running sub-sid000416\n",
      "running sub-sid000416\n",
      "running sub-sid000013\n",
      "running sub-sid000013\n",
      "running sub-sid000013\n",
      "running sub-sid000013\n",
      "running sub-sid000013\n",
      "running sub-sid000009\n",
      "running sub-sid000009\n",
      "running sub-sid000009\n",
      "running sub-sid000009\n",
      "running sub-sid000009\n",
      "running sub-sid000007\n",
      "running sub-sid000007\n",
      "running sub-sid000007\n",
      "running sub-sid000007\n",
      "running sub-sid000007\n",
      "running sub-sid000114\n",
      "running sub-sid000114\n",
      "running sub-sid000114\n",
      "running sub-sid000114\n",
      "running sub-sid000114\n",
      "running sub-sid000025\n",
      "running sub-sid000025\n",
      "running sub-sid000025\n",
      "running sub-sid000025\n",
      "running sub-sid000025\n",
      "running sub-sid000522\n",
      "running sub-sid000522\n",
      "running sub-sid000522\n",
      "running sub-sid000522\n",
      "running sub-sid000522\n"
     ]
    }
   ],
   "source": [
    "for sub in subject_list:\n",
    "    for run in np.arange(1,6):\n",
    "        brainpath=f'{scratch_fmriprep}{sub}/func/{sub}_task-movie_run-{run}_space-fsLR_den-91k_bold.dtseries.nii'\n",
    "        confound_path = f'{scratch_fmriprep}{sub}/func/{sub}_task-movie_run-{run}_desc-confounds_timeseries.tsv'\n",
    "        export_path = f'{scratch_fmriprep}derivatives/cleaned/'\n",
    "        exportfile = Path(f'{export_path}{sub}_run{run}_clean_space-fsLR_den-91k_bold.dtseries.nii')\n",
    "#         if not exportfile.is_file(): # if it doesn't exist already, run it\n",
    "        if Path(brainpath).is_file():\n",
    "            print(f'running {sub}')\n",
    "            #load confounds\n",
    "            data = pd.read_csv(confound_path, sep='\\t')\n",
    "            confounds=data[['global_signal', 'csf', 'white_matter', 'framewise_displacement', 'a_comp_cor_00', 'a_comp_cor_01', 'a_comp_cor_02', 'a_comp_cor_03', 'a_comp_cor_04', 'a_comp_cor_05', 'rot_x','rot_y','rot_z','trans_x','trans_y','trans_z']].to_numpy()\n",
    "            confounds = np.nan_to_num(confounds)\n",
    "            #confounds=data[['global_signal', 'csf', 'white_matter','rot_x','rot_y','rot_z','trans_x','trans_y','trans_z']].to_numpy()\n",
    "            #load brain data\n",
    "            brainimg = load_img(brainpath) # load func img\n",
    "            func_data=np.array(brainimg.dataobj)\n",
    "            func_data = var_to_nan(func_data,0.5)\n",
    "            #clean\n",
    "            #func_cln = clean_img(func,detrend=True,confounds=confounds,low_pass=0.1,t_r=1.5)\n",
    "            func_data_clean = clean(func_data,detrend=True,standardize='zscore',confounds=confounds,low_pass=0.1,t_r=1)\n",
    "            func_cln = nib.Cifti2Image(func_data_clean, brainimg.header)\n",
    "            #export\n",
    "            func_cln.to_filename(f'{export_path}{sub}_run{run}_clean_space-fsLR_den-91k_bold.dtseries.nii')\n",
    "        else:\n",
    "            print('dne',sub)\n",
    "#         else:\n",
    "#             print(f'skipping {sub}, already ran')"
   ]
  },
  {
   "cell_type": "code",
   "execution_count": null,
   "metadata": {
    "tags": []
   },
   "outputs": [],
   "source": [
    "# same as above but skip if already ran\n",
    "# for sub in subject_list:\n",
    "#     for run in np.arange(1,6):\n",
    "#         brainpath=f'{scratch_fmriprep}{sub}/func/{sub}_task-movie_run-{run}_space-fsLR_den-91k_bold.dtseries.nii'\n",
    "#         confound_path = f'{scratch_fmriprep}{sub}/func/{sub}_task-movie_run-{run}_desc-confounds_timeseries.tsv'\n",
    "#         export_path = f'{scratch_fmriprep}derivatives/cleaned/'\n",
    "#         exportfile = Path(f'{export_path}{sub}_run{run}_clean_space-fsLR_den-91k_bold.dtseries.nii')\n",
    "#         if not exportfile.is_file(): # if it doesn't exist already, run it\n",
    "#             if Path(brainpath).is_file():\n",
    "#                 print(f'running {sub}')\n",
    "#                 #load confounds\n",
    "#                 data = pd.read_csv(confound_path, sep='\\t')\n",
    "#                 confounds=data[['global_signal', 'csf', 'white_matter', 'framewise_displacement', 'a_comp_cor_00', 'a_comp_cor_01', 'a_comp_cor_02', 'a_comp_cor_03', 'a_comp_cor_04', 'a_comp_cor_05', 'rot_x','rot_y','rot_z','trans_x','trans_y','trans_z']].to_numpy()\n",
    "\n",
    "#                 #confounds=data[['global_signal', 'csf', 'white_matter','rot_x','rot_y','rot_z','trans_x','trans_y','trans_z']].to_numpy()\n",
    "#                 #load brain data\n",
    "#                 brainimg = load_img(brainpath) # load func img\n",
    "#                 func_data=np.array(brainimg.dataobj)\n",
    "#                 func_data = var_to_nan(func_data,0.5)\n",
    "#                 #clean\n",
    "#                 #func_cln = clean_img(func,detrend=True,confounds=confounds,low_pass=0.1,t_r=1.5)\n",
    "#                 func_data_clean = clean(func_data,detrend=True,standardize='zscore',confounds=confounds,low_pass=0.1,t_r=1)\n",
    "#                 func_cln = nib.Cifti2Image(func_data_clean, brainimg.header)\n",
    "#                 #export\n",
    "#                 func_cln.to_filename(f'{export_path}{sub}_run{run}_clean_space-fsLR_den-91k_bold.dtseries.nii')\n",
    "#             else:\n",
    "#                 print('dne',sub)\n",
    "#         else:\n",
    "#             print(f'skipping {sub}, already ran')"
   ]
  },
  {
   "cell_type": "markdown",
   "metadata": {},
   "source": [
    "## do the same for the RU HBN data TR=800ms"
   ]
  },
  {
   "cell_type": "code",
   "execution_count": 17,
   "metadata": {},
   "outputs": [],
   "source": [
    "import numpy as np\n",
    "from scipy import signal\n",
    "import pandas as pd\n",
    "\n",
    "import matplotlib as mpl\n",
    "import matplotlib.pyplot as plt\n",
    "import seaborn as sns\n",
    "sns.set(\"paper\", \"white\")\n",
    "\n",
    "from nilearn.image import load_img\n",
    "from nilearn.image import clean_img\n",
    "from nilearn.image import smooth_img\n",
    "from nilearn.image import index_img\n",
    "from nilearn.signal import clean\n",
    "from os import walk, mkdir\n",
    "\n",
    "from utility import var_to_nan\n",
    "from pathlib import Path\n",
    "\n",
    "\n",
    "import nibabel as nib\n",
    "from nibabel import cifti2\n",
    "%matplotlib inline"
   ]
  },
  {
   "cell_type": "code",
   "execution_count": 5,
   "metadata": {},
   "outputs": [],
   "source": [
    "brainpath='/om4/group/gablab/data/HBN/derivatives/fmriprep/sub-NDARZZ740MLM/func/sub-NDARZZ740MLM_task-movieTP_space-fsLR_den-91k_bold.dtseries.nii'\n",
    "brainimg = load_img(brainpath) # load func img\n",
    "\n",
    "confound_path='/om4/group/gablab/data/HBN/derivatives/fmriprep/sub-NDARZZ740MLM/func/sub-NDARZZ740MLM_task-movieTP_desc-confounds_timeseries.tsv'\n",
    "\n",
    "data = pd.read_csv(confound_path, sep='\\t')\n",
    "#confounds=data[['global_signal', 'csf', 'white_matter','rot_x','rot_y','rot_z','trans_x','trans_y','trans_z']].to_numpy()\n",
    "confounds=data[['global_signal', 'csf', 'white_matter', 'framewise_displacement', 'a_comp_cor_00', 'a_comp_cor_01', 'a_comp_cor_02', 'a_comp_cor_03', 'a_comp_cor_04', 'a_comp_cor_05', 'rot_x','rot_y','rot_z','trans_x','trans_y','trans_z']].to_numpy()\n",
    "confounds = np.nan_to_num(confounds)\n",
    "\n",
    "func_data=np.array(brainimg.dataobj)\n",
    "func_data = var_to_nan(func_data,0.5)\n",
    "\n",
    "#func_cln = clean_img(func,detrend=True,confounds=confounds,low_pass=0.1,t_r=1.5)\n",
    "func_data_clean = clean(func_data,detrend=True,standardize='zscore',confounds=confounds,low_pass=0.1,t_r=0.8)\n",
    "func_cln = nib.Cifti2Image(func_data_clean, brainimg.header)"
   ]
  },
  {
   "cell_type": "code",
   "execution_count": 6,
   "metadata": {},
   "outputs": [
    {
     "data": {
      "text/plain": [
       "(250, 91282)"
      ]
     },
     "execution_count": 6,
     "metadata": {},
     "output_type": "execute_result"
    }
   ],
   "source": [
    "func_cln.shape"
   ]
  },
  {
   "cell_type": "code",
   "execution_count": 14,
   "metadata": {},
   "outputs": [
    {
     "ename": "ValueError",
     "evalue": "list.remove(x): x not in list",
     "output_type": "error",
     "traceback": [
      "\u001b[0;31m---------------------------------------------------------------------------\u001b[0m",
      "\u001b[0;31mValueError\u001b[0m                                Traceback (most recent call last)",
      "\u001b[0;32m<ipython-input-14-163d80a45133>\u001b[0m in \u001b[0;36m<module>\u001b[0;34m\u001b[0m\n\u001b[1;32m      3\u001b[0m \u001b[0msubject_list\u001b[0m \u001b[0;34m=\u001b[0m \u001b[0mlist\u001b[0m\u001b[0;34m(\u001b[0m\u001b[0mwalk\u001b[0m\u001b[0;34m(\u001b[0m\u001b[0mfmriprep\u001b[0m\u001b[0;34m)\u001b[0m\u001b[0;34m)\u001b[0m\u001b[0;34m[\u001b[0m\u001b[0;36m0\u001b[0m\u001b[0;34m]\u001b[0m\u001b[0;34m[\u001b[0m\u001b[0;36m1\u001b[0m\u001b[0;34m]\u001b[0m\u001b[0;34m\u001b[0m\u001b[0;34m\u001b[0m\u001b[0m\n\u001b[1;32m      4\u001b[0m \u001b[0msubject_list\u001b[0m\u001b[0;34m.\u001b[0m\u001b[0mremove\u001b[0m\u001b[0;34m(\u001b[0m\u001b[0;34m'logs'\u001b[0m\u001b[0;34m)\u001b[0m\u001b[0;34m\u001b[0m\u001b[0;34m\u001b[0m\u001b[0m\n\u001b[0;32m----> 5\u001b[0;31m \u001b[0msubject_list\u001b[0m\u001b[0;34m.\u001b[0m\u001b[0mremove\u001b[0m\u001b[0;34m(\u001b[0m\u001b[0;34m'derivatives'\u001b[0m\u001b[0;34m)\u001b[0m\u001b[0;34m\u001b[0m\u001b[0;34m\u001b[0m\u001b[0m\n\u001b[0m",
      "\u001b[0;31mValueError\u001b[0m: list.remove(x): x not in list"
     ]
    }
   ],
   "source": [
    "# list all budapest subjects\n",
    "fmriprep = '/om4/group/gablab/data/HBN/derivatives/fmriprep/'\n",
    "subject_list = list(walk(fmriprep))[0][1]\n",
    "subject_list.remove('logs')\n",
    "subject_list.remove('derivatives')"
   ]
  },
  {
   "cell_type": "code",
   "execution_count": 16,
   "metadata": {},
   "outputs": [],
   "source": [
    "#export subject list to a text file\n",
    "textfile = open(\"hbn_ru_subjects.txt\", \"w\")\n",
    "for element in subject_list:\n",
    "    textfile.write(element + \"\\n\")\n",
    "textfile.close()"
   ]
  },
  {
   "cell_type": "code",
   "execution_count": 19,
   "metadata": {},
   "outputs": [],
   "source": [
    "with open(\"hbn_ru_subjects.txt\") as f:\n",
    "    subject_list = f.read().splitlines()"
   ]
  },
  {
   "cell_type": "code",
   "execution_count": null,
   "metadata": {},
   "outputs": [],
   "source": [
    "subject_list"
   ]
  },
  {
   "cell_type": "code",
   "execution_count": 18,
   "metadata": {},
   "outputs": [
    {
     "name": "stdout",
     "output_type": "stream",
     "text": [
      "running sub-NDARAC495TJ2\n",
      "running sub-NDARAC495TJ2\n",
      "[Errno 17] File exists: '/nobackup/scratch/Mon/jsmentch/hbn_cifti_cleaned/sub-NDARAC495TJ2'\n",
      "running sub-NDARBM490LK7\n"
     ]
    },
    {
     "ename": "KeyboardInterrupt",
     "evalue": "",
     "output_type": "error",
     "traceback": [
      "\u001b[0;31m---------------------------------------------------------------------------\u001b[0m",
      "\u001b[0;31mKeyboardInterrupt\u001b[0m                         Traceback (most recent call last)",
      "\u001b[0;32m<ipython-input-18-39f5b38944f2>\u001b[0m in \u001b[0;36m<module>\u001b[0;34m\u001b[0m\n\u001b[1;32m     23\u001b[0m                 \u001b[0;31m#clean\u001b[0m\u001b[0;34m\u001b[0m\u001b[0;34m\u001b[0m\u001b[0;34m\u001b[0m\u001b[0m\n\u001b[1;32m     24\u001b[0m                 \u001b[0;31m#func_cln = clean_img(func,detrend=True,confounds=confounds,low_pass=0.1,t_r=1.5)\u001b[0m\u001b[0;34m\u001b[0m\u001b[0;34m\u001b[0m\u001b[0;34m\u001b[0m\u001b[0m\n\u001b[0;32m---> 25\u001b[0;31m                 \u001b[0mfunc_data_clean\u001b[0m \u001b[0;34m=\u001b[0m \u001b[0mclean\u001b[0m\u001b[0;34m(\u001b[0m\u001b[0mfunc_data\u001b[0m\u001b[0;34m,\u001b[0m\u001b[0mdetrend\u001b[0m\u001b[0;34m=\u001b[0m\u001b[0;32mTrue\u001b[0m\u001b[0;34m,\u001b[0m\u001b[0mstandardize\u001b[0m\u001b[0;34m=\u001b[0m\u001b[0;34m'zscore'\u001b[0m\u001b[0;34m,\u001b[0m\u001b[0mconfounds\u001b[0m\u001b[0;34m=\u001b[0m\u001b[0mconfounds\u001b[0m\u001b[0;34m,\u001b[0m\u001b[0mlow_pass\u001b[0m\u001b[0;34m=\u001b[0m\u001b[0;36m0.1\u001b[0m\u001b[0;34m,\u001b[0m\u001b[0mt_r\u001b[0m\u001b[0;34m=\u001b[0m\u001b[0;36m0.8\u001b[0m\u001b[0;34m)\u001b[0m\u001b[0;34m\u001b[0m\u001b[0;34m\u001b[0m\u001b[0m\n\u001b[0m\u001b[1;32m     26\u001b[0m                 \u001b[0mfunc_cln\u001b[0m \u001b[0;34m=\u001b[0m \u001b[0mnib\u001b[0m\u001b[0;34m.\u001b[0m\u001b[0mCifti2Image\u001b[0m\u001b[0;34m(\u001b[0m\u001b[0mfunc_data_clean\u001b[0m\u001b[0;34m,\u001b[0m \u001b[0mbrainimg\u001b[0m\u001b[0;34m.\u001b[0m\u001b[0mheader\u001b[0m\u001b[0;34m)\u001b[0m\u001b[0;34m\u001b[0m\u001b[0;34m\u001b[0m\u001b[0m\n\u001b[1;32m     27\u001b[0m                 \u001b[0;31m#export\u001b[0m\u001b[0;34m\u001b[0m\u001b[0;34m\u001b[0m\u001b[0;34m\u001b[0m\u001b[0m\n",
      "\u001b[0;32m/opt/miniconda-latest/lib/python3.8/site-packages/nilearn/signal.py\u001b[0m in \u001b[0;36mclean\u001b[0;34m(signals, sessions, detrend, standardize, confounds, standardize_confounds, low_pass, high_pass, t_r, ensure_finite)\u001b[0m\n\u001b[1;32m    596\u001b[0m                              \"filtering\")\n\u001b[1;32m    597\u001b[0m \u001b[0;34m\u001b[0m\u001b[0m\n\u001b[0;32m--> 598\u001b[0;31m         signals = butterworth(signals, sampling_rate=1. / t_r,\n\u001b[0m\u001b[1;32m    599\u001b[0m                               low_pass=low_pass, high_pass=high_pass)\n\u001b[1;32m    600\u001b[0m     \u001b[0;31m# Remove confounds\u001b[0m\u001b[0;34m\u001b[0m\u001b[0;34m\u001b[0m\u001b[0;34m\u001b[0m\u001b[0m\n",
      "\u001b[0;32m/opt/miniconda-latest/lib/python3.8/site-packages/nilearn/signal.py\u001b[0m in \u001b[0;36mbutterworth\u001b[0;34m(signals, sampling_rate, low_pass, high_pass, order, copy)\u001b[0m\n\u001b[1;32m    328\u001b[0m             \u001b[0;31m# Lesser memory consumption, slower.\u001b[0m\u001b[0;34m\u001b[0m\u001b[0;34m\u001b[0m\u001b[0;34m\u001b[0m\u001b[0m\n\u001b[1;32m    329\u001b[0m             \u001b[0;32mfor\u001b[0m \u001b[0mtimeseries\u001b[0m \u001b[0;32min\u001b[0m \u001b[0msignals\u001b[0m\u001b[0;34m.\u001b[0m\u001b[0mT\u001b[0m\u001b[0;34m:\u001b[0m\u001b[0;34m\u001b[0m\u001b[0;34m\u001b[0m\u001b[0m\n\u001b[0;32m--> 330\u001b[0;31m                 \u001b[0mtimeseries\u001b[0m\u001b[0;34m[\u001b[0m\u001b[0;34m:\u001b[0m\u001b[0;34m]\u001b[0m \u001b[0;34m=\u001b[0m \u001b[0msp_signal\u001b[0m\u001b[0;34m.\u001b[0m\u001b[0mfiltfilt\u001b[0m\u001b[0;34m(\u001b[0m\u001b[0mb\u001b[0m\u001b[0;34m,\u001b[0m \u001b[0ma\u001b[0m\u001b[0;34m,\u001b[0m \u001b[0mtimeseries\u001b[0m\u001b[0;34m)\u001b[0m\u001b[0;34m\u001b[0m\u001b[0;34m\u001b[0m\u001b[0m\n\u001b[0m\u001b[1;32m    331\u001b[0m \u001b[0;34m\u001b[0m\u001b[0m\n\u001b[1;32m    332\u001b[0m             \u001b[0;31m# results returned in-place\u001b[0m\u001b[0;34m\u001b[0m\u001b[0;34m\u001b[0m\u001b[0;34m\u001b[0m\u001b[0m\n",
      "\u001b[0;32m/opt/miniconda-latest/lib/python3.8/site-packages/scipy/signal/signaltools.py\u001b[0m in \u001b[0;36mfiltfilt\u001b[0;34m(b, a, x, axis, padtype, padlen, method, irlen)\u001b[0m\n\u001b[1;32m   4031\u001b[0m \u001b[0;34m\u001b[0m\u001b[0m\n\u001b[1;32m   4032\u001b[0m     \u001b[0;31m# Get the steady state of the filter's step response.\u001b[0m\u001b[0;34m\u001b[0m\u001b[0;34m\u001b[0m\u001b[0;34m\u001b[0m\u001b[0m\n\u001b[0;32m-> 4033\u001b[0;31m     \u001b[0mzi\u001b[0m \u001b[0;34m=\u001b[0m \u001b[0mlfilter_zi\u001b[0m\u001b[0;34m(\u001b[0m\u001b[0mb\u001b[0m\u001b[0;34m,\u001b[0m \u001b[0ma\u001b[0m\u001b[0;34m)\u001b[0m\u001b[0;34m\u001b[0m\u001b[0;34m\u001b[0m\u001b[0m\n\u001b[0m\u001b[1;32m   4034\u001b[0m \u001b[0;34m\u001b[0m\u001b[0m\n\u001b[1;32m   4035\u001b[0m     \u001b[0;31m# Reshape zi and create x0 so that zi*x0 broadcasts\u001b[0m\u001b[0;34m\u001b[0m\u001b[0;34m\u001b[0m\u001b[0;34m\u001b[0m\u001b[0m\n",
      "\u001b[0;32m/opt/miniconda-latest/lib/python3.8/site-packages/scipy/signal/signaltools.py\u001b[0m in \u001b[0;36mlfilter_zi\u001b[0;34m(b, a)\u001b[0m\n\u001b[1;32m   3559\u001b[0m     \u001b[0;31m# cases where a ValueError is more appropriate, and it allows\u001b[0m\u001b[0;34m\u001b[0m\u001b[0;34m\u001b[0m\u001b[0;34m\u001b[0m\u001b[0m\n\u001b[1;32m   3560\u001b[0m     \u001b[0;31m# b to be 2D.\u001b[0m\u001b[0;34m\u001b[0m\u001b[0;34m\u001b[0m\u001b[0;34m\u001b[0m\u001b[0m\n\u001b[0;32m-> 3561\u001b[0;31m     \u001b[0mb\u001b[0m \u001b[0;34m=\u001b[0m \u001b[0mnp\u001b[0m\u001b[0;34m.\u001b[0m\u001b[0matleast_1d\u001b[0m\u001b[0;34m(\u001b[0m\u001b[0mb\u001b[0m\u001b[0;34m)\u001b[0m\u001b[0;34m\u001b[0m\u001b[0;34m\u001b[0m\u001b[0m\n\u001b[0m\u001b[1;32m   3562\u001b[0m     \u001b[0;32mif\u001b[0m \u001b[0mb\u001b[0m\u001b[0;34m.\u001b[0m\u001b[0mndim\u001b[0m \u001b[0;34m!=\u001b[0m \u001b[0;36m1\u001b[0m\u001b[0;34m:\u001b[0m\u001b[0;34m\u001b[0m\u001b[0;34m\u001b[0m\u001b[0m\n\u001b[1;32m   3563\u001b[0m         \u001b[0;32mraise\u001b[0m \u001b[0mValueError\u001b[0m\u001b[0;34m(\u001b[0m\u001b[0;34m\"Numerator b must be 1-D.\"\u001b[0m\u001b[0;34m)\u001b[0m\u001b[0;34m\u001b[0m\u001b[0;34m\u001b[0m\u001b[0m\n",
      "\u001b[0;32m<__array_function__ internals>\u001b[0m in \u001b[0;36matleast_1d\u001b[0;34m(*args, **kwargs)\u001b[0m\n",
      "\u001b[0;32m/opt/miniconda-latest/lib/python3.8/site-packages/numpy/core/shape_base.py\u001b[0m in \u001b[0;36matleast_1d\u001b[0;34m(*arys)\u001b[0m\n\u001b[1;32m     65\u001b[0m     \u001b[0;32mfor\u001b[0m \u001b[0mary\u001b[0m \u001b[0;32min\u001b[0m \u001b[0marys\u001b[0m\u001b[0;34m:\u001b[0m\u001b[0;34m\u001b[0m\u001b[0;34m\u001b[0m\u001b[0m\n\u001b[1;32m     66\u001b[0m         \u001b[0mary\u001b[0m \u001b[0;34m=\u001b[0m \u001b[0masanyarray\u001b[0m\u001b[0;34m(\u001b[0m\u001b[0mary\u001b[0m\u001b[0;34m)\u001b[0m\u001b[0;34m\u001b[0m\u001b[0;34m\u001b[0m\u001b[0m\n\u001b[0;32m---> 67\u001b[0;31m         \u001b[0;32mif\u001b[0m \u001b[0mary\u001b[0m\u001b[0;34m.\u001b[0m\u001b[0mndim\u001b[0m \u001b[0;34m==\u001b[0m \u001b[0;36m0\u001b[0m\u001b[0;34m:\u001b[0m\u001b[0;34m\u001b[0m\u001b[0;34m\u001b[0m\u001b[0m\n\u001b[0m\u001b[1;32m     68\u001b[0m             \u001b[0mresult\u001b[0m \u001b[0;34m=\u001b[0m \u001b[0mary\u001b[0m\u001b[0;34m.\u001b[0m\u001b[0mreshape\u001b[0m\u001b[0;34m(\u001b[0m\u001b[0;36m1\u001b[0m\u001b[0;34m)\u001b[0m\u001b[0;34m\u001b[0m\u001b[0;34m\u001b[0m\u001b[0m\n\u001b[1;32m     69\u001b[0m         \u001b[0;32melse\u001b[0m\u001b[0;34m:\u001b[0m\u001b[0;34m\u001b[0m\u001b[0;34m\u001b[0m\u001b[0m\n",
      "\u001b[0;31mKeyboardInterrupt\u001b[0m: "
     ]
    }
   ],
   "source": [
    "for sub in subject_list:\n",
    "    for task in ['TP', 'DM']:\n",
    "        brainpath=f'/om4/group/gablab/data/HBN/derivatives/fmriprep/{sub}/func/{sub}_task-movie{task}_space-fsLR_den-91k_bold.dtseries.nii'\n",
    "        confound_path=f'/om4/group/gablab/data/HBN/derivatives/fmriprep/{sub}/func/{sub}_task-movie{task}_desc-confounds_timeseries.tsv'\n",
    "        export_path = f'/nobackup/scratch/Mon/jsmentch/hbn_cifti_cleaned/{sub}'\n",
    "        exportfile = Path(f'{export_path}/{sub}_clean_task-movie{task}_space-fsLR_den-91k_bold.dtseries.nii')\n",
    "        if not exportfile.is_file(): # if it doesn't exist already, run it\n",
    "            if Path(brainpath).is_file():\n",
    "                print(f'running {sub}')\n",
    "                try:\n",
    "                    mkdir(export_path)\n",
    "                except OSError as error:\n",
    "                    print(error)    \n",
    "                #load confounds\n",
    "                data = pd.read_csv(confound_path, sep='\\t')\n",
    "                confounds=data[['global_signal', 'csf', 'white_matter', 'framewise_displacement', 'a_comp_cor_00', 'a_comp_cor_01', 'a_comp_cor_02', 'a_comp_cor_03', 'a_comp_cor_04', 'a_comp_cor_05', 'rot_x','rot_y','rot_z','trans_x','trans_y','trans_z']].to_numpy()\n",
    "                confounds = np.nan_to_num(confounds)\n",
    "                #confounds=data[['global_signal', 'csf', 'white_matter','rot_x','rot_y','rot_z','trans_x','trans_y','trans_z']].to_numpy()\n",
    "                #load brain data\n",
    "                brainimg = load_img(brainpath) # load func img\n",
    "                func_data=np.array(brainimg.dataobj)\n",
    "                func_data = var_to_nan(func_data,0.5)\n",
    "                #clean\n",
    "                #func_cln = clean_img(func,detrend=True,confounds=confounds,low_pass=0.1,t_r=1.5)\n",
    "                func_data_clean = clean(func_data,detrend=True,standardize='zscore',confounds=confounds,low_pass=0.1,t_r=0.8)\n",
    "                func_cln = nib.Cifti2Image(func_data_clean, brainimg.header)\n",
    "                #export\n",
    "                func_cln.to_filename(exportfile)\n",
    "            else:\n",
    "                print('dne',sub)\n",
    "        else:\n",
    "            print(f'skipping {sub}, already ran')"
   ]
  },
  {
   "cell_type": "code",
   "execution_count": null,
   "metadata": {},
   "outputs": [],
   "source": []
  }
 ],
 "metadata": {
  "kernelspec": {
   "display_name": "Python 3",
   "language": "python",
   "name": "python3"
  },
  "language_info": {
   "codemirror_mode": {
    "name": "ipython",
    "version": 3
   },
   "file_extension": ".py",
   "mimetype": "text/x-python",
   "name": "python",
   "nbconvert_exporter": "python",
   "pygments_lexer": "ipython3",
   "version": "3.8.5"
  }
 },
 "nbformat": 4,
 "nbformat_minor": 4
}
