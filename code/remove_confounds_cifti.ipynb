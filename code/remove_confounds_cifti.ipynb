{
 "cells": [
  {
   "cell_type": "markdown",
   "metadata": {},
   "source": [
    "# Notebook to remove confounds from a cifti image and apply LPF"
   ]
  },
  {
   "cell_type": "markdown",
   "metadata": {},
   "source": [
    "There seem to be 2 functions for removing confounds, filtering, etc:\n",
    "\n",
    "- https://nilearn.github.io/modules/generated/nilearn.image.clean_img.html\n",
    "- https://nilearn.github.io/modules/generated/nilearn.signal.clean.html\n",
    "\n",
    "Here I will apply clean_img to the cifti data"
   ]
  },
  {
   "cell_type": "code",
   "execution_count": 6,
   "metadata": {},
   "outputs": [],
   "source": [
    "import numpy as np\n",
    "from scipy import signal\n",
    "import pandas as pd\n",
    "\n",
    "import matplotlib as mpl\n",
    "import matplotlib.pyplot as plt\n",
    "import seaborn as sns\n",
    "sns.set(\"paper\", \"white\")\n",
    "\n",
    "from nilearn.image import load_img\n",
    "from nilearn.image import clean_img\n",
    "from nilearn.image import smooth_img\n",
    "from nilearn.image import index_img\n",
    "from nilearn.signal import clean\n",
    "from os import walk\n",
    "\n",
    "from utility import var_to_nan\n",
    "from pathlib import Path\n",
    "\n",
    "\n",
    "import nibabel as nib\n",
    "from nibabel import cifti2\n",
    "%matplotlib inline"
   ]
  },
  {
   "cell_type": "markdown",
   "metadata": {},
   "source": [
    "## Load a sub whole brain data"
   ]
  },
  {
   "cell_type": "code",
   "execution_count": null,
   "metadata": {},
   "outputs": [],
   "source": []
  },
  {
   "cell_type": "code",
   "execution_count": 14,
   "metadata": {},
   "outputs": [],
   "source": [
    "brainpath='/om2/user/jsmentch/projects/nat_img/sourcedata/data/budapest/brain/sub-sid000007_task-movie_run-1_space-fsLR_den-91k_bold.dtseries.nii'\n",
    "brainimg = load_img(brainpath) # load func img\n",
    "\n",
    "confound_path = '/om2/user/jsmentch/projects/nat_img/sourcedata/data/budapest/brain/sub-sid000007_task-movie_run-1_desc-confounds_timeseries.tsv'\n",
    "\n",
    "data = pd.read_csv(confound_path, sep='\\t')\n",
    "confounds=data[['global_signal', 'csf', 'white_matter','rot_x','rot_y','rot_z','trans_x','trans_y','trans_z']].to_numpy()\n",
    "\n",
    "func_data=np.array(brainimg.dataobj)\n",
    "func_data = var_to_nan(func_data,0.5)\n",
    "\n",
    "#func_cln = clean_img(func,detrend=True,confounds=confounds,low_pass=0.1,t_r=1.5)\n",
    "func_data_clean = clean(func_data,detrend=True,standardize='zscore',confounds=confounds,low_pass=0.1,t_r=1)\n",
    "func_cln = nib.Cifti2Image(func_data_clean, brainimg.header)"
   ]
  },
  {
   "cell_type": "code",
   "execution_count": null,
   "metadata": {},
   "outputs": [],
   "source": [
    "#export\n",
    "func_cln.to_filename(export_path+sub+'_clean_task-MerlinMovie_space-fsLR_den-91k_bold.dtseries.nii')"
   ]
  },
  {
   "cell_type": "markdown",
   "metadata": {},
   "source": [
    "## Do the same for all budapest subjects"
   ]
  },
  {
   "cell_type": "code",
   "execution_count": 16,
   "metadata": {},
   "outputs": [],
   "source": [
    "# list all budapest subjects\n",
    "scratch_fmriprep = '/nobackup/scratch/Mon/jsmentch/nat_img/sourcedata/data/budapest/brain/ds003017/derivatives/fmriprep/'\n",
    "subject_list = list(walk(scratch_fmriprep))[0][1]\n",
    "subject_list.remove('logs')\n",
    "subject_list.remove('derivatives')"
   ]
  },
  {
   "cell_type": "code",
   "execution_count": 20,
   "metadata": {},
   "outputs": [],
   "source": [
    "#export subject list to a text file\n",
    "textfile = open(\"budapest_subjects.txt\", \"w\")\n",
    "for element in subject_list:\n",
    "    textfile.write(element + \"\\n\")\n",
    "textfile.close()"
   ]
  },
  {
   "cell_type": "code",
   "execution_count": 18,
   "metadata": {
    "tags": []
   },
   "outputs": [
    {
     "name": "stdout",
     "output_type": "stream",
     "text": [
      "skippingsub-sid000029, already ran\n",
      "skippingsub-sid000029, already ran\n",
      "skippingsub-sid000029, already ran\n",
      "skippingsub-sid000029, already ran\n",
      "skippingsub-sid000029, already ran\n",
      "skippingsub-sid000020, already ran\n",
      "skippingsub-sid000020, already ran\n",
      "skippingsub-sid000020, already ran\n",
      "skippingsub-sid000020, already ran\n",
      "skippingsub-sid000020, already ran\n",
      "skippingsub-sid000034, already ran\n",
      "skippingsub-sid000034, already ran\n",
      "skippingsub-sid000034, already ran\n",
      "skippingsub-sid000034, already ran\n",
      "skippingsub-sid000034, already ran\n",
      "skippingsub-sid000560, already ran\n",
      "skippingsub-sid000560, already ran\n",
      "skippingsub-sid000560, already ran\n",
      "skippingsub-sid000560, already ran\n",
      "skippingsub-sid000560, already ran\n",
      "skippingsub-sid000142, already ran\n",
      "skippingsub-sid000142, already ran\n",
      "skippingsub-sid000142, already ran\n",
      "skippingsub-sid000142, already ran\n",
      "skippingsub-sid000142, already ran\n",
      "skippingsub-sid000120, already ran\n",
      "skippingsub-sid000120, already ran\n",
      "skippingsub-sid000120, already ran\n",
      "skippingsub-sid000120, already ran\n",
      "skippingsub-sid000120, already ran\n",
      "skippingsub-sid000134, already ran\n",
      "skippingsub-sid000134, already ran\n",
      "skippingsub-sid000134, already ran\n",
      "skippingsub-sid000134, already ran\n",
      "skippingsub-sid000134, already ran\n",
      "skippingsub-sid000050, already ran\n",
      "skippingsub-sid000050, already ran\n",
      "skippingsub-sid000050, already ran\n",
      "skippingsub-sid000050, already ran\n",
      "skippingsub-sid000050, already ran\n",
      "skippingsub-sid000021, already ran\n",
      "skippingsub-sid000021, already ran\n",
      "skippingsub-sid000021, already ran\n",
      "skippingsub-sid000021, already ran\n",
      "skippingsub-sid000021, already ran\n",
      "skippingsub-sid000024, already ran\n",
      "skippingsub-sid000024, already ran\n",
      "skippingsub-sid000024, already ran\n",
      "skippingsub-sid000024, already ran\n",
      "skippingsub-sid000024, already ran\n",
      "skippingsub-sid000005, already ran\n",
      "skippingsub-sid000005, already ran\n",
      "skippingsub-sid000005, already ran\n",
      "skippingsub-sid000005, already ran\n",
      "skippingsub-sid000005, already ran\n"
     ]
    }
   ],
   "source": [
    "for sub in subject_list:\n",
    "    for run in np.arange(1,6):\n",
    "        brainpath=f'{scratch_fmriprep}{sub}/func/{sub}_task-movie_run-{run}_space-fsLR_den-91k_bold.dtseries.nii'\n",
    "        confound_path = f'{scratch_fmriprep}{sub}/func/{sub}_task-movie_run-{run}_desc-confounds_timeseries.tsv'\n",
    "        export_path = f'{scratch_fmriprep}derivatives/cleaned/'\n",
    "        exportfile = Path(f'{export_path}{sub}_run{run}_clean_space-fsLR_den-91k_bold.dtseries.nii')\n",
    "        if not exportfile.is_file(): # if it doesn't exist already, run it\n",
    "            if Path(brainpath).is_file():\n",
    "                print(f'running {sub}')\n",
    "                #load confounds\n",
    "                data = pd.read_csv(confound_path, sep='\\t')\n",
    "                confounds=data[['global_signal', 'csf', 'white_matter','rot_x','rot_y','rot_z','trans_x','trans_y','trans_z']].to_numpy()\n",
    "                #load brain data\n",
    "                brainimg = load_img(brainpath) # load func img\n",
    "                func_data=np.array(brainimg.dataobj)\n",
    "                func_data = var_to_nan(func_data,0.5)\n",
    "                #clean\n",
    "                #func_cln = clean_img(func,detrend=True,confounds=confounds,low_pass=0.1,t_r=1.5)\n",
    "                func_data_clean = clean(func_data,detrend=True,standardize='zscore',confounds=confounds,low_pass=0.1,t_r=1)\n",
    "                func_cln = nib.Cifti2Image(func_data_clean, brainimg.header)\n",
    "                #export\n",
    "                func_cln.to_filename(f'{export_path}{sub}_run{run}_clean_space-fsLR_den-91k_bold.dtseries.nii')\n",
    "            else:\n",
    "                print('dne',sub)\n",
    "        else:\n",
    "            print(f'skipping {sub}, already ran')"
   ]
  },
  {
   "cell_type": "code",
   "execution_count": null,
   "metadata": {},
   "outputs": [],
   "source": []
  }
 ],
 "metadata": {
  "kernelspec": {
   "display_name": "Python 3",
   "language": "python",
   "name": "python3"
  },
  "language_info": {
   "codemirror_mode": {
    "name": "ipython",
    "version": 3
   },
   "file_extension": ".py",
   "mimetype": "text/x-python",
   "name": "python",
   "nbconvert_exporter": "python",
   "pygments_lexer": "ipython3",
   "version": "3.8.5"
  }
 },
 "nbformat": 4,
 "nbformat_minor": 4
}
