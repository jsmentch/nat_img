{
 "cells": [
  {
   "cell_type": "code",
   "execution_count": 20,
   "id": "11538778-3d7f-40f3-aa33-f8d4186c6935",
   "metadata": {},
   "outputs": [],
   "source": [
    "import numpy as np\n",
    "import glob\n",
    "import nilearn.image as image\n",
    "import os"
   ]
  },
  {
   "cell_type": "code",
   "execution_count": 2,
   "id": "2cd03e32-75ae-4607-8617-3b1f8a2d75e3",
   "metadata": {},
   "outputs": [],
   "source": [
    "#load all of the files"
   ]
  },
  {
   "cell_type": "code",
   "execution_count": 5,
   "id": "7f76e142-7248-4f28-8455-7ddf6aa6b5a1",
   "metadata": {},
   "outputs": [],
   "source": [
    "#concatenate them into one np array"
   ]
  },
  {
   "cell_type": "code",
   "execution_count": 6,
   "id": "ca2d831a-e4ee-4439-9d7a-05900916cea2",
   "metadata": {},
   "outputs": [],
   "source": [
    "#also get class and save it into another array with zeros and ones"
   ]
  },
  {
   "cell_type": "code",
   "execution_count": 4,
   "id": "8123233c-1d4b-4402-ad7a-13058244859c",
   "metadata": {},
   "outputs": [],
   "source": [
    "#save as npz"
   ]
  },
  {
   "cell_type": "code",
   "execution_count": 5,
   "id": "add0776f-0543-4896-a282-5087465558a6",
   "metadata": {},
   "outputs": [],
   "source": [
    "path='/om2/scratch/Fri/jsmentch/nat_img/sourcedata/data/HBN/brain/clean/'"
   ]
  },
  {
   "cell_type": "code",
   "execution_count": 82,
   "id": "e6a59714-2de9-47fc-9e40-5b129c6c538e",
   "metadata": {},
   "outputs": [],
   "source": [
    "# per Usman, \n",
    "# The input file should be of shape (N*R*T) where\n",
    "# N = number of subjects,\n",
    "# R = number of components/regions,\n",
    "# T = number of time-points. \n",
    "\n",
    "# session should be one of movieDM, movieTP, rest_run-1, rest_run-2\n",
    "# movie_length is expected number of TRs and it will chop off the rest...\n",
    "# should be 750, 250, 375, 375\n",
    "\n",
    "def get_mmp_data(session, movie_length):\n",
    "    sub_list=[]\n",
    "    ses_list=[]\n",
    "    dx_list=[]\n",
    "    mmp_data=[]\n",
    "\n",
    "\n",
    "    for file in glob.glob(f'{path}*/*/*movieDM*.ptseries.nii'):\n",
    "        #print(file)\n",
    "        img = image.load_img(file).get_fdata()\n",
    "        img = np.array(img.tolist())\n",
    "\n",
    "        mmp_data.append( img[:movie_length,:] )\n",
    "        head,filename=os.path.split(file)\n",
    "        head,ses=os.path.split(head)\n",
    "        head,sub=os.path.split(head)\n",
    "        sub_list.append(sub)\n",
    "        ses_list.append(ses)\n",
    "\n",
    "        if f\"{sub}\" in open('hbn_asc_50.txt').read():\n",
    "            dx_list.append(1)#ASC\n",
    "        else:\n",
    "            dx_list.append(0)#NT\n",
    "    #dm_mmp_data=np.asarray(dm_mmp_data)\n",
    "    mmp_data=np.dstack(mmp_data)\n",
    "    mmp_data=np.transpose(mmp_data,(2,1,0))\n",
    "    return sub_list, ses_list, dx_list, mmp_data"
   ]
  },
  {
   "cell_type": "code",
   "execution_count": 92,
   "id": "6cb45da9-10c1-4f9d-bf46-d5e7b5d7e2c2",
   "metadata": {},
   "outputs": [],
   "source": [
    "output_dir='../sourcedata/data/HBN/brain/clean/for_dice/'\n",
    "\n",
    "for session, movie_length in [('movieDM', 750), ('movieTP', 250), ('rest_run-1', 375), ('rest_run-2', 375) ]:\n",
    "    sub_list, ses_list, dx_list, mmp_data=get_mmp_data(session, movie_length)\n",
    "    np.savez(f'{output_dir}{session}.npz', sub_list, ses_list, dx_list, mmp_data)"
   ]
  },
  {
   "cell_type": "code",
   "execution_count": 89,
   "id": "d5422c05-4681-4e3e-9bff-f24e0a92442d",
   "metadata": {},
   "outputs": [
    {
     "name": "stdout",
     "output_type": "stream",
     "text": [
      "(250, 360)\n",
      "(250, 360)\n",
      "(250, 360)\n",
      "(250, 360)\n",
      "(250, 360)\n",
      "(375, 360)\n",
      "(375, 360)\n",
      "(375, 360)\n",
      "(375, 360)\n",
      "(375, 360)\n",
      "(375, 360)\n",
      "(375, 360)\n",
      "(375, 360)\n",
      "(375, 360)\n",
      "(375, 360)\n"
     ]
    }
   ],
   "source": [
    "#print expected number of TRs\n",
    "    \n",
    "for file in glob.glob(f'{path}*/*/*movieTP*.ptseries.nii')[:5]:\n",
    "    img = image.load_img(file).get_fdata()\n",
    "    print(img.shape)\n",
    "for file in glob.glob(f'{path}*/*/*rest_run-1*.ptseries.nii')[:5]:\n",
    "    img = image.load_img(file).get_fdata()\n",
    "    print(img.shape)    \n",
    "for file in glob.glob(f'{path}*/*/*rest_run-2*.ptseries.nii')[:5]:\n",
    "    img = image.load_img(file).get_fdata()\n",
    "    print(img.shape)"
   ]
  }
 ],
 "metadata": {
  "kernelspec": {
   "display_name": "Python 3",
   "language": "python",
   "name": "python3"
  },
  "language_info": {
   "codemirror_mode": {
    "name": "ipython",
    "version": 3
   },
   "file_extension": ".py",
   "mimetype": "text/x-python",
   "name": "python",
   "nbconvert_exporter": "python",
   "pygments_lexer": "ipython3",
   "version": "3.8.5"
  }
 },
 "nbformat": 4,
 "nbformat_minor": 5
}
