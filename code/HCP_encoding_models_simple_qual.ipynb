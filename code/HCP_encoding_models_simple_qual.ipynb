{
 "cells": [
  {
   "cell_type": "code",
   "execution_count": 1,
   "id": "8cb2c180-cd38-4468-8294-61c2c87a6018",
   "metadata": {},
   "outputs": [
    {
     "name": "stderr",
     "output_type": "stream",
     "text": [
      "/opt/miniconda-latest/lib/python3.8/site-packages/nilearn/datasets/__init__.py:87: FutureWarning: Fetchers from the nilearn.datasets module will be updated in version 0.9 to return python strings instead of bytes and Pandas dataframes instead of Numpy arrays.\n",
      "  warn(\"Fetchers from the nilearn.datasets module will be \"\n",
      "pixdim[1,2,3] should be non-zero; setting 0 dims to 1\n"
     ]
    }
   ],
   "source": [
    "import os\n",
    "import analysis\n",
    "import hrf_tools\n",
    "import numpy as np\n",
    "#import matplotlib\n",
    "#matplotlib.rcParams['figure.figsize'] = (6, 4)\n",
    "# this is run by run_datalad_run_encoding_model.sh\n",
    "# \"python ./run_encoding_model.py $sub $2\""
   ]
  },
  {
   "cell_type": "code",
   "execution_count": null,
   "id": "f3e6936c-ff43-451c-97d1-ef1c22f9cfde",
   "metadata": {},
   "outputs": [],
   "source": [
    "\n",
    "\n",
    "subject=100610\n",
    "feature='as_scores'\n",
    "dataset='HCP_7T'\n",
    "\n",
    "#temp_dir = '../../tmp'\n",
    "#if not os.path.exists(temp_dir):\n",
    "#    os.mkdir(temp_dir)\n",
    "\n",
    "#n_movies=[1,2,3,4]\n",
    "\n",
    "n_movies=[1]\n",
    "X,Y,vertex_info = analysis.load_data_HCP(subject,feature,n_movies)\n",
    "X = hrf_tools.apply_optimal_hrf_10hz(X,1)\n",
    "scores_mean,corr_mean,weights_mean = analysis.simple_ridgeCV(X,Y)\n",
    "#np.save(f'{temp_dir}/r2_{subject}_{feature}.npy',scores_mean)\n",
    "#np.save(f'{temp_dir}/r_{subject}_{feature}.npy',corr_mean)\n",
    "#np.save(f'{temp_dir}/w_{subject}_{feature}.npy',weights_mean)\n",
    "analysis.plot_results(scores_mean,'r2','59k',vertex_info,subject,feature,dataset,'ridgeCV_qual')"
   ]
  },
  {
   "cell_type": "code",
   "execution_count": 2,
   "id": "65630f19-786a-4f28-956c-9376e13e2e85",
   "metadata": {},
   "outputs": [
    {
     "name": "stderr",
     "output_type": "stream",
     "text": [
      "pixdim[1,2,3] should be non-zero; setting 0 dims to 1\n",
      "pixdim[1,2,3] should be non-zero; setting 0 dims to 1\n",
      "pixdim[1,2,3] should be non-zero; setting 0 dims to 1\n",
      "pixdim[1,2,3] should be non-zero; setting 0 dims to 1\n"
     ]
    },
    {
     "name": "stdout",
     "output_type": "stream",
     "text": [
      "Cannot load file ../sourcedata/data/human-connectome-project-openaccess/HCP1200/100610/T1w/fsaverage_LR59k/100610.sulc_1.6mm_MSMAll.59k_fs_LR.dscalar.nii with sulcal depth data\n"
     ]
    },
    {
     "name": "stderr",
     "output_type": "stream",
     "text": [
      "/om2/vast/gablab/jsmentch/projects/nat_img/code/nilearn_plotting_custom.py:184: MatplotlibDeprecationWarning: Axes3D(fig) adding itself to the figure is deprecated since 3.4. Pass the keyword argument auto_add_to_figure=False and use fig.add_axes(ax) to suppress this warning. The default value of auto_add_to_figure will change to False in mpl3.5 and True values will no longer work in 3.6.  This is consistent with other Axes classes.\n",
      "  axes = Axes3D(figure, rect=[0, 0, 1, 1],\n"
     ]
    },
    {
     "name": "stdout",
     "output_type": "stream",
     "text": [
      "[-0.0734266  -0.07313663 -0.07284498 ...  0.28836201  0.29367606\n",
      "  0.29438597]\n",
      "[-0.08097564 -0.07913839 -0.07909345 ...  0.24601229  0.24966821\n",
      "  0.25970006]\n",
      "[-0.0734266  -0.07313663 -0.07284498 ...  0.28836201  0.29367606\n",
      "  0.29438597]\n",
      "[-0.08097564 -0.07913839 -0.07909345 ...  0.24601229  0.24966821\n",
      "  0.25970006]\n"
     ]
    },
    {
     "name": "stderr",
     "output_type": "stream",
     "text": [
      "pixdim[1,2,3] should be non-zero; setting 0 dims to 1\n",
      "pixdim[1,2,3] should be non-zero; setting 0 dims to 1\n",
      "pixdim[1,2,3] should be non-zero; setting 0 dims to 1\n",
      "pixdim[1,2,3] should be non-zero; setting 0 dims to 1\n"
     ]
    },
    {
     "name": "stdout",
     "output_type": "stream",
     "text": [
      "Cannot load file ../sourcedata/data/human-connectome-project-openaccess/HCP1200/100610/T1w/fsaverage_LR59k/100610.sulc_1.6mm_MSMAll.59k_fs_LR.dscalar.nii with sulcal depth data\n"
     ]
    },
    {
     "name": "stderr",
     "output_type": "stream",
     "text": [
      "/om2/vast/gablab/jsmentch/projects/nat_img/code/nilearn_plotting_custom.py:184: MatplotlibDeprecationWarning: Axes3D(fig) adding itself to the figure is deprecated since 3.4. Pass the keyword argument auto_add_to_figure=False and use fig.add_axes(ax) to suppress this warning. The default value of auto_add_to_figure will change to False in mpl3.5 and True values will no longer work in 3.6.  This is consistent with other Axes classes.\n",
      "  axes = Axes3D(figure, rect=[0, 0, 1, 1],\n"
     ]
    },
    {
     "name": "stdout",
     "output_type": "stream",
     "text": [
      "[-0.16829372 -0.16373909 -0.16305347 ...  0.37907454  0.38064992\n",
      "  0.41344457]\n",
      "[-0.19362171 -0.19314758 -0.19200827 ...  0.39819966  0.40569871\n",
      "  0.41067005]\n",
      "[-0.16829372 -0.16373909 -0.16305347 ...  0.37907454  0.38064992\n",
      "  0.41344457]\n",
      "[-0.19362171 -0.19314758 -0.19200827 ...  0.39819966  0.40569871\n",
      "  0.41067005]\n"
     ]
    },
    {
     "name": "stderr",
     "output_type": "stream",
     "text": [
      "pixdim[1,2,3] should be non-zero; setting 0 dims to 1\n",
      "pixdim[1,2,3] should be non-zero; setting 0 dims to 1\n",
      "pixdim[1,2,3] should be non-zero; setting 0 dims to 1\n",
      "pixdim[1,2,3] should be non-zero; setting 0 dims to 1\n"
     ]
    },
    {
     "name": "stdout",
     "output_type": "stream",
     "text": [
      "Cannot load file ../sourcedata/data/human-connectome-project-openaccess/HCP1200/100610/T1w/fsaverage_LR59k/100610.sulc_1.6mm_MSMAll.59k_fs_LR.dscalar.nii with sulcal depth data\n"
     ]
    },
    {
     "name": "stderr",
     "output_type": "stream",
     "text": [
      "/om2/vast/gablab/jsmentch/projects/nat_img/code/nilearn_plotting_custom.py:184: MatplotlibDeprecationWarning: Axes3D(fig) adding itself to the figure is deprecated since 3.4. Pass the keyword argument auto_add_to_figure=False and use fig.add_axes(ax) to suppress this warning. The default value of auto_add_to_figure will change to False in mpl3.5 and True values will no longer work in 3.6.  This is consistent with other Axes classes.\n",
      "  axes = Axes3D(figure, rect=[0, 0, 1, 1],\n"
     ]
    },
    {
     "name": "stdout",
     "output_type": "stream",
     "text": [
      "[-8.78001197 -8.5574039  -8.43195635 ... -0.05614218 -0.05377984\n",
      "  0.        ]\n",
      "[-7.76330744 -6.90175099 -6.77097134 ... -0.05111781 -0.04560819\n",
      "  0.        ]\n",
      "[-8.78001197 -8.5574039  -8.43195635 ... -0.05614218 -0.05377984\n",
      "  0.        ]\n",
      "[-7.76330744 -6.90175099 -6.77097134 ... -0.05111781 -0.04560819\n",
      "  0.        ]\n"
     ]
    },
    {
     "ename": "PermissionError",
     "evalue": "[Errno 13] Permission denied: '../outputs/figures/HCP_7T/ridgeCV_100610_mfs_r2.png'",
     "output_type": "error",
     "traceback": [
      "\u001b[0;31m---------------------------------------------------------------------------\u001b[0m",
      "\u001b[0;31mPermissionError\u001b[0m                           Traceback (most recent call last)",
      "\u001b[0;32m<ipython-input-2-ad8f585eac7c>\u001b[0m in \u001b[0;36m<module>\u001b[0;34m\u001b[0m\n\u001b[1;32m     22\u001b[0m     \u001b[0mnp\u001b[0m\u001b[0;34m.\u001b[0m\u001b[0msave\u001b[0m\u001b[0;34m(\u001b[0m\u001b[0;34mf'../outputs/encoding_model/HCP_7T/{feature}/ridgeCV_{subject}_{feature}_corr.npy'\u001b[0m\u001b[0;34m,\u001b[0m\u001b[0mcorr_mean\u001b[0m\u001b[0;34m)\u001b[0m\u001b[0;34m\u001b[0m\u001b[0;34m\u001b[0m\u001b[0m\n\u001b[1;32m     23\u001b[0m     \u001b[0mnp\u001b[0m\u001b[0;34m.\u001b[0m\u001b[0msave\u001b[0m\u001b[0;34m(\u001b[0m\u001b[0;34mf'../outputs/encoding_model/HCP_7T/{feature}/ridgeCV_{subject}_{feature}_weights.npy'\u001b[0m\u001b[0;34m,\u001b[0m\u001b[0mweights_mean\u001b[0m\u001b[0;34m)\u001b[0m\u001b[0;34m\u001b[0m\u001b[0;34m\u001b[0m\u001b[0m\n\u001b[0;32m---> 24\u001b[0;31m     \u001b[0manalysis\u001b[0m\u001b[0;34m.\u001b[0m\u001b[0mplot_results\u001b[0m\u001b[0;34m(\u001b[0m\u001b[0mscores_mean\u001b[0m\u001b[0;34m,\u001b[0m\u001b[0;34m'r2'\u001b[0m\u001b[0;34m,\u001b[0m\u001b[0;34m'59k'\u001b[0m\u001b[0;34m,\u001b[0m\u001b[0mvertex_info\u001b[0m\u001b[0;34m,\u001b[0m\u001b[0msubject\u001b[0m\u001b[0;34m,\u001b[0m\u001b[0mfeature\u001b[0m\u001b[0;34m,\u001b[0m\u001b[0mdataset\u001b[0m\u001b[0;34m,\u001b[0m\u001b[0;34m'ridgeCV'\u001b[0m\u001b[0;34m)\u001b[0m\u001b[0;34m\u001b[0m\u001b[0;34m\u001b[0m\u001b[0m\n\u001b[0m",
      "\u001b[0;32m/om2/vast/gablab/jsmentch/projects/nat_img/code/analysis.py\u001b[0m in \u001b[0;36mplot_results\u001b[0;34m(scores, score_type, data_type, vertex_info, subject, feature, dataset, title)\u001b[0m\n\u001b[1;32m    372\u001b[0m     \u001b[0mdraw\u001b[0m\u001b[0;34m.\u001b[0m\u001b[0mtext\u001b[0m\u001b[0;34m(\u001b[0m\u001b[0;34m(\u001b[0m\u001b[0;36m0\u001b[0m\u001b[0;34m,\u001b[0m\u001b[0;36m0\u001b[0m\u001b[0;34m)\u001b[0m\u001b[0;34m,\u001b[0m\u001b[0;34mf\"{title}_{subject}_{feature}_{score_type}\"\u001b[0m\u001b[0;34m,\u001b[0m\u001b[0;34m(\u001b[0m\u001b[0;36m0\u001b[0m\u001b[0;34m,\u001b[0m\u001b[0;36m0\u001b[0m\u001b[0;34m,\u001b[0m\u001b[0;36m0\u001b[0m\u001b[0;34m)\u001b[0m\u001b[0;34m)\u001b[0m\u001b[0;34m\u001b[0m\u001b[0;34m\u001b[0m\u001b[0m\n\u001b[1;32m    373\u001b[0m \u001b[0;34m\u001b[0m\u001b[0m\n\u001b[0;32m--> 374\u001b[0;31m     \u001b[0mnew_im\u001b[0m\u001b[0;34m.\u001b[0m\u001b[0msave\u001b[0m\u001b[0;34m(\u001b[0m\u001b[0;34mf'{save_dir}{title}_{subject}_{feature}_{score_type}.png'\u001b[0m\u001b[0;34m)\u001b[0m\u001b[0;34m\u001b[0m\u001b[0;34m\u001b[0m\u001b[0m\n\u001b[0m\u001b[1;32m    375\u001b[0m \u001b[0;31m#     os.remove(f'{scratch_dir}/flat_L.png')\u001b[0m\u001b[0;34m\u001b[0m\u001b[0;34m\u001b[0m\u001b[0;34m\u001b[0m\u001b[0m\n\u001b[1;32m    376\u001b[0m \u001b[0;31m#     os.remove(f'{scratch_dir}/flat_R.png')\u001b[0m\u001b[0;34m\u001b[0m\u001b[0;34m\u001b[0m\u001b[0;34m\u001b[0m\u001b[0m\n",
      "\u001b[0;32m/opt/miniconda-latest/lib/python3.8/site-packages/PIL/Image.py\u001b[0m in \u001b[0;36msave\u001b[0;34m(self, fp, format, **params)\u001b[0m\n\u001b[1;32m   2159\u001b[0m                 \u001b[0mfp\u001b[0m \u001b[0;34m=\u001b[0m \u001b[0mbuiltins\u001b[0m\u001b[0;34m.\u001b[0m\u001b[0mopen\u001b[0m\u001b[0;34m(\u001b[0m\u001b[0mfilename\u001b[0m\u001b[0;34m,\u001b[0m \u001b[0;34m\"r+b\"\u001b[0m\u001b[0;34m)\u001b[0m\u001b[0;34m\u001b[0m\u001b[0;34m\u001b[0m\u001b[0m\n\u001b[1;32m   2160\u001b[0m             \u001b[0;32melse\u001b[0m\u001b[0;34m:\u001b[0m\u001b[0;34m\u001b[0m\u001b[0;34m\u001b[0m\u001b[0m\n\u001b[0;32m-> 2161\u001b[0;31m                 \u001b[0mfp\u001b[0m \u001b[0;34m=\u001b[0m \u001b[0mbuiltins\u001b[0m\u001b[0;34m.\u001b[0m\u001b[0mopen\u001b[0m\u001b[0;34m(\u001b[0m\u001b[0mfilename\u001b[0m\u001b[0;34m,\u001b[0m \u001b[0;34m\"w+b\"\u001b[0m\u001b[0;34m)\u001b[0m\u001b[0;34m\u001b[0m\u001b[0;34m\u001b[0m\u001b[0m\n\u001b[0m\u001b[1;32m   2162\u001b[0m \u001b[0;34m\u001b[0m\u001b[0m\n\u001b[1;32m   2163\u001b[0m         \u001b[0;32mtry\u001b[0m\u001b[0;34m:\u001b[0m\u001b[0;34m\u001b[0m\u001b[0;34m\u001b[0m\u001b[0m\n",
      "\u001b[0;31mPermissionError\u001b[0m: [Errno 13] Permission denied: '../outputs/figures/HCP_7T/ridgeCV_100610_mfs_r2.png'"
     ]
    }
   ],
   "source": [
    "features=['chroma', 'mfcc', 'mfs', 'as_embed']\n",
    "\n",
    "subject=100610\n",
    "dataset='HCP_7T'\n",
    "#feature=\n",
    "for feature in features:\n",
    "\n",
    "    #temp_dir = '../../tmp'\n",
    "    #if not os.path.exists(temp_dir):\n",
    "    #    os.mkdir(temp_dir)\n",
    "\n",
    "    n_movies=[1,2,3,4]\n",
    "\n",
    "    #n_movies=[1]\n",
    "    X,Y,vertex_info = analysis.load_data_HCP(subject,feature,n_movies)\n",
    "    X = hrf_tools.apply_optimal_hrf_10hz(X,1)\n",
    "    scores_mean,corr_mean,weights_mean = analysis.simple_ridgeCV(X,Y)\n",
    "    #np.save(f'{temp_dir}/r2_{subject}_{feature}.npy',scores_mean)\n",
    "    #np.save(f'{temp_dir}/r_{subject}_{feature}.npy',corr_mean)\n",
    "    #np.save(f'{temp_dir}/w_{subject}_{feature}.npy',weights_mean)\n",
    "    np.save(f'../outputs/encoding_model/HCP_7T/{feature}/ridgeCV_{subject}_{feature}_scores.npy',scores_mean)\n",
    "    np.save(f'../outputs/encoding_model/HCP_7T/{feature}/ridgeCV_{subject}_{feature}_corr.npy',corr_mean)\n",
    "    np.save(f'../outputs/encoding_model/HCP_7T/{feature}/ridgeCV_{subject}_{feature}_weights.npy',weights_mean)\n",
    "    analysis.plot_results(scores_mean,'r2','59k',vertex_info,subject,feature,dataset,'ridgeCV')"
   ]
  },
  {
   "cell_type": "code",
   "execution_count": null,
   "id": "c7adb836-f95f-4c64-83f7-4c81742d1465",
   "metadata": {},
   "outputs": [],
   "source": []
  }
 ],
 "metadata": {
  "kernelspec": {
   "display_name": "Python 3",
   "language": "python",
   "name": "python3"
  },
  "language_info": {
   "codemirror_mode": {
    "name": "ipython",
    "version": 3
   },
   "file_extension": ".py",
   "mimetype": "text/x-python",
   "name": "python",
   "nbconvert_exporter": "python",
   "pygments_lexer": "ipython3",
   "version": "3.8.5"
  }
 },
 "nbformat": 4,
 "nbformat_minor": 5
}
