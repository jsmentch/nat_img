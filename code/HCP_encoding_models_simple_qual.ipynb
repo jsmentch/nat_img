{
 "cells": [
  {
   "cell_type": "code",
   "execution_count": 13,
   "id": "f3e6936c-ff43-451c-97d1-ef1c22f9cfde",
   "metadata": {},
   "outputs": [
    {
     "name": "stderr",
     "output_type": "stream",
     "text": [
      "pixdim[1,2,3] should be non-zero; setting 0 dims to 1\n"
     ]
    },
    {
     "name": "stdout",
     "output_type": "stream",
     "text": [
      "Cannot load file ../sourcedata/data/human-connectome-project-openaccess/HCP1200/100610/T1w/fsaverage_LR59k/100610.sulc_1.6mm_MSMAll.59k_fs_LR.dscalar.nii with sulcal depth data\n"
     ]
    },
    {
     "name": "stderr",
     "output_type": "stream",
     "text": [
      "/om2/vast/gablab/jsmentch/projects/nat_img/code/nilearn_plotting_custom.py:184: MatplotlibDeprecationWarning: Axes3D(fig) adding itself to the figure is deprecated since 3.4. Pass the keyword argument auto_add_to_figure=False and use fig.add_axes(ax) to suppress this warning. The default value of auto_add_to_figure will change to False in mpl3.5 and True values will no longer work in 3.6.  This is consistent with other Axes classes.\n",
      "  axes = Axes3D(figure, rect=[0, 0, 1, 1],\n"
     ]
    },
    {
     "name": "stdout",
     "output_type": "stream",
     "text": [
      "[-2.52909565 -2.51394542 -2.35544168 ...  0.35331407  0.35779066\n",
      "  0.3613207 ]\n",
      "[-3.14854555 -2.9403325  -2.87722879 ...  0.37165975  0.41509048\n",
      "  0.42390221]\n",
      "[-2.52909565 -2.51394542 -2.35544168 ...  0.35331407  0.35779066\n",
      "  0.3613207 ]\n",
      "[-3.14854555 -2.9403325  -2.87722879 ...  0.37165975  0.41509048\n",
      "  0.42390221]\n"
     ]
    }
   ],
   "source": [
    "import os\n",
    "import analysis\n",
    "import hrf_tools\n",
    "import numpy as np\n",
    "#import matplotlib\n",
    "#matplotlib.rcParams['figure.figsize'] = (6, 4)\n",
    "# this is run by run_datalad_run_encoding_model.sh\n",
    "# \"python ./run_encoding_model.py $sub $2\"\n",
    "\n",
    "subject=100610\n",
    "feature='as_scores'\n",
    "dataset='HCP_7T'\n",
    "\n",
    "#temp_dir = '../../tmp'\n",
    "#if not os.path.exists(temp_dir):\n",
    "#    os.mkdir(temp_dir)\n",
    "\n",
    "#n_movies=[1,2,3,4]\n",
    "\n",
    "n_movies=[1]\n",
    "X,Y,vertex_info = analysis.load_data_HCP(subject,feature,n_movies)\n",
    "X = hrf_tools.apply_optimal_hrf_10hz(X,1)\n",
    "scores_mean,corr_mean,weights_mean = analysis.simple_ridgeCV(X,Y)\n",
    "#np.save(f'{temp_dir}/r2_{subject}_{feature}.npy',scores_mean)\n",
    "#np.save(f'{temp_dir}/r_{subject}_{feature}.npy',corr_mean)\n",
    "#np.save(f'{temp_dir}/w_{subject}_{feature}.npy',weights_mean)\n",
    "analysis.plot_results(scores_mean,'r2','59k',vertex_info,subject,feature,dataset,'ridgeCV_qual')"
   ]
  },
  {
   "cell_type": "code",
   "execution_count": null,
   "id": "65630f19-786a-4f28-956c-9376e13e2e85",
   "metadata": {},
   "outputs": [],
   "source": []
  }
 ],
 "metadata": {
  "kernelspec": {
   "display_name": "Python 3",
   "language": "python",
   "name": "python3"
  },
  "language_info": {
   "codemirror_mode": {
    "name": "ipython",
    "version": 3
   },
   "file_extension": ".py",
   "mimetype": "text/x-python",
   "name": "python",
   "nbconvert_exporter": "python",
   "pygments_lexer": "ipython3",
   "version": "3.8.5"
  }
 },
 "nbformat": 4,
 "nbformat_minor": 5
}
