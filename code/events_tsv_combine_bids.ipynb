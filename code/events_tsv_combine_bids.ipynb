{
 "cells": [
  {
   "cell_type": "code",
   "execution_count": 31,
   "id": "6eae9b86-9a4b-472a-b11e-12ba934512da",
   "metadata": {},
   "outputs": [],
   "source": [
    "import pandas as pd\n",
    "from pathlib import Path\n",
    "import os\n",
    "\n",
    "in_dir='/nobackup/scratch/Tue/jsmentch/fitlins/merlin/'\n",
    "\n",
    "def combine_bids_tsvs(in_dir):\n",
    "    # input = a directory of .tsv files \n",
    "    # eg '/nobackup/scratch/Tue/jsmentch/fitlins/merlin/'\n",
    "    # with:\n",
    "        # 3 columns: onset, duration, value\n",
    "        # title=feature name\n",
    "    # output = a combined tsv with an additional column 'trial_type' with the feature name\n",
    "    files = [f for f in os.listdir(in_dir) if os.path.isfile(os.path.join(in_dir, f))]\n",
    "\n",
    "    #first make an empty df with the columns\n",
    "    df_out= pd.DataFrame(columns=['onset', 'duration', 'value', 'trial_type'])\n",
    "\n",
    "    for f in files:\n",
    "        f_base = os.path.splitext(f)[0]\n",
    "        df=pd.read_csv(f'{in_dir}/{f}', sep='\\t')\n",
    "        df['trial_type'] = pd.Series([f_base for x in range(len(speech.index))])\n",
    "        df_out = df_out.append(df)\n",
    "\n",
    "    df_out.to_csv(f'{in_dir}combined.tsv', sep=\"\\t\")\n"
   ]
  },
  {
   "cell_type": "code",
   "execution_count": 33,
   "id": "a8be0694-2630-45da-8eab-d8ef81f19e78",
   "metadata": {},
   "outputs": [],
   "source": [
    "combine_bids_tsvs(in_dir)"
   ]
  },
  {
   "cell_type": "code",
   "execution_count": null,
   "id": "81bdd588-307f-46e9-ac93-eb772e7057bc",
   "metadata": {},
   "outputs": [],
   "source": []
  }
 ],
 "metadata": {
  "kernelspec": {
   "display_name": "Python 3",
   "language": "python",
   "name": "python3"
  },
  "language_info": {
   "codemirror_mode": {
    "name": "ipython",
    "version": 3
   },
   "file_extension": ".py",
   "mimetype": "text/x-python",
   "name": "python",
   "nbconvert_exporter": "python",
   "pygments_lexer": "ipython3",
   "version": "3.8.5"
  }
 },
 "nbformat": 4,
 "nbformat_minor": 5
}
