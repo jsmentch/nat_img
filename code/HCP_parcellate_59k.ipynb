{
 "cells": [
  {
   "cell_type": "code",
   "execution_count": 1,
   "id": "8cb2c180-cd38-4468-8294-61c2c87a6018",
   "metadata": {},
   "outputs": [
    {
     "name": "stderr",
     "output_type": "stream",
     "text": [
      "/opt/miniconda-latest/lib/python3.8/site-packages/nilearn/datasets/__init__.py:87: FutureWarning: Fetchers from the nilearn.datasets module will be updated in version 0.9 to return python strings instead of bytes and Pandas dataframes instead of Numpy arrays.\n",
      "  warn(\"Fetchers from the nilearn.datasets module will be \"\n",
      "pixdim[1,2,3] should be non-zero; setting 0 dims to 1\n"
     ]
    }
   ],
   "source": [
    "import os\n",
    "import analysis\n",
    "import hrf_tools\n",
    "import numpy as np\n",
    "import nibabel as nb\n",
    "from matplotlib import pyplot as plt  # Matlab-ish plotting commands\n",
    "\n",
    "#import matplotlib\n",
    "#matplotlib.rcParams['figure.figsize'] = (6, 4)\n",
    "# this is run by run_datalad_run_encoding_model.sh\n",
    "# \"python ./run_encoding_model.py $sub $2\""
   ]
  },
  {
   "cell_type": "code",
   "execution_count": 2,
   "id": "ea18d4dc-aeb6-4b6c-b4c9-5b90d6b4d3a6",
   "metadata": {},
   "outputs": [],
   "source": [
    "parcels='../sourcedata/data/parcellations/combined_Q1-Q6_RelatedParcellation210.CorticalAreas_dil_Final_Final_Areas_Group_Colors.59k_fs_LR.dlabel.nii'\n",
    "p_59k=nb.load(parcels)\n",
    "p_59k_ind=np.array(p_59k.get_fdata())"
   ]
  },
  {
   "cell_type": "code",
   "execution_count": 3,
   "id": "fce3cb4d-5aea-444f-b652-9733892ffd30",
   "metadata": {},
   "outputs": [],
   "source": [
    "axes = [p_59k.header.get_axis(i) for i in range(p_59k.ndim)]\n",
    "label_axis, brain_model_axis = axes\n",
    "#label_axis[0] #list the regions"
   ]
  },
  {
   "cell_type": "code",
   "execution_count": 4,
   "id": "27da4c37-f403-49a8-9c3d-23b001c99479",
   "metadata": {},
   "outputs": [],
   "source": [
    "def surf_data_from_cifti(data, axis, surf_name):\n",
    "    assert isinstance(axis, nb.cifti2.BrainModelAxis)\n",
    "    for name, data_indices, model in axis.iter_structures():  # Iterates over volumetric and surface structures\n",
    "        if name == surf_name:                                 # Just looking for a surface\n",
    "            data = data.T[data_indices]                       # Assume brainmodels axis is last, move it to front\n",
    "            vtx_indices = model.vertex                        # Generally 1-N, except medial wall vertices\n",
    "            surf_data = np.zeros((vtx_indices.max() + 1,) + data.shape[1:], dtype=data.dtype)\n",
    "            surf_data[vtx_indices] = data\n",
    "            return surf_data\n",
    "    raise ValueError(f\"No structure named {surf_name}\")"
   ]
  },
  {
   "cell_type": "code",
   "execution_count": 5,
   "id": "e5573300-1be2-4076-8de9-d2a2e31da575",
   "metadata": {},
   "outputs": [],
   "source": [
    "volume= (p_59k,brain_model_axis)"
   ]
  },
  {
   "cell_type": "code",
   "execution_count": 6,
   "id": "952cfe7a-f141-4e11-943e-402eaf56de04",
   "metadata": {},
   "outputs": [
    {
     "data": {
      "text/plain": [
       "(<nibabel.cifti2.cifti2.Cifti2Image at 0x2b37df4547f0>,\n",
       " <nibabel.cifti2.cifti2_axes.BrainModelAxis at 0x2b37b3f43460>)"
      ]
     },
     "execution_count": 6,
     "metadata": {},
     "output_type": "execute_result"
    }
   ],
   "source": [
    "volume"
   ]
  },
  {
   "cell_type": "code",
   "execution_count": 7,
   "id": "599cafd1-3be6-4377-aac0-2253414c2e46",
   "metadata": {},
   "outputs": [],
   "source": [
    "#a1,lbelt,mbelt,pbelt,RI (early)\n",
    "#a4,a5,STSdp,STSda,STSvp,STSva,STGa,TA2\n",
    "auditory_regions=[24,204,174,354,173,353,124,304,104,284,175,355,125,305,129,309,128,308,130,310,176,356,123,303,107,287]\n",
    "early_auditory_regions=[24,204,174,354,173,353,124,304,104,284]"
   ]
  },
  {
   "cell_type": "code",
   "execution_count": 8,
   "id": "3d6f37ce-23b5-4a9e-8ae9-ff34ebcab571",
   "metadata": {},
   "outputs": [],
   "source": [
    "auditory_mask=np.zeros(p_59k_ind.shape)\n",
    "for i in auditory_regions:\n",
    "    for ii in np.where(p_59k_ind==i)[1]:\n",
    "        auditory_mask[0,ii]=1\n",
    "        \n",
    "early_auditory_mask=np.zeros(p_59k_ind.shape)\n",
    "for i in early_auditory_regions:\n",
    "    for ii in np.where(p_59k_ind==i)[1]:\n",
    "        early_auditory_mask[0,ii]=1"
   ]
  },
  {
   "cell_type": "code",
   "execution_count": 10,
   "id": "db3e812b-a1e8-49ba-82a3-07c86ede8d61",
   "metadata": {},
   "outputs": [],
   "source": [
    "np.save('../sourcedata/data/parcellations/mmp_59k.npy',p_59k_ind )\n",
    "np.save('../sourcedata/data/parcellations/early_auditory_59k.npy',early_auditory_mask )\n",
    "np.save('../sourcedata/data/parcellations/auditory_59k.npy',auditory_mask )"
   ]
  },
  {
   "cell_type": "code",
   "execution_count": null,
   "id": "30cc8fb3-bcf5-4730-9713-1b9164807f2b",
   "metadata": {},
   "outputs": [],
   "source": []
  }
 ],
 "metadata": {
  "kernelspec": {
   "display_name": "Python 3 (ipykernel)",
   "language": "python",
   "name": "python3"
  },
  "language_info": {
   "codemirror_mode": {
    "name": "ipython",
    "version": 3
   },
   "file_extension": ".py",
   "mimetype": "text/x-python",
   "name": "python",
   "nbconvert_exporter": "python",
   "pygments_lexer": "ipython3",
   "version": "3.9.13"
  }
 },
 "nbformat": 4,
 "nbformat_minor": 5
}
