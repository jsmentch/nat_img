{
 "cells": [
  {
   "cell_type": "code",
   "execution_count": 2,
   "id": "8cb2c180-cd38-4468-8294-61c2c87a6018",
   "metadata": {},
   "outputs": [],
   "source": [
    "import os\n",
    "import analysis\n",
    "import hrf_tools\n",
    "import numpy as np\n",
    "import nibabel as nb\n",
    "#import matplotlib\n",
    "#matplotlib.rcParams['figure.figsize'] = (6, 4)\n",
    "# this is run by run_datalad_run_encoding_model.sh\n",
    "# \"python ./run_encoding_model.py $sub $2\""
   ]
  },
  {
   "cell_type": "code",
   "execution_count": 48,
   "id": "ea18d4dc-aeb6-4b6c-b4c9-5b90d6b4d3a6",
   "metadata": {},
   "outputs": [],
   "source": [
    "parcels='../sourcedata/data/parcellations/Q1-Q6_RelatedParcellation210.CorticalAreas_dil_Final_Final_Areas_Group_Colors.59k_fs_LR.dlabel.nii'\n",
    "p_59k=nb.load(parcels)\n",
    "p_59k_ind=np.array(p_59k.get_fdata())"
   ]
  },
  {
   "cell_type": "code",
   "execution_count": 17,
   "id": "fce3cb4d-5aea-444f-b652-9733892ffd30",
   "metadata": {},
   "outputs": [],
   "source": [
    "axes = [p_59k.header.get_axis(i) for i in range(p_59k.ndim)]\n",
    "label_axis, brain_model_axis = axes\n",
    "label_axis[0] #list the regions"
   ]
  },
  {
   "cell_type": "code",
   "execution_count": 72,
   "id": "599cafd1-3be6-4377-aac0-2253414c2e46",
   "metadata": {},
   "outputs": [],
   "source": [
    "#a1,lbelt,mbelt,pbelt,RI (early)\n",
    "#a4,a5,STSdp,STSda,STSvp,STSva,STGa,TA2\n",
    "auditory_regions=[24,204,174,354,173,353,124,304,104,284,175,355,125,305,129,309,128,308,130,310,176,356,123,303,107,287]\n",
    "early_auditory_regions=[24,204,174,354,173,353,124,304,104,284]"
   ]
  },
  {
   "cell_type": "code",
   "execution_count": 73,
   "id": "3d6f37ce-23b5-4a9e-8ae9-ff34ebcab571",
   "metadata": {},
   "outputs": [],
   "source": [
    "auditory_mask=np.zeros(p_59k_ind.shape)\n",
    "for i in auditory_regions:\n",
    "    for ii in np.where(p_59k_ind==i)[1]:\n",
    "        auditory_mask[0,ii]=1\n",
    "        \n",
    "early_auditory_mask=np.zeros(p_59k_ind.shape)\n",
    "for i in early_auditory_regions:\n",
    "    for ii in np.where(p_59k_ind==i)[1]:\n",
    "        early_auditory_mask[0,ii]=1"
   ]
  },
  {
   "cell_type": "code",
   "execution_count": 74,
   "id": "db3e812b-a1e8-49ba-82a3-07c86ede8d61",
   "metadata": {},
   "outputs": [],
   "source": [
    "np.save('../sourcedata/data/parcellations/mmp_59k.npy',p_59k_ind )\n",
    "np.save('../sourcedata/data/parcellations/early_auditory_59k.npy',early_auditory_mask )\n",
    "np.save('../sourcedata/data/parcellations/auditory_59k.npy',auditory_mask )"
   ]
  },
  {
   "cell_type": "code",
   "execution_count": null,
   "id": "30cc8fb3-bcf5-4730-9713-1b9164807f2b",
   "metadata": {},
   "outputs": [],
   "source": []
  }
 ],
 "metadata": {
  "kernelspec": {
   "display_name": "Python 3",
   "language": "python",
   "name": "python3"
  },
  "language_info": {
   "codemirror_mode": {
    "name": "ipython",
    "version": 3
   },
   "file_extension": ".py",
   "mimetype": "text/x-python",
   "name": "python",
   "nbconvert_exporter": "python",
   "pygments_lexer": "ipython3",
   "version": "3.8.5"
  }
 },
 "nbformat": 4,
 "nbformat_minor": 5
}
