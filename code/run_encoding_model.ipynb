{
 "cells": [
  {
   "cell_type": "code",
   "execution_count": 1,
   "id": "d73815ab-3d50-4ce3-9901-bb24ddf5bb40",
   "metadata": {},
   "outputs": [
    {
     "name": "stderr",
     "output_type": "stream",
     "text": [
      "/opt/miniconda-latest/lib/python3.8/site-packages/nilearn/datasets/__init__.py:87: FutureWarning: Fetchers from the nilearn.datasets module will be updated in version 0.9 to return python strings instead of bytes and Pandas dataframes instead of Numpy arrays.\n",
      "  warn(\"Fetchers from the nilearn.datasets module will be \"\n",
      "pixdim[1,2,3] should be non-zero; setting 0 dims to 1\n"
     ]
    }
   ],
   "source": [
    "import analysis\n",
    "import hrf_tools"
   ]
  },
  {
   "cell_type": "code",
   "execution_count": 2,
   "id": "e6925d76-6da9-46fe-947b-4efc1884c035",
   "metadata": {},
   "outputs": [
    {
     "name": "stderr",
     "output_type": "stream",
     "text": [
      "pixdim[1,2,3] should be non-zero; setting 0 dims to 1\n"
     ]
    }
   ],
   "source": [
    "subject=100610\n",
    "feature='as_scores'\n",
    "n_movies=[1]\n",
    "X,Y,vertex_info = analysis.load_data_HCP(subject,feature,n_movies)"
   ]
  },
  {
   "cell_type": "code",
   "execution_count": 3,
   "id": "4e0ceb24-ac46-41ff-9da5-4ab3cf918cde",
   "metadata": {},
   "outputs": [
    {
     "data": {
      "text/plain": [
       "(798, 170494)"
      ]
     },
     "execution_count": 3,
     "metadata": {},
     "output_type": "execute_result"
    }
   ],
   "source": [
    "Y.shape"
   ]
  },
  {
   "cell_type": "code",
   "execution_count": 6,
   "id": "10137dfc-265f-4476-844d-e65a739ad065",
   "metadata": {},
   "outputs": [],
   "source": [
    "X = hrf_tools.apply_optimal_hrf_10hz(X,1)"
   ]
  },
  {
   "cell_type": "code",
   "execution_count": 7,
   "id": "8ae7150e-7113-43d9-b668-fd0bb7802eea",
   "metadata": {},
   "outputs": [],
   "source": [
    "scores_mean,corr_mean,weights_mean = analysis.simple_ridgeCV(X,Y)"
   ]
  },
  {
   "cell_type": "code",
   "execution_count": 12,
   "id": "0a41e328-5b5f-4951-b6c0-393c7d348c48",
   "metadata": {},
   "outputs": [
    {
     "ename": "NameError",
     "evalue": "name 'scores_mean' is not defined",
     "output_type": "error",
     "traceback": [
      "\u001b[0;31m---------------------------------------------------------------------------\u001b[0m",
      "\u001b[0;31mNameError\u001b[0m                                 Traceback (most recent call last)",
      "\u001b[0;32m<ipython-input-12-cba8bad4cd42>\u001b[0m in \u001b[0;36m<module>\u001b[0;34m\u001b[0m\n\u001b[0;32m----> 1\u001b[0;31m \u001b[0manalysis\u001b[0m\u001b[0;34m.\u001b[0m\u001b[0mplot_results\u001b[0m\u001b[0;34m(\u001b[0m\u001b[0mscores_mean\u001b[0m\u001b[0;34m,\u001b[0m\u001b[0;34m'r2'\u001b[0m\u001b[0;34m,\u001b[0m\u001b[0;34m'59k'\u001b[0m\u001b[0;34m,\u001b[0m\u001b[0mvertex_info\u001b[0m\u001b[0;34m,\u001b[0m\u001b[0;36m100610\u001b[0m\u001b[0;34m,\u001b[0m\u001b[0;34m'as_scores'\u001b[0m\u001b[0;34m,\u001b[0m\u001b[0;34m'HCP_7T'\u001b[0m\u001b[0;34m,\u001b[0m\u001b[0;34m'ridgeCV'\u001b[0m\u001b[0;34m)\u001b[0m\u001b[0;34m\u001b[0m\u001b[0;34m\u001b[0m\u001b[0m\n\u001b[0m",
      "\u001b[0;31mNameError\u001b[0m: name 'scores_mean' is not defined"
     ]
    }
   ],
   "source": [
    "analysis.plot_results(scores_mean,'r2','59k',vertex_info,100610,'as_scores','HCP_7T','ridgeCV')"
   ]
  },
  {
   "cell_type": "code",
   "execution_count": 85,
   "id": "fc3a8056-2743-440e-9f01-040b225c35d1",
   "metadata": {},
   "outputs": [],
   "source": [
    "import os"
   ]
  },
  {
   "cell_type": "code",
   "execution_count": 86,
   "id": "3e6817d3-b1dc-4c32-814b-7866a1fdff35",
   "metadata": {},
   "outputs": [
    {
     "data": {
      "text/plain": [
       "True"
      ]
     },
     "execution_count": 86,
     "metadata": {},
     "output_type": "execute_result"
    }
   ],
   "source": [
    "os.path.exists(scratch_dir)"
   ]
  },
  {
   "cell_type": "code",
   "execution_count": null,
   "id": "516a1b94-8ed0-49c4-8584-07d63b0abfd6",
   "metadata": {},
   "outputs": [],
   "source": []
  }
 ],
 "metadata": {
  "kernelspec": {
   "display_name": "Python 3",
   "language": "python",
   "name": "python3"
  },
  "language_info": {
   "codemirror_mode": {
    "name": "ipython",
    "version": 3
   },
   "file_extension": ".py",
   "mimetype": "text/x-python",
   "name": "python",
   "nbconvert_exporter": "python",
   "pygments_lexer": "ipython3",
   "version": "3.8.5"
  }
 },
 "nbformat": 4,
 "nbformat_minor": 5
}
