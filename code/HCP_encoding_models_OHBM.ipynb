{
 "cells": [
  {
   "cell_type": "code",
   "execution_count": 37,
   "id": "8cb2c180-cd38-4468-8294-61c2c87a6018",
   "metadata": {},
   "outputs": [],
   "source": [
    "import os\n",
    "import analysis\n",
    "import hrf_tools\n",
    "import numpy as np\n",
    "from utility import mask_cifti,unmask_cifti\n",
    "#import matplotlib\n",
    "#matplotlib.rcParams['figure.figsize'] = (6, 4)\n",
    "# this is run by run_datalad_run_encoding_model.sh\n",
    "# \"python ./run_encoding_model.py $sub $2\""
   ]
  },
  {
   "cell_type": "code",
   "execution_count": 2,
   "id": "4371dc6d-c0f0-45fb-8226-170329e1a4c9",
   "metadata": {},
   "outputs": [],
   "source": [
    "# 1: extract auditory areas (?)\n",
    "mmp_59k=np.load('../sourcedata/data/parcellations/mmp_59k.npy' )\n",
    "early_auditory_59k=np.load('../sourcedata/data/parcellations/early_auditory_59k.npy' )\n",
    "auditory_59k=np.load('../sourcedata/data/parcellations/auditory_59k.npy' )\n",
    "#no... these are just the surface and don't match up exactly with the cifti\n",
    "\n",
    "# run model on just specific features and combine across movies?\n",
    "# plot results of specific features\n",
    "\n",
    "\n",
    "# 2 extract primary auditory cortex\n",
    "# get mfs features? (coarse)\n",
    "# try to plot tonotopy"
   ]
  },
  {
   "cell_type": "code",
   "execution_count": 3,
   "id": "f3e6936c-ff43-451c-97d1-ef1c22f9cfde",
   "metadata": {},
   "outputs": [
    {
     "name": "stderr",
     "output_type": "stream",
     "text": [
      "pixdim[1,2,3] should be non-zero; setting 0 dims to 1\n",
      "/om2/vast/gablab/jsmentch/projects/nat_img/code/npp.py:12: RuntimeWarning: invalid value encountered in true_divide\n",
      "  zscore = lambda v: (v-v.mean(0))/v.std(0)\n",
      "/om2/vast/gablab/jsmentch/projects/nat_img/code/npp.py:12: RuntimeWarning: invalid value encountered in true_divide\n",
      "  zscore = lambda v: (v-v.mean(0))/v.std(0)\n",
      "/om2/vast/gablab/jsmentch/projects/nat_img/code/npp.py:12: RuntimeWarning: invalid value encountered in true_divide\n",
      "  zscore = lambda v: (v-v.mean(0))/v.std(0)\n",
      "/om2/vast/gablab/jsmentch/projects/nat_img/code/npp.py:12: RuntimeWarning: invalid value encountered in true_divide\n",
      "  zscore = lambda v: (v-v.mean(0))/v.std(0)\n",
      "/om2/vast/gablab/jsmentch/projects/nat_img/code/npp.py:12: RuntimeWarning: invalid value encountered in true_divide\n",
      "  zscore = lambda v: (v-v.mean(0))/v.std(0)\n"
     ]
    },
    {
     "name": "stdout",
     "output_type": "stream",
     "text": [
      "Cannot load file ../sourcedata/data/human-connectome-project-openaccess/HCP1200/100610/T1w/fsaverage_LR59k/100610.sulc_1.6mm_MSMAll.59k_fs_LR.dscalar.nii with sulcal depth data\n"
     ]
    },
    {
     "name": "stderr",
     "output_type": "stream",
     "text": [
      "/om2/vast/gablab/jsmentch/projects/nat_img/code/nilearn_plotting_custom.py:184: MatplotlibDeprecationWarning: Axes3D(fig) adding itself to the figure is deprecated since 3.4. Pass the keyword argument auto_add_to_figure=False and use fig.add_axes(ax) to suppress this warning. The default value of auto_add_to_figure will change to False in mpl3.5 and True values will no longer work in 3.6.  This is consistent with other Axes classes.\n",
      "  axes = Axes3D(figure, rect=[0, 0, 1, 1],\n"
     ]
    },
    {
     "name": "stdout",
     "output_type": "stream",
     "text": [
      "[-1.1300591  -1.11564683 -1.0653404  ...  0.28958702  0.29298819\n",
      "  2.        ]\n",
      "[-1.28297963 -1.2453177  -1.15000152 ...  0.20792316  0.22223421\n",
      "  2.        ]\n",
      "[-1.1300591  -1.11564683 -1.0653404  ...  0.28958702  0.29298819\n",
      "  2.        ]\n",
      "[-1.28297963 -1.2453177  -1.15000152 ...  0.20792316  0.22223421\n",
      "  2.        ]\n"
     ]
    }
   ],
   "source": [
    "subject=100610\n",
    "feature='as_scores'\n",
    "dataset='HCP_7T'\n",
    "\n",
    "#temp_dir = '../../tmp'\n",
    "#if not os.path.exists(temp_dir):\n",
    "#    os.mkdir(temp_dir)\n",
    "\n",
    "#n_movies=[1,2,3,4]\n",
    "\n",
    "n_movies=[1]\n",
    "X,Y,vertex_info = analysis.load_data_HCP(subject,feature,n_movies)\n",
    "Y = np.multiply(Y,auditory_59k)\n",
    "\n",
    "X = hrf_tools.apply_optimal_hrf_10hz(X,1)\n",
    "scores_mean,corr_mean,weights_mean = analysis.simple_ridgeCV(X,Y)\n",
    "#np.save(f'{temp_dir}/r2_{subject}_{feature}.npy',scores_mean)\n",
    "#np.save(f'{temp_dir}/r_{subject}_{feature}.npy',corr_mean)\n",
    "#np.save(f'{temp_dir}/w_{subject}_{feature}.npy',weights_mean)\n",
    "analysis.plot_results(scores_mean,'r2','59k',vertex_info,subject,feature,dataset,'testing')"
   ]
  },
  {
   "cell_type": "code",
   "execution_count": 35,
   "id": "65630f19-786a-4f28-956c-9376e13e2e85",
   "metadata": {},
   "outputs": [
    {
     "name": "stderr",
     "output_type": "stream",
     "text": [
      "pixdim[1,2,3] should be non-zero; setting 0 dims to 1\n",
      "WARNING:nibabel.global:pixdim[1,2,3] should be non-zero; setting 0 dims to 1\n",
      "pixdim[1,2,3] should be non-zero; setting 0 dims to 1\n",
      "WARNING:nibabel.global:pixdim[1,2,3] should be non-zero; setting 0 dims to 1\n",
      "pixdim[1,2,3] should be non-zero; setting 0 dims to 1\n",
      "WARNING:nibabel.global:pixdim[1,2,3] should be non-zero; setting 0 dims to 1\n",
      "pixdim[1,2,3] should be non-zero; setting 0 dims to 1\n",
      "WARNING:nibabel.global:pixdim[1,2,3] should be non-zero; setting 0 dims to 1\n"
     ]
    },
    {
     "name": "stdout",
     "output_type": "stream",
     "text": [
      "Cannot load file ../sourcedata/data/human-connectome-project-openaccess/HCP1200/100610/T1w/fsaverage_LR59k/100610.sulc_1.6mm_MSMAll.59k_fs_LR.dscalar.nii with sulcal depth data\n"
     ]
    },
    {
     "name": "stderr",
     "output_type": "stream",
     "text": [
      "/om2/vast/gablab/jsmentch/projects/nat_img/code/nilearn_plotting_custom.py:184: MatplotlibDeprecationWarning: Axes3D(fig) adding itself to the figure is deprecated since 3.4. Pass the keyword argument auto_add_to_figure=False and use fig.add_axes(ax) to suppress this warning. The default value of auto_add_to_figure will change to False in mpl3.5 and True values will no longer work in 3.6.  This is consistent with other Axes classes.\n",
      "  axes = Axes3D(figure, rect=[0, 0, 1, 1],\n"
     ]
    },
    {
     "name": "stdout",
     "output_type": "stream",
     "text": [
      "[-0.09874155 -0.09447936 -0.09176275 ...  0.08007536  0.08030061\n",
      "  0.08299533]\n",
      "[-0.12813727 -0.11142669 -0.10869177 ...  0.07974633  0.08074034\n",
      "  0.09015352]\n",
      "[-0.09874155 -0.09447936 -0.09176275 ...  0.08007536  0.08030061\n",
      "  0.08299533]\n",
      "[-0.12813727 -0.11142669 -0.10869177 ...  0.07974633  0.08074034\n",
      "  0.09015352]\n"
     ]
    },
    {
     "name": "stderr",
     "output_type": "stream",
     "text": [
      "pixdim[1,2,3] should be non-zero; setting 0 dims to 1\n",
      "WARNING:nibabel.global:pixdim[1,2,3] should be non-zero; setting 0 dims to 1\n",
      "pixdim[1,2,3] should be non-zero; setting 0 dims to 1\n",
      "WARNING:nibabel.global:pixdim[1,2,3] should be non-zero; setting 0 dims to 1\n",
      "pixdim[1,2,3] should be non-zero; setting 0 dims to 1\n",
      "WARNING:nibabel.global:pixdim[1,2,3] should be non-zero; setting 0 dims to 1\n",
      "pixdim[1,2,3] should be non-zero; setting 0 dims to 1\n",
      "WARNING:nibabel.global:pixdim[1,2,3] should be non-zero; setting 0 dims to 1\n"
     ]
    },
    {
     "name": "stdout",
     "output_type": "stream",
     "text": [
      "Cannot load file ../sourcedata/data/human-connectome-project-openaccess/HCP1200/100610/T1w/fsaverage_LR59k/100610.sulc_1.6mm_MSMAll.59k_fs_LR.dscalar.nii with sulcal depth data\n"
     ]
    },
    {
     "name": "stderr",
     "output_type": "stream",
     "text": [
      "/om2/vast/gablab/jsmentch/projects/nat_img/code/nilearn_plotting_custom.py:184: MatplotlibDeprecationWarning: Axes3D(fig) adding itself to the figure is deprecated since 3.4. Pass the keyword argument auto_add_to_figure=False and use fig.add_axes(ax) to suppress this warning. The default value of auto_add_to_figure will change to False in mpl3.5 and True values will no longer work in 3.6.  This is consistent with other Axes classes.\n",
      "  axes = Axes3D(figure, rect=[0, 0, 1, 1],\n"
     ]
    },
    {
     "name": "stdout",
     "output_type": "stream",
     "text": [
      "[-0.11821039 -0.11120663 -0.10911523 ...  0.37689817  0.37785238\n",
      "  0.41344457]\n",
      "[-0.1043327  -0.10325978 -0.09787092 ...  0.39819966  0.40569871\n",
      "  0.41067005]\n",
      "[-0.11821039 -0.11120663 -0.10911523 ...  0.37689817  0.37785238\n",
      "  0.41344457]\n",
      "[-0.1043327  -0.10325978 -0.09787092 ...  0.39819966  0.40569871\n",
      "  0.41067005]\n"
     ]
    },
    {
     "name": "stderr",
     "output_type": "stream",
     "text": [
      "pixdim[1,2,3] should be non-zero; setting 0 dims to 1\n",
      "WARNING:nibabel.global:pixdim[1,2,3] should be non-zero; setting 0 dims to 1\n",
      "pixdim[1,2,3] should be non-zero; setting 0 dims to 1\n",
      "WARNING:nibabel.global:pixdim[1,2,3] should be non-zero; setting 0 dims to 1\n",
      "pixdim[1,2,3] should be non-zero; setting 0 dims to 1\n",
      "WARNING:nibabel.global:pixdim[1,2,3] should be non-zero; setting 0 dims to 1\n",
      "pixdim[1,2,3] should be non-zero; setting 0 dims to 1\n",
      "WARNING:nibabel.global:pixdim[1,2,3] should be non-zero; setting 0 dims to 1\n"
     ]
    },
    {
     "name": "stdout",
     "output_type": "stream",
     "text": [
      "Cannot load file ../sourcedata/data/human-connectome-project-openaccess/HCP1200/100610/T1w/fsaverage_LR59k/100610.sulc_1.6mm_MSMAll.59k_fs_LR.dscalar.nii with sulcal depth data\n"
     ]
    },
    {
     "name": "stderr",
     "output_type": "stream",
     "text": [
      "/om2/vast/gablab/jsmentch/projects/nat_img/code/nilearn_plotting_custom.py:184: MatplotlibDeprecationWarning: Axes3D(fig) adding itself to the figure is deprecated since 3.4. Pass the keyword argument auto_add_to_figure=False and use fig.add_axes(ax) to suppress this warning. The default value of auto_add_to_figure will change to False in mpl3.5 and True values will no longer work in 3.6.  This is consistent with other Axes classes.\n",
      "  axes = Axes3D(figure, rect=[0, 0, 1, 1],\n"
     ]
    },
    {
     "name": "stdout",
     "output_type": "stream",
     "text": [
      "[-6.23846697 -6.03544479 -6.02526766 ... -0.19196159 -0.19058153\n",
      "  0.        ]\n",
      "[-6.69174977 -6.62573654 -6.49540362 ... -0.12182349 -0.1206131\n",
      "  0.        ]\n",
      "[-6.23846697 -6.03544479 -6.02526766 ... -0.19196159 -0.19058153\n",
      "  0.        ]\n",
      "[-6.69174977 -6.62573654 -6.49540362 ... -0.12182349 -0.1206131\n",
      "  0.        ]\n"
     ]
    },
    {
     "name": "stderr",
     "output_type": "stream",
     "text": [
      "pixdim[1,2,3] should be non-zero; setting 0 dims to 1\n",
      "WARNING:nibabel.global:pixdim[1,2,3] should be non-zero; setting 0 dims to 1\n",
      "pixdim[1,2,3] should be non-zero; setting 0 dims to 1\n",
      "WARNING:nibabel.global:pixdim[1,2,3] should be non-zero; setting 0 dims to 1\n",
      "pixdim[1,2,3] should be non-zero; setting 0 dims to 1\n",
      "WARNING:nibabel.global:pixdim[1,2,3] should be non-zero; setting 0 dims to 1\n",
      "pixdim[1,2,3] should be non-zero; setting 0 dims to 1\n",
      "WARNING:nibabel.global:pixdim[1,2,3] should be non-zero; setting 0 dims to 1\n"
     ]
    },
    {
     "name": "stdout",
     "output_type": "stream",
     "text": [
      "Cannot load file ../sourcedata/data/human-connectome-project-openaccess/HCP1200/100610/T1w/fsaverage_LR59k/100610.sulc_1.6mm_MSMAll.59k_fs_LR.dscalar.nii with sulcal depth data\n"
     ]
    },
    {
     "name": "stderr",
     "output_type": "stream",
     "text": [
      "/om2/vast/gablab/jsmentch/projects/nat_img/code/nilearn_plotting_custom.py:184: MatplotlibDeprecationWarning: Axes3D(fig) adding itself to the figure is deprecated since 3.4. Pass the keyword argument auto_add_to_figure=False and use fig.add_axes(ax) to suppress this warning. The default value of auto_add_to_figure will change to False in mpl3.5 and True values will no longer work in 3.6.  This is consistent with other Axes classes.\n",
      "  axes = Axes3D(figure, rect=[0, 0, 1, 1],\n"
     ]
    },
    {
     "name": "stdout",
     "output_type": "stream",
     "text": [
      "[-1.10090557 -1.01409173 -1.01194066 ...  0.21562191  0.21690966\n",
      "  0.31819095]\n",
      "[-1.3501126  -1.2752137  -1.24016803 ...  0.34846168  0.37130277\n",
      "  0.37309082]\n",
      "[-1.10090557 -1.01409173 -1.01194066 ...  0.21562191  0.21690966\n",
      "  0.31819095]\n",
      "[-1.3501126  -1.2752137  -1.24016803 ...  0.34846168  0.37130277\n",
      "  0.37309082]\n"
     ]
    }
   ],
   "source": [
    "features=['chroma', 'mfcc', 'mfs', 'as_embed']\n",
    "\n",
    "subject=100610\n",
    "dataset='HCP_7T'\n",
    "#feature=\n",
    "for feature in features:\n",
    "\n",
    "    #temp_dir = '../../tmp'\n",
    "    #if not os.path.exists(temp_dir):\n",
    "    #    os.mkdir(temp_dir)\n",
    "\n",
    "    n_movies=[1,2,3,4]\n",
    "\n",
    "    #n_movies=[1]\n",
    "    X,Y,vertex_info = analysis.load_data_HCP(subject,feature,n_movies)\n",
    "    \n",
    "    Y=mask_cifti(auditory_59k,Y)\n",
    "    #Y = np.multiply(Y,auditory_59k)\n",
    "\n",
    "    X = hrf_tools.apply_optimal_hrf_10hz(X,1)\n",
    "    scores_mean,corr_mean,weights_mean = analysis.simple_ridgeCV(X,Y)\n",
    "    #np.save(f'{temp_dir}/r2_{subject}_{feature}.npy',scores_mean)\n",
    "    #np.save(f'{temp_dir}/r_{subject}_{feature}.npy',corr_mean)\n",
    "    #np.save(f'{temp_dir}/w_{subject}_{feature}.npy',weights_mean)\n",
    "#     np.save(f'../outputs/encoding_model/HCP_7T/{feature}/ridgeCV_{subject}_{feature}_scores.npy',scores_mean)\n",
    "#     np.save(f'../outputs/encoding_model/HCP_7T/{feature}/ridgeCV_{subject}_{feature}_corr.npy',corr_mean)\n",
    "#     np.save(f'../outputs/encoding_model/HCP_7T/{feature}/ridgeCV_{subject}_{feature}_weights.npy',weights_mean)\n",
    "    scores_mean=unmask_cifti(auditory_59k,scores_mean)\n",
    "\n",
    "    analysis.plot_results(scores_mean,'r2','59k',vertex_info,subject,feature,dataset,'ridgeCVtest3')"
   ]
  },
  {
   "cell_type": "markdown",
   "id": "9febeefd-bf60-49e7-95f8-397b410ab4e8",
   "metadata": {},
   "source": [
    "## apply the roi better - don't set things to zero, actually extract it"
   ]
  },
  {
   "cell_type": "code",
   "execution_count": 16,
   "id": "ca1a37cb-b644-4862-810f-1fd62c8f70ee",
   "metadata": {},
   "outputs": [
    {
     "data": {
      "text/plain": [
       "array([ 12116,  12117,  12118, ..., 108403, 108404, 108412])"
      ]
     },
     "execution_count": 16,
     "metadata": {},
     "output_type": "execute_result"
    }
   ],
   "source": [
    "auditory_59k_ind=np.argwhere(auditory_59k==1)[:,1]"
   ]
  },
  {
   "cell_type": "code",
   "execution_count": 17,
   "id": "1250e34b-f45b-4b77-8b57-0197d038fcfc",
   "metadata": {},
   "outputs": [
    {
     "data": {
      "text/plain": [
       "(1, 170494)"
      ]
     },
     "execution_count": 17,
     "metadata": {},
     "output_type": "execute_result"
    }
   ],
   "source": [
    "auditory_59k.shape"
   ]
  },
  {
   "cell_type": "code",
   "execution_count": 18,
   "id": "1d2c8329-d674-4545-a087-48646f5b3b00",
   "metadata": {},
   "outputs": [
    {
     "data": {
      "text/plain": [
       "(3162, 170494)"
      ]
     },
     "execution_count": 18,
     "metadata": {},
     "output_type": "execute_result"
    }
   ],
   "source": [
    "Y.shape"
   ]
  },
  {
   "cell_type": "code",
   "execution_count": 21,
   "id": "6f6afd4b-f7e3-4a26-8f0c-b3287d4a0d4b",
   "metadata": {},
   "outputs": [
    {
     "data": {
      "text/plain": [
       "(3162, 6307)"
      ]
     },
     "execution_count": 21,
     "metadata": {},
     "output_type": "execute_result"
    }
   ],
   "source": [
    "mask_test=mask_cifti(auditory_59k,Y)\n",
    "mask_test.shape"
   ]
  },
  {
   "cell_type": "code",
   "execution_count": 26,
   "id": "570c960a-1ced-4895-a6d4-4e25fdce1d3e",
   "metadata": {},
   "outputs": [],
   "source": [
    "unmask_test =unmask_cifti(auditory_59k,mask_test)"
   ]
  },
  {
   "cell_type": "code",
   "execution_count": 28,
   "id": "17ae00ae-55bf-4af5-9df9-2087d7645f73",
   "metadata": {},
   "outputs": [
    {
     "data": {
      "text/plain": [
       "0.00031051583837644214"
      ]
     },
     "execution_count": 28,
     "metadata": {},
     "output_type": "execute_result"
    }
   ],
   "source": [
    "unmask_test"
   ]
  },
  {
   "cell_type": "code",
   "execution_count": 25,
   "id": "9d5aad1d-b991-4380-8f93-bf7ca4d02f83",
   "metadata": {},
   "outputs": [],
   "source": []
  },
  {
   "cell_type": "code",
   "execution_count": 6,
   "id": "b55c96aa-1ec4-48d7-a9ff-d856cc45ecb3",
   "metadata": {},
   "outputs": [
    {
     "data": {
      "text/plain": [
       "(1, 170494)"
      ]
     },
     "execution_count": 6,
     "metadata": {},
     "output_type": "execute_result"
    }
   ],
   "source": [
    "auditory_59k.shape\n",
    "auditory_59k_ind=np.argwhere(auditory_59k==1)"
   ]
  },
  {
   "cell_type": "code",
   "execution_count": null,
   "id": "95d101bb-a5d7-4747-9726-abd175ff0f52",
   "metadata": {},
   "outputs": [],
   "source": [
    "roi_91k_ind = np.squeeze(np.argwhere(roi_91k==1)) #indices of the AC voxels\n",
    "\n",
    "\n",
    "Ybrain_test_AC = Ybrain_test[:,roi_91k_ind]\n"
   ]
  },
  {
   "cell_type": "code",
   "execution_count": null,
   "id": "7745b8f4-f78d-43b4-9a24-5a6944b00b58",
   "metadata": {},
   "outputs": [],
   "source": [
    "#put them back\n",
    "back = np.zeros(170494)\n",
    "\n",
    "r2_91k[roi_91k_ind] = r2[:len(roi_91k_ind)]"
   ]
  },
  {
   "cell_type": "code",
   "execution_count": 15,
   "id": "b1fe8327-5050-4060-bf5a-32904ef0e759",
   "metadata": {},
   "outputs": [
    {
     "data": {
      "text/plain": [
       "(6307,)"
      ]
     },
     "execution_count": 15,
     "metadata": {},
     "output_type": "execute_result"
    }
   ],
   "source": []
  },
  {
   "cell_type": "code",
   "execution_count": 9,
   "id": "391d9a4b-17b3-44d1-93b2-c7e992892078",
   "metadata": {},
   "outputs": [
    {
     "data": {
      "text/plain": [
       "(1, 170494)"
      ]
     },
     "execution_count": 9,
     "metadata": {},
     "output_type": "execute_result"
    }
   ],
   "source": [
    "auditory_59k.shape"
   ]
  },
  {
   "cell_type": "code",
   "execution_count": null,
   "id": "6e9fee99-527b-4fb7-aacc-c135823aa70b",
   "metadata": {},
   "outputs": [],
   "source": []
  }
 ],
 "metadata": {
  "kernelspec": {
   "display_name": "Python 3",
   "language": "python",
   "name": "python3"
  },
  "language_info": {
   "codemirror_mode": {
    "name": "ipython",
    "version": 3
   },
   "file_extension": ".py",
   "mimetype": "text/x-python",
   "name": "python",
   "nbconvert_exporter": "python",
   "pygments_lexer": "ipython3",
   "version": "3.8.5"
  }
 },
 "nbformat": 4,
 "nbformat_minor": 5
}
