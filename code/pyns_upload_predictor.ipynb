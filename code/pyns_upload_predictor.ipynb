{
 "cells": [
  {
   "cell_type": "markdown",
   "id": "remarkable-privacy",
   "metadata": {},
   "source": [
    "## Upload HBN predictors to neuroscout via pyNS"
   ]
  },
  {
   "cell_type": "code",
   "execution_count": 3,
   "id": "sticky-finnish",
   "metadata": {},
   "outputs": [],
   "source": [
    "from pyns import Neuroscout\n",
    "neuroscout = Neuroscout(email='jsmentch@g.harvard.edu', password='')"
   ]
  },
  {
   "cell_type": "code",
   "execution_count": 5,
   "id": "functioning-microphone",
   "metadata": {},
   "outputs": [
    {
     "data": {
      "text/plain": [
       "{'collection_name': 'DM ToM Localizer',\n",
       " 'id': 106,\n",
       " 'predictors': [],\n",
       " 'status': 'PENDING',\n",
       " 'traceback': None,\n",
       " 'uploaded_at': '2022-09-13T19:1'}"
      ]
     },
     "execution_count": 5,
     "metadata": {},
     "output_type": "execute_result"
    }
   ],
   "source": [
    "#get hbn runs\n",
    "hbn_runs=neuroscout.runs.get(dataset_id=8)\n",
    "runs=[p['id'] for p in hbn_runs]\n",
    "\n",
    "#path to event file\n",
    "event_files = ['../sourcedata/data/HBN/features/tom/ToM2HMAll.tsv']\n",
    "\n",
    "#descriptions of features\n",
    "descriptions = \\\n",
    "{\"ToM2HMControl\": \"Theory of Mind Localizer - binary feature of control\",\\\n",
    "  \"ToM2HMMental\": \"Theory of Mind Localizer - binary feature of mental\", \\\n",
    "  \"ToM2HMPain\": \"Theory of Mind Localizer - binary feature of pain\", \\\n",
    "  \"ToM2HMSocial\": \"Theory of Mind Localizer - binary feature of social\"}\n",
    "\n",
    "#create collection\n",
    "neuroscout.predictors.create_collection(collection_name=\"DM ToM Localizer\",\\\n",
    "                                        dataset_id=8, \\\n",
    "                                        runs=[runs], \\\n",
    "                                        event_files=event_files, \\\n",
    "                                        descriptions = descriptions)"
   ]
  },
  {
   "cell_type": "markdown",
   "id": "removed-float",
   "metadata": {},
   "source": [
    "### For Tutorial - raiders test"
   ]
  },
  {
   "cell_type": "code",
   "execution_count": 33,
   "id": "afraid-pottery",
   "metadata": {},
   "outputs": [
    {
     "data": {
      "text/plain": [
       "{'collection_name': 'raiders food',\n",
       " 'id': 107,\n",
       " 'predictors': [],\n",
       " 'status': 'PENDING',\n",
       " 'traceback': None,\n",
       " 'uploaded_at': '2022-09-14T22:0'}"
      ]
     },
     "execution_count": 33,
     "metadata": {},
     "output_type": "execute_result"
    }
   ],
   "source": [
    "raiders1 = neuroscout.runs.get(dataset_id=10,number=1)[0:3] # 3 runs from raiders part 1\n",
    "raiders2 = neuroscout.runs.get(dataset_id=10,number=2)[0:3] # 3 runs from raiders part 2\n",
    "runs = [ [p['id'] for p in raiders1], [p['id'] for p in raiders2] ]\n",
    "runs\n",
    "\n",
    "event_files = ['food_raiders1.tsv', 'food_raiders2.tsv']\n",
    "\n",
    "descriptions = {\n",
    "    \"grapes\": \"instances of grapes manually coded\",\n",
    "    \"apples\": \"instances of apples manually coded\",\n",
    "    \"bananas\": \"instances of bananas manually coded\"}\n",
    "\n",
    "neuroscout.predictors.create_collection(collection_name=\"raiders food\",\\\n",
    "                                        dataset_id=11, \\\n",
    "                                        runs=runs, \\\n",
    "                                        event_files=event_files, \\\n",
    "                                        descriptions = descriptions)\n"
   ]
  },
  {
   "cell_type": "code",
   "execution_count": null,
   "id": "overhead-matthew",
   "metadata": {},
   "outputs": [],
   "source": []
  }
 ],
 "metadata": {
  "kernelspec": {
   "display_name": "Python 3",
   "language": "python",
   "name": "python3"
  },
  "language_info": {
   "codemirror_mode": {
    "name": "ipython",
    "version": 3
   },
   "file_extension": ".py",
   "mimetype": "text/x-python",
   "name": "python",
   "nbconvert_exporter": "python",
   "pygments_lexer": "ipython3",
   "version": "3.8.5"
  }
 },
 "nbformat": 4,
 "nbformat_minor": 5
}
