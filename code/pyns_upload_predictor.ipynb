{
 "cells": [
  {
   "cell_type": "markdown",
   "id": "dangerous-prime",
   "metadata": {},
   "source": [
    "## Upload HBN predictors to neuroscout via pyNS"
   ]
  },
  {
   "cell_type": "code",
   "execution_count": 83,
   "id": "professional-framework",
   "metadata": {},
   "outputs": [],
   "source": [
    "from pyns import Neuroscout\n",
    "neuroscout = Neuroscout(email='', password='')\n"
   ]
  },
  {
   "cell_type": "code",
   "execution_count": 84,
   "id": "unable-spell",
   "metadata": {},
   "outputs": [
    {
     "data": {
      "text/plain": [
       "{'collection_name': 'DM ToM Localizer',\n",
       " 'id': 104,\n",
       " 'predictors': [],\n",
       " 'status': 'PENDING',\n",
       " 'traceback': None,\n",
       " 'uploaded_at': '2022-09-12T17:4'}"
      ]
     },
     "execution_count": 84,
     "metadata": {},
     "output_type": "execute_result"
    }
   ],
   "source": [
    "\n",
    "#get hbn runs\n",
    "hbn_runs=neuroscout.runs.get(dataset_id=8)\n",
    "runs=[p['id'] for p in hbn_runs]\n",
    "\n",
    "#path to event file\n",
    "event_files = ['../sourcedata/data/HBN/features/tom/ToM2HMAll.tsv']\n",
    "\n",
    "#descriptions of features\n",
    "descriptions = \\\n",
    "[{\"ToM2HMControl\": \"Theory of Mind Localizer - binary feature of control\",\\\n",
    "  \"ToM2HMMental\": \"Theory of Mind Localizer - binary feature of mental\", \\\n",
    "  \"ToM2HMPain\": \"Theory of Mind Localizer - binary feature of pain\", \\\n",
    "  \"ToM2HMSocial\": \"Theory of Mind Localizer - binary feature of social\"}]\n",
    "\n",
    "#create collection\n",
    "neuroscout.predictors.create_collection(collection_name=\"DM ToM Localizer\",\\\n",
    "                                        dataset_id=8, \\\n",
    "                                        runs=[runs], \\\n",
    "                                        event_files=event_files, \\\n",
    "                                        descriptions = descriptions)"
   ]
  },
  {
   "cell_type": "code",
   "execution_count": null,
   "id": "voluntary-integration",
   "metadata": {},
   "outputs": [],
   "source": []
  }
 ],
 "metadata": {
  "kernelspec": {
   "display_name": "Python 3",
   "language": "python",
   "name": "python3"
  },
  "language_info": {
   "codemirror_mode": {
    "name": "ipython",
    "version": 3
   },
   "file_extension": ".py",
   "mimetype": "text/x-python",
   "name": "python",
   "nbconvert_exporter": "python",
   "pygments_lexer": "ipython3",
   "version": "3.8.5"
  }
 },
 "nbformat": 4,
 "nbformat_minor": 5
}
