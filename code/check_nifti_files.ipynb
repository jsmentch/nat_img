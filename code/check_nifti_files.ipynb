{
 "cells": [
  {
   "cell_type": "code",
   "execution_count": 16,
   "id": "8761dfe5-8c8c-4566-82ee-0ac0f1944101",
   "metadata": {},
   "outputs": [
    {
     "data": {
      "text/plain": [
       "(108, 108, 65, 296)"
      ]
     },
     "execution_count": 16,
     "metadata": {},
     "output_type": "execute_result"
    }
   ],
   "source": [
    "import nilearn\n",
    "from nilearn import image\n",
    "im = \"/om/scratch/Mon/jsmentch/voice_bids/sub-voice854/ses-1/func/\"\n",
    "img = image.load_img(im)\n",
    "img.shape"
   ]
  },
  {
   "cell_type": "code",
   "execution_count": 17,
   "id": "64492dfd-6405-46ce-b3e8-d4fa40e57855",
   "metadata": {},
   "outputs": [
    {
     "data": {
      "text/plain": [
       "(108, 108, 65, 7)"
      ]
     },
     "execution_count": 17,
     "metadata": {},
     "output_type": "execute_result"
    }
   ],
   "source": [
    "im = \"/om/scratch/Mon/jsmentch/voice_bids/sub-voice854/ses-1/func/sub-voice854_ses-1_task-rest_run-01_bold2.nii.gz\"\n",
    "img = image.load_img(im)\n",
    "img.shape"
   ]
  },
  {
   "cell_type": "code",
   "execution_count": null,
   "id": "7477119a-8ec8-4c72-8b4b-a5d86d2e4d2a",
   "metadata": {},
   "outputs": [],
   "source": []
  },
  {
   "cell_type": "code",
   "execution_count": 14,
   "id": "93d33001-926e-4a70-8af2-dd4a33553261",
   "metadata": {},
   "outputs": [
    {
     "name": "stdout",
     "output_type": "stream",
     "text": [
      "<class 'nibabel.nifti1.Nifti1Header'> object, endian='<'\n",
      "sizeof_hdr      : 348\n",
      "data_type       : b''\n",
      "db_name         : b''\n",
      "extents         : 0\n",
      "session_error   : 0\n",
      "regular         : b'r'\n",
      "dim_info        : 57\n",
      "dim             : [  4 108 108  65  48   1   1   1]\n",
      "intent_p1       : 0.0\n",
      "intent_p2       : 0.0\n",
      "intent_p3       : 0.0\n",
      "intent_code     : none\n",
      "datatype        : int16\n",
      "bitpix          : 16\n",
      "slice_start     : 0\n",
      "pixdim          : [-1.   2.   2.   2.2  4.   0.   0.   0. ]\n",
      "vox_offset      : 0.0\n",
      "scl_slope       : nan\n",
      "scl_inter       : nan\n",
      "slice_end       : 0\n",
      "slice_code      : alternating increasing\n",
      "xyzt_units      : 10\n",
      "cal_max         : 0.0\n",
      "cal_min         : 0.0\n",
      "slice_duration  : 0.0\n",
      "toffset         : 0.0\n",
      "glmax           : 0\n",
      "glmin           : 0\n",
      "descrip         : b'TE=30;Time=165352.793;phase=1'\n",
      "aux_file        : b'SMS_MGH_V2.1;_MB=5;_FOV'\n",
      "qform_code      : scanner\n",
      "sform_code      : scanner\n",
      "quatern_b       : -0.002464916\n",
      "quatern_c       : 0.98128754\n",
      "quatern_d       : 0.1887655\n",
      "qoffset_x       : 114.2076\n",
      "qoffset_y       : -72.66848\n",
      "qoffset_z       : -72.58784\n",
      "srow_x          : [-1.9942304e+00 -3.8291201e-02 -1.6158758e-01  1.1420760e+02]\n",
      "srow_y          : [ 1.8940870e-02  1.8574461e+00 -8.1543726e-01 -7.2668480e+01]\n",
      "srow_z          : [ -0.15062013   0.7405592    2.0368977  -72.58784   ]\n",
      "intent_name     : b''\n",
      "magic           : b'n+1'\n"
     ]
    }
   ],
   "source": [
    "print(img.header)"
   ]
  },
  {
   "cell_type": "code",
   "execution_count": null,
   "id": "cad1fda7-e5f9-4a35-a7e3-54e1ebd18dd2",
   "metadata": {},
   "outputs": [],
   "source": []
  }
 ],
 "metadata": {
  "kernelspec": {
   "display_name": "Python 3",
   "language": "python",
   "name": "python3"
  },
  "language_info": {
   "codemirror_mode": {
    "name": "ipython",
    "version": 3
   },
   "file_extension": ".py",
   "mimetype": "text/x-python",
   "name": "python",
   "nbconvert_exporter": "python",
   "pygments_lexer": "ipython3",
   "version": "3.8.5"
  }
 },
 "nbformat": 4,
 "nbformat_minor": 5
}
